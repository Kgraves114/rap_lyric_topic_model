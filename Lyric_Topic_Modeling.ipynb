{
 "cells": [
  {
   "cell_type": "markdown",
   "metadata": {
    "deletable": true,
    "editable": true
   },
   "source": [
    "# This notebook performs topic modeling on lyrics to that we can investigate questions including : The differences between East Coast and West Coast rap"
   ]
  },
  {
   "cell_type": "code",
   "execution_count": 1,
   "metadata": {
    "collapsed": true,
    "deletable": true,
    "editable": true
   },
   "outputs": [],
   "source": [
    "import sys\n",
    "import os"
   ]
  },
  {
   "cell_type": "code",
   "execution_count": 2,
   "metadata": {
    "collapsed": false,
    "deletable": true,
    "editable": true
   },
   "outputs": [
    {
     "name": "stderr",
     "output_type": "stream",
     "text": [
      "c:\\anaconda3\\lib\\site-packages\\gensim\\utils.py:860: UserWarning: detected Windows; aliasing chunkize to chunkize_serial\n",
      "  warnings.warn(\"detected Windows; aliasing chunkize to chunkize_serial\")\n"
     ]
    }
   ],
   "source": [
    "import gensim\n",
    "import nltk\n",
    "import numpy as np\n",
    "import pandas as pd\n",
    "import seaborn as sns"
   ]
  },
  {
   "cell_type": "markdown",
   "metadata": {
    "deletable": true,
    "editable": true
   },
   "source": [
    "# Loading the dataset\n",
    "## This dataset comes from the Kaggle website at this URL: https://www.kaggle.com/artimous/every-song-you-have-heard-almost"
   ]
  },
  {
   "cell_type": "code",
   "execution_count": 3,
   "metadata": {
    "collapsed": false,
    "deletable": true,
    "editable": true
   },
   "outputs": [
    {
     "name": "stdout",
     "output_type": "stream",
     "text": [
      "Loading dataframes from CSV.  This might take some time...\n",
      "Length of Set #1 : 250000\n",
      "Length of Set #2 : 266174\n",
      "Length of Both Set combined : 516174\n",
      "Wall time: 32.9 s\n"
     ]
    }
   ],
   "source": [
    "%%time\n",
    "\n",
    "print('Loading dataframes from CSV.  This might take some time...')\n",
    "\n",
    "# NOTE : Without setting the engine here, we might hit the exception : \"C error: EOF inside string ...\"\n",
    "\n",
    "# This dataset is comprised of two separate files possibly for size and download limitations\n",
    "# so we'll put them together in a moment...\n",
    "lyrics_1_df = pd.read_csv('c:/datasets/lyrics/lyrics1.csv',\n",
    "                       engine = 'python')\n",
    "lyrics_2_df = pd.read_csv('c:/datasets/lyrics/lyrics2.csv',\n",
    "                       engine = 'python')\n",
    "# now we can put them together into a single frame\n",
    "lyrics_df = pd.concat([lyrics_1_df, lyrics_2_df])\n",
    "\n",
    "print('Length of Set #1 : {}'.format(len(lyrics_1_df)))\n",
    "print('Length of Set #2 : {}'.format(len(lyrics_2_df)))\n",
    "print('Length of Both Set combined : {}'.format(len(lyrics_df)))"
   ]
  },
  {
   "cell_type": "code",
   "execution_count": 4,
   "metadata": {
    "collapsed": true,
    "deletable": true,
    "editable": true
   },
   "outputs": [],
   "source": [
    "#replace carriage returns\n",
    "lyrics_df = lyrics_df.replace({'\\n': ' '}, regex=True)"
   ]
  },
  {
   "cell_type": "code",
   "execution_count": 5,
   "metadata": {
    "collapsed": false,
    "deletable": true,
    "editable": true
   },
   "outputs": [
    {
     "data": {
      "text/html": [
       "<div>\n",
       "<style>\n",
       "    .dataframe thead tr:only-child th {\n",
       "        text-align: right;\n",
       "    }\n",
       "\n",
       "    .dataframe thead th {\n",
       "        text-align: left;\n",
       "    }\n",
       "\n",
       "    .dataframe tbody tr th {\n",
       "        vertical-align: top;\n",
       "    }\n",
       "</style>\n",
       "<table border=\"1\" class=\"dataframe\">\n",
       "  <thead>\n",
       "    <tr style=\"text-align: right;\">\n",
       "      <th></th>\n",
       "      <th>Band</th>\n",
       "      <th>Lyrics</th>\n",
       "      <th>Song</th>\n",
       "    </tr>\n",
       "  </thead>\n",
       "  <tbody>\n",
       "    <tr>\n",
       "      <th>0</th>\n",
       "      <td>Elijah Blake</td>\n",
       "      <td>No, no I ain't ever trapped out the bando But ...</td>\n",
       "      <td>Everyday</td>\n",
       "    </tr>\n",
       "    <tr>\n",
       "      <th>1</th>\n",
       "      <td>Elijah Blake</td>\n",
       "      <td>The drinks go down and smoke goes up, I feel m...</td>\n",
       "      <td>Live Till We Die</td>\n",
       "    </tr>\n",
       "    <tr>\n",
       "      <th>2</th>\n",
       "      <td>Elijah Blake</td>\n",
       "      <td>She don't live on planet Earth no more She fou...</td>\n",
       "      <td>The Otherside</td>\n",
       "    </tr>\n",
       "    <tr>\n",
       "      <th>3</th>\n",
       "      <td>Elijah Blake</td>\n",
       "      <td>Trippin' off that Grigio, mobbin', lights low ...</td>\n",
       "      <td>Pinot</td>\n",
       "    </tr>\n",
       "    <tr>\n",
       "      <th>4</th>\n",
       "      <td>Elijah Blake</td>\n",
       "      <td>I see a midnight panther, so gallant and so br...</td>\n",
       "      <td>Shadows &amp; Diamonds</td>\n",
       "    </tr>\n",
       "    <tr>\n",
       "      <th>5</th>\n",
       "      <td>Elijah Blake</td>\n",
       "      <td>I just want to ready your mind 'Cause I'll sti...</td>\n",
       "      <td>Uno</td>\n",
       "    </tr>\n",
       "    <tr>\n",
       "      <th>6</th>\n",
       "      <td>Elijah Harris</td>\n",
       "      <td>To believe Or not to believe That is the quest...</td>\n",
       "      <td>Girlfriend (Main)</td>\n",
       "    </tr>\n",
       "    <tr>\n",
       "      <th>7</th>\n",
       "      <td>Elijah Levi</td>\n",
       "      <td>No one here can love or understand me Oh, what...</td>\n",
       "      <td>Bye Bye Blackbird</td>\n",
       "    </tr>\n",
       "    <tr>\n",
       "      <th>8</th>\n",
       "      <td>Elijah Levi</td>\n",
       "      <td>Lullaby of Birdland, that's what I  Always hea...</td>\n",
       "      <td>Lullaby of Birdland</td>\n",
       "    </tr>\n",
       "    <tr>\n",
       "      <th>9</th>\n",
       "      <td>Elijah Levi</td>\n",
       "      <td>I hate to see that evening sun go down I hate ...</td>\n",
       "      <td>St. Louis Blues</td>\n",
       "    </tr>\n",
       "  </tbody>\n",
       "</table>\n",
       "</div>"
      ],
      "text/plain": [
       "            Band                                             Lyrics  \\\n",
       "0   Elijah Blake  No, no I ain't ever trapped out the bando But ...   \n",
       "1   Elijah Blake  The drinks go down and smoke goes up, I feel m...   \n",
       "2   Elijah Blake  She don't live on planet Earth no more She fou...   \n",
       "3   Elijah Blake  Trippin' off that Grigio, mobbin', lights low ...   \n",
       "4   Elijah Blake  I see a midnight panther, so gallant and so br...   \n",
       "5   Elijah Blake  I just want to ready your mind 'Cause I'll sti...   \n",
       "6  Elijah Harris  To believe Or not to believe That is the quest...   \n",
       "7    Elijah Levi  No one here can love or understand me Oh, what...   \n",
       "8    Elijah Levi  Lullaby of Birdland, that's what I  Always hea...   \n",
       "9    Elijah Levi  I hate to see that evening sun go down I hate ...   \n",
       "\n",
       "                  Song  \n",
       "0             Everyday  \n",
       "1     Live Till We Die  \n",
       "2        The Otherside  \n",
       "3                Pinot  \n",
       "4   Shadows & Diamonds  \n",
       "5                  Uno  \n",
       "6    Girlfriend (Main)  \n",
       "7    Bye Bye Blackbird  \n",
       "8  Lullaby of Birdland  \n",
       "9      St. Louis Blues  "
      ]
     },
     "execution_count": 5,
     "metadata": {},
     "output_type": "execute_result"
    }
   ],
   "source": [
    "lyrics_df.head(10)"
   ]
  },
  {
   "cell_type": "markdown",
   "metadata": {
    "deletable": true,
    "editable": true
   },
   "source": [
    "# Before we start do do any text analysis, let's figure out the Hip-Hop artists we have"
   ]
  },
  {
   "cell_type": "code",
   "execution_count": 6,
   "metadata": {
    "collapsed": true,
    "deletable": true,
    "editable": true
   },
   "outputs": [],
   "source": [
    "# NOTE : Could not find the following in this set : \n",
    "# EAST COAST : Nas\n",
    "# WEST COAST : Warren G, Tha Dogg Pound\n",
    "east_coast_artists = ['The Notorious B.I.G.', 'Diddy', 'Wu-Tang Clan', 'Craig Mack', 'Tim Dog']\n",
    "west_coast_artists = ['N.W.A', 'Dr. Dre', '2Pac', 'Eazy-E', 'Ice Cube', 'Snoop Dogg', 'Nate Dogg', 'Daz Dillinger', ]"
   ]
  },
  {
   "cell_type": "code",
   "execution_count": 7,
   "metadata": {
    "collapsed": false,
    "deletable": true,
    "editable": true
   },
   "outputs": [
    {
     "name": "stdout",
     "output_type": "stream",
     "text": [
      "Band\n",
      "3D Picnic                          1\n",
      "Benito DiPaula                     1\n",
      "DMP Big Band                       7\n",
      "DePaul University Jazz Ensemble    2\n",
      "Jacki DePiro                       3\n",
      "Mario DePriest                     1\n",
      "Nicky DePaola                      4\n",
      "Sidney DeParis                     3\n",
      "dtype: int64\n"
     ]
    }
   ],
   "source": [
    "artist_check_df = lyrics_df[lyrics_df['Band'].str.contains(\"D.P.\")].groupby(['Band']).size()\n",
    "print(artist_check_df)"
   ]
  },
  {
   "cell_type": "code",
   "execution_count": 8,
   "metadata": {
    "collapsed": false,
    "deletable": true,
    "editable": true
   },
   "outputs": [
    {
     "name": "stdout",
     "output_type": "stream",
     "text": [
      "84884           Flava in Ya Ear\n",
      "84885         Funk Wit da Style\n",
      "84886                  Get Down\n",
      "84887             Judgement Day\n",
      "84888                  Mainline\n",
      "84889    Making Moves With Puff\n",
      "84890    Project: Funk da World\n",
      "84891                  Real Raw\n",
      "84892            When God Comes\n",
      "Name: Song, dtype: object\n"
     ]
    }
   ],
   "source": [
    "artist_song_check_df = lyrics_df[lyrics_df['Band'] == 'Craig Mack']['Song']\n",
    "print(artist_song_check_df)"
   ]
  },
  {
   "cell_type": "code",
   "execution_count": 9,
   "metadata": {
    "collapsed": true,
    "deletable": true,
    "editable": true
   },
   "outputs": [],
   "source": [
    "conditions = [\n",
    "    (lyrics_df['Band'].isin(east_coast_artists)),\n",
    "    (lyrics_df['Band'].isin(west_coast_artists))]\n",
    "choices = ['East', 'West']\n",
    "lyrics_df['RapCoast'] = np.select(conditions, choices, default='')"
   ]
  },
  {
   "cell_type": "code",
   "execution_count": 10,
   "metadata": {
    "collapsed": true,
    "deletable": true,
    "editable": true
   },
   "outputs": [],
   "source": [
    "rap_df = lyrics_df[lyrics_df['RapCoast'].str.len() > 0]"
   ]
  },
  {
   "cell_type": "code",
   "execution_count": 11,
   "metadata": {
    "collapsed": false,
    "deletable": true,
    "editable": true
   },
   "outputs": [
    {
     "name": "stdout",
     "output_type": "stream",
     "text": [
      "Band                  RapCoast\n",
      "2Pac                  West        252\n",
      "Craig Mack            East          9\n",
      "Daz Dillinger         West         22\n",
      "Diddy                 East        104\n",
      "Dr. Dre               West         80\n",
      "Eazy-E                West         24\n",
      "Ice Cube              West        178\n",
      "N.W.A                 West         22\n",
      "Nate Dogg             West         40\n",
      "Snoop Dogg            West        344\n",
      "The Notorious B.I.G.  East         90\n",
      "Tim Dog               East          7\n",
      "Wu-Tang Clan          East        125\n",
      "dtype: int64\n"
     ]
    }
   ],
   "source": [
    "print(rap_df.groupby(['Band', 'RapCoast']).size())"
   ]
  },
  {
   "cell_type": "code",
   "execution_count": 12,
   "metadata": {
    "collapsed": false,
    "deletable": true,
    "editable": true
   },
   "outputs": [
    {
     "name": "stdout",
     "output_type": "stream",
     "text": [
      "RapCoast\n",
      "East    335\n",
      "West    962\n",
      "dtype: int64\n"
     ]
    }
   ],
   "source": [
    "print(rap_df.groupby(['RapCoast']).size())"
   ]
  },
  {
   "cell_type": "code",
   "execution_count": 13,
   "metadata": {
    "collapsed": false,
    "deletable": true,
    "editable": true
   },
   "outputs": [
    {
     "name": "stdout",
     "output_type": "stream",
     "text": [
      "Wrote Rap artist file to CSV : rap_artists.csv\n"
     ]
    }
   ],
   "source": [
    "# let's write this to a file\n",
    "rap_artist_filename = 'rap_artists.csv'\n",
    "rap_df.to_csv(rap_artist_filename)\n",
    "print('Wrote Rap artist file to CSV : {}'.format(rap_artist_filename))"
   ]
  },
  {
   "cell_type": "code",
   "execution_count": 14,
   "metadata": {
    "collapsed": true,
    "deletable": true,
    "editable": true
   },
   "outputs": [],
   "source": [
    "text_list = rap_df['Lyrics'].tolist()\n",
    "lyrics_index_list = rap_df.index.values"
   ]
  },
  {
   "cell_type": "code",
   "execution_count": 17,
   "metadata": {
    "collapsed": false,
    "deletable": true,
    "editable": true
   },
   "outputs": [
    {
     "name": "stdout",
     "output_type": "stream",
     "text": [
      "Tokenization process : [0/1297]\n",
      "Total size of tokenized list : 1297\n",
      "Total size of unique tokens : 45378\n",
      "DONE reading, tokenizing and counting\n",
      "Wall time: 323 ms\n"
     ]
    }
   ],
   "source": [
    "%%time\n",
    "\n",
    "text_tokenized_list = []\n",
    "token_count_list = []\n",
    "unique_token_set = set()\n",
    "for i, text in enumerate(text_list):\n",
    "    if i % 10000 == 0:\n",
    "        print('Tokenization process : [{0}/{1}]'.format(i, len(text_list)))\n",
    "        \n",
    "    # get the index into the original text\n",
    "    index = text_list[i]\n",
    "        \n",
    "    # there are lots and lots of rows which have no lyrics at all, so let's skip them\n",
    "    if not isinstance(text, str):\n",
    "        #print('Skipping column type : {0} at index {1}'.format(type(text), index))  \n",
    "        continue\n",
    "        \n",
    "    # this is a better way to tokenize, but for the interest of time, we will tokenize with\n",
    "    # whitespace using python's split() function\n",
    "    #tokens = nltk.word_tokenize(text)\n",
    "    tokens = text.split()\n",
    "    text_tokenized_list.append(tokens)\n",
    "    token_count_list.append(len(tokens))\n",
    "    unique_token_set |= set(tokens)\n",
    "    \n",
    "print('Total size of tokenized list : {}'.format(len(text_tokenized_list)))\n",
    "print('Total size of unique tokens : {}'.format(len(unique_token_set)))\n",
    "print('DONE reading, tokenizing and counting')"
   ]
  },
  {
   "cell_type": "markdown",
   "metadata": {
    "collapsed": true,
    "deletable": true,
    "editable": true
   },
   "source": [
    "# Now it's time to train a topic model..."
   ]
  },
  {
   "cell_type": "code",
   "execution_count": 18,
   "metadata": {
    "collapsed": true
   },
   "outputs": [],
   "source": [
    "# TODO : let's do some additional filtering here later...\n",
    "\n",
    "# but for now we'll use the text list verbatim\n",
    "filtered_text_tokenized_list = text_tokenized_list"
   ]
  },
  {
   "cell_type": "code",
   "execution_count": 20,
   "metadata": {
    "collapsed": false
   },
   "outputs": [
    {
     "name": "stdout",
     "output_type": "stream",
     "text": [
      "Total dictionary size : [45378]\n"
     ]
    }
   ],
   "source": [
    "dictionary = gensim.corpora.Dictionary(filtered_text_tokenized_list)\n",
    "print('Total dictionary size : [{}]'.format(len(dictionary.keys())))"
   ]
  },
  {
   "cell_type": "code",
   "execution_count": 25,
   "metadata": {
    "collapsed": false
   },
   "outputs": [
    {
     "name": "stdout",
     "output_type": "stream",
     "text": [
      "Corpus length : 1297\n"
     ]
    }
   ],
   "source": [
    "corpus = [dictionary.doc2bow(text) for text in filtered_text_tokenized_list]\n",
    "print('Corpus length : {}'.format(len(corpus)))"
   ]
  },
  {
   "cell_type": "code",
   "execution_count": 29,
   "metadata": {
    "collapsed": false
   },
   "outputs": [
    {
     "name": "stdout",
     "output_type": "stream",
     "text": [
      "Wall time: 37.8 s\n"
     ]
    }
   ],
   "source": [
    "%%time \n",
    "\n",
    "NUM_TOPICS = 10\n",
    "NUM_WORKERS = 6\n",
    "VANILLA_LDA_PASSES = 1\n",
    "\n",
    "# train model\n",
    "lda = gensim.models.LdaMulticore(corpus, \n",
    "                                 id2word=dictionary, \n",
    "                                 num_topics=NUM_TOPICS, \n",
    "                                 workers = NUM_WORKERS, \n",
    "                                 passes = VANILLA_LDA_PASSES)  "
   ]
  },
  {
   "cell_type": "code",
   "execution_count": 30,
   "metadata": {
    "collapsed": false
   },
   "outputs": [
    {
     "data": {
      "text/plain": [
       "[(0,\n",
       "  '0.038*\"the\" + 0.026*\"I\" + 0.021*\"you\" + 0.018*\"to\" + 0.016*\"my\" + 0.013*\"it\" + 0.011*\"a\" + 0.011*\"and\" + 0.011*\"me\" + 0.010*\"in\"'),\n",
       " (1,\n",
       "  '0.039*\"the\" + 0.023*\"I\" + 0.017*\"to\" + 0.015*\"a\" + 0.015*\"it\" + 0.013*\"you\" + 0.012*\"my\" + 0.011*\"me\" + 0.011*\"and\" + 0.010*\"in\"'),\n",
       " (2,\n",
       "  '0.035*\"I\" + 0.034*\"the\" + 0.021*\"a\" + 0.019*\"you\" + 0.014*\"to\" + 0.014*\"in\" + 0.011*\"and\" + 0.011*\"me\" + 0.011*\"my\" + 0.010*\"I\\'m\"'),\n",
       " (3,\n",
       "  '0.050*\"the\" + 0.022*\"to\" + 0.021*\"I\" + 0.019*\"you\" + 0.016*\"a\" + 0.016*\"and\" + 0.014*\"in\" + 0.013*\"on\" + 0.010*\"my\" + 0.009*\"me\"'),\n",
       " (4,\n",
       "  '0.027*\"the\" + 0.026*\"I\" + 0.024*\"a\" + 0.018*\"you\" + 0.017*\"and\" + 0.015*\"to\" + 0.012*\"I\\'m\" + 0.011*\"in\" + 0.010*\"on\" + 0.010*\"my\"'),\n",
       " (5,\n",
       "  '0.046*\"the\" + 0.022*\"a\" + 0.022*\"I\" + 0.022*\"to\" + 0.021*\"you\" + 0.011*\"and\" + 0.011*\"my\" + 0.010*\"me\" + 0.009*\"that\" + 0.008*\"in\"'),\n",
       " (6,\n",
       "  '0.051*\"the\" + 0.021*\"to\" + 0.017*\"a\" + 0.015*\"my\" + 0.014*\"I\" + 0.013*\"you\" + 0.010*\"in\" + 0.008*\"and\" + 0.008*\"of\" + 0.008*\"it\"'),\n",
       " (7,\n",
       "  '0.035*\"I\" + 0.032*\"the\" + 0.024*\"you\" + 0.021*\"a\" + 0.020*\"to\" + 0.018*\"my\" + 0.014*\"and\" + 0.012*\"on\" + 0.011*\"in\" + 0.011*\"it\"'),\n",
       " (8,\n",
       "  '0.039*\"the\" + 0.025*\"a\" + 0.024*\"to\" + 0.021*\"I\" + 0.020*\"and\" + 0.018*\"you\" + 0.012*\"me\" + 0.012*\"my\" + 0.011*\"I\\'m\" + 0.010*\"it\"'),\n",
       " (9,\n",
       "  '0.032*\"I\" + 0.024*\"the\" + 0.018*\"me\" + 0.018*\"you\" + 0.017*\"to\" + 0.015*\"a\" + 0.015*\"I\\'m\" + 0.011*\"in\" + 0.011*\"my\" + 0.011*\"it\"')]"
      ]
     },
     "execution_count": 30,
     "metadata": {},
     "output_type": "execute_result"
    }
   ],
   "source": [
    "lda.print_topics(-1)"
   ]
  },
  {
   "cell_type": "code",
   "execution_count": null,
   "metadata": {
    "collapsed": true
   },
   "outputs": [],
   "source": []
  }
 ],
 "metadata": {
  "kernelspec": {
   "display_name": "Python 3",
   "language": "python",
   "name": "python3"
  },
  "language_info": {
   "codemirror_mode": {
    "name": "ipython",
    "version": 3
   },
   "file_extension": ".py",
   "mimetype": "text/x-python",
   "name": "python",
   "nbconvert_exporter": "python",
   "pygments_lexer": "ipython3",
   "version": "3.5.4"
  }
 },
 "nbformat": 4,
 "nbformat_minor": 1
}
