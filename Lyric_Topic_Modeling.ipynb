{
 "cells": [
  {
   "cell_type": "markdown",
   "metadata": {},
   "source": [
    "# This notebook performs topic modeling on lyrics to that we can investigate questions including : The differences between East Coast and West Coast rap"
   ]
  },
  {
   "cell_type": "code",
   "execution_count": 1,
   "metadata": {
    "collapsed": true
   },
   "outputs": [],
   "source": [
    "# common Python imports\n",
    "import sys\n",
    "import os\n",
    "import re\n",
    "from collections import defaultdict\n",
    "import pickle\n",
    "import datetime"
   ]
  },
  {
   "cell_type": "code",
   "execution_count": 2,
   "metadata": {
    "collapsed": true
   },
   "outputs": [],
   "source": [
    "# enable inline plotting in our notebook\n",
    "import seaborn\n",
    "import matplotlib.pyplot as plt\n",
    "from IPython.display import display\n",
    "\n",
    "%matplotlib inline"
   ]
  },
  {
   "cell_type": "code",
   "execution_count": 3,
   "metadata": {},
   "outputs": [
    {
     "name": "stderr",
     "output_type": "stream",
     "text": [
      "c:\\anaconda3\\lib\\site-packages\\gensim\\utils.py:1197: UserWarning: detected Windows; aliasing chunkize to chunkize_serial\n",
      "  warnings.warn(\"detected Windows; aliasing chunkize to chunkize_serial\")\n"
     ]
    }
   ],
   "source": [
    "# these are used for NLP, Data Manipulation, etc\n",
    "import gensim\n",
    "import nltk\n",
    "import numpy as np\n",
    "import pandas as pd\n",
    "import seaborn as sns"
   ]
  },
  {
   "cell_type": "markdown",
   "metadata": {},
   "source": [
    "# Load some NLTK data before we get started"
   ]
  },
  {
   "cell_type": "code",
   "execution_count": 4,
   "metadata": {},
   "outputs": [
    {
     "name": "stdout",
     "output_type": "stream",
     "text": [
      "[nltk_data] Downloading package punkt to\n",
      "[nltk_data]     C:\\Users\\slick\\AppData\\Roaming\\nltk_data...\n",
      "[nltk_data]   Package punkt is already up-to-date!\n",
      "Wall time: 1.64 s\n",
      "[nltk_data] Downloading package stopwords to\n",
      "[nltk_data]     C:\\Users\\slick\\AppData\\Roaming\\nltk_data...\n",
      "[nltk_data]   Package stopwords is already up-to-date!\n",
      "Wall time: 2 ms\n",
      "[nltk_data] Downloading package wordnet to\n",
      "[nltk_data]     C:\\Users\\slick\\AppData\\Roaming\\nltk_data...\n",
      "[nltk_data]   Package wordnet is already up-to-date!\n",
      "Wall time: 24.1 ms\n"
     ]
    },
    {
     "data": {
      "text/plain": [
       "True"
      ]
     },
     "execution_count": 4,
     "metadata": {},
     "output_type": "execute_result"
    }
   ],
   "source": [
    "%time nltk.download('punkt')\n",
    "%time nltk.download('stopwords')\n",
    "%time nltk.download('wordnet')"
   ]
  },
  {
   "cell_type": "markdown",
   "metadata": {},
   "source": [
    "# And load a part-of-speech tagging model that was already trained"
   ]
  },
  {
   "cell_type": "code",
   "execution_count": 5,
   "metadata": {
    "collapsed": true
   },
   "outputs": [],
   "source": [
    "# helper function to translate POS tags from treebank to wordnet\n",
    "def get_wordnet_pos(treebank_tag):\n",
    "\n",
    "    if treebank_tag.startswith('J'):\n",
    "        return nltk.corpus.wordnet.ADJ\n",
    "    elif treebank_tag.startswith('V'):\n",
    "        return nltk.corpus.wordnet.VERB\n",
    "    elif treebank_tag.startswith('N'):\n",
    "        return nltk.corpus.wordnet.NOUN\n",
    "    elif treebank_tag.startswith('R'):\n",
    "        return nltk.corpus.wordnet.ADV\n",
    "    else:\n",
    "        return nltk.corpus.wordnet.NOUN"
   ]
  },
  {
   "cell_type": "markdown",
   "metadata": {},
   "source": [
    "## Note that if for some reason this POS tagger .pickle file will not load, try running 'dos2unix' on it within Cygwin"
   ]
  },
  {
   "cell_type": "code",
   "execution_count": 6,
   "metadata": {},
   "outputs": [
    {
     "name": "stdout",
     "output_type": "stream",
     "text": [
      "<nltk.tag.brill.BrillTagger object at 0x00000217DBF170B8>\n",
      "[('The', 'DT'), ('cat', '-None-'), ('walked', 'VBD'), ('onto', 'IN'), ('an', 'DT'), ('airplane', 'NN')]\n",
      "['The', 'cat', 'walk', 'onto', 'an', 'airplane']\n"
     ]
    }
   ],
   "source": [
    "# set up our lemmatizer in case we enable it\n",
    "lemma = nltk.wordnet.WordNetLemmatizer()\n",
    "\n",
    "# and load a POS tagger\n",
    "# let's also load and test a Brill Part of Speech tagger which was trained on the Penn Treebank:\n",
    "BRILL_TAGGER_FILE_PATH = 'resources/treebank_brill_aubt.pickle'\n",
    "brill_tagger = pickle.load(open(BRILL_TAGGER_FILE_PATH, 'rb'))\n",
    "print(brill_tagger)\n",
    "\n",
    "# now let's kick the tires on this tagger\n",
    "test_tag_tokens = 'The cat walked onto an airplane'.split()\n",
    "print(brill_tagger.tag(test_tag_tokens))\n",
    "\n",
    "print([lemma.lemmatize(x[0], get_wordnet_pos(x[1])) for x in brill_tagger.tag(test_tag_tokens)])"
   ]
  },
  {
   "cell_type": "code",
   "execution_count": 7,
   "metadata": {},
   "outputs": [
    {
     "name": "stdout",
     "output_type": "stream",
     "text": [
      "[('Get', '-None-'), ('me', 'PRP'), ('on', 'IN'), ('the', 'DT'), ('court', 'NN'), ('and', 'CC'), (\"I'm\", '-None-'), ('trouble', 'NN'), ('Last', 'JJ'), ('week', 'NN'), ('fucked', 'VBD'), ('around', 'IN'), ('and', 'CC'), ('got', 'VBD'), ('a', 'DT'), ('triple', 'RB'), ('double', 'VB')]\n"
     ]
    }
   ],
   "source": [
    "test_sentence_2 = 'Get me on the court and I\\'m trouble Last week fucked around and got a triple double'\n",
    "print(brill_tagger.tag(test_sentence_2.split()))"
   ]
  },
  {
   "cell_type": "markdown",
   "metadata": {},
   "source": [
    "# Load some stopwords -- words which are commonly filtered out since they are common or do not carry much meaning"
   ]
  },
  {
   "cell_type": "code",
   "execution_count": 8,
   "metadata": {},
   "outputs": [
    {
     "name": "stdout",
     "output_type": "stream",
     "text": [
      "{'the', 'been', 'with', 'mustn', 'they', 'hadn', \"you've\", 'how', \"that'll\", 'o', \"'bout\", 'as', 'whatz', 'against', 'same', \"haven't\", 'until', 'so', 'only', 'mightn', 'again', 'couldn', 'yourselves', 'why', \"you'd\", 'itself', 'who', 'over', 'himself', 'd', 'and', 'from', 'then', 'm', 've', 'too', 'what', 'i', 'doing', 'whom', 'dont', \"shan't\", 'ours', 'in', 'into', 'about', 'are', \"you'll\", \"you're\", 's', 'should', 'beyond', 'because', \"shouldn't\", 'any', 'under', 'than', 'off', 'hasn', \"won't\", \"wouldn't\", \"isn't\", 'down', 'him', 're', 'their', \"weren't\", \"needn't\", 'weren', 'ain', \"didn't\", 'didn', 'of', 'hers', 'has', 'da', 'not', 'an', 'yourself', 'here', 'before', 'there', \"wasn't\", 'or', 'your', 'nor', \"aren't\", 'ainâ€™t', 'y', \"she's\", 'ma', 'shouldn', 'wouldn', 'iâ€™m', 'that', 'each', \"couldn't\", 'where', 'but', 'other', 'doesn', 'myself', \"it's\", 'most', 'isn', 'ourselves', \"hasn't\", 'such', 'tha', 'them', 'this', 'on', \"should've\", 'by', \"'til\", \"mustn't\", 'once', 'being', \"doesn't\", 'while', 'am', 'theirs', 'our', 't', 'above', 'few', 'shan', 'her', 'no', 'a', 'needn', 'aren', 'do', 'he', 'now', 'was', 'she', 'won', 'don', 'if', 'to', 'you', 'herself', 'were', 'along', 'more', 'which', 'very', 'own', \"hadn't\", 'after', 'll', 'these', 'thee', 'between', 'out', 'had', 'having', 'my', \"don't\", 'his', 'some', 'ain\\t', 'both', 'did', 'yours', 'have', 'up', 'all', 'wasn', 'through', 'haven', 'be', 'does', 'can', 'will', 'for', \"mightn't\", 'below', 'during', 'themselves', 'those', 'is', 'when', 'we', 'just', \"i'mma\", 'it', 'further', 'at', 'gonna', 'its', 'me', 'aint'}\n"
     ]
    }
   ],
   "source": [
    "# load a stopword set we want to use...\n",
    "stoplist = nltk.corpus.stopwords.words('english')\n",
    "stop_word_set = set(stoplist)\n",
    "\n",
    "# variant spellings of stop words\n",
    "stop_word_set.add('tha')\n",
    "stop_word_set.add('da')\n",
    "stop_word_set.add('ain\\t')\n",
    "stop_word_set.add('aint')\n",
    "stop_word_set.add('gonna')\n",
    "stop_word_set.add('\\'bout')\n",
    "stop_word_set.add('\\'til')\n",
    "stop_word_set.add('ainâ€™t')\n",
    "stop_word_set.add('iâ€™m')\n",
    "stop_word_set.add('i\\'mma')\n",
    "stop_word_set.add('thee')\n",
    "stop_word_set.add('whatz')\n",
    "stop_word_set.add('along')\n",
    "stop_word_set.add('dont')\n",
    "stop_word_set.add('beyond')\n",
    "\n",
    "# we'll remove a few more from our dataset\n",
    "if False:\n",
    "    stop_word_set.add('get')\n",
    "    stop_word_set.add('got')\n",
    "    stop_word_set.add('nigga')\n",
    "    stop_word_set.add('niggas')\n",
    "    stop_word_set.add('bitch')\n",
    "    stop_word_set.add('fuck')\n",
    "    stop_word_set.add('ain\\t')\n",
    "    stop_word_set.add('aint')\n",
    "\n",
    "print(stop_word_set)"
   ]
  },
  {
   "cell_type": "markdown",
   "metadata": {},
   "source": [
    "# Loading the dataset\n",
    "## This dataset comes from the Kaggle website at this URL: https://www.kaggle.com/artimous/every-song-you-have-heard-almost"
   ]
  },
  {
   "cell_type": "code",
   "execution_count": 9,
   "metadata": {},
   "outputs": [
    {
     "name": "stdout",
     "output_type": "stream",
     "text": [
      "Loading dataframes from CSV.  This might take some time...\n",
      "Length of Set #1 : 250000\n",
      "Length of Set #2 : 266174\n",
      "Length of Both Set combined : 516174\n",
      "Wall time: 14.6 s\n"
     ]
    }
   ],
   "source": [
    "%%time\n",
    "\n",
    "print('Loading dataframes from CSV.  This might take some time...')\n",
    "\n",
    "# NOTE : Without setting the engine here, we might hit the exception : \"C error: EOF inside string ...\"\n",
    "\n",
    "# This dataset is comprised of two separate files possibly for size and download limitations\n",
    "# so we'll put them together in a moment...\n",
    "lyrics_1_df = pd.read_csv('c:/datasets/lyrics/lyrics1.csv',\n",
    "                       engine = 'python')\n",
    "lyrics_2_df = pd.read_csv('c:/datasets/lyrics/lyrics2.csv',\n",
    "                       engine = 'python')\n",
    "# now we can put them together into a single frame\n",
    "lyrics_df = pd.concat([lyrics_1_df, lyrics_2_df])\n",
    "\n",
    "print('Length of Set #1 : {}'.format(len(lyrics_1_df)))\n",
    "print('Length of Set #2 : {}'.format(len(lyrics_2_df)))\n",
    "print('Length of Both Set combined : {}'.format(len(lyrics_df)))"
   ]
  },
  {
   "cell_type": "code",
   "execution_count": 10,
   "metadata": {
    "collapsed": true
   },
   "outputs": [],
   "source": [
    "#replace carriage returns with periods to see if we can split lyrics as if they are sentences\n",
    "lyrics_df = lyrics_df.replace({'\\n': ' . '}, regex=True)"
   ]
  },
  {
   "cell_type": "code",
   "execution_count": 11,
   "metadata": {},
   "outputs": [
    {
     "data": {
      "text/html": [
       "<div>\n",
       "<style>\n",
       "    .dataframe thead tr:only-child th {\n",
       "        text-align: right;\n",
       "    }\n",
       "\n",
       "    .dataframe thead th {\n",
       "        text-align: left;\n",
       "    }\n",
       "\n",
       "    .dataframe tbody tr th {\n",
       "        vertical-align: top;\n",
       "    }\n",
       "</style>\n",
       "<table border=\"1\" class=\"dataframe\">\n",
       "  <thead>\n",
       "    <tr style=\"text-align: right;\">\n",
       "      <th></th>\n",
       "      <th>Band</th>\n",
       "      <th>Lyrics</th>\n",
       "      <th>Song</th>\n",
       "    </tr>\n",
       "  </thead>\n",
       "  <tbody>\n",
       "    <tr>\n",
       "      <th>0</th>\n",
       "      <td>Elijah Blake</td>\n",
       "      <td>No, no . I ain't ever trapped out the bando . ...</td>\n",
       "      <td>Everyday</td>\n",
       "    </tr>\n",
       "    <tr>\n",
       "      <th>1</th>\n",
       "      <td>Elijah Blake</td>\n",
       "      <td>The drinks go down and smoke goes up, I feel m...</td>\n",
       "      <td>Live Till We Die</td>\n",
       "    </tr>\n",
       "    <tr>\n",
       "      <th>2</th>\n",
       "      <td>Elijah Blake</td>\n",
       "      <td>She don't live on planet Earth no more . She f...</td>\n",
       "      <td>The Otherside</td>\n",
       "    </tr>\n",
       "    <tr>\n",
       "      <th>3</th>\n",
       "      <td>Elijah Blake</td>\n",
       "      <td>Trippin' off that Grigio, mobbin', lights low ...</td>\n",
       "      <td>Pinot</td>\n",
       "    </tr>\n",
       "    <tr>\n",
       "      <th>4</th>\n",
       "      <td>Elijah Blake</td>\n",
       "      <td>I see a midnight panther, so gallant and so br...</td>\n",
       "      <td>Shadows &amp; Diamonds</td>\n",
       "    </tr>\n",
       "    <tr>\n",
       "      <th>5</th>\n",
       "      <td>Elijah Blake</td>\n",
       "      <td>I just want to ready your mind . 'Cause I'll s...</td>\n",
       "      <td>Uno</td>\n",
       "    </tr>\n",
       "    <tr>\n",
       "      <th>6</th>\n",
       "      <td>Elijah Harris</td>\n",
       "      <td>To believe . Or not to believe . That is the q...</td>\n",
       "      <td>Girlfriend (Main)</td>\n",
       "    </tr>\n",
       "    <tr>\n",
       "      <th>7</th>\n",
       "      <td>Elijah Levi</td>\n",
       "      <td>No one here can love or understand me . Oh, wh...</td>\n",
       "      <td>Bye Bye Blackbird</td>\n",
       "    </tr>\n",
       "    <tr>\n",
       "      <th>8</th>\n",
       "      <td>Elijah Levi</td>\n",
       "      <td>Lullaby of Birdland, that's what I  . Always h...</td>\n",
       "      <td>Lullaby of Birdland</td>\n",
       "    </tr>\n",
       "    <tr>\n",
       "      <th>9</th>\n",
       "      <td>Elijah Levi</td>\n",
       "      <td>I hate to see that evening sun go down . I hat...</td>\n",
       "      <td>St. Louis Blues</td>\n",
       "    </tr>\n",
       "  </tbody>\n",
       "</table>\n",
       "</div>"
      ],
      "text/plain": [
       "            Band                                             Lyrics  \\\n",
       "0   Elijah Blake  No, no . I ain't ever trapped out the bando . ...   \n",
       "1   Elijah Blake  The drinks go down and smoke goes up, I feel m...   \n",
       "2   Elijah Blake  She don't live on planet Earth no more . She f...   \n",
       "3   Elijah Blake  Trippin' off that Grigio, mobbin', lights low ...   \n",
       "4   Elijah Blake  I see a midnight panther, so gallant and so br...   \n",
       "5   Elijah Blake  I just want to ready your mind . 'Cause I'll s...   \n",
       "6  Elijah Harris  To believe . Or not to believe . That is the q...   \n",
       "7    Elijah Levi  No one here can love or understand me . Oh, wh...   \n",
       "8    Elijah Levi  Lullaby of Birdland, that's what I  . Always h...   \n",
       "9    Elijah Levi  I hate to see that evening sun go down . I hat...   \n",
       "\n",
       "                  Song  \n",
       "0             Everyday  \n",
       "1     Live Till We Die  \n",
       "2        The Otherside  \n",
       "3                Pinot  \n",
       "4   Shadows & Diamonds  \n",
       "5                  Uno  \n",
       "6    Girlfriend (Main)  \n",
       "7    Bye Bye Blackbird  \n",
       "8  Lullaby of Birdland  \n",
       "9      St. Louis Blues  "
      ]
     },
     "execution_count": 11,
     "metadata": {},
     "output_type": "execute_result"
    }
   ],
   "source": [
    "lyrics_df.head(10)"
   ]
  },
  {
   "cell_type": "markdown",
   "metadata": {},
   "source": [
    "# Before we start do do any text analysis, let's figure out the Hip-Hop artists we have"
   ]
  },
  {
   "cell_type": "code",
   "execution_count": 12,
   "metadata": {
    "collapsed": true
   },
   "outputs": [],
   "source": [
    "# NOTE : Could not find the following in this set : \n",
    "# EAST COAST : Nas\n",
    "# WEST COAST : Warren G, Tha Dogg Pound\n",
    "east_coast_artists = ['The Notorious B.I.G.', 'Diddy', 'Wu-Tang Clan', 'Craig Mack', 'Tim Dog', \n",
    "                      'Queen Latifah', 'LL Cool J', 'Da Brat', 'Missy Elliott', 'MC Lyte', 'De La Soul', 'Busta Rhymes', 'Mase', 'Q-Tip']\n",
    "west_coast_artists = ['N.W.A', 'Dr. Dre', '2Pac', 'Eazy-E', 'Ice Cube', 'Snoop Dogg', 'Nate Dogg', 'Daz Dillinger', 'Coolio']\n",
    "\n",
    "male_artists = ['N.W.A', 'Dr. Dre', '2Pac', 'Eazy-E', 'Ice Cube', 'Snoop Dogg', 'Nate Dogg', 'Daz Dillinger', \n",
    "                    'The Notorious B.I.G.', 'Diddy', 'Wu-Tang Clan', 'Craig Mack', 'Tim Dog', \n",
    "                      'LL Cool J', 'De La Soul', 'Busta Rhymes', 'Mase', 'Q-Tip', 'Coolio']\n",
    "female_artists = ['Queen Latifah', 'Da Brat', 'Missy Elliott', 'MC Lyte']"
   ]
  },
  {
   "cell_type": "code",
   "execution_count": 13,
   "metadata": {},
   "outputs": [
    {
     "name": "stdout",
     "output_type": "stream",
     "text": [
      "Band\n",
      "Chicory Tip                      6\n",
      "George Tipton                    1\n",
      "Glenn Tipton                    13\n",
      "Hollow Tip                       3\n",
      "Julie Tippetts                   6\n",
      "La Tipica Orquestra de Tango     1\n",
      "Q-Tip                           29\n",
      "Q-Tips                           3\n",
      "dtype: int64\n"
     ]
    }
   ],
   "source": [
    "artist_check_df = lyrics_df[lyrics_df['Band'].str.contains(\"Tip\")].groupby(['Band']).size()\n",
    "print(artist_check_df)"
   ]
  },
  {
   "cell_type": "code",
   "execution_count": 14,
   "metadata": {},
   "outputs": [
    {
     "name": "stdout",
     "output_type": "stream",
     "text": [
      "84884           Flava in Ya Ear\n",
      "84885         Funk Wit da Style\n",
      "84886                  Get Down\n",
      "84887             Judgement Day\n",
      "84888                  Mainline\n",
      "84889    Making Moves With Puff\n",
      "84890    Project: Funk da World\n",
      "84891                  Real Raw\n",
      "84892            When God Comes\n",
      "Name: Song, dtype: object\n"
     ]
    }
   ],
   "source": [
    "artist_song_check_df = lyrics_df[lyrics_df['Band'] == 'Craig Mack']['Song']\n",
    "print(artist_song_check_df)"
   ]
  },
  {
   "cell_type": "code",
   "execution_count": 15,
   "metadata": {
    "collapsed": true
   },
   "outputs": [],
   "source": [
    "coast_conditions = [\n",
    "    (lyrics_df['Band'].isin(east_coast_artists)),\n",
    "    (lyrics_df['Band'].isin(west_coast_artists))]\n",
    "coast_choices = ['East', 'West']\n",
    "lyrics_df['Coast'] = np.select(coast_conditions, coast_choices, default='')"
   ]
  },
  {
   "cell_type": "code",
   "execution_count": 16,
   "metadata": {
    "collapsed": true
   },
   "outputs": [],
   "source": [
    "gender_conditions = [\n",
    "    (lyrics_df['Band'].isin(male_artists)),\n",
    "    (lyrics_df['Band'].isin(female_artists))]\n",
    "gender_choices = ['Male', 'Female']\n",
    "lyrics_df['Gender'] = np.select(gender_conditions, gender_choices, default='')"
   ]
  },
  {
   "cell_type": "code",
   "execution_count": 17,
   "metadata": {
    "collapsed": true
   },
   "outputs": [],
   "source": [
    "rap_df = lyrics_df[lyrics_df['Coast'].str.len() > 0]"
   ]
  },
  {
   "cell_type": "code",
   "execution_count": 18,
   "metadata": {},
   "outputs": [
    {
     "name": "stdout",
     "output_type": "stream",
     "text": [
      "Band                  Coast  Gender\n",
      "2Pac                  West   Male      252\n",
      "Busta Rhymes          East   Male      159\n",
      "Coolio                West   Male       66\n",
      "Craig Mack            East   Male        9\n",
      "Da Brat               East   Female     46\n",
      "Daz Dillinger         West   Male       22\n",
      "De La Soul            East   Male      132\n",
      "Diddy                 East   Male      104\n",
      "Dr. Dre               West   Male       80\n",
      "Eazy-E                West   Male       24\n",
      "Ice Cube              West   Male      178\n",
      "LL Cool J             East   Male      167\n",
      "MC Lyte               East   Female     59\n",
      "Mase                  East   Male       53\n",
      "Missy Elliott         East   Female    127\n",
      "N.W.A                 West   Male       22\n",
      "Nate Dogg             West   Male       40\n",
      "Q-Tip                 East   Male       29\n",
      "Queen Latifah         East   Female     50\n",
      "Snoop Dogg            West   Male      344\n",
      "The Notorious B.I.G.  East   Male       90\n",
      "Tim Dog               East   Male        7\n",
      "Wu-Tang Clan          East   Male      125\n",
      "dtype: int64\n"
     ]
    }
   ],
   "source": [
    "print(rap_df.groupby(['Band', 'Coast', 'Gender']).size())"
   ]
  },
  {
   "cell_type": "code",
   "execution_count": 19,
   "metadata": {},
   "outputs": [
    {
     "name": "stdout",
     "output_type": "stream",
     "text": [
      "Coast\n",
      "East    1157\n",
      "West    1028\n",
      "dtype: int64\n"
     ]
    }
   ],
   "source": [
    "print(rap_df.groupby(['Coast']).size())"
   ]
  },
  {
   "cell_type": "code",
   "execution_count": 20,
   "metadata": {},
   "outputs": [
    {
     "name": "stdout",
     "output_type": "stream",
     "text": [
      "Gender\n",
      "Female     282\n",
      "Male      1903\n",
      "dtype: int64\n"
     ]
    }
   ],
   "source": [
    "print(rap_df.groupby(['Gender']).size())"
   ]
  },
  {
   "cell_type": "code",
   "execution_count": 21,
   "metadata": {},
   "outputs": [
    {
     "name": "stdout",
     "output_type": "stream",
     "text": [
      "Wrote Rap artist file to CSV : rap_artists.csv\n"
     ]
    }
   ],
   "source": [
    "# let's write this to a file\n",
    "rap_artist_filename = 'rap_artists.csv'\n",
    "rap_df.to_csv(rap_artist_filename)\n",
    "print('Wrote Rap artist file to CSV : {}'.format(rap_artist_filename))"
   ]
  },
  {
   "cell_type": "code",
   "execution_count": 22,
   "metadata": {
    "collapsed": true
   },
   "outputs": [],
   "source": [
    "text_list = rap_df['Lyrics'].tolist()\n",
    "index_list = rap_df.index.values"
   ]
  },
  {
   "cell_type": "markdown",
   "metadata": {},
   "source": [
    "# Now before we start working with the text, let's handle some of it's formatted.  Since many of the lyrics are back and forth between artists and sometimes parts of the songs are marked up, let's handle this by removing them so that they do not dominate our vocabulary.  Otherwise, we see the words 'snoop' and 'dogg' all over the topic model because he is featured in so many songs even if he is not the artist.  We'll do this with regular expressions:\n",
    "* Replace [ARTIST NAME] with blanks\n",
    "* Replace [chorus] with blanks\n",
    "* etc"
   ]
  },
  {
   "cell_type": "code",
   "execution_count": 23,
   "metadata": {},
   "outputs": [
    {
     "name": "stdout",
     "output_type": "stream",
     "text": [
      "About to clean strings...\n",
      " .  Who let them Eastside ridaz out?  . \n",
      "I am the verse  .  I am the part that repeats\n"
     ]
    }
   ],
   "source": [
    "test_clean_string_1 = '[Bigg Snoop Dogg] Who let them Eastside ridaz out? [Dogg] [ Dre ]'\n",
    "test_clean_string_2 = 'I am the verse [chorus] I am the part that repeats'\n",
    "\n",
    "print('About to clean strings...')\n",
    "\n",
    "# match brackets with up to 30 characters in between\n",
    "bracket_pattern = re.compile('\\[.{1,30}\\]')\n",
    "print(bracket_pattern.sub(' . ', test_clean_string_1))\n",
    "print(bracket_pattern.sub(' . ', test_clean_string_2))"
   ]
  },
  {
   "cell_type": "code",
   "execution_count": 24,
   "metadata": {},
   "outputs": [
    {
     "name": "stdout",
     "output_type": "stream",
     "text": [
      "Text cleaned of formatting\n",
      "Average characters removed per document : 16.184439359267735\n"
     ]
    }
   ],
   "source": [
    "# process all of sentences for this formatting\n",
    "characters_removed_list = []\n",
    "for i in range(len(text_list)):\n",
    "    original_text = text_list[i]\n",
    "    text_length_before = len(original_text)\n",
    "    clean_format_text = bracket_pattern.sub(' . ', original_text)\n",
    "    text_length_after = len(clean_format_text)\n",
    "    characters_removed = text_length_before - text_length_after\n",
    "    characters_removed_list.append(characters_removed)\n",
    "    text_list[i] = clean_format_text\n",
    "    \n",
    "print('Text cleaned of formatting')\n",
    "print('Average characters removed per document : {}'.format(np.mean(np.array(characters_removed_list))))\n",
    "\n",
    "#print(text_list[10])"
   ]
  },
  {
   "cell_type": "code",
   "execution_count": 25,
   "metadata": {},
   "outputs": [
    {
     "name": "stdout",
     "output_type": "stream",
     "text": [
      "Tokenization process : [0/2185]\n",
      "Tokenization process : [1000/2185]\n",
      "Tokenization process : [2000/2185]\n",
      "Total size of tokenized list : 2185\n",
      "Total size of unique tokens : 33120\n",
      "DONE reading, tokenizing and counting\n",
      "Wall time: 18.7 s\n"
     ]
    }
   ],
   "source": [
    "%%time\n",
    "\n",
    "tokenized_texts = []\n",
    "token_count_list = []\n",
    "unique_token_set = set()\n",
    "for i, text in enumerate(text_list):\n",
    "    if i % 1000 == 0:\n",
    "        print('Tokenization process : [{0}/{1}]'.format(i, len(text_list)))\n",
    "        \n",
    "    # get the index into the original text\n",
    "    index = text_list[i]\n",
    "        \n",
    "    # there are lots and lots of rows which have no lyrics at all, so let's skip them\n",
    "    if not isinstance(text, str):\n",
    "        #print('Skipping column type : {0} at index {1}'.format(type(text), index))  \n",
    "        continue\n",
    "        \n",
    "    # this is a better way to tokenize, but for the interest of time, we will tokenize with\n",
    "    # whitespace using python's split() function\n",
    "    tokens = nltk.word_tokenize(text.lower())\n",
    "    #tokens = text.lower().split()\n",
    "    tokenized_texts.append(tokens)\n",
    "    token_count_list.append(len(tokens))\n",
    "    unique_token_set |= set(tokens)\n",
    "    \n",
    "print('Total size of tokenized list : {}'.format(len(tokenized_texts)))\n",
    "print('Total size of unique tokens : {}'.format(len(unique_token_set)))\n",
    "print('DONE reading, tokenizing and counting')"
   ]
  },
  {
   "cell_type": "markdown",
   "metadata": {},
   "source": [
    "# Before we go much further, let's set up a dataframe to gather statistics on our vocabulary including term frequency, term rarity using Inverse Document Frequency (IDF) and others"
   ]
  },
  {
   "cell_type": "code",
   "execution_count": 26,
   "metadata": {
    "collapsed": true
   },
   "outputs": [],
   "source": [
    "def get_term_stats_df(tokenized_texts, stop_word_set, enable_phrase_stats = False):\n",
    "    # TODO : Is this really the best way to calculate TF-IDF?  By document?  Shouldn't this be by vocabulary?\n",
    "    print('Building Dictionary...')\n",
    "    dictionary = gensim.corpora.Dictionary(tokenized_texts)\n",
    "    \n",
    "    print('Setting up Bag-of-Words for [{0}] documents...'.format(len(tokenized_texts)))\n",
    "    unfiltered_corpus = [dictionary.doc2bow(text) for text in tokenized_texts]\n",
    "\n",
    "    # now before we start using this, let's look at some term weighting with TF-IDF to see if there are some terms we can easily ignore\n",
    "    # (e.g. patient, patient, cell, cells, etc) which occur very frequently across nearly all documents\n",
    "\n",
    "    tfidf = gensim.models.TfidfModel(unfiltered_corpus, id2word=dictionary)\n",
    "    \n",
    "    print('TF-IDF model built and now setting up dataframe...')\n",
    "    global_idf_map = {}\n",
    "    term_dicts = []\n",
    "    for id in tfidf.id2word.keys():\n",
    "        word = tfidf.id2word[id]\n",
    "        global_tf = tfidf.dfs[id]\n",
    "        global_idf = tfidf.idfs[id]\n",
    "        global_tfidf = global_tf * float(global_idf)\n",
    "        global_idf_map[id] = global_tfidf\n",
    "        \n",
    "        stopword = word in stop_word_set\n",
    "        \n",
    "        any_alpha = any(c.isalpha() for c in word)\n",
    "        all_alpha = word.isalpha()\n",
    "        alpha_num = word.isalnum()\n",
    "        phrase = '_' in word\n",
    "        \n",
    "        phrase_stopword_edge = False\n",
    "        phrase_noalpha_edge = False\n",
    "        phrase_disallowed_start = False\n",
    "        if enable_phrase_stats and phrase:\n",
    "            phrase_stopword_edge = phrase_has_stopword_edge(word, stop_word_set)\n",
    "            phrase_noalpha_edge = phrase_has_no_alpha_edge(word)\n",
    "            phrase_disallowed_start =  phrase_has_disallowed_start(word)\n",
    "\n",
    "        term_dict = {'@Token' : word, 'Global TF' : global_tf, \n",
    "                     'Global TF-IDF' : global_tfidf, 'Global IDF' : global_idf,\n",
    "                    'Stopword' : stopword, 'Phrase' : phrase,\n",
    "                    'Any Alphabetic' : any_alpha, 'All Alphabetic' : all_alpha, 'All Alphanumeric' : alpha_num,\n",
    "                    #'Phrase Stopword Edge' : phrase_stopword_edge, 'Phrase No Alpha Edge' : phrase_noalpha_edge,\n",
    "                    #'Phrase Disallowed Start' : phrase_disallowed_start\n",
    "                    }\n",
    "        term_dicts.append(term_dict)\n",
    "\n",
    "    term_stats_df = pd.DataFrame(term_dicts)\n",
    "    term_stats_df = term_stats_df.sort_values('Global TF', ascending = False)\n",
    "    return term_stats_df"
   ]
  },
  {
   "cell_type": "code",
   "execution_count": 27,
   "metadata": {},
   "outputs": [
    {
     "name": "stdout",
     "output_type": "stream",
     "text": [
      "Prepping stats for completely unfiltered vocabulary...\n",
      "Building Dictionary...\n",
      "Setting up Bag-of-Words for [2185] documents...\n",
      "TF-IDF model built and now setting up dataframe...\n"
     ]
    },
    {
     "data": {
      "text/html": [
       "<div>\n",
       "<style>\n",
       "    .dataframe thead tr:only-child th {\n",
       "        text-align: right;\n",
       "    }\n",
       "\n",
       "    .dataframe thead th {\n",
       "        text-align: left;\n",
       "    }\n",
       "\n",
       "    .dataframe tbody tr th {\n",
       "        vertical-align: top;\n",
       "    }\n",
       "</style>\n",
       "<table border=\"1\" class=\"dataframe\">\n",
       "  <thead>\n",
       "    <tr style=\"text-align: right;\">\n",
       "      <th></th>\n",
       "      <th>@Token</th>\n",
       "      <th>All Alphabetic</th>\n",
       "      <th>All Alphanumeric</th>\n",
       "      <th>Any Alphabetic</th>\n",
       "      <th>Global IDF</th>\n",
       "      <th>Global TF</th>\n",
       "      <th>Global TF-IDF</th>\n",
       "      <th>Phrase</th>\n",
       "      <th>Stopword</th>\n",
       "    </tr>\n",
       "  </thead>\n",
       "  <tbody>\n",
       "    <tr>\n",
       "      <th>9</th>\n",
       "      <td>.</td>\n",
       "      <td>False</td>\n",
       "      <td>False</td>\n",
       "      <td>False</td>\n",
       "      <td>0.000660</td>\n",
       "      <td>2184</td>\n",
       "      <td>1.442365</td>\n",
       "      <td>False</td>\n",
       "      <td>False</td>\n",
       "    </tr>\n",
       "    <tr>\n",
       "      <th>237</th>\n",
       "      <td>the</td>\n",
       "      <td>True</td>\n",
       "      <td>True</td>\n",
       "      <td>True</td>\n",
       "      <td>0.012600</td>\n",
       "      <td>2166</td>\n",
       "      <td>27.291680</td>\n",
       "      <td>False</td>\n",
       "      <td>True</td>\n",
       "    </tr>\n",
       "    <tr>\n",
       "      <th>124</th>\n",
       "      <td>i</td>\n",
       "      <td>True</td>\n",
       "      <td>True</td>\n",
       "      <td>True</td>\n",
       "      <td>0.019945</td>\n",
       "      <td>2155</td>\n",
       "      <td>42.982359</td>\n",
       "      <td>False</td>\n",
       "      <td>True</td>\n",
       "    </tr>\n",
       "    <tr>\n",
       "      <th>240</th>\n",
       "      <td>to</td>\n",
       "      <td>True</td>\n",
       "      <td>True</td>\n",
       "      <td>True</td>\n",
       "      <td>0.021955</td>\n",
       "      <td>2152</td>\n",
       "      <td>47.247594</td>\n",
       "      <td>False</td>\n",
       "      <td>True</td>\n",
       "    </tr>\n",
       "    <tr>\n",
       "      <th>28</th>\n",
       "      <td>and</td>\n",
       "      <td>True</td>\n",
       "      <td>True</td>\n",
       "      <td>True</td>\n",
       "      <td>0.028001</td>\n",
       "      <td>2143</td>\n",
       "      <td>60.007064</td>\n",
       "      <td>False</td>\n",
       "      <td>True</td>\n",
       "    </tr>\n",
       "  </tbody>\n",
       "</table>\n",
       "</div>"
      ],
      "text/plain": [
       "    @Token  All Alphabetic  All Alphanumeric  Any Alphabetic  Global IDF  \\\n",
       "9        .           False             False           False    0.000660   \n",
       "237    the            True              True            True    0.012600   \n",
       "124      i            True              True            True    0.019945   \n",
       "240     to            True              True            True    0.021955   \n",
       "28     and            True              True            True    0.028001   \n",
       "\n",
       "     Global TF  Global TF-IDF  Phrase  Stopword  \n",
       "9         2184       1.442365   False     False  \n",
       "237       2166      27.291680   False      True  \n",
       "124       2155      42.982359   False      True  \n",
       "240       2152      47.247594   False      True  \n",
       "28        2143      60.007064   False      True  "
      ]
     },
     "metadata": {},
     "output_type": "display_data"
    },
    {
     "name": "stdout",
     "output_type": "stream",
     "text": [
      "Wall time: 2.1 s\n"
     ]
    }
   ],
   "source": [
    "%%time\n",
    "\n",
    "print('Prepping stats for completely unfiltered vocabulary...')\n",
    "unfiltered_term_stats_df = get_term_stats_df(tokenized_texts, stop_word_set)\n",
    "\n",
    "display(unfiltered_term_stats_df.head(5))"
   ]
  },
  {
   "cell_type": "code",
   "execution_count": 28,
   "metadata": {},
   "outputs": [
    {
     "name": "stdout",
     "output_type": "stream",
     "text": [
      "Writing Term Stats CSV to : unfiltered_term_stats_07_04.csv\n",
      "DONE Writing Term Stats CSV to : unfiltered_term_stats_07_04.csv\n"
     ]
    }
   ],
   "source": [
    "unfiltered_term_stats_filename = 'unfiltered_term_stats_{0}.csv'.format(datetime.datetime.now().strftime(\"%m_%d\"))\n",
    "print('Writing Term Stats CSV to : {}'.format(unfiltered_term_stats_filename))\n",
    "\n",
    "unfiltered_term_stats_df.to_csv(unfiltered_term_stats_filename)\n",
    "\n",
    "print('DONE Writing Term Stats CSV to : {}'.format(unfiltered_term_stats_filename))"
   ]
  },
  {
   "cell_type": "code",
   "execution_count": 29,
   "metadata": {
    "collapsed": true
   },
   "outputs": [],
   "source": [
    "# Let's plot the distribution of terms as well\n",
    "#global_idf_series = pd.Series(unfiltered_term_stats_df['Global IDF'], name='Global IDF')\n",
    "        \n",
    "# let's look at the distribution of TF-IDF values\n",
    "#seaborn.distplot(global_idf_series);"
   ]
  },
  {
   "cell_type": "markdown",
   "metadata": {
    "collapsed": true
   },
   "source": [
    "# Now we'll process and clean the texts before we train a topic model..."
   ]
  },
  {
   "cell_type": "code",
   "execution_count": 30,
   "metadata": {
    "collapsed": true
   },
   "outputs": [],
   "source": [
    "class Token:\n",
    "    def __init__(self, token, pos):\n",
    "        self.token = token\n",
    "        self.pos = pos\n",
    "        \n",
    "    def __repr__(self):\n",
    "        return '{0}/{1}'.format(self.token, self.pos)"
   ]
  },
  {
   "cell_type": "code",
   "execution_count": 31,
   "metadata": {
    "collapsed": true
   },
   "outputs": [],
   "source": [
    "CULL_ARTIST_NAMES = True"
   ]
  },
  {
   "cell_type": "code",
   "execution_count": 32,
   "metadata": {
    "collapsed": true
   },
   "outputs": [],
   "source": [
    "MIN_TERM_FREQUENCY = 5\n",
    "MIN_TOKEN_LENGTH = 4\n",
    "CULL_STOP_WORDS = True\n",
    "CULL_BY_MIN_FREQUENCY = True\n",
    "CULL_NON_ALPHA = True\n",
    "CULL_TOKENS_WITH_NO_ALPHA = True\n",
    "CULL_SHORT_TOKENS = True\n",
    "CULL_SLANG_IN_VERBS = True\n",
    "CULL_PHRASES_WITH_STOPWORD_EDGE = False\n",
    "CULL_PHRASE_NO_ALPHA_EDGE = False\n",
    "CULL_PHRASE_DISALLOWED_START = False\n",
    "CULL_NON_NOUNS = True\n",
    "FILTER_DICTIONARY_BY_GLOBAL_IDF = True\n",
    "MIN_GLOBAL_IDF_VALUE = 4.0"
   ]
  },
  {
   "cell_type": "code",
   "execution_count": 33,
   "metadata": {},
   "outputs": [
    {
     "name": "stdout",
     "output_type": "stream",
     "text": [
      "['his', 'realm', 'is', 'a', 'new', 'horizon', 'of', 'cuts', '.', 'they', 'expand', 'from', 'his', 'hand', 'as', 'he', 'conducts', '.', 'aim', 'a', 'lot', 'of', 'cool', 'projects', 'not', 'photography', '.', 'cut-creator', ',', 'philly-phil', \"'s\", 'biography', '.', '.', 'the', 'lyrical', 'virtual', 'also', 'makes', 'his', 'return', '.', 'all', 'adversaries', 'should', 'be', 'concerned', '.', 'll', 'cool']\n"
     ]
    }
   ],
   "source": [
    "# but for now we'll use the original text verbatim\n",
    "filtered_tokenized_texts = tokenized_texts\n",
    "\n",
    "print(filtered_tokenized_texts[0][:50])"
   ]
  },
  {
   "cell_type": "code",
   "execution_count": 34,
   "metadata": {},
   "outputs": [
    {
     "name": "stdout",
     "output_type": "stream",
     "text": [
      "Adding [23] artist names to STOP WORD LIST...\n",
      "Total updates stopword set size : 240\n"
     ]
    }
   ],
   "source": [
    "if CULL_ARTIST_NAMES:\n",
    "    all_artist_name_set = set(rap_df['Band'].tolist())\n",
    "    print('Adding [{}] artist names to STOP WORD LIST...'.format(len(all_artist_name_set)))\n",
    "    for artist_name in all_artist_name_set:\n",
    "        artist_tokens = artist_name.split()\n",
    "        for artist_token in artist_tokens:\n",
    "            stop_word_set.add(artist_token.lower())\n",
    "            \n",
    "            \n",
    "    # let's also add some other variants of artist names that may be different from the names in this set\n",
    "    stop_word_set.add('pac')\n",
    "    stop_word_set.add('2-pac')\n",
    "    stop_word_set.add('2pac')\n",
    "    stop_word_set.add('biggie')\n",
    "    stop_word_set.add('smalls')\n",
    "    stop_word_set.add('smallz')\n",
    "    stop_word_set.add('dogg')\n",
    "    stop_word_set.add('doggy')\n",
    "    stop_word_set.add('bone')\n",
    "    stop_word_set.add('tang')\n",
    "    \n",
    "    print('Total updates stopword set size : {}'.format(len(stop_word_set)))"
   ]
  },
  {
   "cell_type": "code",
   "execution_count": 35,
   "metadata": {},
   "outputs": [
    {
     "name": "stdout",
     "output_type": "stream",
     "text": [
      "Preparing Token and POS information for later culling...\n",
      "DONE with part of speech tagging\n",
      "[his/PRP$, realm/-None-, is/VBZ, a/DT, new/JJ, horizon/NNP, of/IN, cuts/NNS, ./., they/PRP, expand/VB, from/IN, his/PRP$, hand/NN, as/IN, he/PRP, conducts/NNS, ./., aim/VB, a/DT, lot/NN, of/IN, cool/JJ, projects/NNS, not/RB, photography/NN, ./., cut-creator/NN, ,/,, philly-phil/-None-, 's/POS, biography/NN, ./., ./., the/DT, lyrical/JJ, virtual/JJ, also/RB, makes/VBZ, his/PRP$, return/NN, ./., all/DT, adversaries/NNS, should/MD, be/VB, concerned/VBN, ./., ll/-None-, cool/JJ]\n"
     ]
    }
   ],
   "source": [
    "# convert everything into this class even if we do not do POS tagging\n",
    "if CULL_NON_NOUNS:\n",
    "    print('Preparing Token and POS information for later culling...')\n",
    "    for i in range(len(filtered_tokenized_texts)):\n",
    "        document_tokens = filtered_tokenized_texts[i]\n",
    "        token_objects = [Token(pos[0], pos[1]) for pos in brill_tagger.tag(document_tokens)]\n",
    "        filtered_tokenized_texts[i] = token_objects\n",
    "        \n",
    "        #print(document_tokens)\n",
    "        #break\n",
    "    \n",
    "    print('DONE with part of speech tagging')\n",
    "    \n",
    "else:\n",
    "    print('Preparing Token information even without culling later')\n",
    "    for i in range(len(filtered_tokenized_texts)):\n",
    "        document_tokens = filtered_tokenized_texts[i]\n",
    "        token_objects = [Token(token, '') for token in document_tokens if len(token) > 0]\n",
    "        # store this back in \n",
    "        filtered_tokenized_texts[i] = token_objects\n",
    "    \n",
    "#print(filtered_tokenized_texts[:10])\n",
    "print(filtered_tokenized_texts[0][:50])"
   ]
  },
  {
   "cell_type": "code",
   "execution_count": 36,
   "metadata": {},
   "outputs": [
    {
     "name": "stdout",
     "output_type": "stream",
     "text": [
      "Culling by min frequency...\n",
      "Culling stopwords...\n",
      "Culling all non-alpha tokens...\n",
      "Culling terms ending with 'in...\n",
      "Demo document tokens:\n",
      "['cuts', 'hand', 'projects', 'return', 'adversaries', 'friend', 'till', 'missions', 'collision', 'like', 'head', 'decision', 'eggs', 'lyrics', 'subject', 'matter', 'sucker', 'scatter', 'techniques', 'absorb', 'cuts', 'name', 'boys', 'could', 'brains', 'change', 'tree', 'yeah', 'scenario', 'stereo', 'zero', 'rappers', 'evade', 'invade', 'compliment', 'groups', 'talent', 'mine', 'harmony', 'cuts', 'rhyme', 'deaf', 'bass', 'every', 'sucker', 'place', 'phrase', 'record', 'scratch', 'except']\n",
      "Wall time: 2.72 s\n"
     ]
    }
   ],
   "source": [
    "%%time\n",
    "\n",
    "# Finally, prepare to remove words below a frequency threshold\n",
    "frequency = defaultdict(int)\n",
    "for text in filtered_tokenized_texts:\n",
    "    for token in text:\n",
    "        frequency[token.token] += 1\n",
    "\n",
    "if CULL_BY_MIN_FREQUENCY:\n",
    "    print('Culling by min frequency...')\n",
    "    # CULL by frequency\n",
    "    filtered_tokenized_texts = [[token for token in text if frequency[token.token] > MIN_TERM_FREQUENCY]\n",
    "             for text in filtered_tokenized_texts]\n",
    "        \n",
    "if CULL_STOP_WORDS:\n",
    "    print('Culling stopwords...')\n",
    "    # then CULL by alpha\n",
    "    filtered_tokenized_texts = [[token for token in text if token.token not in stop_word_set]\n",
    "             for text in filtered_tokenized_texts]\n",
    "    \n",
    "if CULL_NON_NOUNS:\n",
    "    # keep this for any noun or any phrase ('_') since phrases may not be properly labeled for part of speech\n",
    "    filtered_tokenized_texts = [[token for token in text if ('_' in token.token or get_wordnet_pos(token.pos) == nltk.corpus.wordnet.NOUN)]\n",
    "             for text in filtered_tokenized_texts]\n",
    "    \n",
    "if CULL_PHRASES_WITH_STOPWORD_EDGE:\n",
    "    print('Culling phrases with a stopword on their EDGE')\n",
    "    filtered_tokenized_texts = [[token for token in text if not phrase_has_stopword_edge(token.token, stop_word_set)]\n",
    "             for text in filtered_tokenized_texts]\n",
    "    \n",
    "if CULL_PHRASE_NO_ALPHA_EDGE:\n",
    "    print('Culling phrases with a NO ALPHA term on their EDGE')\n",
    "    filtered_tokenized_texts = [[token for token in text if not phrase_has_no_alpha_edge(token.token)]\n",
    "             for text in filtered_tokenized_texts]\n",
    "    \n",
    "if CULL_PHRASE_DISALLOWED_START:\n",
    "    print('Culling phrases starting with a DISALLOWED term (e.g. \"p\", \"n\")')\n",
    "    filtered_tokenized_texts = [[token for token in text if not phrase_has_disallowed_start(token.token)]\n",
    "             for text in filtered_tokenized_texts]\n",
    "    \n",
    "# NOTE that this culling only culls tokens which have NO alpha tokens at all\n",
    "# which is very different that the processing below\n",
    "# this will enable this:\n",
    "# 'TP53' whereas the method below would cull it\n",
    "if CULL_TOKENS_WITH_NO_ALPHA:\n",
    "    filtered_tokenized_texts = [[token for token in text if any(c.isalpha() for c in token.token)]\n",
    "             for text in filtered_tokenized_texts]\n",
    "\n",
    "if CULL_NON_ALPHA:\n",
    "    print('Culling all non-alpha tokens...')\n",
    "    # then CULL by alpha\n",
    "    filtered_tokenized_texts = [[token for token in text if token.token.isalpha()]\n",
    "             for text in filtered_tokenized_texts]\n",
    "    \n",
    "if CULL_SHORT_TOKENS:\n",
    "    filtered_tokenized_texts = [[token for token in text if len(token.token) >= MIN_TOKEN_LENGTH]\n",
    "             for text in filtered_tokenized_texts]\n",
    "    \n",
    "if CULL_SLANG_IN_VERBS:\n",
    "    print('Culling terms ending with \\'in...')\n",
    "    filtered_tokenized_texts = [[token for token in text if not token.token.endswith('in')]\n",
    "             for text in filtered_tokenized_texts]\n",
    "    \n",
    "# finally convert back from the object into simple token strings\n",
    "filtered_tokenized_texts = [[token.token for token in text] for text in filtered_tokenized_texts]\n",
    "\n",
    "DEMO_WORDS_TO_PRINT = 50\n",
    "\n",
    "print('Demo document tokens:')\n",
    "print(filtered_tokenized_texts[0][:DEMO_WORDS_TO_PRINT])"
   ]
  },
  {
   "cell_type": "markdown",
   "metadata": {},
   "source": [
    "# Set up our initial dictionary"
   ]
  },
  {
   "cell_type": "code",
   "execution_count": 37,
   "metadata": {},
   "outputs": [
    {
     "name": "stdout",
     "output_type": "stream",
     "text": [
      "Total dictionary size : [4342]\n"
     ]
    }
   ],
   "source": [
    "dictionary = gensim.corpora.Dictionary(filtered_tokenized_texts)\n",
    "print('Total dictionary size : [{}]'.format(len(dictionary.keys())))"
   ]
  },
  {
   "cell_type": "markdown",
   "metadata": {},
   "source": [
    "# But before we go on, let's see if we should filter our vocabulary of very common terms (IDF)"
   ]
  },
  {
   "cell_type": "code",
   "execution_count": 38,
   "metadata": {
    "collapsed": true
   },
   "outputs": [],
   "source": [
    "def filter_dictionary_by_global_idf(corpus, tokenized_texts, tfidf_model, dictionary, min_global_idf_value, \n",
    "                                    print_low_value_words = True):\n",
    "    low_value_words = set()\n",
    "    low_value_ids = set()\n",
    "    for id in tfidf.id2word.keys():\n",
    "        word = tfidf.id2word[id]\n",
    "        global_tf = tfidf.dfs[id]\n",
    "        global_idf = tfidf.idfs[id]\n",
    "        if global_idf < min_global_idf_value:\n",
    "            low_value_words.add(word)\n",
    "            low_value_ids.add(id)\n",
    "            \n",
    "    print('Total number of words removed : [{}]'.format(len(low_value_words)))\n",
    "\n",
    "    if print_low_value_words:\n",
    "        print('Here are all the words we will remove from our dictionary by global IDF')\n",
    "        print(sorted(list(low_value_words)))\n",
    "        \n",
    "        low_value_word_percent = len(low_value_words) / float(len(dictionary))\n",
    "\n",
    "        print('Total low value words : {0}'.format(len(low_value_words)))\n",
    "        print('Total low value Total Vocab percent : {0}'.format(low_value_word_percent))\n",
    "        \n",
    "    # now we can filter\n",
    "    dictionary.filter_tokens(bad_ids=low_value_ids)"
   ]
  },
  {
   "cell_type": "code",
   "execution_count": 39,
   "metadata": {
    "collapsed": true
   },
   "outputs": [],
   "source": [
    "# NOTE : This class was taken from an example here:\n",
    "# https://github.com/RaRe-Technologies/gensim/blob/develop/docs/notebooks/dtm_example.ipynb\n",
    "\n",
    "class Corpus(gensim.corpora.textcorpus.TextCorpus):\n",
    "\n",
    "    def get_texts(self):\n",
    "        # let's also make sure that all empty documents (no tokens) are not included \n",
    "        # NOTE : The DIM model (model = 'fixed') breaks if there are any documents with no tokens\n",
    "        # also, apparently the logic for checking this is any(not text), so let's try that\n",
    "        #print('Calling a version of get_texts() that should not allow empty/None lists...')\n",
    "        return [x for x in self.input]\n",
    "\n",
    "    def __len__(self):\n",
    "        return len(self.input)"
   ]
  },
  {
   "cell_type": "code",
   "execution_count": 40,
   "metadata": {
    "scrolled": false
   },
   "outputs": [
    {
     "name": "stdout",
     "output_type": "stream",
     "text": [
      "Corpus length : 2185\n",
      "Total dictionary size BEFORE TF-IDF filtering : [4342]\n",
      "Total number of words removed : [257]\n",
      "Here are all the words we will remove from our dictionary by global IDF\n",
      "['another', 'around', 'away', 'baby', 'back', 'ball', 'bang', 'beach', 'behind', 'bitch', 'bitches', 'black', 'blast', 'block', 'blood', 'blow', 'body', 'bomb', 'boss', 'bout', 'boys', 'brothers', 'bust', 'call', 'care', 'case', 'cash', 'catch', 'cause', 'change', 'chest', 'chill', 'city', 'close', 'clothes', 'club', 'cold', 'control', 'cops', 'corner', 'could', 'crack', 'crazy', 'daddy', 'dance', 'days', 'deal', 'death', 'dick', 'dollar', 'door', 'dope', 'dough', 'dream', 'drink', 'drop', 'enough', 'every', 'everybody', 'everything', 'eyes', 'face', 'fact', 'fall', 'family', 'fast', 'feet', 'fight', 'fire', 'five', 'flip', 'floor', 'flow', 'fool', 'fools', 'forever', 'four', 'friend', 'friends', 'front', 'fuck', 'funk', 'game', 'gang', 'gangsta', 'ghetto', 'girl', 'girls', 'glock', 'gold', 'grab', 'grip', 'guess', 'guns', 'hair', 'half', 'hand', 'hands', 'hate', 'head', 'heart', 'hell', 'help', 'high', 'home', 'homie', 'homies', 'hope', 'house', 'inside', 'jack', 'kick', 'kids', 'kinda', 'ladies', 'life', 'light', 'lights', 'like', 'line', 'living', 'long', 'look', 'lord', 'mama', 'matter', 'might', 'million', 'mind', 'mine', 'momma', 'money', 'mother', 'motherfucker', 'motherfuckers', 'mouth', 'move', 'murder', 'music', 'must', 'name', 'need', 'next', 'nigga', 'niggas', 'niggaz', 'night', 'nine', 'nobody', 'none', 'nothing', 'number', 'open', 'outta', 'pack', 'paper', 'part', 'party', 'past', 'peace', 'people', 'phone', 'picture', 'piece', 'place', 'plan', 'play', 'player', 'plus', 'point', 'police', 'pound', 'punk', 'push', 'pussy', 'reason', 'record', 'remember', 'respect', 'rest', 'rhyme', 'ride', 'right', 'rock', 'rocks', 'roll', 'room', 'school', 'shine', 'shot', 'shots', 'show', 'sick', 'side', 'since', 'sleep', 'smoke', 'somebody', 'something', 'song', 'soon', 'sound', 'spit', 'spot', 'stack', 'stand', 'star', 'start', 'state', 'step', 'still', 'straight', 'street', 'streets', 'style', 'sure', 'talk', 'team', 'test', 'thang', 'thing', 'things', 'though', 'thought', 'three', 'throw', 'thug', 'till', 'time', 'times', 'together', 'tonight', 'touch', 'town', 'track', 'trick', 'trip', 'trust', 'truth', 'turn', 'type', 'wake', 'watch', 'west', 'white', 'wild', 'wish', 'without', 'wonder', 'word', 'words', 'work', 'world', 'would', 'yeah', 'year', 'years']\n",
      "Total low value words : 257\n",
      "Total low value Total Vocab percent : 0.059189313680331646\n",
      "Dictionary(4085 unique tokens: ['absorb', 'adversaries', 'bars', 'bass', 'blade']...)\n",
      "Dictionary(4342 unique tokens: ['absorb', 'adversaries', 'bars', 'bass', 'blade']...)\n",
      "Total dictionary size AFTER TF-IDF filtering : [4085]\n"
     ]
    }
   ],
   "source": [
    "corpus = Corpus(filtered_tokenized_texts)\n",
    "\n",
    "# this is a corpus which has not yet been pruned so we can do meaningful TF-IDF calculations with it\n",
    "# NOTE that we call \"token.token\" since it is of class token and we want the string for the actual token\n",
    "unfiltered_corpus = [dictionary.doc2bow([token.token for token in tokens]) for tokens in tokenized_texts]\n",
    "\n",
    "tfidf = gensim.models.TfidfModel(unfiltered_corpus, id2word=dictionary)\n",
    "\n",
    "print('Corpus length : {}'.format(len(corpus)))\n",
    "\n",
    "if FILTER_DICTIONARY_BY_GLOBAL_IDF:\n",
    "    print('Total dictionary size BEFORE TF-IDF filtering : [{}]'.format(len(dictionary.keys())))\n",
    "    \n",
    "    filter_dictionary_by_global_idf(unfiltered_corpus, filtered_tokenized_texts, tfidf, dictionary, MIN_GLOBAL_IDF_VALUE)\n",
    "    print(dictionary)\n",
    "    print(corpus.dictionary)\n",
    "    # re-point the new dictionary for the corpus\n",
    "    corpus.dictionary = dictionary\n",
    "    \n",
    "    print('Total dictionary size AFTER TF-IDF filtering : [{}]'.format(len(corpus.dictionary.keys())))"
   ]
  },
  {
   "cell_type": "code",
   "execution_count": 41,
   "metadata": {},
   "outputs": [
    {
     "name": "stdout",
     "output_type": "stream",
     "text": [
      "Training single-core model...\n",
      "Wall time: 29.7 s\n"
     ]
    }
   ],
   "source": [
    "%%time \n",
    "\n",
    "NUM_TOPICS = 6\n",
    "NUM_WORKERS = 6\n",
    "VANILLA_LDA_PASSES = 30\n",
    "\n",
    "TRAIN_MULTICORE_MODEL = False\n",
    "\n",
    "# train model\n",
    "lda = None\n",
    "if TRAIN_MULTICORE_MODEL:\n",
    "    print('Training multicore model...')\n",
    "    lda = gensim.models.LdaMulticore(corpus, \n",
    "                                     id2word = dictionary, \n",
    "                                     num_topics = NUM_TOPICS, \n",
    "                                     workers = NUM_WORKERS, \n",
    "                                     passes = VANILLA_LDA_PASSES)\n",
    "else:\n",
    "    print('Training single-core model...')\n",
    "    lda = gensim.models.ldamodel.LdaModel(corpus, \n",
    "                                     id2word = dictionary, \n",
    "                                     num_topics = NUM_TOPICS,\n",
    "                                         passes = VANILLA_LDA_PASSES)"
   ]
  },
  {
   "cell_type": "code",
   "execution_count": 42,
   "metadata": {
    "scrolled": true
   },
   "outputs": [
    {
     "data": {
      "text/plain": [
       "[(0,\n",
       "  '0.043*\"enemies\" + 0.016*\"swear\" + 0.016*\"outlaw\" + 0.010*\"soldiers\" + 0.010*\"slang\" + 0.009*\"jail\" + 0.008*\"holla\" + 0.008*\"hail\" + 0.008*\"makaveli\" + 0.008*\"thugs\"'),\n",
       " (1,\n",
       "  '0.006*\"nation\" + 0.006*\"hustle\" + 0.005*\"season\" + 0.005*\"children\" + 0.005*\"cappucino\" + 0.004*\"self\" + 0.004*\"holla\" + 0.003*\"haters\" + 0.003*\"hook\" + 0.003*\"battle\"'),\n",
       " (2,\n",
       "  '0.011*\"brooklyn\" + 0.008*\"chick\" + 0.007*\"exchange\" + 0.007*\"chorus\" + 0.007*\"verse\" + 0.006*\"lady\" + 0.006*\"cats\" + 0.006*\"funky\" + 0.005*\"ridah\" + 0.005*\"lick\"'),\n",
       " (3,\n",
       "  '0.014*\"thugs\" + 0.011*\"hide\" + 0.010*\"cards\" + 0.010*\"homeboys\" + 0.009*\"toss\" + 0.009*\"pray\" + 0.009*\"feelins\" + 0.008*\"dear\" + 0.008*\"outlaw\" + 0.008*\"today\"'),\n",
       " (4,\n",
       "  '0.018*\"harlem\" + 0.016*\"mansion\" + 0.011*\"bail\" + 0.011*\"california\" + 0.010*\"cali\" + 0.008*\"smart\" + 0.008*\"lane\" + 0.008*\"dreams\" + 0.006*\"mutha\" + 0.006*\"dear\"'),\n",
       " (5,\n",
       "  '0.014*\"hennessy\" + 0.008*\"bottle\" + 0.008*\"shorty\" + 0.008*\"model\" + 0.007*\"role\" + 0.007*\"boom\" + 0.006*\"playa\" + 0.006*\"outlaws\" + 0.006*\"eyez\" + 0.006*\"flipmode\"')]"
      ]
     },
     "execution_count": 42,
     "metadata": {},
     "output_type": "execute_result"
    }
   ],
   "source": [
    "lda.print_topics(-1)"
   ]
  },
  {
   "cell_type": "markdown",
   "metadata": {},
   "source": [
    "# Now that we have a model, let's store the topic inferences back into our dataframe..."
   ]
  },
  {
   "cell_type": "code",
   "execution_count": 43,
   "metadata": {},
   "outputs": [
    {
     "name": "stdout",
     "output_type": "stream",
     "text": [
      "Topic assignment progress : [0/2185]\n"
     ]
    },
    {
     "name": "stderr",
     "output_type": "stream",
     "text": [
      "c:\\anaconda3\\lib\\site-packages\\pandas\\core\\indexing.py:337: SettingWithCopyWarning: \n",
      "A value is trying to be set on a copy of a slice from a DataFrame.\n",
      "Try using .loc[row_indexer,col_indexer] = value instead\n",
      "\n",
      "See the caveats in the documentation: http://pandas.pydata.org/pandas-docs/stable/indexing.html#indexing-view-versus-copy\n",
      "  self.obj[key] = _infer_fill_value(value)\n",
      "c:\\anaconda3\\lib\\site-packages\\pandas\\core\\indexing.py:517: SettingWithCopyWarning: \n",
      "A value is trying to be set on a copy of a slice from a DataFrame.\n",
      "Try using .loc[row_indexer,col_indexer] = value instead\n",
      "\n",
      "See the caveats in the documentation: http://pandas.pydata.org/pandas-docs/stable/indexing.html#indexing-view-versus-copy\n",
      "  self.obj[item] = s\n"
     ]
    },
    {
     "name": "stdout",
     "output_type": "stream",
     "text": [
      "Topic assignment progress : [1000/2185]\n",
      "Topic assignment progress : [2000/2185]\n"
     ]
    }
   ],
   "source": [
    "for i, index in enumerate(index_list):\n",
    "    if i % 1000 == 0:\n",
    "        print('Topic assignment progress : [{0}/{1}]'.format(i, len(index_list)))\n",
    "        \n",
    "    doc_bow = corpus.dictionary.doc2bow(filtered_tokenized_texts[i])\n",
    "       \n",
    "    document_topic_sparse_list = [0.0] * lda.num_topics\n",
    "    document_topics = lda.get_document_topics(doc_bow)\n",
    "    \n",
    "    # find the topics actually predicted for this document and store them into the array\n",
    "    for document_topic in document_topics:\n",
    "        topic_idx = document_topic[0]\n",
    "        topic_prob = document_topic[1]\n",
    "        document_topic_sparse_list[topic_idx] = topic_prob\n",
    "    \n",
    "    # now we can store these into a dataframe\n",
    "    for topic_idx, topic_prob in enumerate(document_topic_sparse_list):\n",
    "        topic_key = 'Topic_{0}'.format(format(topic_idx, '02d'))\n",
    "        #print(topic_key)\n",
    "        rap_df = rap_df.set_value(index, topic_key, topic_prob)"
   ]
  },
  {
   "cell_type": "code",
   "execution_count": 48,
   "metadata": {},
   "outputs": [
    {
     "data": {
      "text/html": [
       "<div>\n",
       "<style>\n",
       "    .dataframe thead tr:only-child th {\n",
       "        text-align: right;\n",
       "    }\n",
       "\n",
       "    .dataframe thead th {\n",
       "        text-align: left;\n",
       "    }\n",
       "\n",
       "    .dataframe tbody tr th {\n",
       "        vertical-align: top;\n",
       "    }\n",
       "</style>\n",
       "<table border=\"1\" class=\"dataframe\">\n",
       "  <thead>\n",
       "    <tr style=\"text-align: right;\">\n",
       "      <th></th>\n",
       "      <th>Band</th>\n",
       "      <th>Lyrics</th>\n",
       "      <th>Song</th>\n",
       "      <th>Coast</th>\n",
       "      <th>Gender</th>\n",
       "      <th>Topic_00</th>\n",
       "      <th>Topic_01</th>\n",
       "      <th>Topic_02</th>\n",
       "      <th>Topic_03</th>\n",
       "      <th>Topic_04</th>\n",
       "      <th>Topic_05</th>\n",
       "    </tr>\n",
       "  </thead>\n",
       "  <tbody>\n",
       "    <tr>\n",
       "      <th>4122</th>\n",
       "      <td>LL Cool J</td>\n",
       "      <td>His realm is a new horizon of cuts . They expa...</td>\n",
       "      <td>Dangerous</td>\n",
       "      <td>East</td>\n",
       "      <td>Male</td>\n",
       "      <td>0.072571</td>\n",
       "      <td>0.360146</td>\n",
       "      <td>0.425595</td>\n",
       "      <td>0.000000</td>\n",
       "      <td>0.000000</td>\n",
       "      <td>0.134692</td>\n",
       "    </tr>\n",
       "    <tr>\n",
       "      <th>4123</th>\n",
       "      <td>LL Cool J</td>\n",
       "      <td>Yo Yvette, there's a lot of rumors goin' aroun...</td>\n",
       "      <td>Dear Yvette</td>\n",
       "      <td>East</td>\n",
       "      <td>Male</td>\n",
       "      <td>0.000000</td>\n",
       "      <td>0.123367</td>\n",
       "      <td>0.120467</td>\n",
       "      <td>0.000000</td>\n",
       "      <td>0.687568</td>\n",
       "      <td>0.065391</td>\n",
       "    </tr>\n",
       "    <tr>\n",
       "      <th>4124</th>\n",
       "      <td>LL Cool J</td>\n",
       "      <td>I seen this girl, walking down the block . I s...</td>\n",
       "      <td>I Can Give You More</td>\n",
       "      <td>East</td>\n",
       "      <td>Male</td>\n",
       "      <td>0.068451</td>\n",
       "      <td>0.284912</td>\n",
       "      <td>0.211001</td>\n",
       "      <td>0.227387</td>\n",
       "      <td>0.055883</td>\n",
       "      <td>0.152367</td>\n",
       "    </tr>\n",
       "    <tr>\n",
       "      <th>4125</th>\n",
       "      <td>LL Cool J</td>\n",
       "      <td>Look girl, I'm not gonna sing . 'Cause I just ...</td>\n",
       "      <td>I Want You</td>\n",
       "      <td>East</td>\n",
       "      <td>Male</td>\n",
       "      <td>0.000000</td>\n",
       "      <td>0.457686</td>\n",
       "      <td>0.100946</td>\n",
       "      <td>0.231581</td>\n",
       "      <td>0.000000</td>\n",
       "      <td>0.205295</td>\n",
       "    </tr>\n",
       "    <tr>\n",
       "      <th>4126</th>\n",
       "      <td>LL Cool J</td>\n",
       "      <td>Yo man, I got this def Rolex watch, man . A hu...</td>\n",
       "      <td>That's a Lie</td>\n",
       "      <td>East</td>\n",
       "      <td>Male</td>\n",
       "      <td>0.018893</td>\n",
       "      <td>0.538924</td>\n",
       "      <td>0.238299</td>\n",
       "      <td>0.154185</td>\n",
       "      <td>0.047479</td>\n",
       "      <td>0.000000</td>\n",
       "    </tr>\n",
       "  </tbody>\n",
       "</table>\n",
       "</div>"
      ],
      "text/plain": [
       "           Band                                             Lyrics  \\\n",
       "4122  LL Cool J  His realm is a new horizon of cuts . They expa...   \n",
       "4123  LL Cool J  Yo Yvette, there's a lot of rumors goin' aroun...   \n",
       "4124  LL Cool J  I seen this girl, walking down the block . I s...   \n",
       "4125  LL Cool J  Look girl, I'm not gonna sing . 'Cause I just ...   \n",
       "4126  LL Cool J  Yo man, I got this def Rolex watch, man . A hu...   \n",
       "\n",
       "                     Song Coast Gender  Topic_00  Topic_01  Topic_02  \\\n",
       "4122            Dangerous  East   Male  0.072571  0.360146  0.425595   \n",
       "4123          Dear Yvette  East   Male  0.000000  0.123367  0.120467   \n",
       "4124  I Can Give You More  East   Male  0.068451  0.284912  0.211001   \n",
       "4125           I Want You  East   Male  0.000000  0.457686  0.100946   \n",
       "4126         That's a Lie  East   Male  0.018893  0.538924  0.238299   \n",
       "\n",
       "      Topic_03  Topic_04  Topic_05  \n",
       "4122  0.000000  0.000000  0.134692  \n",
       "4123  0.000000  0.687568  0.065391  \n",
       "4124  0.227387  0.055883  0.152367  \n",
       "4125  0.231581  0.000000  0.205295  \n",
       "4126  0.154185  0.047479  0.000000  "
      ]
     },
     "metadata": {},
     "output_type": "display_data"
    }
   ],
   "source": [
    "display(rap_df.head())"
   ]
  },
  {
   "cell_type": "markdown",
   "metadata": {
    "collapsed": true
   },
   "source": [
    "# Now that we have a topic model, let's do some comparison by training ONE MODEL for all data and then we  will stratify by various attributes (i.e. East/West coast) to see how the topics vary with the same model"
   ]
  },
  {
   "cell_type": "code",
   "execution_count": 62,
   "metadata": {},
   "outputs": [],
   "source": [
    "def visualize_average_topic_by_column(df, col_name, lda_model, top_n_terms = 10):\n",
    "    unique_col_values = df[col_name].unique()\n",
    "\n",
    "    column_topic_dicts = []\n",
    "    topic_name_set = set()\n",
    "    for unique_col_value in unique_col_values:\n",
    "        #print('Preparing topic values for column [{0} == {1}]'.format(col_name, unique_col_value))\n",
    "        \n",
    "        column_topic_dict = {}\n",
    "        column_topic_dict[col_name] = unique_col_value\n",
    "        \n",
    "        # let's loop through topics and get average values\n",
    "        for topic_idx in range(lda_model.num_topics):\n",
    "            #print('Preparing values for Topic : {}'.format(topic_idx))\n",
    "            topic_key = 'Topic_{0}'.format(format(topic_idx, '02d'))\n",
    "            topic_probs = df[df[col_name] == unique_col_value][topic_key]\n",
    "            avg_topic_probs = np.mean(topic_probs)\n",
    "            \n",
    "            topic_name_set.add(topic_key)\n",
    "            \n",
    "            column_topic_dict[topic_key] = avg_topic_probs\n",
    "            \n",
    "        column_topic_dicts.append(column_topic_dict)\n",
    "        \n",
    "    # let's set up topic labels for the legend\n",
    "    topic_labels = []\n",
    "    for topic_idx in range(lda_model.num_topics):\n",
    "        topic_key = 'Topic_{0}'.format(format(topic_idx, '02d'))\n",
    "        topic_term_tuples = lda_model.get_topic_terms(topic_idx, topn = top_n_terms)\n",
    "        topic_terms = [lda_model.id2word[x[0]] for x in topic_term_tuples]\n",
    "        topic_terms_str = ', '.join(topic_terms)\n",
    "        topic_label = '{0} : {1}'.format(topic_key, topic_terms_str)\n",
    "        topic_labels.append(topic_label)\n",
    "        \n",
    "    column_topic_df = pd.DataFrame(column_topic_dicts)\n",
    "    #display(column_topic_df)\n",
    "    \n",
    "    ax = column_topic_df.plot.bar(x = col_name, stacked = True)\n",
    "    \n",
    "    # Shrink current axis's height by a percentage on the bottom\n",
    "    box = ax.get_position()\n",
    "    ax.set_position([box.x0, box.y0 + box.height * 0.1,\n",
    "                     box.width, box.height * 0.9])\n",
    "\n",
    "    # Put a legend below current axis\n",
    "    leg = plt.legend(topic_labels, loc='upper center', bbox_to_anchor=(0.5, -0.3),\n",
    "              fancybox=True, shadow=True, ncol=1)\n",
    "\n",
    "    fig = plt.gcf()\n",
    "    fig.set_size_inches(10.5, 4.5)\n",
    "    \n",
    "    plt.show()"
   ]
  },
  {
   "cell_type": "code",
   "execution_count": 63,
   "metadata": {},
   "outputs": [
    {
     "data": {
      "image/png": "[encoded data removed]",
      "text/plain": [
       "<matplotlib.figure.Figure at 0x2181a625860>"
      ]
     },
     "metadata": {},
     "output_type": "display_data"
    }
   ],
   "source": [
    "# First let's look at topics by COAST\n",
    "visualize_average_topic_by_column(rap_df, 'Coast', lda, top_n_terms = 6)"
   ]
  },
  {
   "cell_type": "code",
   "execution_count": 64,
   "metadata": {},
   "outputs": [
    {
     "data": {
      "image/png": "[encoded data removed]",
      "text/plain": [
       "<matplotlib.figure.Figure at 0x2181a6e7c18>"
      ]
     },
     "metadata": {},
     "output_type": "display_data"
    }
   ],
   "source": [
    "# And then topics by GENDER\n",
    "visualize_average_topic_by_column(rap_df, 'Gender', lda, top_n_terms = 6)"
   ]
  },
  {
   "cell_type": "markdown",
   "metadata": {
    "collapsed": true
   },
   "source": [
    "# As as experiment, let's see what kinds of different topics and terms we might see if we train one model for each category and look at the result.\n",
    "## In other words, instead of one model, we'll train one for East Coast and another for West Coast.  Then we'll do the same with one for Male and another for female"
   ]
  },
  {
   "cell_type": "code",
   "execution_count": 70,
   "metadata": {
    "collapsed": true
   },
   "outputs": [],
   "source": [
    "def get_text_indices(col_name, col_value, df, index_list):\n",
    "    text_index_list = []\n",
    "    for i, index in enumerate(index_list):\n",
    "        if df.loc[index, col_name] == col_value:\n",
    "            text_index_list.append(i)\n",
    "            \n",
    "    return text_index_list"
   ]
  },
  {
   "cell_type": "code",
   "execution_count": 77,
   "metadata": {},
   "outputs": [
    {
     "name": "stdout",
     "output_type": "stream",
     "text": [
      "Size of East Corpus : 1157\n",
      "Size of West Corpus : 1028\n",
      "Size of Male Corpus : 1903\n",
      "Size of Female Corpus : 282\n"
     ]
    }
   ],
   "source": [
    "east_tokenized_text_indices = get_text_indices('Coast', 'East', rap_df, index_list)\n",
    "east_corpus = Corpus([filtered_tokenized_texts[idx] for idx in east_tokenized_text_indices])\n",
    "\n",
    "west_tokenized_text_indices = get_text_indices('Coast', 'West', rap_df, index_list)\n",
    "west_corpus = Corpus([filtered_tokenized_texts[idx] for idx in west_tokenized_text_indices])\n",
    "\n",
    "male_tokenized_text_indices = get_text_indices('Gender', 'Male', rap_df, index_list)\n",
    "male_corpus = Corpus([filtered_tokenized_texts[idx] for idx in male_tokenized_text_indices])\n",
    "\n",
    "female_tokenized_text_indices = get_text_indices('Gender', 'Female', rap_df, index_list)\n",
    "female_corpus = Corpus([filtered_tokenized_texts[idx] for idx in female_tokenized_text_indices])\n",
    "\n",
    "print('Size of East Corpus : {}'.format(len(east_corpus)))\n",
    "print('Size of West Corpus : {}'.format(len(west_corpus)))\n",
    "print('Size of Male Corpus : {}'.format(len(male_corpus)))\n",
    "print('Size of Female Corpus : {}'.format(len(female_corpus)))"
   ]
  },
  {
   "cell_type": "markdown",
   "metadata": {},
   "source": [
    "# Now let's train the models for each category.  This will take time for each model"
   ]
  },
  {
   "cell_type": "code",
   "execution_count": 98,
   "metadata": {
    "collapsed": true
   },
   "outputs": [],
   "source": [
    "# let's reduce how much time we'll need for each model by reducing the # of topics and passes across the data\n",
    "NUM_STRATIFICATION_TOPICS = 5\n",
    "NUM_STRATIFICATION_PASSES = 6"
   ]
  },
  {
   "cell_type": "code",
   "execution_count": 99,
   "metadata": {},
   "outputs": [
    {
     "name": "stdout",
     "output_type": "stream",
     "text": [
      "Wall time: 8.22 s\n"
     ]
    }
   ],
   "source": [
    "%%time\n",
    "\n",
    "east_corpus.dictionary = corpus.dictionary\n",
    "\n",
    "east_lda = gensim.models.ldamodel.LdaModel(east_corpus, \n",
    "                                     id2word = east_corpus.dictionary, \n",
    "                                     num_topics = NUM_STRATIFICATION_TOPICS,\n",
    "                                         passes = NUM_STRATIFICATION_PASSES)"
   ]
  },
  {
   "cell_type": "code",
   "execution_count": 100,
   "metadata": {},
   "outputs": [
    {
     "name": "stdout",
     "output_type": "stream",
     "text": [
      "Wall time: 6.87 s\n"
     ]
    }
   ],
   "source": [
    "%%time\n",
    "\n",
    "west_corpus.dictionary = corpus.dictionary\n",
    "\n",
    "west_lda = gensim.models.ldamodel.LdaModel(west_corpus, \n",
    "                                     id2word = west_corpus.dictionary, \n",
    "                                     num_topics = NUM_STRATIFICATION_TOPICS,\n",
    "                                         passes = NUM_STRATIFICATION_PASSES)"
   ]
  },
  {
   "cell_type": "code",
   "execution_count": 101,
   "metadata": {},
   "outputs": [
    {
     "name": "stdout",
     "output_type": "stream",
     "text": [
      "Wall time: 14.5 s\n"
     ]
    }
   ],
   "source": [
    "%%time\n",
    "\n",
    "male_corpus.dictionary = corpus.dictionary\n",
    "\n",
    "male_lda = gensim.models.ldamodel.LdaModel(male_corpus, \n",
    "                                     id2word = male_corpus.dictionary, \n",
    "                                     num_topics = NUM_STRATIFICATION_TOPICS,\n",
    "                                         passes = NUM_STRATIFICATION_PASSES)"
   ]
  },
  {
   "cell_type": "code",
   "execution_count": 102,
   "metadata": {},
   "outputs": [
    {
     "name": "stdout",
     "output_type": "stream",
     "text": [
      "Wall time: 1.36 s\n"
     ]
    }
   ],
   "source": [
    "%%time\n",
    "\n",
    "female_corpus.dictionary = corpus.dictionary\n",
    "\n",
    "female_lda = gensim.models.ldamodel.LdaModel(female_corpus, \n",
    "                                     id2word = female_corpus.dictionary, \n",
    "                                     num_topics = NUM_STRATIFICATION_TOPICS,\n",
    "                                         passes = NUM_STRATIFICATION_PASSES)"
   ]
  },
  {
   "cell_type": "code",
   "execution_count": 103,
   "metadata": {},
   "outputs": [
    {
     "data": {
      "text/plain": [
       "[(0,\n",
       "  '0.005*\"rise\" + 0.005*\"holla\" + 0.005*\"toss\" + 0.005*\"chorus\" + 0.005*\"hello\" + 0.005*\"funky\" + 0.005*\"ground\" + 0.004*\"stars\" + 0.004*\"lane\" + 0.004*\"road\"'),\n",
       " (1,\n",
       "  '0.006*\"boom\" + 0.004*\"plug\" + 0.003*\"taste\" + 0.003*\"round\" + 0.003*\"thank\" + 0.003*\"swear\" + 0.003*\"cars\" + 0.003*\"park\" + 0.003*\"crip\" + 0.003*\"buck\"'),\n",
       " (2,\n",
       "  '0.007*\"outlaw\" + 0.006*\"enemies\" + 0.006*\"rebel\" + 0.006*\"haters\" + 0.006*\"westside\" + 0.005*\"hustle\" + 0.004*\"power\" + 0.004*\"problems\" + 0.004*\"pimp\" + 0.004*\"outlawz\"'),\n",
       " (3,\n",
       "  '0.008*\"self\" + 0.008*\"cali\" + 0.007*\"platinum\" + 0.006*\"cats\" + 0.005*\"california\" + 0.004*\"loot\" + 0.004*\"flipmode\" + 0.004*\"jones\" + 0.004*\"squad\" + 0.004*\"today\"'),\n",
       " (4,\n",
       "  '0.007*\"water\" + 0.006*\"chick\" + 0.006*\"lady\" + 0.006*\"thugs\" + 0.004*\"woman\" + 0.004*\"dear\" + 0.004*\"count\" + 0.004*\"drama\" + 0.003*\"ways\" + 0.003*\"child\"')]"
      ]
     },
     "execution_count": 103,
     "metadata": {},
     "output_type": "execute_result"
    }
   ],
   "source": [
    "male_lda.print_topics(-1)"
   ]
  },
  {
   "cell_type": "code",
   "execution_count": 104,
   "metadata": {},
   "outputs": [
    {
     "data": {
      "text/plain": [
       "[(0,\n",
       "  '0.021*\"minute\" + 0.015*\"chick\" + 0.012*\"alright\" + 0.012*\"leader\" + 0.011*\"brooklyn\" + 0.007*\"chorus\" + 0.006*\"bills\" + 0.005*\"butter\" + 0.005*\"taste\" + 0.005*\"chance\"'),\n",
       " (1,\n",
       "  '0.013*\"posse\" + 0.009*\"princess\" + 0.008*\"ground\" + 0.007*\"holla\" + 0.006*\"battle\" + 0.005*\"brand\" + 0.005*\"wall\" + 0.005*\"smash\" + 0.005*\"badman\" + 0.005*\"lets\"'),\n",
       " (2,\n",
       "  '0.016*\"clappers\" + 0.014*\"window\" + 0.011*\"kack\" + 0.008*\"supa\" + 0.008*\"rally\" + 0.007*\"stomp\" + 0.007*\"timbaland\" + 0.006*\"cappucino\" + 0.006*\"boom\" + 0.005*\"beats\"'),\n",
       " (3,\n",
       "  '0.024*\"mommy\" + 0.013*\"dutch\" + 0.010*\"timbaland\" + 0.008*\"reverse\" + 0.008*\"weekend\" + 0.007*\"slide\" + 0.007*\"sock\" + 0.006*\"infinity\" + 0.006*\"junk\" + 0.006*\"anybody\"'),\n",
       " (4,\n",
       "  '0.009*\"slap\" + 0.006*\"booty\" + 0.005*\"toot\" + 0.005*\"someone\" + 0.005*\"playa\" + 0.005*\"slim\" + 0.005*\"laugh\" + 0.005*\"funky\" + 0.004*\"haaa\" + 0.004*\"whatcha\"')]"
      ]
     },
     "execution_count": 104,
     "metadata": {},
     "output_type": "execute_result"
    }
   ],
   "source": [
    "female_lda.print_topics(-1)"
   ]
  },
  {
   "cell_type": "code",
   "execution_count": null,
   "metadata": {
    "collapsed": true
   },
   "outputs": [],
   "source": []
  },
  {
   "cell_type": "code",
   "execution_count": null,
   "metadata": {
    "collapsed": true
   },
   "outputs": [],
   "source": []
  }
 ],
 "metadata": {
  "kernelspec": {
   "display_name": "Python 3",
   "language": "python",
   "name": "python3"
  },
  "language_info": {
   "codemirror_mode": {
    "name": "ipython",
    "version": 3
   },
   "file_extension": ".py",
   "mimetype": "text/x-python",
   "name": "python",
   "nbconvert_exporter": "python",
   "pygments_lexer": "ipython3",
   "version": "3.6.1"
  }
 },
 "nbformat": 4,
 "nbformat_minor": 1
}
