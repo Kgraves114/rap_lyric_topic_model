{
 "cells": [
  {
   "cell_type": "markdown",
   "metadata": {},
   "source": [
    "<img src=\"parental_advisory.png\" alt=\"Drawing\" style=\"width: 400px;\"/>"
   ]
  },
  {
   "cell_type": "markdown",
   "metadata": {},
   "source": [
    "# This notebook uses topic modeling on rap lyrics to that we can investigate questions including : The differences between East Coast and West Coast rap and also any differences in gender between Male and Female rappers who were a part of this rivalry"
   ]
  },
  {
   "cell_type": "markdown",
   "metadata": {},
   "source": [
    "# To perform our analysis, we'll be using a common technique called Latent Dirichlet Allocation (LDA) to help us find topics and their associated terms in documents in an unsupervised method\n",
    "### What is LDA?  The short answer is that LDA is a mixture model where the underlying premise is that each document is a mixture of topics and that these topics are made up of terms and/or phrases\n",
    "### Background : The LDA algorithm was proposed in 2003 by David Blei with [this paper](http://www.jmlr.org/papers/volume3/blei03a/blei03a.pdf).  You can also read more about it here on [Wikipedia](https://en.wikipedia.org/wiki/Latent_Dirichlet_allocation).\n",
    "### If you're satisfied with this high level description for now, feel free to move on to the analysis or go ahead and watch the 9 minute video below which gives a better intuition for these topic models and how they are defined"
   ]
  },
  {
   "cell_type": "code",
   "execution_count": 146,
   "metadata": {},
   "outputs": [
    {
     "data": {
      "text/html": [
       "<iframe width=\"560\" height=\"315\" src=\"https://www.youtube.com/embed/DWJYZq_fQ2A\"frameborder=\"0\" allow=\"autoplay; encrypted-media\" allowfullscreen></iframe>"
      ],
      "text/plain": [
       "<IPython.core.display.HTML object>"
      ]
     },
     "execution_count": 146,
     "metadata": {},
     "output_type": "execute_result"
    }
   ],
   "source": [
    "from IPython.display import HTML\n",
    "HTML('<iframe width=\"560\" height=\"315\" src=\"https://www.youtube.com/embed/DWJYZq_fQ2A\"' \\\n",
    "     'frameborder=\"0\" allow=\"autoplay; encrypted-media\" allowfullscreen></iframe>')"
   ]
  },
  {
   "cell_type": "markdown",
   "metadata": {},
   "source": [
    "# Now that our objectives are clear, let's start importing some packages to get started..."
   ]
  },
  {
   "cell_type": "code",
   "execution_count": 1,
   "metadata": {
    "collapsed": true
   },
   "outputs": [],
   "source": [
    "# common Python imports\n",
    "import sys\n",
    "import os\n",
    "import re\n",
    "from collections import defaultdict\n",
    "import pickle\n",
    "import datetime"
   ]
  },
  {
   "cell_type": "code",
   "execution_count": 2,
   "metadata": {
    "collapsed": true
   },
   "outputs": [],
   "source": [
    "# enable inline plotting in our notebook\n",
    "import matplotlib.pyplot as plt\n",
    "from IPython.display import display\n",
    "\n",
    "%matplotlib inline"
   ]
  },
  {
   "cell_type": "code",
   "execution_count": 128,
   "metadata": {},
   "outputs": [
    {
     "name": "stdout",
     "output_type": "stream",
     "text": [
      "numpy version : 1.14.0\n",
      "gensim version : 3.4.0\n",
      "nltk version : 3.2.3\n",
      "pyLDAvis version : 2.1.1\n"
     ]
    }
   ],
   "source": [
    "# these are used for NLP, Data Manipulation, etc\n",
    "import gensim\n",
    "import nltk\n",
    "import numpy as np\n",
    "import pandas as pd\n",
    "import seaborn as sns\n",
    "import pyLDAvis\n",
    "from pyLDAvis.gensim import prepare as gensim_prepare\n",
    "\n",
    "# prepare to do interactive visualizations within the notebook:\n",
    "pyLDAvis.enable_notebook()\n",
    "\n",
    "print('numpy version : {}'.format(np.__version__))\n",
    "print('gensim version : {}'.format(gensim.__version__))\n",
    "print('nltk version : {}'.format(nltk.__version__))\n",
    "print('pyLDAvis version : {}'.format(pyLDAvis.__version__))"
   ]
  },
  {
   "cell_type": "code",
   "execution_count": 135,
   "metadata": {
    "collapsed": true
   },
   "outputs": [],
   "source": [
    "# some packages here are using deprecated APIs but we do not want to see the warnings, so let's ignore them\n",
    "import warnings\n",
    "warnings.filterwarnings('ignore')"
   ]
  },
  {
   "cell_type": "markdown",
   "metadata": {},
   "source": [
    "# Load some NLTK resource data before we get started"
   ]
  },
  {
   "cell_type": "code",
   "execution_count": 4,
   "metadata": {},
   "outputs": [
    {
     "name": "stdout",
     "output_type": "stream",
     "text": [
      "[nltk_data] Downloading package punkt to\n",
      "[nltk_data]     C:\\Users\\slick\\AppData\\Roaming\\nltk_data...\n",
      "[nltk_data]   Package punkt is already up-to-date!\n",
      "Wall time: 1.64 s\n",
      "[nltk_data] Downloading package stopwords to\n",
      "[nltk_data]     C:\\Users\\slick\\AppData\\Roaming\\nltk_data...\n",
      "[nltk_data]   Package stopwords is already up-to-date!\n",
      "Wall time: 2 ms\n",
      "[nltk_data] Downloading package wordnet to\n",
      "[nltk_data]     C:\\Users\\slick\\AppData\\Roaming\\nltk_data...\n",
      "[nltk_data]   Package wordnet is already up-to-date!\n",
      "Wall time: 24.1 ms\n"
     ]
    },
    {
     "data": {
      "text/plain": [
       "True"
      ]
     },
     "execution_count": 4,
     "metadata": {},
     "output_type": "execute_result"
    }
   ],
   "source": [
    "%time nltk.download('punkt')\n",
    "%time nltk.download('stopwords')\n",
    "%time nltk.download('wordnet')"
   ]
  },
  {
   "cell_type": "markdown",
   "metadata": {},
   "source": [
    "# And load a part-of-speech tagging model that was already trained\n",
    "* NOTE : The source code to train this tagger from scratch is here : https://github.com/burgersmoke/nltk-trainer/blob/master/nltk_trainer/tagging/training.py"
   ]
  },
  {
   "cell_type": "code",
   "execution_count": 5,
   "metadata": {
    "collapsed": true
   },
   "outputs": [],
   "source": [
    "# helper function to translate POS tags from treebank to wordnet\n",
    "def get_wordnet_pos(treebank_tag):\n",
    "\n",
    "    if treebank_tag.startswith('J'):\n",
    "        return nltk.corpus.wordnet.ADJ\n",
    "    elif treebank_tag.startswith('V'):\n",
    "        return nltk.corpus.wordnet.VERB\n",
    "    elif treebank_tag.startswith('N'):\n",
    "        return nltk.corpus.wordnet.NOUN\n",
    "    elif treebank_tag.startswith('R'):\n",
    "        return nltk.corpus.wordnet.ADV\n",
    "    else:\n",
    "        return nltk.corpus.wordnet.NOUN"
   ]
  },
  {
   "cell_type": "markdown",
   "metadata": {},
   "source": [
    "## Note that if for some reason this POS tagger .pickle file will not load, try running 'dos2unix' on it within Cygwin"
   ]
  },
  {
   "cell_type": "code",
   "execution_count": 6,
   "metadata": {},
   "outputs": [
    {
     "name": "stdout",
     "output_type": "stream",
     "text": [
      "<nltk.tag.brill.BrillTagger object at 0x00000217DBF170B8>\n",
      "[('The', 'DT'), ('cat', '-None-'), ('walked', 'VBD'), ('onto', 'IN'), ('an', 'DT'), ('airplane', 'NN')]\n",
      "['The', 'cat', 'walk', 'onto', 'an', 'airplane']\n"
     ]
    }
   ],
   "source": [
    "# set up our lemmatizer in case we enable it\n",
    "lemma = nltk.wordnet.WordNetLemmatizer()\n",
    "\n",
    "# and load a POS tagger\n",
    "# let's also load and test a Brill Part of Speech tagger which was trained on the Penn Treebank:\n",
    "BRILL_TAGGER_FILE_PATH = 'resources/treebank_brill_aubt.pickle'\n",
    "brill_tagger = pickle.load(open(BRILL_TAGGER_FILE_PATH, 'rb'))\n",
    "print(brill_tagger)\n",
    "\n",
    "# now let's kick the tires on this tagger\n",
    "test_tag_tokens = 'The cat walked onto an airplane'.split()\n",
    "print(brill_tagger.tag(test_tag_tokens))\n",
    "\n",
    "print([lemma.lemmatize(x[0], get_wordnet_pos(x[1])) for x in brill_tagger.tag(test_tag_tokens)])"
   ]
  },
  {
   "cell_type": "code",
   "execution_count": 7,
   "metadata": {},
   "outputs": [
    {
     "name": "stdout",
     "output_type": "stream",
     "text": [
      "[('Get', '-None-'), ('me', 'PRP'), ('on', 'IN'), ('the', 'DT'), ('court', 'NN'), ('and', 'CC'), (\"I'm\", '-None-'), ('trouble', 'NN'), ('Last', 'JJ'), ('week', 'NN'), ('fucked', 'VBD'), ('around', 'IN'), ('and', 'CC'), ('got', 'VBD'), ('a', 'DT'), ('triple', 'RB'), ('double', 'VB')]\n"
     ]
    }
   ],
   "source": [
    "test_sentence_2 = 'Get me on the court and I\\'m trouble Last week fucked around and got a triple double'\n",
    "print(brill_tagger.tag(test_sentence_2.split()))"
   ]
  },
  {
   "cell_type": "markdown",
   "metadata": {},
   "source": [
    "# Load some stopwords -- words which are commonly filtered out since they are common or do not carry much meaning"
   ]
  },
  {
   "cell_type": "code",
   "execution_count": 8,
   "metadata": {},
   "outputs": [
    {
     "name": "stdout",
     "output_type": "stream",
     "text": [
      "{'the', 'been', 'with', 'mustn', 'they', 'hadn', \"you've\", 'how', \"that'll\", 'o', \"'bout\", 'as', 'whatz', 'against', 'same', \"haven't\", 'until', 'so', 'only', 'mightn', 'again', 'couldn', 'yourselves', 'why', \"you'd\", 'itself', 'who', 'over', 'himself', 'd', 'and', 'from', 'then', 'm', 've', 'too', 'what', 'i', 'doing', 'whom', 'dont', \"shan't\", 'ours', 'in', 'into', 'about', 'are', \"you'll\", \"you're\", 's', 'should', 'beyond', 'because', \"shouldn't\", 'any', 'under', 'than', 'off', 'hasn', \"won't\", \"wouldn't\", \"isn't\", 'down', 'him', 're', 'their', \"weren't\", \"needn't\", 'weren', 'ain', \"didn't\", 'didn', 'of', 'hers', 'has', 'da', 'not', 'an', 'yourself', 'here', 'before', 'there', \"wasn't\", 'or', 'your', 'nor', \"aren't\", 'ainâ€™t', 'y', \"she's\", 'ma', 'shouldn', 'wouldn', 'iâ€™m', 'that', 'each', \"couldn't\", 'where', 'but', 'other', 'doesn', 'myself', \"it's\", 'most', 'isn', 'ourselves', \"hasn't\", 'such', 'tha', 'them', 'this', 'on', \"should've\", 'by', \"'til\", \"mustn't\", 'once', 'being', \"doesn't\", 'while', 'am', 'theirs', 'our', 't', 'above', 'few', 'shan', 'her', 'no', 'a', 'needn', 'aren', 'do', 'he', 'now', 'was', 'she', 'won', 'don', 'if', 'to', 'you', 'herself', 'were', 'along', 'more', 'which', 'very', 'own', \"hadn't\", 'after', 'll', 'these', 'thee', 'between', 'out', 'had', 'having', 'my', \"don't\", 'his', 'some', 'ain\\t', 'both', 'did', 'yours', 'have', 'up', 'all', 'wasn', 'through', 'haven', 'be', 'does', 'can', 'will', 'for', \"mightn't\", 'below', 'during', 'themselves', 'those', 'is', 'when', 'we', 'just', \"i'mma\", 'it', 'further', 'at', 'gonna', 'its', 'me', 'aint'}\n"
     ]
    }
   ],
   "source": [
    "# load a stopword set we want to use...\n",
    "stoplist = nltk.corpus.stopwords.words('english')\n",
    "stop_word_set = set(stoplist)\n",
    "\n",
    "# variant spellings of stop words\n",
    "stop_word_set.add('tha')\n",
    "stop_word_set.add('da')\n",
    "stop_word_set.add('ain\\t')\n",
    "stop_word_set.add('aint')\n",
    "stop_word_set.add('gonna')\n",
    "stop_word_set.add('\\'bout')\n",
    "stop_word_set.add('\\'til')\n",
    "stop_word_set.add('ainâ€™t')\n",
    "stop_word_set.add('iâ€™m')\n",
    "stop_word_set.add('i\\'mma')\n",
    "stop_word_set.add('thee')\n",
    "stop_word_set.add('whatz')\n",
    "stop_word_set.add('along')\n",
    "stop_word_set.add('dont')\n",
    "stop_word_set.add('beyond')\n",
    "\n",
    "# we'll remove a few more from our dataset\n",
    "if False:\n",
    "    stop_word_set.add('get')\n",
    "    stop_word_set.add('got')\n",
    "    stop_word_set.add('nigga')\n",
    "    stop_word_set.add('niggas')\n",
    "    stop_word_set.add('bitch')\n",
    "    stop_word_set.add('fuck')\n",
    "    stop_word_set.add('ain\\t')\n",
    "    stop_word_set.add('aint')\n",
    "\n",
    "print(stop_word_set)"
   ]
  },
  {
   "cell_type": "markdown",
   "metadata": {},
   "source": [
    "# Loading the dataset\n",
    "## This dataset comes from the Kaggle website at this URL: https://www.kaggle.com/artimous/every-song-you-have-heard-almost\n",
    "\n",
    "### If you do not already have the data:\n",
    "* Go to the URL above and download both ZIP files\n",
    "* Unzip them into a directory called \"C:\\datasets\\lyrics\""
   ]
  },
  {
   "cell_type": "code",
   "execution_count": 9,
   "metadata": {},
   "outputs": [
    {
     "name": "stdout",
     "output_type": "stream",
     "text": [
      "Loading dataframes from CSV.  This might take some time...\n",
      "Length of Set #1 : 250000\n",
      "Length of Set #2 : 266174\n",
      "Length of Both Set combined : 516174\n",
      "Wall time: 14.6 s\n"
     ]
    }
   ],
   "source": [
    "%%time\n",
    "\n",
    "print('Loading dataframes from CSV.  This might take some time...')\n",
    "\n",
    "# NOTE : Without setting the engine here, we might hit the exception : \"C error: EOF inside string ...\"\n",
    "\n",
    "# This dataset is comprised of two separate files possibly for size and download limitations\n",
    "# so we'll put them together in a moment...\n",
    "lyrics_1_df = pd.read_csv('c:/datasets/lyrics/lyrics1.csv',\n",
    "                       engine = 'python')\n",
    "lyrics_2_df = pd.read_csv('c:/datasets/lyrics/lyrics2.csv',\n",
    "                       engine = 'python')\n",
    "# now we can put them together into a single frame\n",
    "lyrics_df = pd.concat([lyrics_1_df, lyrics_2_df])\n",
    "\n",
    "print('Length of Set #1 : {}'.format(len(lyrics_1_df)))\n",
    "print('Length of Set #2 : {}'.format(len(lyrics_2_df)))\n",
    "print('Length of Both Set combined : {}'.format(len(lyrics_df)))"
   ]
  },
  {
   "cell_type": "code",
   "execution_count": 10,
   "metadata": {
    "collapsed": true
   },
   "outputs": [],
   "source": [
    "#replace carriage returns with periods to see if we can split lyrics as if they are sentences\n",
    "lyrics_df = lyrics_df.replace({'\\n': ' . '}, regex=True)"
   ]
  },
  {
   "cell_type": "code",
   "execution_count": 11,
   "metadata": {},
   "outputs": [
    {
     "data": {
      "text/html": [
       "<div>\n",
       "<style>\n",
       "    .dataframe thead tr:only-child th {\n",
       "        text-align: right;\n",
       "    }\n",
       "\n",
       "    .dataframe thead th {\n",
       "        text-align: left;\n",
       "    }\n",
       "\n",
       "    .dataframe tbody tr th {\n",
       "        vertical-align: top;\n",
       "    }\n",
       "</style>\n",
       "<table border=\"1\" class=\"dataframe\">\n",
       "  <thead>\n",
       "    <tr style=\"text-align: right;\">\n",
       "      <th></th>\n",
       "      <th>Band</th>\n",
       "      <th>Lyrics</th>\n",
       "      <th>Song</th>\n",
       "    </tr>\n",
       "  </thead>\n",
       "  <tbody>\n",
       "    <tr>\n",
       "      <th>0</th>\n",
       "      <td>Elijah Blake</td>\n",
       "      <td>No, no . I ain't ever trapped out the bando . ...</td>\n",
       "      <td>Everyday</td>\n",
       "    </tr>\n",
       "    <tr>\n",
       "      <th>1</th>\n",
       "      <td>Elijah Blake</td>\n",
       "      <td>The drinks go down and smoke goes up, I feel m...</td>\n",
       "      <td>Live Till We Die</td>\n",
       "    </tr>\n",
       "    <tr>\n",
       "      <th>2</th>\n",
       "      <td>Elijah Blake</td>\n",
       "      <td>She don't live on planet Earth no more . She f...</td>\n",
       "      <td>The Otherside</td>\n",
       "    </tr>\n",
       "    <tr>\n",
       "      <th>3</th>\n",
       "      <td>Elijah Blake</td>\n",
       "      <td>Trippin' off that Grigio, mobbin', lights low ...</td>\n",
       "      <td>Pinot</td>\n",
       "    </tr>\n",
       "    <tr>\n",
       "      <th>4</th>\n",
       "      <td>Elijah Blake</td>\n",
       "      <td>I see a midnight panther, so gallant and so br...</td>\n",
       "      <td>Shadows &amp; Diamonds</td>\n",
       "    </tr>\n",
       "    <tr>\n",
       "      <th>5</th>\n",
       "      <td>Elijah Blake</td>\n",
       "      <td>I just want to ready your mind . 'Cause I'll s...</td>\n",
       "      <td>Uno</td>\n",
       "    </tr>\n",
       "    <tr>\n",
       "      <th>6</th>\n",
       "      <td>Elijah Harris</td>\n",
       "      <td>To believe . Or not to believe . That is the q...</td>\n",
       "      <td>Girlfriend (Main)</td>\n",
       "    </tr>\n",
       "    <tr>\n",
       "      <th>7</th>\n",
       "      <td>Elijah Levi</td>\n",
       "      <td>No one here can love or understand me . Oh, wh...</td>\n",
       "      <td>Bye Bye Blackbird</td>\n",
       "    </tr>\n",
       "    <tr>\n",
       "      <th>8</th>\n",
       "      <td>Elijah Levi</td>\n",
       "      <td>Lullaby of Birdland, that's what I  . Always h...</td>\n",
       "      <td>Lullaby of Birdland</td>\n",
       "    </tr>\n",
       "    <tr>\n",
       "      <th>9</th>\n",
       "      <td>Elijah Levi</td>\n",
       "      <td>I hate to see that evening sun go down . I hat...</td>\n",
       "      <td>St. Louis Blues</td>\n",
       "    </tr>\n",
       "  </tbody>\n",
       "</table>\n",
       "</div>"
      ],
      "text/plain": [
       "            Band                                             Lyrics  \\\n",
       "0   Elijah Blake  No, no . I ain't ever trapped out the bando . ...   \n",
       "1   Elijah Blake  The drinks go down and smoke goes up, I feel m...   \n",
       "2   Elijah Blake  She don't live on planet Earth no more . She f...   \n",
       "3   Elijah Blake  Trippin' off that Grigio, mobbin', lights low ...   \n",
       "4   Elijah Blake  I see a midnight panther, so gallant and so br...   \n",
       "5   Elijah Blake  I just want to ready your mind . 'Cause I'll s...   \n",
       "6  Elijah Harris  To believe . Or not to believe . That is the q...   \n",
       "7    Elijah Levi  No one here can love or understand me . Oh, wh...   \n",
       "8    Elijah Levi  Lullaby of Birdland, that's what I  . Always h...   \n",
       "9    Elijah Levi  I hate to see that evening sun go down . I hat...   \n",
       "\n",
       "                  Song  \n",
       "0             Everyday  \n",
       "1     Live Till We Die  \n",
       "2        The Otherside  \n",
       "3                Pinot  \n",
       "4   Shadows & Diamonds  \n",
       "5                  Uno  \n",
       "6    Girlfriend (Main)  \n",
       "7    Bye Bye Blackbird  \n",
       "8  Lullaby of Birdland  \n",
       "9      St. Louis Blues  "
      ]
     },
     "execution_count": 11,
     "metadata": {},
     "output_type": "execute_result"
    }
   ],
   "source": [
    "lyrics_df.head(10)"
   ]
  },
  {
   "cell_type": "markdown",
   "metadata": {},
   "source": [
    "# Before we start do do any text analysis, let's figure out the Hip-Hop artists we have and prepare some lists so that we can assign their Coast and Gender"
   ]
  },
  {
   "cell_type": "code",
   "execution_count": 163,
   "metadata": {},
   "outputs": [
    {
     "name": "stdout",
     "output_type": "stream",
     "text": [
      "Searching for artist search term : Dogg\n",
      "Band\n",
      "Bill Doggett        17\n",
      "Da Unda Dogg         1\n",
      "Hot Doggers          1\n",
      "Merritt Doggins      1\n",
      "Nate Dogg           40\n",
      "Snoop Dogg         344\n",
      "dtype: int64\n"
     ]
    }
   ],
   "source": [
    "# if you want to search for a particular artist in this dataset, add the search term here:\n",
    "ARTIST_SEARCH_TERM = 'Dogg'\n",
    "if len(ARTIST_SEARCH_TERM) > 0:\n",
    "    print('Searching for artist search term : {}'.format(ARTIST_SEARCH_TERM))\n",
    "    artist_check_df = lyrics_df[lyrics_df['Band'].str.contains(ARTIST_SEARCH_TERM)].groupby(['Band']).size()\n",
    "    print(artist_check_df)"
   ]
  },
  {
   "cell_type": "code",
   "execution_count": 12,
   "metadata": {
    "collapsed": true
   },
   "outputs": [],
   "source": [
    "# NOTE : Could not find the following in this set : \n",
    "# EAST COAST : Nas\n",
    "# WEST COAST : Warren G, Tha Dogg Pound\n",
    "east_coast_artists = ['The Notorious B.I.G.', 'Diddy', 'Wu-Tang Clan', 'Craig Mack', 'Tim Dog', \n",
    "                      'Queen Latifah', 'LL Cool J', 'Da Brat', 'Missy Elliott', 'MC Lyte', 'De La Soul', 'Busta Rhymes', 'Mase', 'Q-Tip']\n",
    "west_coast_artists = ['N.W.A', 'Dr. Dre', '2Pac', 'Eazy-E', 'Ice Cube', 'Snoop Dogg', 'Nate Dogg', 'Daz Dillinger', 'Coolio']\n",
    "\n",
    "male_artists = ['N.W.A', 'Dr. Dre', '2Pac', 'Eazy-E', 'Ice Cube', 'Snoop Dogg', 'Nate Dogg', 'Daz Dillinger', \n",
    "                    'The Notorious B.I.G.', 'Diddy', 'Wu-Tang Clan', 'Craig Mack', 'Tim Dog', \n",
    "                      'LL Cool J', 'De La Soul', 'Busta Rhymes', 'Mase', 'Q-Tip', 'Coolio']\n",
    "female_artists = ['Queen Latifah', 'Da Brat', 'Missy Elliott', 'MC Lyte']"
   ]
  },
  {
   "cell_type": "markdown",
   "metadata": {},
   "source": [
    "# So we've already been using the package Pandas which allows us to read from tabular formats like CSV files into programming constructs called DataFrames.  Let's use another powerful feature of Pandas to select certain rows by value and assign new column values for 'Coast' and 'Gender' and store these back into the same frame for later analysis"
   ]
  },
  {
   "cell_type": "code",
   "execution_count": 15,
   "metadata": {
    "collapsed": true
   },
   "outputs": [],
   "source": [
    "coast_conditions = [\n",
    "    (lyrics_df['Band'].isin(east_coast_artists)),\n",
    "    (lyrics_df['Band'].isin(west_coast_artists))]\n",
    "coast_choices = ['East', 'West']\n",
    "lyrics_df['Coast'] = np.select(coast_conditions, coast_choices, default='')"
   ]
  },
  {
   "cell_type": "code",
   "execution_count": 16,
   "metadata": {
    "collapsed": true
   },
   "outputs": [],
   "source": [
    "gender_conditions = [\n",
    "    (lyrics_df['Band'].isin(male_artists)),\n",
    "    (lyrics_df['Band'].isin(female_artists))]\n",
    "gender_choices = ['Male', 'Female']\n",
    "lyrics_df['Gender'] = np.select(gender_conditions, gender_choices, default='')"
   ]
  },
  {
   "cell_type": "code",
   "execution_count": 17,
   "metadata": {
    "collapsed": true
   },
   "outputs": [],
   "source": [
    "rap_df = lyrics_df[lyrics_df['Coast'].str.len() > 0]"
   ]
  },
  {
   "cell_type": "markdown",
   "metadata": {},
   "source": [
    "# Our new columns are assigned"
   ]
  },
  {
   "cell_type": "code",
   "execution_count": 18,
   "metadata": {},
   "outputs": [
    {
     "name": "stdout",
     "output_type": "stream",
     "text": [
      "Band                  Coast  Gender\n",
      "2Pac                  West   Male      252\n",
      "Busta Rhymes          East   Male      159\n",
      "Coolio                West   Male       66\n",
      "Craig Mack            East   Male        9\n",
      "Da Brat               East   Female     46\n",
      "Daz Dillinger         West   Male       22\n",
      "De La Soul            East   Male      132\n",
      "Diddy                 East   Male      104\n",
      "Dr. Dre               West   Male       80\n",
      "Eazy-E                West   Male       24\n",
      "Ice Cube              West   Male      178\n",
      "LL Cool J             East   Male      167\n",
      "MC Lyte               East   Female     59\n",
      "Mase                  East   Male       53\n",
      "Missy Elliott         East   Female    127\n",
      "N.W.A                 West   Male       22\n",
      "Nate Dogg             West   Male       40\n",
      "Q-Tip                 East   Male       29\n",
      "Queen Latifah         East   Female     50\n",
      "Snoop Dogg            West   Male      344\n",
      "The Notorious B.I.G.  East   Male       90\n",
      "Tim Dog               East   Male        7\n",
      "Wu-Tang Clan          East   Male      125\n",
      "dtype: int64\n"
     ]
    }
   ],
   "source": [
    "print(rap_df.groupby(['Band', 'Coast', 'Gender']).size())"
   ]
  },
  {
   "cell_type": "markdown",
   "metadata": {},
   "source": [
    "# And there are the counts for these columns"
   ]
  },
  {
   "cell_type": "code",
   "execution_count": 19,
   "metadata": {},
   "outputs": [
    {
     "name": "stdout",
     "output_type": "stream",
     "text": [
      "Coast\n",
      "East    1157\n",
      "West    1028\n",
      "dtype: int64\n"
     ]
    }
   ],
   "source": [
    "print(rap_df.groupby(['Coast']).size())"
   ]
  },
  {
   "cell_type": "code",
   "execution_count": 20,
   "metadata": {},
   "outputs": [
    {
     "name": "stdout",
     "output_type": "stream",
     "text": [
      "Gender\n",
      "Female     282\n",
      "Male      1903\n",
      "dtype: int64\n"
     ]
    }
   ],
   "source": [
    "print(rap_df.groupby(['Gender']).size())"
   ]
  },
  {
   "cell_type": "markdown",
   "metadata": {},
   "source": [
    "# It's simple to write out DataFrames while we're working and take a closer look in a spreadsheet"
   ]
  },
  {
   "cell_type": "code",
   "execution_count": 21,
   "metadata": {},
   "outputs": [
    {
     "name": "stdout",
     "output_type": "stream",
     "text": [
      "Wrote Rap artist file to CSV : rap_artists.csv\n"
     ]
    }
   ],
   "source": [
    "# let's write this to a file\n",
    "rap_artist_filename = 'rap_artists.csv'\n",
    "rap_df.to_csv(rap_artist_filename)\n",
    "print('Wrote Rap artist file to CSV : {}'.format(rap_artist_filename))"
   ]
  },
  {
   "cell_type": "code",
   "execution_count": 22,
   "metadata": {
    "collapsed": true
   },
   "outputs": [],
   "source": [
    "text_list = rap_df['Lyrics'].tolist()\n",
    "index_list = rap_df.index.values"
   ]
  },
  {
   "cell_type": "markdown",
   "metadata": {},
   "source": [
    "# Now before we start working with the text, let's handle some of the formatting of this dataset.  Since many of the lyrics are back and forth between artists and sometimes parts of the songs are marked up, let's handle this by removing them so that they do not dominate our vocabulary.  Otherwise, we see the words 'snoop' and 'dogg' all over the topic model because he is featured in so many songs even if he is not the artist.  We'll do this with regular expressions:\n",
    "* Replace [ARTIST NAME] with blanks\n",
    "* Replace [chorus] with blanks\n",
    "* etc"
   ]
  },
  {
   "cell_type": "code",
   "execution_count": 23,
   "metadata": {},
   "outputs": [
    {
     "name": "stdout",
     "output_type": "stream",
     "text": [
      "About to clean strings...\n",
      " .  Who let them Eastside ridaz out?  . \n",
      "I am the verse  .  I am the part that repeats\n"
     ]
    }
   ],
   "source": [
    "test_clean_string_1 = '[Bigg Snoop Dogg] Who let them Eastside ridaz out? [Dogg] [ Dre ]'\n",
    "test_clean_string_2 = 'I am the verse [chorus] I am the part that repeats'\n",
    "\n",
    "print('About to clean strings...')\n",
    "\n",
    "# match brackets with up to 30 characters in between\n",
    "bracket_pattern = re.compile('\\[.{1,30}\\]')\n",
    "print(bracket_pattern.sub(' . ', test_clean_string_1))\n",
    "print(bracket_pattern.sub(' . ', test_clean_string_2))"
   ]
  },
  {
   "cell_type": "code",
   "execution_count": 24,
   "metadata": {},
   "outputs": [
    {
     "name": "stdout",
     "output_type": "stream",
     "text": [
      "Text cleaned of formatting\n",
      "Average characters removed per document : 16.184439359267735\n"
     ]
    }
   ],
   "source": [
    "# process all of sentences for this formatting\n",
    "characters_removed_list = []\n",
    "for i in range(len(text_list)):\n",
    "    original_text = text_list[i]\n",
    "    text_length_before = len(original_text)\n",
    "    clean_format_text = bracket_pattern.sub(' . ', original_text)\n",
    "    text_length_after = len(clean_format_text)\n",
    "    characters_removed = text_length_before - text_length_after\n",
    "    characters_removed_list.append(characters_removed)\n",
    "    text_list[i] = clean_format_text\n",
    "    \n",
    "print('Text cleaned of formatting')\n",
    "print('Average characters removed per document : {}'.format(np.mean(np.array(characters_removed_list))))\n",
    "\n",
    "#print(text_list[10])"
   ]
  },
  {
   "cell_type": "markdown",
   "metadata": {},
   "source": [
    "# Now we're really ready to start processing text.  First we perform tokenization which is a process of breaking a long sequence of text into tokens.  These tokens might be words, numbers, punctuation, etc.  We'll use NLTK to help us do this with its off-the-shelf tokenizer"
   ]
  },
  {
   "cell_type": "code",
   "execution_count": 25,
   "metadata": {},
   "outputs": [
    {
     "name": "stdout",
     "output_type": "stream",
     "text": [
      "Tokenization process : [0/2185]\n",
      "Tokenization process : [1000/2185]\n",
      "Tokenization process : [2000/2185]\n",
      "Total size of tokenized list : 2185\n",
      "Total size of unique tokens : 33120\n",
      "DONE reading, tokenizing and counting\n",
      "Wall time: 18.7 s\n"
     ]
    }
   ],
   "source": [
    "%%time\n",
    "\n",
    "tokenized_texts = []\n",
    "token_count_list = []\n",
    "unique_token_set = set()\n",
    "for i, text in enumerate(text_list):\n",
    "    if i % 1000 == 0:\n",
    "        print('Tokenization process : [{0}/{1}]'.format(i, len(text_list)))\n",
    "        \n",
    "    # get the index into the original text\n",
    "    index = text_list[i]\n",
    "        \n",
    "    # there are lots and lots of rows which have no lyrics at all, so let's skip them\n",
    "    if not isinstance(text, str):\n",
    "        #print('Skipping column type : {0} at index {1}'.format(type(text), index))  \n",
    "        continue\n",
    "        \n",
    "    # this is a better way to tokenize, but for the interest of time, we will tokenize with\n",
    "    # whitespace using python's split() function\n",
    "    tokens = nltk.word_tokenize(text.lower())\n",
    "    #tokens = text.lower().split()\n",
    "    tokenized_texts.append(tokens)\n",
    "    token_count_list.append(len(tokens))\n",
    "    unique_token_set |= set(tokens)\n",
    "    \n",
    "print('Total size of tokenized list : {}'.format(len(tokenized_texts)))\n",
    "print('Total size of unique tokens : {}'.format(len(unique_token_set)))\n",
    "print('DONE reading, tokenizing and counting')"
   ]
  },
  {
   "cell_type": "markdown",
   "metadata": {},
   "source": [
    "# Before we go much further, let's set up a dataframe so we can gather (and possibly inspect) statistics on our vocabulary including term frequency, term rarity using Inverse Document Frequency (IDF) and others"
   ]
  },
  {
   "cell_type": "code",
   "execution_count": 26,
   "metadata": {
    "collapsed": true
   },
   "outputs": [],
   "source": [
    "def get_term_stats_df(tokenized_texts, stop_word_set, enable_phrase_stats = False):\n",
    "    # TODO : Is this really the best way to calculate TF-IDF?  By document?  Shouldn't this be by vocabulary?\n",
    "    print('Building Dictionary...')\n",
    "    dictionary = gensim.corpora.Dictionary(tokenized_texts)\n",
    "    \n",
    "    print('Setting up Bag-of-Words for [{0}] documents...'.format(len(tokenized_texts)))\n",
    "    unfiltered_corpus = [dictionary.doc2bow(text) for text in tokenized_texts]\n",
    "\n",
    "    # now before we start using this, let's look at some term weighting with TF-IDF to see if there are some terms we can easily ignore\n",
    "    # (e.g. patient, patient, cell, cells, etc) which occur very frequently across nearly all documents\n",
    "\n",
    "    tfidf = gensim.models.TfidfModel(unfiltered_corpus, id2word=dictionary)\n",
    "    \n",
    "    print('TF-IDF model built and now setting up dataframe...')\n",
    "    global_idf_map = {}\n",
    "    term_dicts = []\n",
    "    for id in tfidf.id2word.keys():\n",
    "        word = tfidf.id2word[id]\n",
    "        global_tf = tfidf.dfs[id]\n",
    "        global_idf = tfidf.idfs[id]\n",
    "        global_tfidf = global_tf * float(global_idf)\n",
    "        global_idf_map[id] = global_tfidf\n",
    "        \n",
    "        stopword = word in stop_word_set\n",
    "        \n",
    "        any_alpha = any(c.isalpha() for c in word)\n",
    "        all_alpha = word.isalpha()\n",
    "        alpha_num = word.isalnum()\n",
    "        phrase = '_' in word\n",
    "        \n",
    "        phrase_stopword_edge = False\n",
    "        phrase_noalpha_edge = False\n",
    "        phrase_disallowed_start = False\n",
    "        if enable_phrase_stats and phrase:\n",
    "            phrase_stopword_edge = phrase_has_stopword_edge(word, stop_word_set)\n",
    "            phrase_noalpha_edge = phrase_has_no_alpha_edge(word)\n",
    "            phrase_disallowed_start =  phrase_has_disallowed_start(word)\n",
    "\n",
    "        term_dict = {'@Token' : word, 'Global TF' : global_tf, \n",
    "                     'Global TF-IDF' : global_tfidf, 'Global IDF' : global_idf,\n",
    "                    'Stopword' : stopword, 'Phrase' : phrase,\n",
    "                    'Any Alphabetic' : any_alpha, 'All Alphabetic' : all_alpha, 'All Alphanumeric' : alpha_num,\n",
    "                    #'Phrase Stopword Edge' : phrase_stopword_edge, 'Phrase No Alpha Edge' : phrase_noalpha_edge,\n",
    "                    #'Phrase Disallowed Start' : phrase_disallowed_start\n",
    "                    }\n",
    "        term_dicts.append(term_dict)\n",
    "\n",
    "    term_stats_df = pd.DataFrame(term_dicts)\n",
    "    term_stats_df = term_stats_df.sort_values('Global TF', ascending = False)\n",
    "    return term_stats_df"
   ]
  },
  {
   "cell_type": "code",
   "execution_count": 27,
   "metadata": {},
   "outputs": [
    {
     "name": "stdout",
     "output_type": "stream",
     "text": [
      "Prepping stats for completely unfiltered vocabulary...\n",
      "Building Dictionary...\n",
      "Setting up Bag-of-Words for [2185] documents...\n",
      "TF-IDF model built and now setting up dataframe...\n"
     ]
    },
    {
     "data": {
      "text/html": [
       "<div>\n",
       "<style>\n",
       "    .dataframe thead tr:only-child th {\n",
       "        text-align: right;\n",
       "    }\n",
       "\n",
       "    .dataframe thead th {\n",
       "        text-align: left;\n",
       "    }\n",
       "\n",
       "    .dataframe tbody tr th {\n",
       "        vertical-align: top;\n",
       "    }\n",
       "</style>\n",
       "<table border=\"1\" class=\"dataframe\">\n",
       "  <thead>\n",
       "    <tr style=\"text-align: right;\">\n",
       "      <th></th>\n",
       "      <th>@Token</th>\n",
       "      <th>All Alphabetic</th>\n",
       "      <th>All Alphanumeric</th>\n",
       "      <th>Any Alphabetic</th>\n",
       "      <th>Global IDF</th>\n",
       "      <th>Global TF</th>\n",
       "      <th>Global TF-IDF</th>\n",
       "      <th>Phrase</th>\n",
       "      <th>Stopword</th>\n",
       "    </tr>\n",
       "  </thead>\n",
       "  <tbody>\n",
       "    <tr>\n",
       "      <th>9</th>\n",
       "      <td>.</td>\n",
       "      <td>False</td>\n",
       "      <td>False</td>\n",
       "      <td>False</td>\n",
       "      <td>0.000660</td>\n",
       "      <td>2184</td>\n",
       "      <td>1.442365</td>\n",
       "      <td>False</td>\n",
       "      <td>False</td>\n",
       "    </tr>\n",
       "    <tr>\n",
       "      <th>237</th>\n",
       "      <td>the</td>\n",
       "      <td>True</td>\n",
       "      <td>True</td>\n",
       "      <td>True</td>\n",
       "      <td>0.012600</td>\n",
       "      <td>2166</td>\n",
       "      <td>27.291680</td>\n",
       "      <td>False</td>\n",
       "      <td>True</td>\n",
       "    </tr>\n",
       "    <tr>\n",
       "      <th>124</th>\n",
       "      <td>i</td>\n",
       "      <td>True</td>\n",
       "      <td>True</td>\n",
       "      <td>True</td>\n",
       "      <td>0.019945</td>\n",
       "      <td>2155</td>\n",
       "      <td>42.982359</td>\n",
       "      <td>False</td>\n",
       "      <td>True</td>\n",
       "    </tr>\n",
       "    <tr>\n",
       "      <th>240</th>\n",
       "      <td>to</td>\n",
       "      <td>True</td>\n",
       "      <td>True</td>\n",
       "      <td>True</td>\n",
       "      <td>0.021955</td>\n",
       "      <td>2152</td>\n",
       "      <td>47.247594</td>\n",
       "      <td>False</td>\n",
       "      <td>True</td>\n",
       "    </tr>\n",
       "    <tr>\n",
       "      <th>28</th>\n",
       "      <td>and</td>\n",
       "      <td>True</td>\n",
       "      <td>True</td>\n",
       "      <td>True</td>\n",
       "      <td>0.028001</td>\n",
       "      <td>2143</td>\n",
       "      <td>60.007064</td>\n",
       "      <td>False</td>\n",
       "      <td>True</td>\n",
       "    </tr>\n",
       "  </tbody>\n",
       "</table>\n",
       "</div>"
      ],
      "text/plain": [
       "    @Token  All Alphabetic  All Alphanumeric  Any Alphabetic  Global IDF  \\\n",
       "9        .           False             False           False    0.000660   \n",
       "237    the            True              True            True    0.012600   \n",
       "124      i            True              True            True    0.019945   \n",
       "240     to            True              True            True    0.021955   \n",
       "28     and            True              True            True    0.028001   \n",
       "\n",
       "     Global TF  Global TF-IDF  Phrase  Stopword  \n",
       "9         2184       1.442365   False     False  \n",
       "237       2166      27.291680   False      True  \n",
       "124       2155      42.982359   False      True  \n",
       "240       2152      47.247594   False      True  \n",
       "28        2143      60.007064   False      True  "
      ]
     },
     "metadata": {},
     "output_type": "display_data"
    },
    {
     "name": "stdout",
     "output_type": "stream",
     "text": [
      "Wall time: 2.1 s\n"
     ]
    }
   ],
   "source": [
    "%%time\n",
    "\n",
    "print('Prepping stats for completely unfiltered vocabulary...')\n",
    "unfiltered_term_stats_df = get_term_stats_df(tokenized_texts, stop_word_set)\n",
    "\n",
    "display(unfiltered_term_stats_df.head(5))"
   ]
  },
  {
   "cell_type": "code",
   "execution_count": 28,
   "metadata": {},
   "outputs": [
    {
     "name": "stdout",
     "output_type": "stream",
     "text": [
      "Writing Term Stats CSV to : unfiltered_term_stats_07_04.csv\n",
      "DONE Writing Term Stats CSV to : unfiltered_term_stats_07_04.csv\n"
     ]
    }
   ],
   "source": [
    "unfiltered_term_stats_filename = 'unfiltered_term_stats_{0}.csv'.format(datetime.datetime.now().strftime(\"%m_%d\"))\n",
    "print('Writing Term Stats CSV to : {}'.format(unfiltered_term_stats_filename))\n",
    "\n",
    "unfiltered_term_stats_df.to_csv(unfiltered_term_stats_filename)\n",
    "\n",
    "print('DONE Writing Term Stats CSV to : {}'.format(unfiltered_term_stats_filename))"
   ]
  },
  {
   "cell_type": "markdown",
   "metadata": {
    "collapsed": true
   },
   "source": [
    "# At this point let's set up what I call the \"preprocessing control panel\":\n",
    "### We don't to process all tokens in this dataset.  For example, punctuation will not help our understanding of lyric content.  Short words like 'ah' and 'ya' may not be helpful either.  We might also want to remove verbs, conjunctions and all parts of speech which are not nouns."
   ]
  },
  {
   "cell_type": "code",
   "execution_count": 30,
   "metadata": {
    "collapsed": true
   },
   "outputs": [],
   "source": [
    "class Token:\n",
    "    def __init__(self, token, pos):\n",
    "        self.token = token\n",
    "        self.pos = pos\n",
    "        \n",
    "    def __repr__(self):\n",
    "        return '{0}/{1}'.format(self.token, self.pos)"
   ]
  },
  {
   "cell_type": "markdown",
   "metadata": {
    "collapsed": true
   },
   "source": [
    "# Here are all the \"controls\" for the preprocessing control panel"
   ]
  },
  {
   "cell_type": "code",
   "execution_count": 32,
   "metadata": {
    "collapsed": true
   },
   "outputs": [],
   "source": [
    "CULL_ARTIST_NAMES = True\n",
    "\n",
    "MIN_TERM_FREQUENCY = 5\n",
    "MIN_TOKEN_LENGTH = 4\n",
    "CULL_STOP_WORDS = True\n",
    "CULL_BY_MIN_FREQUENCY = True\n",
    "CULL_NON_ALPHA = True\n",
    "CULL_TOKENS_WITH_NO_ALPHA = True\n",
    "CULL_SHORT_TOKENS = True\n",
    "CULL_SLANG_IN_VERBS = True\n",
    "CULL_PHRASES_WITH_STOPWORD_EDGE = False\n",
    "CULL_PHRASE_NO_ALPHA_EDGE = False\n",
    "CULL_PHRASE_DISALLOWED_START = False\n",
    "CULL_NON_NOUNS = True\n",
    "FILTER_DICTIONARY_BY_GLOBAL_IDF = True\n",
    "\n",
    "# NOTE : The lower this is set, the more common words are allowed in the model.  The higher this is set, the more these common words are filtered out\n",
    "MIN_GLOBAL_IDF_VALUE = 4.0"
   ]
  },
  {
   "cell_type": "code",
   "execution_count": 158,
   "metadata": {},
   "outputs": [
    {
     "name": "stdout",
     "output_type": "stream",
     "text": [
      "[his/PRP$, realm/-None-, is/VBZ, a/DT, new/JJ, horizon/NNP, of/IN, cuts/NNS, ./., they/PRP, expand/VB, from/IN, his/PRP$, hand/NN, as/IN, he/PRP, conducts/NNS, ./., aim/VB, a/DT, lot/NN, of/IN, cool/JJ, projects/NNS, not/RB, photography/NN, ./., cut-creator/NN, ,/,, philly-phil/-None-, 's/POS, biography/NN, ./., ./., the/DT, lyrical/JJ, virtual/JJ, also/RB, makes/VBZ, his/PRP$, return/NN, ./., all/DT, adversaries/NNS, should/MD, be/VB, concerned/VBN, ./., ll/-None-, cool/JJ]\n"
     ]
    }
   ],
   "source": [
    "# but for now we'll use the original text verbatim\n",
    "filtered_tokenized_texts = tokenized_texts\n",
    "\n",
    "print(filtered_tokenized_texts[0][:50])"
   ]
  },
  {
   "cell_type": "code",
   "execution_count": 159,
   "metadata": {},
   "outputs": [
    {
     "name": "stdout",
     "output_type": "stream",
     "text": [
      "Adding [23] artist names to STOP WORD LIST...\n",
      "Total updates stopword set size : 240\n"
     ]
    }
   ],
   "source": [
    "if CULL_ARTIST_NAMES:\n",
    "    all_artist_name_set = set(rap_df['Band'].tolist())\n",
    "    print('Adding [{}] artist names to STOP WORD LIST...'.format(len(all_artist_name_set)))\n",
    "    for artist_name in all_artist_name_set:\n",
    "        artist_tokens = artist_name.split()\n",
    "        for artist_token in artist_tokens:\n",
    "            stop_word_set.add(artist_token.lower())\n",
    "            \n",
    "            \n",
    "    # let's also add some other variants of artist names that may be different from the names in this set\n",
    "    stop_word_set.add('pac')\n",
    "    stop_word_set.add('2-pac')\n",
    "    stop_word_set.add('2pac')\n",
    "    stop_word_set.add('biggie')\n",
    "    stop_word_set.add('smalls')\n",
    "    stop_word_set.add('smallz')\n",
    "    stop_word_set.add('dogg')\n",
    "    stop_word_set.add('doggy')\n",
    "    stop_word_set.add('bone')\n",
    "    stop_word_set.add('tang')\n",
    "    \n",
    "    print('Total updates stopword set size : {}'.format(len(stop_word_set)))"
   ]
  },
  {
   "cell_type": "code",
   "execution_count": 160,
   "metadata": {},
   "outputs": [
    {
     "name": "stdout",
     "output_type": "stream",
     "text": [
      "Preparing Token and POS information for later culling...\n"
     ]
    },
    {
     "ename": "TypeError",
     "evalue": "object of type 'Token' has no len()",
     "output_type": "error",
     "traceback": [
      "\u001b[1;31m---------------------------------------------------------------------------\u001b[0m",
      "\u001b[1;31mTypeError\u001b[0m                                 Traceback (most recent call last)",
      "\u001b[1;32m<ipython-input-160-878246a83a61>\u001b[0m in \u001b[0;36m<module>\u001b[1;34m()\u001b[0m\n\u001b[0;32m      4\u001b[0m     \u001b[1;32mfor\u001b[0m \u001b[0mi\u001b[0m \u001b[1;32min\u001b[0m \u001b[0mrange\u001b[0m\u001b[1;33m(\u001b[0m\u001b[0mlen\u001b[0m\u001b[1;33m(\u001b[0m\u001b[0mfiltered_tokenized_texts\u001b[0m\u001b[1;33m)\u001b[0m\u001b[1;33m)\u001b[0m\u001b[1;33m:\u001b[0m\u001b[1;33m\u001b[0m\u001b[0m\n\u001b[0;32m      5\u001b[0m         \u001b[0mdocument_tokens\u001b[0m \u001b[1;33m=\u001b[0m \u001b[0mfiltered_tokenized_texts\u001b[0m\u001b[1;33m[\u001b[0m\u001b[0mi\u001b[0m\u001b[1;33m]\u001b[0m\u001b[1;33m\u001b[0m\u001b[0m\n\u001b[1;32m----> 6\u001b[1;33m         \u001b[0mtoken_objects\u001b[0m \u001b[1;33m=\u001b[0m \u001b[1;33m[\u001b[0m\u001b[0mToken\u001b[0m\u001b[1;33m(\u001b[0m\u001b[0mpos\u001b[0m\u001b[1;33m[\u001b[0m\u001b[1;36m0\u001b[0m\u001b[1;33m]\u001b[0m\u001b[1;33m,\u001b[0m \u001b[0mpos\u001b[0m\u001b[1;33m[\u001b[0m\u001b[1;36m1\u001b[0m\u001b[1;33m]\u001b[0m\u001b[1;33m)\u001b[0m \u001b[1;32mfor\u001b[0m \u001b[0mpos\u001b[0m \u001b[1;32min\u001b[0m \u001b[0mbrill_tagger\u001b[0m\u001b[1;33m.\u001b[0m\u001b[0mtag\u001b[0m\u001b[1;33m(\u001b[0m\u001b[0mdocument_tokens\u001b[0m\u001b[1;33m)\u001b[0m\u001b[1;33m]\u001b[0m\u001b[1;33m\u001b[0m\u001b[0m\n\u001b[0m\u001b[0;32m      7\u001b[0m         \u001b[0mfiltered_tokenized_texts\u001b[0m\u001b[1;33m[\u001b[0m\u001b[0mi\u001b[0m\u001b[1;33m]\u001b[0m \u001b[1;33m=\u001b[0m \u001b[0mtoken_objects\u001b[0m\u001b[1;33m\u001b[0m\u001b[0m\n\u001b[0;32m      8\u001b[0m \u001b[1;33m\u001b[0m\u001b[0m\n",
      "\u001b[1;32mc:\\anaconda3\\lib\\site-packages\\nltk\\tag\\brill.py\u001b[0m in \u001b[0;36mtag\u001b[1;34m(self, tokens)\u001b[0m\n\u001b[0;32m    261\u001b[0m \u001b[1;33m\u001b[0m\u001b[0m\n\u001b[0;32m    262\u001b[0m         \u001b[1;31m# Run the initial tagger.\u001b[0m\u001b[1;33m\u001b[0m\u001b[1;33m\u001b[0m\u001b[0m\n\u001b[1;32m--> 263\u001b[1;33m         \u001b[0mtagged_tokens\u001b[0m \u001b[1;33m=\u001b[0m \u001b[0mself\u001b[0m\u001b[1;33m.\u001b[0m\u001b[0m_initial_tagger\u001b[0m\u001b[1;33m.\u001b[0m\u001b[0mtag\u001b[0m\u001b[1;33m(\u001b[0m\u001b[0mtokens\u001b[0m\u001b[1;33m)\u001b[0m\u001b[1;33m\u001b[0m\u001b[0m\n\u001b[0m\u001b[0;32m    264\u001b[0m \u001b[1;33m\u001b[0m\u001b[0m\n\u001b[0;32m    265\u001b[0m         \u001b[1;31m# Create a dictionary that maps each tag to a list of the\u001b[0m\u001b[1;33m\u001b[0m\u001b[1;33m\u001b[0m\u001b[0m\n",
      "\u001b[1;32mc:\\anaconda3\\lib\\site-packages\\nltk\\tag\\sequential.py\u001b[0m in \u001b[0;36mtag\u001b[1;34m(self, tokens)\u001b[0m\n\u001b[0;32m     61\u001b[0m         \u001b[0mtags\u001b[0m \u001b[1;33m=\u001b[0m \u001b[1;33m[\u001b[0m\u001b[1;33m]\u001b[0m\u001b[1;33m\u001b[0m\u001b[0m\n\u001b[0;32m     62\u001b[0m         \u001b[1;32mfor\u001b[0m \u001b[0mi\u001b[0m \u001b[1;32min\u001b[0m \u001b[0mrange\u001b[0m\u001b[1;33m(\u001b[0m\u001b[0mlen\u001b[0m\u001b[1;33m(\u001b[0m\u001b[0mtokens\u001b[0m\u001b[1;33m)\u001b[0m\u001b[1;33m)\u001b[0m\u001b[1;33m:\u001b[0m\u001b[1;33m\u001b[0m\u001b[0m\n\u001b[1;32m---> 63\u001b[1;33m             \u001b[0mtags\u001b[0m\u001b[1;33m.\u001b[0m\u001b[0mappend\u001b[0m\u001b[1;33m(\u001b[0m\u001b[0mself\u001b[0m\u001b[1;33m.\u001b[0m\u001b[0mtag_one\u001b[0m\u001b[1;33m(\u001b[0m\u001b[0mtokens\u001b[0m\u001b[1;33m,\u001b[0m \u001b[0mi\u001b[0m\u001b[1;33m,\u001b[0m \u001b[0mtags\u001b[0m\u001b[1;33m)\u001b[0m\u001b[1;33m)\u001b[0m\u001b[1;33m\u001b[0m\u001b[0m\n\u001b[0m\u001b[0;32m     64\u001b[0m         \u001b[1;32mreturn\u001b[0m \u001b[0mlist\u001b[0m\u001b[1;33m(\u001b[0m\u001b[0mzip\u001b[0m\u001b[1;33m(\u001b[0m\u001b[0mtokens\u001b[0m\u001b[1;33m,\u001b[0m \u001b[0mtags\u001b[0m\u001b[1;33m)\u001b[0m\u001b[1;33m)\u001b[0m\u001b[1;33m\u001b[0m\u001b[0m\n\u001b[0;32m     65\u001b[0m \u001b[1;33m\u001b[0m\u001b[0m\n",
      "\u001b[1;32mc:\\anaconda3\\lib\\site-packages\\nltk\\tag\\sequential.py\u001b[0m in \u001b[0;36mtag_one\u001b[1;34m(self, tokens, index, history)\u001b[0m\n\u001b[0;32m     81\u001b[0m         \u001b[0mtag\u001b[0m \u001b[1;33m=\u001b[0m \u001b[1;32mNone\u001b[0m\u001b[1;33m\u001b[0m\u001b[0m\n\u001b[0;32m     82\u001b[0m         \u001b[1;32mfor\u001b[0m \u001b[0mtagger\u001b[0m \u001b[1;32min\u001b[0m \u001b[0mself\u001b[0m\u001b[1;33m.\u001b[0m\u001b[0m_taggers\u001b[0m\u001b[1;33m:\u001b[0m\u001b[1;33m\u001b[0m\u001b[0m\n\u001b[1;32m---> 83\u001b[1;33m             \u001b[0mtag\u001b[0m \u001b[1;33m=\u001b[0m \u001b[0mtagger\u001b[0m\u001b[1;33m.\u001b[0m\u001b[0mchoose_tag\u001b[0m\u001b[1;33m(\u001b[0m\u001b[0mtokens\u001b[0m\u001b[1;33m,\u001b[0m \u001b[0mindex\u001b[0m\u001b[1;33m,\u001b[0m \u001b[0mhistory\u001b[0m\u001b[1;33m)\u001b[0m\u001b[1;33m\u001b[0m\u001b[0m\n\u001b[0m\u001b[0;32m     84\u001b[0m             \u001b[1;32mif\u001b[0m \u001b[0mtag\u001b[0m \u001b[1;32mis\u001b[0m \u001b[1;32mnot\u001b[0m \u001b[1;32mNone\u001b[0m\u001b[1;33m:\u001b[0m\u001b[1;33m\u001b[0m\u001b[0m\n\u001b[0;32m     85\u001b[0m                 \u001b[1;32mbreak\u001b[0m\u001b[1;33m\u001b[0m\u001b[0m\n",
      "\u001b[1;32mc:\\anaconda3\\lib\\site-packages\\nltk\\tag\\sequential.py\u001b[0m in \u001b[0;36mchoose_tag\u001b[1;34m(self, tokens, index, history)\u001b[0m\n\u001b[0;32m    139\u001b[0m \u001b[1;33m\u001b[0m\u001b[0m\n\u001b[0;32m    140\u001b[0m     \u001b[1;32mdef\u001b[0m \u001b[0mchoose_tag\u001b[0m\u001b[1;33m(\u001b[0m\u001b[0mself\u001b[0m\u001b[1;33m,\u001b[0m \u001b[0mtokens\u001b[0m\u001b[1;33m,\u001b[0m \u001b[0mindex\u001b[0m\u001b[1;33m,\u001b[0m \u001b[0mhistory\u001b[0m\u001b[1;33m)\u001b[0m\u001b[1;33m:\u001b[0m\u001b[1;33m\u001b[0m\u001b[0m\n\u001b[1;32m--> 141\u001b[1;33m         \u001b[0mcontext\u001b[0m \u001b[1;33m=\u001b[0m \u001b[0mself\u001b[0m\u001b[1;33m.\u001b[0m\u001b[0mcontext\u001b[0m\u001b[1;33m(\u001b[0m\u001b[0mtokens\u001b[0m\u001b[1;33m,\u001b[0m \u001b[0mindex\u001b[0m\u001b[1;33m,\u001b[0m \u001b[0mhistory\u001b[0m\u001b[1;33m)\u001b[0m\u001b[1;33m\u001b[0m\u001b[0m\n\u001b[0m\u001b[0;32m    142\u001b[0m         \u001b[1;32mreturn\u001b[0m \u001b[0mself\u001b[0m\u001b[1;33m.\u001b[0m\u001b[0m_context_to_tag\u001b[0m\u001b[1;33m.\u001b[0m\u001b[0mget\u001b[0m\u001b[1;33m(\u001b[0m\u001b[0mcontext\u001b[0m\u001b[1;33m)\u001b[0m\u001b[1;33m\u001b[0m\u001b[0m\n\u001b[0;32m    143\u001b[0m \u001b[1;33m\u001b[0m\u001b[0m\n",
      "\u001b[1;32mc:\\anaconda3\\lib\\site-packages\\nltk\\tag\\sequential.py\u001b[0m in \u001b[0;36mcontext\u001b[1;34m(self, tokens, index, history)\u001b[0m\n\u001b[0;32m    477\u001b[0m     \u001b[1;32mdef\u001b[0m \u001b[0mcontext\u001b[0m\u001b[1;33m(\u001b[0m\u001b[0mself\u001b[0m\u001b[1;33m,\u001b[0m \u001b[0mtokens\u001b[0m\u001b[1;33m,\u001b[0m \u001b[0mindex\u001b[0m\u001b[1;33m,\u001b[0m \u001b[0mhistory\u001b[0m\u001b[1;33m)\u001b[0m\u001b[1;33m:\u001b[0m\u001b[1;33m\u001b[0m\u001b[0m\n\u001b[0;32m    478\u001b[0m         \u001b[0mtoken\u001b[0m \u001b[1;33m=\u001b[0m \u001b[0mtokens\u001b[0m\u001b[1;33m[\u001b[0m\u001b[0mindex\u001b[0m\u001b[1;33m]\u001b[0m\u001b[1;33m\u001b[0m\u001b[0m\n\u001b[1;32m--> 479\u001b[1;33m         \u001b[1;32mif\u001b[0m \u001b[0mlen\u001b[0m\u001b[1;33m(\u001b[0m\u001b[0mtoken\u001b[0m\u001b[1;33m)\u001b[0m \u001b[1;33m<\u001b[0m \u001b[0mself\u001b[0m\u001b[1;33m.\u001b[0m\u001b[0m_min_word_length\u001b[0m\u001b[1;33m:\u001b[0m\u001b[1;33m\u001b[0m\u001b[0m\n\u001b[0m\u001b[0;32m    480\u001b[0m             \u001b[1;32mreturn\u001b[0m \u001b[1;32mNone\u001b[0m\u001b[1;33m\u001b[0m\u001b[0m\n\u001b[0;32m    481\u001b[0m         \u001b[1;32melif\u001b[0m \u001b[0mself\u001b[0m\u001b[1;33m.\u001b[0m\u001b[0m_affix_length\u001b[0m \u001b[1;33m>\u001b[0m \u001b[1;36m0\u001b[0m\u001b[1;33m:\u001b[0m\u001b[1;33m\u001b[0m\u001b[0m\n",
      "\u001b[1;31mTypeError\u001b[0m: object of type 'Token' has no len()"
     ]
    }
   ],
   "source": [
    "# convert everything into this class even if we do not do POS tagging\n",
    "if CULL_NON_NOUNS:\n",
    "    print('Preparing Token and POS information for later culling...')\n",
    "    for i in range(len(filtered_tokenized_texts)):\n",
    "        document_tokens = filtered_tokenized_texts[i]\n",
    "        token_objects = [Token(pos[0], pos[1]) for pos in brill_tagger.tag(document_tokens)]\n",
    "        filtered_tokenized_texts[i] = token_objects\n",
    "        \n",
    "        #print(document_tokens)\n",
    "        #break\n",
    "    \n",
    "    print('DONE with part of speech tagging')\n",
    "    \n",
    "else:\n",
    "    print('Preparing Token information even without culling later')\n",
    "    for i in range(len(filtered_tokenized_texts)):\n",
    "        document_tokens = filtered_tokenized_texts[i]\n",
    "        token_objects = [Token(token, '') for token in document_tokens if len(token) > 0]\n",
    "        # store this back in \n",
    "        filtered_tokenized_texts[i] = token_objects\n",
    "    \n",
    "print('Lets make sure that our part of speech tagging works...')\n",
    "print(filtered_tokenized_texts[0][:49])"
   ]
  },
  {
   "cell_type": "markdown",
   "metadata": {},
   "source": [
    "# In the cell below is where most preprocessing occurs so we start with the object \"filtered_tokenized_texts\" and by the end, many of its contents have been removed"
   ]
  },
  {
   "cell_type": "code",
   "execution_count": 36,
   "metadata": {},
   "outputs": [
    {
     "name": "stdout",
     "output_type": "stream",
     "text": [
      "Culling by min frequency...\n",
      "Culling stopwords...\n",
      "Culling all non-alpha tokens...\n",
      "Culling terms ending with 'in...\n",
      "Demo document tokens:\n",
      "['cuts', 'hand', 'projects', 'return', 'adversaries', 'friend', 'till', 'missions', 'collision', 'like', 'head', 'decision', 'eggs', 'lyrics', 'subject', 'matter', 'sucker', 'scatter', 'techniques', 'absorb', 'cuts', 'name', 'boys', 'could', 'brains', 'change', 'tree', 'yeah', 'scenario', 'stereo', 'zero', 'rappers', 'evade', 'invade', 'compliment', 'groups', 'talent', 'mine', 'harmony', 'cuts', 'rhyme', 'deaf', 'bass', 'every', 'sucker', 'place', 'phrase', 'record', 'scratch', 'except']\n",
      "Wall time: 2.72 s\n"
     ]
    }
   ],
   "source": [
    "%%time\n",
    "\n",
    "# Finally, prepare to remove words below a frequency threshold\n",
    "frequency = defaultdict(int)\n",
    "for text in filtered_tokenized_texts:\n",
    "    for token in text:\n",
    "        frequency[token.token] += 1\n",
    "\n",
    "if CULL_BY_MIN_FREQUENCY:\n",
    "    print('Culling by min frequency...')\n",
    "    # CULL by frequency\n",
    "    filtered_tokenized_texts = [[token for token in text if frequency[token.token] > MIN_TERM_FREQUENCY]\n",
    "             for text in filtered_tokenized_texts]\n",
    "        \n",
    "if CULL_STOP_WORDS:\n",
    "    print('Culling stopwords...')\n",
    "    # then CULL by alpha\n",
    "    filtered_tokenized_texts = [[token for token in text if token.token not in stop_word_set]\n",
    "             for text in filtered_tokenized_texts]\n",
    "    \n",
    "if CULL_NON_NOUNS:\n",
    "    # keep this for any noun or any phrase ('_') since phrases may not be properly labeled for part of speech\n",
    "    filtered_tokenized_texts = [[token for token in text if ('_' in token.token or get_wordnet_pos(token.pos) == nltk.corpus.wordnet.NOUN)]\n",
    "             for text in filtered_tokenized_texts]\n",
    "    \n",
    "if CULL_PHRASES_WITH_STOPWORD_EDGE:\n",
    "    print('Culling phrases with a stopword on their EDGE')\n",
    "    filtered_tokenized_texts = [[token for token in text if not phrase_has_stopword_edge(token.token, stop_word_set)]\n",
    "             for text in filtered_tokenized_texts]\n",
    "    \n",
    "if CULL_PHRASE_NO_ALPHA_EDGE:\n",
    "    print('Culling phrases with a NO ALPHA term on their EDGE')\n",
    "    filtered_tokenized_texts = [[token for token in text if not phrase_has_no_alpha_edge(token.token)]\n",
    "             for text in filtered_tokenized_texts]\n",
    "    \n",
    "if CULL_PHRASE_DISALLOWED_START:\n",
    "    print('Culling phrases starting with a DISALLOWED term (e.g. \"p\", \"n\")')\n",
    "    filtered_tokenized_texts = [[token for token in text if not phrase_has_disallowed_start(token.token)]\n",
    "             for text in filtered_tokenized_texts]\n",
    "    \n",
    "# NOTE that this culling only culls tokens which have NO alpha tokens at all\n",
    "# which is very different that the processing below\n",
    "# this will enable this:\n",
    "# 'TP53' whereas the method below would cull it\n",
    "if CULL_TOKENS_WITH_NO_ALPHA:\n",
    "    filtered_tokenized_texts = [[token for token in text if any(c.isalpha() for c in token.token)]\n",
    "             for text in filtered_tokenized_texts]\n",
    "\n",
    "if CULL_NON_ALPHA:\n",
    "    print('Culling all non-alpha tokens...')\n",
    "    # then CULL by alpha\n",
    "    filtered_tokenized_texts = [[token for token in text if token.token.isalpha()]\n",
    "             for text in filtered_tokenized_texts]\n",
    "    \n",
    "if CULL_SHORT_TOKENS:\n",
    "    filtered_tokenized_texts = [[token for token in text if len(token.token) >= MIN_TOKEN_LENGTH]\n",
    "             for text in filtered_tokenized_texts]\n",
    "    \n",
    "if CULL_SLANG_IN_VERBS:\n",
    "    print('Culling terms ending with \\'in...')\n",
    "    filtered_tokenized_texts = [[token for token in text if not token.token.endswith('in')]\n",
    "             for text in filtered_tokenized_texts]\n",
    "    \n",
    "# finally convert back from the object into simple token strings\n",
    "filtered_tokenized_texts = [[token.token for token in text] for text in filtered_tokenized_texts]\n",
    "\n",
    "DEMO_WORDS_TO_PRINT = 50\n",
    "\n",
    "print('Demo document tokens:')\n",
    "print(filtered_tokenized_texts[0][:DEMO_WORDS_TO_PRINT])"
   ]
  },
  {
   "cell_type": "markdown",
   "metadata": {},
   "source": [
    "# Set up our initial dictionary"
   ]
  },
  {
   "cell_type": "code",
   "execution_count": 37,
   "metadata": {},
   "outputs": [
    {
     "name": "stdout",
     "output_type": "stream",
     "text": [
      "Total dictionary size : [4342]\n"
     ]
    }
   ],
   "source": [
    "dictionary = gensim.corpora.Dictionary(filtered_tokenized_texts)\n",
    "print('Total dictionary size : [{}]'.format(len(dictionary.keys())))"
   ]
  },
  {
   "cell_type": "markdown",
   "metadata": {},
   "source": [
    "# But before we go on, let's see if we should filter our vocabulary of very common terms (IDF)"
   ]
  },
  {
   "cell_type": "code",
   "execution_count": 38,
   "metadata": {
    "collapsed": true
   },
   "outputs": [],
   "source": [
    "def filter_dictionary_by_global_idf(corpus, tokenized_texts, tfidf_model, dictionary, min_global_idf_value, \n",
    "                                    print_low_value_words = True):\n",
    "    low_value_words = set()\n",
    "    low_value_ids = set()\n",
    "    for id in tfidf.id2word.keys():\n",
    "        word = tfidf.id2word[id]\n",
    "        global_tf = tfidf.dfs[id]\n",
    "        global_idf = tfidf.idfs[id]\n",
    "        if global_idf < min_global_idf_value:\n",
    "            low_value_words.add(word)\n",
    "            low_value_ids.add(id)\n",
    "            \n",
    "    print('Total number of words removed : [{}]'.format(len(low_value_words)))\n",
    "\n",
    "    if print_low_value_words:\n",
    "        print('Here are all the words we will remove from our dictionary by global IDF')\n",
    "        print(sorted(list(low_value_words)))\n",
    "        \n",
    "        low_value_word_percent = len(low_value_words) / float(len(dictionary))\n",
    "\n",
    "        print('Total low value words : {0}'.format(len(low_value_words)))\n",
    "        print('Total low value Total Vocab percent : {0}'.format(low_value_word_percent))\n",
    "        \n",
    "    # now we can filter\n",
    "    dictionary.filter_tokens(bad_ids=low_value_ids)"
   ]
  },
  {
   "cell_type": "code",
   "execution_count": 39,
   "metadata": {
    "collapsed": true
   },
   "outputs": [],
   "source": [
    "# NOTE : This class was taken from an example here:\n",
    "# https://github.com/RaRe-Technologies/gensim/blob/develop/docs/notebooks/dtm_example.ipynb\n",
    "\n",
    "class Corpus(gensim.corpora.textcorpus.TextCorpus):\n",
    "\n",
    "    def get_texts(self):\n",
    "        # let's also make sure that all empty documents (no tokens) are not included \n",
    "        # NOTE : The DIM model (model = 'fixed') breaks if there are any documents with no tokens\n",
    "        # also, apparently the logic for checking this is any(not text), so let's try that\n",
    "        #print('Calling a version of get_texts() that should not allow empty/None lists...')\n",
    "        return [x for x in self.input]\n",
    "\n",
    "    def __len__(self):\n",
    "        return len(self.input)"
   ]
  },
  {
   "cell_type": "markdown",
   "metadata": {},
   "source": [
    "# Now we filter by IDF (rarity of terms)"
   ]
  },
  {
   "cell_type": "code",
   "execution_count": 40,
   "metadata": {
    "scrolled": false
   },
   "outputs": [
    {
     "name": "stdout",
     "output_type": "stream",
     "text": [
      "Corpus length : 2185\n",
      "Total dictionary size BEFORE TF-IDF filtering : [4342]\n",
      "Total number of words removed : [257]\n",
      "Here are all the words we will remove from our dictionary by global IDF\n",
      "['another', 'around', 'away', 'baby', 'back', 'ball', 'bang', 'beach', 'behind', 'bitch', 'bitches', 'black', 'blast', 'block', 'blood', 'blow', 'body', 'bomb', 'boss', 'bout', 'boys', 'brothers', 'bust', 'call', 'care', 'case', 'cash', 'catch', 'cause', 'change', 'chest', 'chill', 'city', 'close', 'clothes', 'club', 'cold', 'control', 'cops', 'corner', 'could', 'crack', 'crazy', 'daddy', 'dance', 'days', 'deal', 'death', 'dick', 'dollar', 'door', 'dope', 'dough', 'dream', 'drink', 'drop', 'enough', 'every', 'everybody', 'everything', 'eyes', 'face', 'fact', 'fall', 'family', 'fast', 'feet', 'fight', 'fire', 'five', 'flip', 'floor', 'flow', 'fool', 'fools', 'forever', 'four', 'friend', 'friends', 'front', 'fuck', 'funk', 'game', 'gang', 'gangsta', 'ghetto', 'girl', 'girls', 'glock', 'gold', 'grab', 'grip', 'guess', 'guns', 'hair', 'half', 'hand', 'hands', 'hate', 'head', 'heart', 'hell', 'help', 'high', 'home', 'homie', 'homies', 'hope', 'house', 'inside', 'jack', 'kick', 'kids', 'kinda', 'ladies', 'life', 'light', 'lights', 'like', 'line', 'living', 'long', 'look', 'lord', 'mama', 'matter', 'might', 'million', 'mind', 'mine', 'momma', 'money', 'mother', 'motherfucker', 'motherfuckers', 'mouth', 'move', 'murder', 'music', 'must', 'name', 'need', 'next', 'nigga', 'niggas', 'niggaz', 'night', 'nine', 'nobody', 'none', 'nothing', 'number', 'open', 'outta', 'pack', 'paper', 'part', 'party', 'past', 'peace', 'people', 'phone', 'picture', 'piece', 'place', 'plan', 'play', 'player', 'plus', 'point', 'police', 'pound', 'punk', 'push', 'pussy', 'reason', 'record', 'remember', 'respect', 'rest', 'rhyme', 'ride', 'right', 'rock', 'rocks', 'roll', 'room', 'school', 'shine', 'shot', 'shots', 'show', 'sick', 'side', 'since', 'sleep', 'smoke', 'somebody', 'something', 'song', 'soon', 'sound', 'spit', 'spot', 'stack', 'stand', 'star', 'start', 'state', 'step', 'still', 'straight', 'street', 'streets', 'style', 'sure', 'talk', 'team', 'test', 'thang', 'thing', 'things', 'though', 'thought', 'three', 'throw', 'thug', 'till', 'time', 'times', 'together', 'tonight', 'touch', 'town', 'track', 'trick', 'trip', 'trust', 'truth', 'turn', 'type', 'wake', 'watch', 'west', 'white', 'wild', 'wish', 'without', 'wonder', 'word', 'words', 'work', 'world', 'would', 'yeah', 'year', 'years']\n",
      "Total low value words : 257\n",
      "Total low value Total Vocab percent : 0.059189313680331646\n",
      "Dictionary(4085 unique tokens: ['absorb', 'adversaries', 'bars', 'bass', 'blade']...)\n",
      "Dictionary(4342 unique tokens: ['absorb', 'adversaries', 'bars', 'bass', 'blade']...)\n",
      "Total dictionary size AFTER TF-IDF filtering : [4085]\n"
     ]
    }
   ],
   "source": [
    "corpus = Corpus(filtered_tokenized_texts)\n",
    "\n",
    "# this is a corpus which has not yet been pruned so we can do meaningful TF-IDF calculations with it\n",
    "# NOTE that we call \"token.token\" since it is of class token and we want the string for the actual token\n",
    "unfiltered_corpus = [dictionary.doc2bow([token.token for token in tokens]) for tokens in tokenized_texts]\n",
    "\n",
    "tfidf = gensim.models.TfidfModel(unfiltered_corpus, id2word=dictionary)\n",
    "\n",
    "print('Corpus length : {}'.format(len(corpus)))\n",
    "\n",
    "if FILTER_DICTIONARY_BY_GLOBAL_IDF:\n",
    "    print('Total dictionary size BEFORE TF-IDF filtering : [{}]'.format(len(dictionary.keys())))\n",
    "    \n",
    "    filter_dictionary_by_global_idf(unfiltered_corpus, filtered_tokenized_texts, tfidf, dictionary, MIN_GLOBAL_IDF_VALUE)\n",
    "    print(dictionary)\n",
    "    print(corpus.dictionary)\n",
    "    # re-point the new dictionary for the corpus\n",
    "    corpus.dictionary = dictionary\n",
    "    \n",
    "    print('Total dictionary size AFTER TF-IDF filtering : [{}]'.format(len(corpus.dictionary.keys())))"
   ]
  },
  {
   "cell_type": "markdown",
   "metadata": {},
   "source": [
    "# Finally we're ready to train out model.  We'll train a model with a single core and use some simple parameters for how many topics we want to see and how many passes we want to perform over the data.  For more information about how many topics to select, see more information [here](https://link.springer.com/chapter/10.1007%2F978-3-642-13657-3_43)"
   ]
  },
  {
   "cell_type": "code",
   "execution_count": 41,
   "metadata": {},
   "outputs": [
    {
     "name": "stdout",
     "output_type": "stream",
     "text": [
      "Training single-core model...\n",
      "Wall time: 29.7 s\n"
     ]
    }
   ],
   "source": [
    "%%time \n",
    "\n",
    "NUM_TOPICS = 6\n",
    "NUM_WORKERS = 6\n",
    "VANILLA_LDA_PASSES = 30\n",
    "\n",
    "TRAIN_MULTICORE_MODEL = False\n",
    "\n",
    "# train model\n",
    "lda = None\n",
    "if TRAIN_MULTICORE_MODEL:\n",
    "    print('Training multicore model...')\n",
    "    lda = gensim.models.LdaMulticore(corpus, \n",
    "                                     id2word = dictionary, \n",
    "                                     num_topics = NUM_TOPICS, \n",
    "                                     workers = NUM_WORKERS, \n",
    "                                     passes = VANILLA_LDA_PASSES)\n",
    "else:\n",
    "    print('Training single-core model...')\n",
    "    lda = gensim.models.ldamodel.LdaModel(corpus, \n",
    "                                     id2word = dictionary, \n",
    "                                     num_topics = NUM_TOPICS,\n",
    "                                         passes = VANILLA_LDA_PASSES)"
   ]
  },
  {
   "cell_type": "markdown",
   "metadata": {},
   "source": [
    "# Let's see a very simple view of each topic and the numerical probability for each term within the topic"
   ]
  },
  {
   "cell_type": "code",
   "execution_count": 42,
   "metadata": {
    "scrolled": true
   },
   "outputs": [
    {
     "data": {
      "text/plain": [
       "[(0,\n",
       "  '0.043*\"enemies\" + 0.016*\"swear\" + 0.016*\"outlaw\" + 0.010*\"soldiers\" + 0.010*\"slang\" + 0.009*\"jail\" + 0.008*\"holla\" + 0.008*\"hail\" + 0.008*\"makaveli\" + 0.008*\"thugs\"'),\n",
       " (1,\n",
       "  '0.006*\"nation\" + 0.006*\"hustle\" + 0.005*\"season\" + 0.005*\"children\" + 0.005*\"cappucino\" + 0.004*\"self\" + 0.004*\"holla\" + 0.003*\"haters\" + 0.003*\"hook\" + 0.003*\"battle\"'),\n",
       " (2,\n",
       "  '0.011*\"brooklyn\" + 0.008*\"chick\" + 0.007*\"exchange\" + 0.007*\"chorus\" + 0.007*\"verse\" + 0.006*\"lady\" + 0.006*\"cats\" + 0.006*\"funky\" + 0.005*\"ridah\" + 0.005*\"lick\"'),\n",
       " (3,\n",
       "  '0.014*\"thugs\" + 0.011*\"hide\" + 0.010*\"cards\" + 0.010*\"homeboys\" + 0.009*\"toss\" + 0.009*\"pray\" + 0.009*\"feelins\" + 0.008*\"dear\" + 0.008*\"outlaw\" + 0.008*\"today\"'),\n",
       " (4,\n",
       "  '0.018*\"harlem\" + 0.016*\"mansion\" + 0.011*\"bail\" + 0.011*\"california\" + 0.010*\"cali\" + 0.008*\"smart\" + 0.008*\"lane\" + 0.008*\"dreams\" + 0.006*\"mutha\" + 0.006*\"dear\"'),\n",
       " (5,\n",
       "  '0.014*\"hennessy\" + 0.008*\"bottle\" + 0.008*\"shorty\" + 0.008*\"model\" + 0.007*\"role\" + 0.007*\"boom\" + 0.006*\"playa\" + 0.006*\"outlaws\" + 0.006*\"eyez\" + 0.006*\"flipmode\"')]"
      ]
     },
     "execution_count": 42,
     "metadata": {},
     "output_type": "execute_result"
    }
   ],
   "source": [
    "lda.print_topics(-1)"
   ]
  },
  {
   "cell_type": "markdown",
   "metadata": {},
   "source": [
    "# In the output above, we saw topic terms output in text, but a much better way is to use great open source libraries. One of the best ways to visualize topic model findings is with the interactive package 'pyLDAvis' which helps us to visualize LDA models (NOTE that this can take some time to prepare and render)"
   ]
  },
  {
   "cell_type": "code",
   "execution_count": null,
   "metadata": {
    "collapsed": true
   },
   "outputs": [],
   "source": [
    "vis_data = gensim_prepare(lda, corpus, corpus.dictionary)\n",
    "pyLDAvis.display(vis_data)"
   ]
  },
  {
   "cell_type": "markdown",
   "metadata": {},
   "source": [
    "# Now that we have a model, let's store the topic inferences back into our dataframe..."
   ]
  },
  {
   "cell_type": "code",
   "execution_count": 43,
   "metadata": {},
   "outputs": [
    {
     "name": "stdout",
     "output_type": "stream",
     "text": [
      "Topic assignment progress : [0/2185]\n"
     ]
    },
    {
     "name": "stderr",
     "output_type": "stream",
     "text": [
      "c:\\anaconda3\\lib\\site-packages\\pandas\\core\\indexing.py:337: SettingWithCopyWarning: \n",
      "A value is trying to be set on a copy of a slice from a DataFrame.\n",
      "Try using .loc[row_indexer,col_indexer] = value instead\n",
      "\n",
      "See the caveats in the documentation: http://pandas.pydata.org/pandas-docs/stable/indexing.html#indexing-view-versus-copy\n",
      "  self.obj[key] = _infer_fill_value(value)\n",
      "c:\\anaconda3\\lib\\site-packages\\pandas\\core\\indexing.py:517: SettingWithCopyWarning: \n",
      "A value is trying to be set on a copy of a slice from a DataFrame.\n",
      "Try using .loc[row_indexer,col_indexer] = value instead\n",
      "\n",
      "See the caveats in the documentation: http://pandas.pydata.org/pandas-docs/stable/indexing.html#indexing-view-versus-copy\n",
      "  self.obj[item] = s\n"
     ]
    },
    {
     "name": "stdout",
     "output_type": "stream",
     "text": [
      "Topic assignment progress : [1000/2185]\n",
      "Topic assignment progress : [2000/2185]\n"
     ]
    }
   ],
   "source": [
    "for i, index in enumerate(index_list):\n",
    "    if i % 1000 == 0:\n",
    "        print('Topic assignment progress : [{0}/{1}]'.format(i, len(index_list)))\n",
    "        \n",
    "    doc_bow = corpus.dictionary.doc2bow(filtered_tokenized_texts[i])\n",
    "       \n",
    "    document_topic_sparse_list = [0.0] * lda.num_topics\n",
    "    document_topics = lda.get_document_topics(doc_bow)\n",
    "    \n",
    "    # find the topics actually predicted for this document and store them into the array\n",
    "    for document_topic in document_topics:\n",
    "        topic_idx = document_topic[0]\n",
    "        topic_prob = document_topic[1]\n",
    "        document_topic_sparse_list[topic_idx] = topic_prob\n",
    "    \n",
    "    # now we can store these into a dataframe\n",
    "    for topic_idx, topic_prob in enumerate(document_topic_sparse_list):\n",
    "        topic_key = 'Topic_{0}'.format(format(topic_idx, '02d'))\n",
    "        #print(topic_key)\n",
    "        rap_df = rap_df.set_value(index, topic_key, topic_prob)"
   ]
  },
  {
   "cell_type": "markdown",
   "metadata": {
    "collapsed": true
   },
   "source": [
    "# To do some further analysis about possible differences in text content, let's do some comparison by training ONE MODEL for all data and then we  will stratify by various attributes (i.e. East/West coast) to see how the topics vary with the same model"
   ]
  },
  {
   "cell_type": "code",
   "execution_count": 149,
   "metadata": {
    "collapsed": true
   },
   "outputs": [],
   "source": [
    "def visualize_average_topic_by_column(df, col_name, lda_model, top_n_terms = 10):\n",
    "    unique_col_values = df[col_name].unique()\n",
    "\n",
    "    column_topic_dicts = []\n",
    "    topic_name_set = set()\n",
    "    for unique_col_value in unique_col_values:\n",
    "        #print('Preparing topic values for column [{0} == {1}]'.format(col_name, unique_col_value))\n",
    "        \n",
    "        column_topic_dict = {}\n",
    "        column_topic_dict[col_name] = unique_col_value\n",
    "        \n",
    "        # let's loop through topics and get average values\n",
    "        for topic_idx in range(lda_model.num_topics):\n",
    "            #print('Preparing values for Topic : {}'.format(topic_idx))\n",
    "            topic_key = 'Topic_{0}'.format(format(topic_idx, '02d'))\n",
    "            topic_probs = df[df[col_name] == unique_col_value][topic_key]\n",
    "            avg_topic_probs = np.mean(topic_probs)\n",
    "            \n",
    "            topic_name_set.add(topic_key)\n",
    "            \n",
    "            column_topic_dict[topic_key] = avg_topic_probs\n",
    "            \n",
    "        column_topic_dicts.append(column_topic_dict)\n",
    "        \n",
    "    # let's set up topic labels for the legend\n",
    "    topic_labels = []\n",
    "    for topic_idx in range(lda_model.num_topics):\n",
    "        topic_key = 'Topic_{0}'.format(format(topic_idx, '02d'))\n",
    "        topic_term_tuples = lda_model.get_topic_terms(topic_idx, topn = top_n_terms)\n",
    "        topic_terms = [lda_model.id2word[x[0]] for x in topic_term_tuples]\n",
    "        topic_terms_str = ', '.join(topic_terms)\n",
    "        topic_label = '{0} : {1}'.format(topic_key, topic_terms_str)\n",
    "        topic_labels.append(topic_label)\n",
    "        \n",
    "    column_topic_df = pd.DataFrame(column_topic_dicts)\n",
    "    #display(column_topic_df)\n",
    "    \n",
    "    ax = column_topic_df.plot.bar(x = col_name, stacked = True)\n",
    "    ax.set_ylabel('Average Topic Prevalance')\n",
    "    ax.set_yticks(np.arange(0, 1., 0.1))\n",
    "    ax.set_axisbelow(True)\n",
    "    ax.yaxis.grid(color='gray', linestyle='dashed')\n",
    "    \n",
    "    # Shrink current axis's height by a percentage on the bottom\n",
    "    box = ax.get_position()\n",
    "    ax.set_position([box.x0, box.y0 + box.height * 0.1,\n",
    "                     box.width, box.height * 0.9])\n",
    "    \n",
    "\n",
    "    # Put a legend below current axis\n",
    "    leg = plt.legend(topic_labels, loc='upper center', bbox_to_anchor=(0.5, -0.3),\n",
    "              fancybox=True, shadow=True, ncol=1)\n",
    "\n",
    "    fig = plt.gcf()\n",
    "    fig.set_size_inches(10.5, 4.5)\n",
    "    \n",
    "    plt.show()"
   ]
  },
  {
   "cell_type": "code",
   "execution_count": 150,
   "metadata": {},
   "outputs": [
    {
     "data": {
      "image/png": "[encoded data removed]",
      "text/plain": [
       "<matplotlib.figure.Figure at 0x2181c37e0b8>"
      ]
     },
     "metadata": {},
     "output_type": "display_data"
    }
   ],
   "source": [
    "# First let's look at topics by COAST\n",
    "visualize_average_topic_by_column(rap_df, 'Coast', lda, top_n_terms = 6)"
   ]
  },
  {
   "cell_type": "code",
   "execution_count": 151,
   "metadata": {},
   "outputs": [
    {
     "data": {
      "image/png": "[encoded data removed]",
      "text/plain": [
       "<matplotlib.figure.Figure at 0x2181c2d59b0>"
      ]
     },
     "metadata": {},
     "output_type": "display_data"
    }
   ],
   "source": [
    "# And then topics by GENDER\n",
    "visualize_average_topic_by_column(rap_df, 'Gender', lda, top_n_terms = 6)"
   ]
  },
  {
   "cell_type": "markdown",
   "metadata": {
    "collapsed": true
   },
   "source": [
    "# As as experiment, let's see what kinds of different topics and terms we might see if we train one model for each category and look at the result.\n",
    "## In other words, instead of one model, we'll train one for East Coast and another for West Coast.  Then we'll do the same with one for Male and another for female"
   ]
  },
  {
   "cell_type": "code",
   "execution_count": 70,
   "metadata": {
    "collapsed": true
   },
   "outputs": [],
   "source": [
    "def get_text_indices(col_name, col_value, df, index_list):\n",
    "    text_index_list = []\n",
    "    for i, index in enumerate(index_list):\n",
    "        if df.loc[index, col_name] == col_value:\n",
    "            text_index_list.append(i)\n",
    "            \n",
    "    return text_index_list"
   ]
  },
  {
   "cell_type": "code",
   "execution_count": 77,
   "metadata": {},
   "outputs": [
    {
     "name": "stdout",
     "output_type": "stream",
     "text": [
      "Size of East Corpus : 1157\n",
      "Size of West Corpus : 1028\n",
      "Size of Male Corpus : 1903\n",
      "Size of Female Corpus : 282\n"
     ]
    }
   ],
   "source": [
    "east_tokenized_text_indices = get_text_indices('Coast', 'East', rap_df, index_list)\n",
    "east_corpus = Corpus([filtered_tokenized_texts[idx] for idx in east_tokenized_text_indices])\n",
    "\n",
    "west_tokenized_text_indices = get_text_indices('Coast', 'West', rap_df, index_list)\n",
    "west_corpus = Corpus([filtered_tokenized_texts[idx] for idx in west_tokenized_text_indices])\n",
    "\n",
    "male_tokenized_text_indices = get_text_indices('Gender', 'Male', rap_df, index_list)\n",
    "male_corpus = Corpus([filtered_tokenized_texts[idx] for idx in male_tokenized_text_indices])\n",
    "\n",
    "female_tokenized_text_indices = get_text_indices('Gender', 'Female', rap_df, index_list)\n",
    "female_corpus = Corpus([filtered_tokenized_texts[idx] for idx in female_tokenized_text_indices])\n",
    "\n",
    "print('Size of East Corpus : {}'.format(len(east_corpus)))\n",
    "print('Size of West Corpus : {}'.format(len(west_corpus)))\n",
    "print('Size of Male Corpus : {}'.format(len(male_corpus)))\n",
    "print('Size of Female Corpus : {}'.format(len(female_corpus)))"
   ]
  },
  {
   "cell_type": "markdown",
   "metadata": {},
   "source": [
    "# Now let's train the models for each category.  This will take time for each model"
   ]
  },
  {
   "cell_type": "code",
   "execution_count": 98,
   "metadata": {
    "collapsed": true
   },
   "outputs": [],
   "source": [
    "# let's reduce how much time we'll need for each model by reducing the # of topics and passes across the data\n",
    "NUM_STRATIFICATION_TOPICS = 5\n",
    "NUM_STRATIFICATION_PASSES = 6"
   ]
  },
  {
   "cell_type": "code",
   "execution_count": 99,
   "metadata": {},
   "outputs": [
    {
     "name": "stdout",
     "output_type": "stream",
     "text": [
      "Wall time: 8.22 s\n"
     ]
    }
   ],
   "source": [
    "%%time\n",
    "\n",
    "east_corpus.dictionary = corpus.dictionary\n",
    "\n",
    "east_lda = gensim.models.ldamodel.LdaModel(east_corpus, \n",
    "                                     id2word = east_corpus.dictionary, \n",
    "                                     num_topics = NUM_STRATIFICATION_TOPICS,\n",
    "                                         passes = NUM_STRATIFICATION_PASSES)"
   ]
  },
  {
   "cell_type": "code",
   "execution_count": 100,
   "metadata": {},
   "outputs": [
    {
     "name": "stdout",
     "output_type": "stream",
     "text": [
      "Wall time: 6.87 s\n"
     ]
    }
   ],
   "source": [
    "%%time\n",
    "\n",
    "west_corpus.dictionary = corpus.dictionary\n",
    "\n",
    "west_lda = gensim.models.ldamodel.LdaModel(west_corpus, \n",
    "                                     id2word = west_corpus.dictionary, \n",
    "                                     num_topics = NUM_STRATIFICATION_TOPICS,\n",
    "                                         passes = NUM_STRATIFICATION_PASSES)"
   ]
  },
  {
   "cell_type": "code",
   "execution_count": 101,
   "metadata": {},
   "outputs": [
    {
     "name": "stdout",
     "output_type": "stream",
     "text": [
      "Wall time: 14.5 s\n"
     ]
    }
   ],
   "source": [
    "%%time\n",
    "\n",
    "male_corpus.dictionary = corpus.dictionary\n",
    "\n",
    "male_lda = gensim.models.ldamodel.LdaModel(male_corpus, \n",
    "                                     id2word = male_corpus.dictionary, \n",
    "                                     num_topics = NUM_STRATIFICATION_TOPICS,\n",
    "                                         passes = NUM_STRATIFICATION_PASSES)"
   ]
  },
  {
   "cell_type": "code",
   "execution_count": 102,
   "metadata": {},
   "outputs": [
    {
     "name": "stdout",
     "output_type": "stream",
     "text": [
      "Wall time: 1.36 s\n"
     ]
    }
   ],
   "source": [
    "%%time\n",
    "\n",
    "female_corpus.dictionary = corpus.dictionary\n",
    "\n",
    "female_lda = gensim.models.ldamodel.LdaModel(female_corpus, \n",
    "                                     id2word = female_corpus.dictionary, \n",
    "                                     num_topics = NUM_STRATIFICATION_TOPICS,\n",
    "                                         passes = NUM_STRATIFICATION_PASSES)"
   ]
  },
  {
   "cell_type": "code",
   "execution_count": 152,
   "metadata": {},
   "outputs": [
    {
     "name": "stdout",
     "output_type": "stream",
     "text": [
      "West Coast lyrics topics : \n"
     ]
    },
    {
     "data": {
      "text/html": [
       "\n",
       "<link rel=\"stylesheet\" type=\"text/css\" href=\"https://cdn.rawgit.com/bmabey/pyLDAvis/files/ldavis.v1.0.0.css\">\n",
       "\n",
       "\n",
       "<div id=\"ldavis_el215442302565429800471792939\"></div>\n",
       "<script type=\"text/javascript\">\n",
       "\n",
       "var ldavis_el215442302565429800471792939_data = {\"mdsDat\": {\"Freq\": [22.298527659685885, 22.188034424915916, 19.41970019643333, 18.747325173305075, 17.3464125456598], \"cluster\": [1, 1, 1, 1, 1], \"topics\": [1, 2, 3, 4, 5], \"x\": [-0.03193560895277066, 0.013180359456788903, -0.09310421413823973, -0.01596271463877829, 0.12782217827299971], \"y\": [-0.06624210847376379, -0.04772429394639204, 0.10237539771510028, -0.04564829187040056, 0.057239296575456164]}, \"tinfo\": {\"Category\": [\"Default\", \"Default\", \"Default\", \"Default\", \"Default\", \"Default\", \"Default\", \"Default\", \"Default\", \"Default\", \"Default\", \"Default\", \"Default\", \"Default\", \"Default\", \"Default\", \"Default\", \"Default\", \"Default\", \"Default\", \"Default\", \"Default\", \"Default\", \"Default\", \"Default\", \"Default\", \"Default\", \"Default\", \"Default\", \"Default\", \"Topic1\", \"Topic1\", \"Topic1\", \"Topic1\", \"Topic1\", \"Topic1\", \"Topic1\", \"Topic1\", \"Topic1\", \"Topic1\", \"Topic1\", \"Topic1\", \"Topic1\", \"Topic1\", \"Topic1\", \"Topic1\", \"Topic1\", \"Topic1\", \"Topic1\", \"Topic1\", \"Topic1\", \"Topic1\", \"Topic1\", \"Topic1\", \"Topic1\", \"Topic1\", \"Topic1\", \"Topic1\", \"Topic1\", \"Topic1\", \"Topic1\", \"Topic1\", \"Topic1\", \"Topic1\", \"Topic1\", \"Topic1\", \"Topic1\", \"Topic1\", \"Topic1\", \"Topic1\", \"Topic1\", \"Topic1\", \"Topic1\", \"Topic1\", \"Topic1\", \"Topic1\", \"Topic1\", \"Topic1\", \"Topic1\", \"Topic1\", \"Topic1\", \"Topic1\", \"Topic1\", \"Topic1\", \"Topic1\", \"Topic1\", \"Topic1\", \"Topic1\", \"Topic1\", \"Topic1\", \"Topic1\", \"Topic1\", \"Topic1\", \"Topic1\", \"Topic1\", \"Topic1\", \"Topic2\", \"Topic2\", \"Topic2\", \"Topic2\", \"Topic2\", \"Topic2\", \"Topic2\", \"Topic2\", \"Topic2\", \"Topic2\", \"Topic2\", \"Topic2\", \"Topic2\", \"Topic2\", \"Topic2\", \"Topic2\", \"Topic2\", \"Topic2\", \"Topic2\", \"Topic2\", \"Topic2\", \"Topic2\", \"Topic2\", \"Topic2\", \"Topic2\", \"Topic2\", \"Topic2\", \"Topic2\", \"Topic2\", \"Topic2\", \"Topic2\", \"Topic2\", \"Topic2\", \"Topic2\", \"Topic2\", \"Topic2\", \"Topic2\", \"Topic2\", \"Topic2\", \"Topic2\", \"Topic2\", \"Topic2\", \"Topic2\", \"Topic2\", \"Topic2\", \"Topic2\", \"Topic2\", \"Topic2\", \"Topic2\", \"Topic2\", \"Topic2\", \"Topic2\", \"Topic2\", \"Topic2\", \"Topic2\", \"Topic2\", \"Topic2\", \"Topic2\", \"Topic2\", \"Topic2\", \"Topic2\", \"Topic2\", \"Topic2\", \"Topic2\", \"Topic3\", \"Topic3\", \"Topic3\", \"Topic3\", \"Topic3\", \"Topic3\", \"Topic3\", \"Topic3\", \"Topic3\", \"Topic3\", \"Topic3\", \"Topic3\", \"Topic3\", \"Topic3\", \"Topic3\", \"Topic3\", \"Topic3\", \"Topic3\", \"Topic3\", \"Topic3\", \"Topic3\", \"Topic3\", \"Topic3\", \"Topic3\", \"Topic3\", \"Topic3\", \"Topic3\", \"Topic3\", \"Topic3\", \"Topic3\", \"Topic3\", \"Topic3\", \"Topic3\", \"Topic3\", \"Topic3\", \"Topic3\", \"Topic3\", \"Topic3\", \"Topic3\", \"Topic3\", \"Topic3\", \"Topic3\", \"Topic3\", \"Topic3\", \"Topic3\", \"Topic3\", \"Topic3\", \"Topic3\", \"Topic3\", \"Topic3\", \"Topic3\", \"Topic3\", \"Topic3\", \"Topic3\", \"Topic3\", \"Topic3\", \"Topic3\", \"Topic3\", \"Topic3\", \"Topic3\", \"Topic3\", \"Topic3\", \"Topic3\", \"Topic3\", \"Topic3\", \"Topic3\", \"Topic4\", \"Topic4\", \"Topic4\", \"Topic4\", \"Topic4\", \"Topic4\", \"Topic4\", \"Topic4\", \"Topic4\", \"Topic4\", \"Topic4\", \"Topic4\", \"Topic4\", \"Topic4\", \"Topic4\", \"Topic4\", \"Topic4\", \"Topic4\", \"Topic4\", \"Topic4\", \"Topic4\", \"Topic4\", \"Topic4\", \"Topic4\", \"Topic4\", \"Topic4\", \"Topic4\", \"Topic4\", \"Topic4\", \"Topic4\", \"Topic4\", \"Topic4\", \"Topic4\", \"Topic4\", \"Topic4\", \"Topic4\", \"Topic4\", \"Topic4\", \"Topic4\", \"Topic4\", \"Topic4\", \"Topic4\", \"Topic4\", \"Topic4\", \"Topic4\", \"Topic4\", \"Topic4\", \"Topic4\", \"Topic4\", \"Topic4\", \"Topic4\", \"Topic4\", \"Topic4\", \"Topic4\", \"Topic4\", \"Topic4\", \"Topic4\", \"Topic4\", \"Topic4\", \"Topic4\", \"Topic4\", \"Topic4\", \"Topic4\", \"Topic4\", \"Topic4\", \"Topic4\", \"Topic5\", \"Topic5\", \"Topic5\", \"Topic5\", \"Topic5\", \"Topic5\", \"Topic5\", \"Topic5\", \"Topic5\", \"Topic5\", \"Topic5\", \"Topic5\", \"Topic5\", \"Topic5\", \"Topic5\", \"Topic5\", \"Topic5\", \"Topic5\", \"Topic5\", \"Topic5\", \"Topic5\", \"Topic5\", \"Topic5\", \"Topic5\", \"Topic5\", \"Topic5\", \"Topic5\", \"Topic5\", \"Topic5\", \"Topic5\", \"Topic5\", \"Topic5\", \"Topic5\", \"Topic5\", \"Topic5\", \"Topic5\", \"Topic5\", \"Topic5\", \"Topic5\", \"Topic5\", \"Topic5\", \"Topic5\", \"Topic5\", \"Topic5\", \"Topic5\", \"Topic5\", \"Topic5\", \"Topic5\", \"Topic5\", \"Topic5\", \"Topic5\", \"Topic5\", \"Topic5\", \"Topic5\", \"Topic5\", \"Topic5\", \"Topic5\"], \"Freq\": [183.0, 96.0, 162.0, 112.0, 122.0, 63.0, 202.0, 49.0, 59.0, 49.0, 41.0, 66.0, 46.0, 78.0, 39.0, 40.0, 61.0, 35.0, 53.0, 31.0, 58.0, 37.0, 73.0, 56.0, 27.0, 29.0, 112.0, 49.0, 106.0, 49.0, 22.37715332026581, 22.84066441414479, 14.875238066737491, 31.886478257798103, 9.482336336985503, 10.310512742997929, 167.5683954968737, 10.137694000678865, 27.017224507440517, 10.895197184935448, 6.685713217284442, 7.490561237236926, 8.255862045449634, 5.769786457726048, 5.7634410541759085, 8.22331089906712, 27.743719045852384, 57.740376201614076, 5.671664206751175, 9.711612404590612, 6.471529408285781, 53.35472216417957, 5.655515025744453, 5.656779592447891, 4.777622963288961, 4.774256481659539, 4.770880327158853, 4.764916679594657, 7.9235866651776075, 4.739513462648273, 36.875845854381616, 23.172652832569273, 47.10247223347509, 29.77123540492682, 20.09169630687821, 33.42989191464366, 33.445582601552395, 19.243559608580473, 50.78615955459459, 69.26473304570753, 39.556526069946415, 17.065765521525904, 53.278639227953995, 55.21935768887307, 67.61253440946214, 49.01447645361362, 33.91949912548067, 45.7747352320935, 25.95399281567091, 29.718457639870156, 30.92449702357062, 30.57331762855547, 35.45768685241054, 27.411240535283785, 52.3294390809586, 31.872959452917502, 36.084733956484165, 34.28063770875073, 34.94026046381408, 34.0530905056698, 34.17241762503281, 35.924791095535596, 31.201308804864603, 32.73243146662219, 33.445665143387195, 31.47678959907246, 48.72795753402126, 45.560417868352935, 25.416729085837616, 27.02377330798126, 19.81010246344181, 22.442370958079234, 23.18983099940113, 31.987781156955368, 14.109970186333427, 13.108392467512811, 12.191194676542198, 20.719361603537457, 8.532426925634034, 12.784424672252415, 15.965390488171941, 7.524598770491636, 15.027967489023261, 6.66643715586693, 8.30769996626311, 5.773709813471151, 5.714912977310853, 5.710846760806271, 5.703978403308238, 5.703598538992202, 7.271219646756016, 4.844090074368584, 4.842049266163941, 4.805385622208279, 4.795345846835242, 4.7854077749995225, 21.435462305580213, 127.95138129289988, 9.365072181489419, 29.165910318926315, 16.506181241713875, 11.506779278428152, 12.864201311921281, 37.50535654707426, 26.42938575276745, 64.26540392034683, 83.44769975204152, 59.42032183545022, 23.632467893660625, 14.340251378000968, 55.082281612936484, 21.356925358240026, 37.41910168082653, 34.852055632587195, 34.36523127843003, 35.38653499185122, 31.440442877263404, 37.91420091711136, 35.682539126819734, 29.39311024632764, 31.64157846595302, 27.75470668490486, 27.531133435061353, 34.12631202354888, 31.939351023311723, 30.40761490182197, 29.043678708639, 25.781496361960773, 28.72515734634229, 26.48517447420888, 38.389855271244855, 25.763243477178403, 19.36786134730158, 17.402544811804884, 91.3591757477849, 14.765475313218724, 15.520766926941688, 11.970678102984019, 26.344366972808146, 11.852543499702948, 10.9918758108676, 18.412774484690722, 8.374957800429552, 54.37086484514632, 10.025845525424842, 8.345022602481869, 7.491418773462777, 7.491383953991589, 7.482242157991506, 8.311008471965776, 7.478250274101066, 8.301268567307377, 9.11884210610769, 6.5778423365522505, 6.577805270663566, 6.577790668949842, 10.671281707548342, 8.989201914016343, 7.351110344682797, 6.526511696768033, 17.91243777826185, 9.725814004655467, 11.053126630314273, 87.3385826417456, 34.06325517389675, 55.927546806028225, 20.38632414031036, 28.912442250838822, 14.337681043780309, 24.51933696352084, 45.900576948646616, 27.84286222770795, 15.574817978313595, 70.93330567387449, 35.55075196873601, 44.01404452115308, 21.180953894015, 41.14201772382246, 32.35599135542117, 42.372816391390714, 23.80959932699106, 32.408665352868006, 24.094481008167225, 35.71046551345104, 34.45651751358624, 30.31791335722815, 45.930180238409264, 43.48260953411796, 29.447377156332752, 31.10250611756054, 30.702196766186017, 36.098116302235454, 30.713112108799212, 27.659848840724123, 29.58308773010274, 28.19922940644269, 34.76065482800535, 17.71230917850262, 9.551122065757934, 10.417370819362407, 20.82100547927966, 12.95068815713509, 33.7588932446994, 6.658920996652792, 6.639990946795393, 5.8057529313548075, 5.796319893851404, 13.223398849043383, 14.000731234884864, 8.131751633396886, 5.689024310537781, 5.6867776005306485, 15.275177486431065, 4.800940615131358, 25.62518929404004, 4.785480387678799, 4.768226695770739, 5.541377403454639, 15.062545685143052, 4.747379026874917, 4.720140378837184, 3.927102438255926, 3.9269319290143128, 3.9180776470448406, 3.9092526417019093, 5.454711540817034, 13.420223440638352, 19.81035681333932, 37.448656848585735, 10.655678222126724, 37.69797660020741, 23.26468862977935, 26.203927478860084, 21.238826312797308, 63.14397559070557, 21.769249389268975, 15.565535478226467, 39.558634166578074, 40.21960063647579, 22.67657324991023, 36.781006633280704, 43.3346597240877, 19.77836505076671, 21.173300885320934, 19.35194339496307, 41.60210800090368, 53.74120361322751, 22.90411336002453, 36.14182197352937, 39.073652751775775, 27.555497039270833, 29.04499420891292, 34.79305429471053, 26.51323395394441, 29.795781369037886, 35.09037470202514, 25.750133261560276, 27.754014253607664, 23.8482368559081, 24.847905702576128, 24.35457719625119, 24.16283914743781, 27.225634069832488, 25.422626895727323, 30.662942753696502, 21.666532007777718, 39.77291619376915, 18.13665954475799, 14.563634461910967, 21.3860475035951, 13.685873795232542, 13.678255794201442, 12.797075906198906, 46.87963929448004, 28.01478393036488, 12.715325615139227, 37.64136479134179, 9.110147009699721, 57.46456127397442, 11.30740404725506, 25.834570828212723, 6.415495103689094, 6.406144416265169, 6.400055433220556, 7.172191958775354, 5.5258434126170695, 5.520090030961223, 7.097270579083802, 11.795334354571551, 18.078464558348408, 11.728777927283108, 5.470922170098503, 7.013912511565236, 17.481665963150217, 10.015331677455993, 85.94463220001732, 13.688188391357757, 24.29989226463907, 10.725310712311424, 40.25678818234854, 30.35333065752983, 36.266095382493205, 36.247129138387855, 103.81757627381195, 24.365569807573074, 17.838274293255882, 29.16069662806982, 24.708200264589674, 52.15685023606804, 28.422375579369064, 27.79306628939782, 28.476677790327482, 28.54894696591977, 27.750271845043734, 25.82008729563206, 24.899132874128014, 21.7552371234321, 24.730070037601124, 21.701568993423457], \"Term\": [\"boom\", \"rebel\", \"self\", \"platinum\", \"california\", \"jones\", \"enemies\", \"doggz\", \"vapors\", \"mourn\", \"drip\", \"toss\", \"swivel\", \"swear\", \"batman\", \"trife\", \"curse\", \"wonda\", \"muthafucka\", \"exchange\", \"hello\", \"express\", \"outlawz\", \"soulja\", \"nutt\", \"murderah\", \"dumb\", \"jesus\", \"hustle\", \"kush\", \"ballad\", \"math\", \"linden\", \"supreme\", \"peer\", \"vaseline\", \"boom\", \"temperature\", \"cards\", \"brrr\", \"louieville\", \"beeotch\", \"jumpsuit\", \"explanations\", \"chiggie\", \"toothbrushes\", \"stories\", \"toss\", \"tustle\", \"finga\", \"vivid\", \"curse\", \"rubbers\", \"dole\", \"matta\", \"lala\", \"shatter\", \"sweetheart\", \"waistline\", \"sheeeit\", \"impala\", \"chariot\", \"hello\", \"flea\", \"patient\", \"soldiers\", \"collar\", \"attitudes\", \"outlawz\", \"hustle\", \"perfect\", \"christmas\", \"lane\", \"water\", \"lady\", \"juice\", \"tank\", \"indo\", \"corners\", \"across\", \"rise\", \"beats\", \"finger\", \"system\", \"holla\", \"doctor\", \"fear\", \"middle\", \"chorus\", \"limit\", \"strap\", \"playa\", \"swing\", \"pray\", \"homey\", \"smoking\", \"mourn\", \"swivel\", \"faden\", \"ridah\", \"medicine\", \"rrrr\", \"feelins\", \"blam\", \"mayn\", \"orders\", \"pollaseeds\", \"adventures\", \"yack\", \"housewife\", \"kato\", \"automobile\", \"unborn\", \"jill\", \"locate\", \"siren\", \"satisfiction\", \"smugglers\", \"sheepskins\", \"occasions\", \"boils\", \"committee\", \"harmony\", \"butler\", \"dallas\", \"applause\", \"prayer\", \"self\", \"bwoy\", \"ruff\", \"changes\", \"shorties\", \"prince\", \"ground\", \"video\", \"haters\", \"thugs\", \"westside\", \"health\", \"alarm\", \"outlaw\", \"plane\", \"child\", \"mutha\", \"trigger\", \"cars\", \"story\", \"ones\", \"buck\", \"hide\", \"tricks\", \"wife\", \"homeboys\", \"playa\", \"today\", \"grow\", \"jail\", \"drugs\", \"homey\", \"mission\", \"batman\", \"bowwowwowyippyyoyippyyay\", \"bowwowwowyippyyo\", \"hustlas\", \"rebel\", \"gotham\", \"pronto\", \"flicc\", \"witchu\", \"doja\", \"thuglife\", \"dogz\", \"yiggy\", \"vapors\", \"hoods\", \"deville\", \"bowowow\", \"yippyyo\", \"sacramento\", \"ohhh\", \"heezos\", \"xzibit\", \"uhhhhh\", \"bowwowwowyippyyoyoyoyoyoyo\", \"claats\", \"yizzear\", \"whoop\", \"backside\", \"bizzack\", \"rovers\", \"superman\", \"chandon\", \"sway\", \"california\", \"mansion\", \"swear\", \"aiyyo\", \"goodbye\", \"army\", \"thief\", \"cali\", \"legend\", \"appreciate\", \"pimp\", \"weight\", \"round\", \"suicide\", \"count\", \"underground\", \"dear\", \"watts\", \"chips\", \"warren\", \"park\", \"bail\", \"road\", \"compton\", \"holla\", \"passion\", \"nation\", \"gots\", \"homey\", \"nuts\", \"woman\", \"jail\", \"drama\", \"wonda\", \"eruption\", \"freek\", \"figgaz\", \"tommy\", \"teardrops\", \"express\", \"ohhhhhhh\", \"hooooooooooooooo\", \"gotsta\", \"keenan\", \"hort\", \"voyage\", \"mothafuckaz\", \"wooooooo\", \"appetite\", \"nightmare\", \"learnt\", \"revolution\", \"hops\", \"equality\", \"scar\", \"figga\", \"animals\", \"diggity\", \"rivers\", \"roads\", \"weee\", \"spring\", \"claat\", \"nick\", \"caskets\", \"hennessy\", \"motto\", \"soulja\", \"model\", \"tomorrow\", \"gutter\", \"dumb\", \"america\", \"dawg\", \"riches\", \"homeboy\", \"role\", \"promise\", \"tryna\", \"history\", \"thats\", \"moment\", \"slide\", \"nuts\", \"blacks\", \"tricks\", \"crip\", \"super\", \"bass\", \"today\", \"slang\", \"nation\", \"compton\", \"power\", \"neighborhood\", \"pockets\", \"ones\", \"fade\", \"enemies\", \"nutt\", \"gimmee\", \"exchange\", \"gizee\", \"drip\", \"roughest\", \"toughest\", \"brenda\", \"demos\", \"bimbos\", \"cinderfella\", \"doggz\", \"murderah\", \"puffs\", \"trife\", \"dadada\", \"jones\", \"cataracts\", \"inhale\", \"nympho\", \"whoo\", \"thursday\", \"highlights\", \"discretion\", \"scrubs\", \"hilites\", \"hellrazor\", \"eyez\", \"afro\", \"heartz\", \"babay\", \"friday\", \"nutz\", \"platinum\", \"limos\", \"pavement\", \"tock\", \"muthafucka\", \"hail\", \"jesus\", \"kush\", \"enemies\", \"nature\", \"pros\", \"stuff\", \"rage\", \"homey\", \"trees\", \"eazy\", \"thank\", \"seat\", \"smoking\", \"funky\", \"stress\", \"children\", \"compton\", \"holla\"], \"Total\": [183.0, 96.0, 162.0, 112.0, 122.0, 63.0, 202.0, 49.0, 59.0, 49.0, 41.0, 66.0, 46.0, 78.0, 39.0, 40.0, 61.0, 35.0, 53.0, 31.0, 58.0, 37.0, 73.0, 56.0, 27.0, 29.0, 112.0, 49.0, 106.0, 49.0, 23.259219328148205, 24.192880439932743, 15.810902370980939, 34.38967466956124, 10.229652286892206, 11.158082143101339, 183.990464745988, 11.156435977560031, 29.777072988110174, 12.087452010115634, 7.437852533968833, 8.365867751236312, 9.29438358228465, 6.50715481846064, 6.506953762015269, 9.294058507123358, 31.624737257365123, 66.08747275222066, 6.504173735060464, 11.147461997063383, 7.437012716759218, 61.35444198574764, 6.5052814388325135, 6.507639933831962, 5.575162261678227, 5.5746645581845335, 5.5761084786998465, 5.575811141726108, 9.286094199562475, 5.574825423299169, 44.531080565520696, 27.92404341999176, 58.341384360654544, 37.25461120015647, 25.101388878224256, 43.75875068146286, 45.5595969779303, 25.006381326987825, 73.93368521974313, 106.48892812946703, 57.44612357669285, 22.279651159835222, 82.76471756121147, 90.2880268735381, 119.36617372264755, 82.74035251374852, 53.829784269597404, 83.43899609292325, 39.78563870487233, 48.29727735977989, 51.95683855223205, 52.91482214807597, 68.67345687692345, 45.60707179972974, 153.15629288444717, 61.22104692566008, 79.8006553277688, 75.21234391244703, 82.51921294776031, 76.84775138142187, 80.42804567399685, 115.84237275961942, 60.37873528609299, 78.88467412985119, 162.5578528283895, 85.39946704851124, 49.51417955167899, 46.71015546304581, 26.153730376430378, 28.01534486747727, 20.546977435449055, 23.35072032776282, 24.27889942428637, 33.62385564360675, 14.93804957818033, 14.003047756161433, 13.07123409940283, 22.416981112788143, 9.331967960212161, 13.997642862325284, 17.738030047964198, 8.395931938494863, 16.773997081155574, 7.464296679319242, 9.324915053992907, 6.530005598019848, 6.529038358538734, 6.528414864822894, 6.52980724989165, 6.530276923056121, 8.393778679134684, 5.595196199271072, 5.5954449456706135, 5.594292565443556, 5.595076650026643, 5.594110551790228, 25.18572067146665, 162.74629761989536, 11.203918331256622, 37.36286524566174, 20.436931213649352, 13.969883455613171, 15.813040283022488, 51.279597407961376, 36.327892667271705, 114.95997091971932, 156.90379387923542, 106.70551320572297, 35.368586071086675, 19.541064552128777, 116.86951850025578, 33.54146075433644, 72.41781263016802, 66.64480254726176, 68.94916499710274, 78.8410138325673, 65.7991450434561, 96.59282480602292, 100.20210828000461, 67.7481507873919, 82.00577016374874, 63.06335659201028, 63.11406460764622, 115.84237275961942, 102.36974770906839, 88.89125803510987, 109.95706480113586, 59.466524898149366, 162.5578528283895, 97.34284334117899, 39.29413495967072, 26.504287963244593, 20.109050799587735, 18.2815692237281, 96.03002808465442, 15.540573253287791, 16.455650742535514, 12.802230420838592, 28.35608398275075, 12.804716842018577, 11.888633910752146, 20.097107639709687, 9.146460183576318, 59.44675736373249, 10.977761169348383, 9.14604399080968, 8.23217581359359, 8.232176861890593, 8.23239464838996, 9.148129472687216, 8.232439919648595, 9.14797859639925, 10.063946292448636, 7.318570397098621, 7.3185700253964, 7.3185704654112, 11.88425112659031, 10.059645604882459, 8.23175495303279, 7.319719294646194, 20.12514406467903, 10.969208615722083, 12.821734354672254, 122.1214979020744, 44.0425398360603, 78.14080724418395, 25.624626443655103, 38.456667236696084, 17.421392689062237, 33.0156384248116, 71.64598105835131, 39.487500483085796, 20.16941043120911, 141.57368076134213, 59.65945127645538, 81.7361253090696, 31.216994579296465, 78.16145828734082, 56.98574581326697, 87.47076697389322, 37.74090618546371, 61.53431869495193, 39.549722519202206, 75.1732683331215, 72.78256385019813, 60.69745035988606, 135.39526956540237, 153.15629288444717, 63.601169977285515, 83.14967084382187, 87.67769646816949, 162.5578528283895, 128.73574881625677, 77.37977000078513, 109.95706480113586, 90.65884024758812, 35.570763155629265, 18.714511282966196, 10.287617999066045, 11.222585944950461, 22.45620790319025, 14.030757090771164, 37.37685824320303, 7.476306078943114, 7.4745266737011296, 6.541906547016294, 6.541816074688265, 14.932116408796322, 15.897570238077492, 9.344505648789601, 6.5403749152333654, 6.538629147857762, 17.716325498877936, 5.605070441329094, 29.924269288983925, 5.604673609849982, 5.603212680764492, 6.534058425445773, 17.772658384466077, 5.604109234665567, 5.602652545211326, 4.66901192350936, 4.66901125667772, 4.668685904491417, 4.668575816805178, 6.534277897032404, 16.815927862667074, 25.23412658913506, 54.84961025735916, 13.969711368116476, 56.70156593593549, 33.48915895481743, 39.04116030553604, 30.767927263884463, 112.59066705746241, 32.709137571103895, 22.265262754584178, 68.11014297138881, 70.69693117617577, 35.2246778317637, 63.94696268614104, 78.95946812689924, 29.862292279949326, 32.59935961403317, 29.788659058688893, 86.3037998692541, 128.73574881625677, 39.1368490512844, 82.00577016374874, 96.9968468976124, 58.542528311531676, 67.83334994998614, 102.36974770906839, 63.259947367765335, 83.14967084382187, 135.39526956540237, 63.247607207998286, 87.08016216206002, 51.10997644863827, 96.59282480602292, 83.40907825462259, 202.99395519838845, 27.9689532235185, 26.165911594258702, 31.58026926219992, 22.563977006960254, 41.5281698231545, 18.955901525023037, 15.348580602788644, 22.565603755253285, 14.446694454190332, 14.446939329506156, 13.544782516822407, 49.66478840970795, 29.787320520644027, 13.546775845175647, 40.66583379360635, 9.94165432604094, 63.27849716266379, 12.661409762890905, 28.953568262580767, 7.236496394509496, 7.235876939115156, 7.237041547933046, 8.142504742477394, 6.33455979168609, 6.333537594174405, 8.146210532579406, 13.578104422485792, 20.81612219190774, 13.578021853812812, 6.335769341541918, 8.149717702689529, 20.839366010961015, 11.77408275338301, 112.54155965020303, 16.315422162010414, 29.944535893361977, 12.66516893034547, 53.6041201478351, 39.92491308267513, 49.05860785074193, 49.98058587254968, 202.99395519838845, 33.67498652768187, 24.55375744500467, 52.879971948601536, 44.747784529889024, 162.5578528283895, 59.509951247784734, 64.38936655406357, 77.93706886622279, 80.99086155110521, 85.39946704851124, 78.13789914641275, 75.32933924378071, 46.820178896485956, 135.39526956540237, 153.15629288444717], \"loglift\": [30.0, 29.0, 28.0, 27.0, 26.0, 25.0, 24.0, 23.0, 22.0, 21.0, 20.0, 19.0, 18.0, 17.0, 16.0, 15.0, 14.0, 13.0, 12.0, 11.0, 10.0, 9.0, 8.0, 7.0, 6.0, 5.0, 4.0, 3.0, 2.0, 1.0, 1.462, 1.4431, 1.4396, 1.4251, 1.4248, 1.4216, 1.4072, 1.4049, 1.4034, 1.3968, 1.394, 1.3901, 1.3822, 1.3804, 1.3793, 1.3782, 1.3697, 1.3656, 1.3637, 1.3628, 1.3616, 1.3609, 1.3607, 1.3605, 1.3463, 1.3457, 1.3447, 1.3435, 1.342, 1.3383, 1.312, 1.3141, 1.2867, 1.2764, 1.278, 1.2314, 1.1915, 1.2387, 1.1251, 1.0705, 1.1275, 1.2341, 1.0602, 1.009, 0.9322, 0.9771, 1.0388, 0.9003, 1.0735, 1.015, 0.9818, 0.9521, 0.8396, 0.9915, 0.4267, 0.8479, 0.707, 0.7149, 0.6413, 0.6867, 0.6447, 0.3298, 0.8405, 0.621, -0.0805, 0.5026, 1.4896, 1.4807, 1.477, 1.4696, 1.4691, 1.4659, 1.4597, 1.4557, 1.4486, 1.4396, 1.4359, 1.4269, 1.416, 1.415, 1.4003, 1.396, 1.3957, 1.3926, 1.3901, 1.3825, 1.3724, 1.3718, 1.3704, 1.3703, 1.3621, 1.3615, 1.361, 1.3536, 1.3514, 1.3495, 1.3444, 1.2651, 1.3263, 1.2579, 1.292, 1.3116, 1.2992, 1.1928, 1.1875, 0.9241, 0.8742, 0.9202, 1.1024, 1.1962, 0.7534, 1.0542, 0.8453, 0.8574, 0.8093, 0.7045, 0.7671, 0.5704, 0.4731, 0.6706, 0.5533, 0.6849, 0.676, 0.2835, 0.3409, 0.4329, 0.1743, 0.6699, -0.2276, 0.204, 1.6156, 1.6105, 1.6013, 1.5896, 1.589, 1.5877, 1.5804, 1.5717, 1.5653, 1.5616, 1.5605, 1.5514, 1.5508, 1.5496, 1.5482, 1.5472, 1.5446, 1.5446, 1.5433, 1.5429, 1.5428, 1.5418, 1.5403, 1.5322, 1.5322, 1.5322, 1.5312, 1.5264, 1.5257, 1.5242, 1.5224, 1.5186, 1.4905, 1.3037, 1.3819, 1.3044, 1.4102, 1.3536, 1.4441, 1.3414, 1.1936, 1.2895, 1.3804, 0.9478, 1.1212, 1.0199, 1.251, 0.9971, 1.0729, 0.9141, 1.1782, 0.9977, 1.1433, 0.8945, 0.8911, 0.9447, 0.5578, 0.3798, 0.8689, 0.6555, 0.5895, 0.1341, 0.2058, 0.6101, 0.326, 0.4711, 1.6511, 1.6191, 1.5998, 1.5997, 1.5985, 1.594, 1.5723, 1.5583, 1.5557, 1.5547, 1.5531, 1.5526, 1.5471, 1.5351, 1.5347, 1.5345, 1.5259, 1.5193, 1.519, 1.5161, 1.5128, 1.5093, 1.5087, 1.5082, 1.5027, 1.5011, 1.501, 1.4988, 1.4966, 1.4935, 1.4486, 1.4321, 1.2925, 1.4033, 1.2659, 1.3098, 1.2754, 1.3035, 1.0958, 1.267, 1.3162, 1.1308, 1.1101, 1.2337, 1.121, 1.0741, 1.2621, 1.2426, 1.2428, 0.9444, 0.8005, 1.1384, 0.8548, 0.7649, 0.9206, 0.8259, 0.5949, 0.8045, 0.6478, 0.3238, 0.7755, 0.5307, 0.9118, 0.3164, 0.4431, -0.4542, 1.7248, 1.723, 1.7223, 1.7112, 1.7086, 1.7076, 1.6993, 1.6981, 1.6977, 1.6971, 1.695, 1.6941, 1.6904, 1.6884, 1.6745, 1.6644, 1.6554, 1.6387, 1.6378, 1.6314, 1.63, 1.6289, 1.6249, 1.6152, 1.6143, 1.6139, 1.611, 1.6108, 1.6054, 1.605, 1.6017, 1.5761, 1.59, 1.4822, 1.5762, 1.5429, 1.5855, 1.4654, 1.4777, 1.4497, 1.4305, 1.0812, 1.4282, 1.4323, 1.1566, 1.1579, 0.615, 1.0128, 0.9116, 0.745, 0.7091, 0.6277, 0.6445, 0.6447, 0.9853, 0.0516, -0.2023], \"logprob\": [30.0, 29.0, 28.0, 27.0, 26.0, 25.0, 24.0, 23.0, 22.0, 21.0, 20.0, 19.0, 18.0, 17.0, 16.0, 15.0, 14.0, 13.0, 12.0, 11.0, 10.0, 9.0, 8.0, 7.0, 6.0, 5.0, 4.0, 3.0, 2.0, 1.0, -6.204699993133545, -6.184199810028076, -6.613100051879883, -5.850599765777588, -7.063300132751465, -6.979599952697754, -4.191400051116943, -6.996500015258789, -6.016300201416016, -6.9243998527526855, -7.412799835205078, -7.299099922180176, -7.2017998695373535, -7.560100078582764, -7.561200141906738, -7.2058000564575195, -5.989799976348877, -5.256800174713135, -7.577300071716309, -7.039400100708008, -7.445400238037109, -5.3358001708984375, -7.580100059509277, -7.579899787902832, -7.748799800872803, -7.749499797821045, -7.750199794769287, -7.751500129699707, -7.2428998947143555, -7.756800174713135, -5.7052001953125, -6.1697998046875, -5.460400104522705, -5.9191999435424805, -6.3125, -5.803299903869629, -5.802800178527832, -6.355599880218506, -5.3850998878479, -5.07480001449585, -5.635000228881836, -6.4756999015808105, -5.337200164794922, -5.301499843597412, -5.098999977111816, -5.4207000732421875, -5.78879976272583, -5.488999843597412, -6.056399822235107, -5.921000003814697, -5.881199836730957, -5.892600059509277, -5.7444000244140625, -6.001800060272217, -5.355199813842773, -5.85099983215332, -5.726900100708008, -5.778200149536133, -5.759099960327148, -5.784800052642822, -5.781300067901611, -5.731299877166748, -5.872300148010254, -5.824399948120117, -5.802800178527832, -5.863500118255615, -5.421500205993652, -5.488800048828125, -6.072400093078613, -6.011099815368652, -6.321599960327148, -6.196899890899658, -6.164100170135498, -5.842400074005127, -6.660900115966797, -6.734499931335449, -6.80709981918335, -6.276700019836426, -7.163899898529053, -6.7596001625061035, -6.537399768829346, -7.289599895477295, -6.597899913787842, -7.410699844360352, -7.1905999183654785, -7.554500102996826, -7.564700126647949, -7.565400123596191, -7.5665998458862305, -7.566699981689453, -7.32390022277832, -7.730000019073486, -7.730500221252441, -7.738100051879883, -7.740200042724609, -7.742199897766113, -6.242800235748291, -4.456200122833252, -7.070799827575684, -5.934800148010254, -6.5040998458862305, -6.8649001121521, -6.753399848937988, -5.683300018310547, -6.033299922943115, -5.144800186157227, -4.883600234985352, -5.223199844360352, -6.145199775695801, -6.644700050354004, -5.298999786376953, -6.246399879455566, -5.6855998039245605, -5.756700038909912, -5.7708001136779785, -5.741499900817871, -5.8597002029418945, -5.672500133514404, -5.733099937438965, -5.927000045776367, -5.853300094604492, -5.984399795532227, -5.992499828338623, -5.777699947357178, -5.843999862670898, -5.893099784851074, -5.939000129699707, -6.05810022354126, -5.949999809265137, -6.031199932098389, -5.526700019836426, -5.925600051879883, -6.210899829864502, -6.31790018081665, -4.6596999168396, -6.4822001457214355, -6.432400226593018, -6.6921000480651855, -5.903299808502197, -6.702000141143799, -6.777400016784668, -6.261499881744385, -7.049300193786621, -5.178699970245361, -6.8694000244140625, -7.0528998374938965, -7.160799980163574, -7.160799980163574, -7.1620001792907715, -7.057000160217285, -7.162499904632568, -7.05810022354126, -6.964200019836426, -7.290800094604492, -7.290800094604492, -7.290800094604492, -6.807000160217285, -6.978499889373779, -7.179699897766113, -7.298699855804443, -6.289000034332275, -6.899799823760986, -6.7718000411987305, -4.704699993133545, -5.646299839019775, -5.1504998207092285, -6.1596999168396, -5.810299873352051, -6.511600017547607, -5.975100040435791, -5.348100185394287, -5.8480000495910645, -6.428899765014648, -4.912799835205078, -5.603600025177002, -5.389999866485596, -6.121399879455566, -5.457499980926514, -5.697700023651123, -5.427999973297119, -6.00439977645874, -5.696100234985352, -5.992599964141846, -5.599100112915039, -5.634799957275391, -5.762800216674805, -5.347400188446045, -5.402200222015381, -5.791900157928467, -5.737199783325195, -5.750199794769287, -5.5883002281188965, -5.749800205230713, -5.854599952697754, -5.787300109863281, -5.83519983291626, -5.590799808502197, -6.264999866485596, -6.882599830627441, -6.79580020904541, -6.103300094604492, -6.578199863433838, -5.620100021362305, -7.243299961090088, -7.246200084686279, -7.38040018081665, -7.3821001052856445, -6.557300090789795, -6.500199794769287, -7.043499946594238, -7.4008002281188965, -7.401199817657471, -6.413099765777588, -7.570499897003174, -5.895699977874756, -7.573699951171875, -7.577300071716309, -7.42710018157959, -6.42710018157959, -7.581699848175049, -7.587500095367432, -7.771399974822998, -7.771399974822998, -7.77370023727417, -7.776000022888184, -7.442800045013428, -6.542500019073486, -6.15310001373291, -5.516300201416016, -6.773200035095215, -5.509699821472168, -5.992400169372559, -5.8734002113342285, -6.083499908447266, -4.993899822235107, -6.058800220489502, -6.394199848175049, -5.46150016784668, -5.444900035858154, -6.01800012588501, -5.534299850463867, -5.370299816131592, -6.154699802398682, -6.086599826812744, -6.176499843597412, -5.411099910736084, -5.155099868774414, -6.007999897003174, -5.551799774169922, -5.473899841308594, -5.8231000900268555, -5.770500183105469, -5.589900016784668, -5.861700057983398, -5.744900226593018, -5.581399917602539, -5.890900135040283, -5.815899848937988, -5.967599868774414, -5.926499843597412, -5.946599960327148, -5.954500198364258, -5.757500171661377, -5.826000213623047, -5.638599872589111, -5.985899925231934, -5.378399848937988, -6.163700103759766, -6.3831000328063965, -5.998899936676025, -6.445300102233887, -6.445799827575684, -6.512400150299072, -5.214099884033203, -5.728899955749512, -6.518799781799316, -5.433499813079834, -6.852200031280518, -5.010499954223633, -6.636199951171875, -5.809899806976318, -7.202899932861328, -7.204400062561035, -7.2052998542785645, -7.091400146484375, -7.352200031280518, -7.3531999588012695, -7.101900100708008, -6.593900203704834, -6.166900157928467, -6.599599838256836, -7.362199783325195, -7.113699913024902, -6.200500011444092, -6.757500171661377, -4.607900142669678, -6.445099830627441, -5.871200084686279, -6.689000129699707, -5.366399765014648, -5.64870023727417, -5.470799922943115, -5.47130012512207, -4.419000148773193, -5.868500232696533, -6.180300235748291, -5.688799858093262, -5.854499816894531, -5.107399940490723, -5.7144999504089355, -5.736800193786621, -5.712500095367432, -5.710000038146973, -5.738399982452393, -5.810500144958496, -5.846799850463867, -5.981800079345703, -5.853600025177002, -5.9842000007629395]}, \"token.table\": {\"Topic\": [1, 2, 3, 4, 5, 2, 4, 1, 5, 1, 3, 4, 5, 2, 3, 4, 1, 2, 4, 4, 4, 2, 3, 4, 5, 2, 3, 4, 1, 4, 5, 2, 4, 5, 3, 1, 2, 3, 4, 5, 1, 1, 2, 3, 4, 5, 3, 1, 2, 3, 4, 5, 1, 5, 3, 1, 2, 3, 4, 5, 1, 2, 2, 1, 2, 3, 4, 5, 3, 3, 3, 3, 3, 5, 1, 1, 2, 3, 4, 5, 2, 2, 4, 1, 2, 3, 4, 5, 1, 2, 3, 4, 5, 1, 4, 1, 2, 3, 4, 5, 1, 2, 4, 1, 5, 3, 5, 2, 5, 1, 2, 4, 1, 1, 2, 3, 4, 5, 1, 2, 3, 4, 5, 1, 2, 3, 4, 5, 1, 2, 3, 4, 5, 1, 2, 3, 5, 4, 3, 1, 2, 3, 4, 5, 2, 1, 2, 3, 4, 5, 1, 2, 3, 4, 5, 1, 2, 3, 4, 5, 1, 2, 3, 4, 5, 1, 2, 4, 5, 5, 2, 1, 3, 4, 5, 1, 2, 3, 4, 5, 5, 3, 4, 5, 1, 2, 3, 4, 5, 1, 5, 3, 5, 3, 1, 1, 2, 3, 4, 5, 4, 5, 1, 2, 3, 4, 5, 1, 2, 3, 4, 5, 1, 2, 4, 5, 1, 2, 3, 4, 5, 4, 4, 5, 1, 3, 4, 3, 4, 5, 1, 2, 3, 4, 5, 2, 1, 2, 3, 4, 5, 2, 2, 4, 4, 1, 3, 1, 2, 3, 4, 5, 1, 2, 4, 3, 4, 1, 4, 5, 1, 2, 3, 4, 5, 5, 5, 2, 3, 5, 3, 1, 2, 3, 4, 5, 4, 1, 2, 3, 4, 1, 2, 3, 4, 5, 1, 3, 4, 5, 1, 2, 3, 4, 5, 2, 1, 2, 3, 4, 5, 1, 2, 4, 5, 5, 3, 1, 2, 3, 4, 5, 1, 5, 1, 2, 3, 4, 5, 1, 2, 3, 4, 5, 5, 5, 1, 2, 3, 4, 1, 2, 3, 4, 5, 1, 2, 3, 4, 5, 1, 2, 3, 4, 5, 1, 2, 3, 4, 5, 3, 4, 4, 4, 5, 2, 3, 1, 2, 3, 4, 5, 1, 2, 5, 1, 2, 3, 4, 5, 4, 5, 1, 2, 3, 4, 5, 1, 2, 3, 4, 5, 2, 1, 2, 3, 5, 1, 2, 3, 4, 5, 1, 1, 2, 4, 1, 2, 3, 4, 5, 1, 2, 3, 4, 5, 1, 1, 2, 3, 4, 5, 4, 1, 2, 3, 4, 5, 1, 2, 3, 4, 5, 2, 5, 1, 2, 1, 1, 2, 3, 4, 1, 4, 1, 2, 2, 1, 2, 3, 4, 5, 1, 2, 3, 4, 5, 1, 2, 3, 4, 5, 1, 2, 4, 5, 1, 4, 3, 4, 2, 3, 5, 1, 2, 3, 4, 5, 1, 2, 3, 5, 1, 2, 3, 4, 5, 2, 5, 1, 2, 3, 4, 5, 1, 2, 3, 4, 4, 5, 1, 2, 3, 4, 5, 5, 1, 5, 5, 2, 3, 4, 1, 2, 3, 4, 5, 2, 1, 2, 3, 4, 5, 1, 2, 3, 4, 5, 1, 2, 3, 4, 5, 1, 2, 3, 4, 5, 1, 2, 5, 2, 5, 1, 1, 2, 3, 4, 5, 1, 2, 3, 4, 5, 1, 2, 4, 5, 1, 2, 3, 5, 1, 2, 3, 4, 5, 1, 2, 3, 4, 5, 2, 1, 2, 3, 4, 5, 1, 2, 3, 4, 5, 1, 2, 5, 2, 3, 5, 1, 2, 3, 4, 5, 3, 1, 4, 5, 5, 1, 2, 3, 4, 5, 2, 3, 4, 1, 2, 3, 4, 1, 2, 3, 4, 5, 2, 1, 2, 3, 4, 5, 4, 1, 3, 4, 5, 4, 2, 3, 4, 5, 5, 1, 2, 3, 4, 5, 3, 2, 1, 2, 4, 5, 3, 2, 4, 5, 1, 2, 3, 4, 5, 1, 2, 3, 4, 5, 1, 1, 2, 1, 2, 5, 2, 1, 2, 3, 4, 5, 1, 2, 3, 4, 5, 1, 2, 3, 4, 5, 2, 1, 2, 4, 5, 1, 2, 3, 4, 5, 4, 1, 2, 4, 5, 1, 2, 3, 4, 5, 1, 2, 3, 4, 5, 1, 2, 3, 4, 5, 1, 2, 3, 4, 5, 2, 3, 4, 5, 1, 2, 3, 4, 5, 1, 3, 5, 1, 2, 5, 2, 3, 1, 2, 3, 4, 5, 1, 1, 2, 3, 4, 1, 2, 1, 2, 3, 4, 1, 2, 3, 4, 5, 1, 4, 1, 1, 2, 3, 4, 5, 1, 2, 3, 4, 5, 2, 3, 4, 5, 3, 1, 2, 3, 4, 5, 5, 3, 5, 1, 2, 3, 4, 5, 2, 4, 1, 2, 3, 4, 5, 1, 1, 2, 4, 5, 5, 1, 2, 3, 4, 5, 1, 2, 3, 4, 5, 1, 2, 5, 1, 2, 3, 4, 5, 1, 2, 3, 4, 5, 1, 3, 2, 5, 1, 2, 3, 4, 5, 3, 4, 5, 1, 1, 2, 3, 4, 5, 1, 2, 4, 1, 5, 1, 2, 3, 4, 5, 1, 2, 3, 4, 5, 1, 2, 3, 4, 5, 4, 1, 2, 3, 4, 5, 1, 2, 3, 4, 5, 5, 3, 5, 1, 2, 3, 4, 5, 2, 3, 1, 2, 3, 4, 5, 4, 4, 3, 2, 3, 3, 3], \"Freq\": [0.6211530264226207, 0.062115302642262074, 0.062115302642262074, 0.1863459079267862, 0.062115302642262074, 0.9367898333116852, 0.04460903968150882, 0.07364843058631493, 0.8837811670357791, 0.07804991828457342, 0.7804991828457342, 0.03902495914228671, 0.07804991828457342, 0.7164399852757694, 0.15352285398766488, 0.051174284662554956, 0.18343498011701037, 0.12228998674467359, 0.6725949270957047, 0.8922024519206899, 0.9176235361147173, 0.893797137848822, 0.7932805004177228, 0.14874009382832304, 0.049580031276107675, 0.05740069223213338, 0.8036096912498673, 0.05740069223213338, 0.7598060571640762, 0.039989792482319805, 0.15995916992927922, 0.9528424073235351, 0.12270363667565873, 0.8589254567296111, 0.8946637241009605, 0.12365599016989699, 0.09617688124325321, 0.4671448517529442, 0.2198328714131502, 0.09617688124325321, 0.9458614964508159, 0.2653562003538302, 0.10319407791537841, 0.14742011130768343, 0.42751832279228197, 0.058968044523073374, 0.9670654421837013, 0.5858471925550484, 0.05669488960210145, 0.1133897792042029, 0.18898296534033818, 0.05669488960210145, 0.8367332843584022, 0.9690633898770976, 0.8503654494016517, 0.07665410151105523, 0.20441093736281393, 0.05110273434070348, 0.58768144491809, 0.07665410151105523, 0.02974078911709045, 0.9517052517468944, 0.833950985317334, 0.9130907964819591, 0.0163051927943207, 0.038045449853414966, 0.005435064264773567, 0.02717532132386783, 0.8503219754419082, 0.9448481775375259, 0.980973344239848, 0.9564709526842954, 0.04431523352293197, 0.9306199039815715, 0.9100346368113332, 0.2195562586220565, 0.3592738777451833, 0.04989914968683102, 0.2295360885594227, 0.15967727899785927, 0.8937680576245592, 0.8032903966188201, 0.08925448851320222, 0.2093627552923507, 0.05583006807796019, 0.6420457828965422, 0.041872551058470146, 0.05583006807796019, 0.0900742309009391, 0.016377132891079837, 0.712405280761973, 0.14739419601971854, 0.032754265782159675, 0.9067378788634113, 0.06716576880469713, 0.16488879794985611, 0.44393137909576647, 0.16488879794985611, 0.1268375368845047, 0.08878627581915328, 0.11888661925361411, 0.03962887308453804, 0.7925774616907608, 0.07898014666035703, 0.8687816132639273, 0.9116427948746527, 0.09116427948746526, 0.8318274315395305, 0.14679307615403478, 0.8236629507434989, 0.03581143264102169, 0.10743429792306508, 0.9220904619032885, 0.08285254389885428, 0.5109240207096014, 0.23474887438008715, 0.13808757316475714, 0.02761751463295143, 0.08543324895967487, 0.23494143463910588, 0.042716624479837435, 0.17086649791934974, 0.46988286927821177, 0.04875328212979971, 0.14625984638939912, 0.5200350093845303, 0.113757658302866, 0.14625984638939912, 0.4241436478818228, 0.1454206792737678, 0.0727103396368839, 0.23024940885013237, 0.13330228933428717, 0.7630281047957723, 0.08976801232891439, 0.13465201849337158, 0.9597791610056643, 0.7651954934868612, 0.956471001262416, 0.7243259859384985, 0.15364490610816636, 0.02194927230116662, 0.04389854460233324, 0.04389854460233324, 0.8936237125431611, 0.16248721296258398, 0.051700476851731264, 0.3397459907399483, 0.25850238425865635, 0.18464456018475453, 0.6535021391227764, 0.05026939531713665, 0.15080818595140996, 0.05026939531713665, 0.1005387906342733, 0.12794029460450354, 0.1663223829858546, 0.5245552078784645, 0.07676417676270213, 0.10235223568360284, 0.061857680861868214, 0.12371536172373643, 0.21650188301653875, 0.4020749256021434, 0.19588265606258268, 0.8638331355423566, 0.03259747681291912, 0.04889621521937868, 0.04889621521937868, 0.9052819284236837, 0.893642806479906, 0.04491301140356454, 0.04491301140356454, 0.7186081824570326, 0.17965204561425815, 0.1829182543326207, 0.22864781791577587, 0.4801604176231294, 0.02286478179157759, 0.09145912716631036, 0.9690798157594614, 0.8746951149632265, 0.8924344245251434, 0.9471849974286787, 0.5226960597203962, 0.2776822817264605, 0.04900275559878714, 0.032668503732524765, 0.11433976306383667, 0.040269979275881926, 0.9463445129832252, 0.8956512709537351, 0.04975840394187417, 0.9371546554330741, 0.9219932357976907, 0.2978198256922695, 0.2536983700341555, 0.308850189606798, 0.088242911316228, 0.0551518195726425, 0.024080040229522436, 0.9632016091808975, 0.06726473435013995, 0.43722077327590964, 0.1345294687002799, 0.28587512098809476, 0.08408091793767493, 0.15987115513591743, 0.12434423177238021, 0.07993557756795872, 0.559549042975711, 0.07993557756795872, 0.15530514641114926, 0.1242441171289194, 0.2950797781811836, 0.43485440995121794, 0.13793514182545613, 0.1034513563690921, 0.12808263169506642, 0.11823012156467669, 0.5123305267802657, 0.8923452106618608, 0.9618204679693378, 0.98162557584984, 0.9220619713823538, 0.08026356791359127, 0.9096537696873677, 0.04803968725686812, 0.04803968725686812, 0.8647143706236262, 0.26376025800022246, 0.16784743690923248, 0.15585833427285875, 0.28773846327297, 0.1198910263637375, 0.9558865844441787, 0.45112411486015486, 0.11278102871503871, 0.07518735247669248, 0.2506245082556416, 0.11278102871503871, 0.9473246541395086, 0.11253240549247656, 0.8439930411935742, 0.8910602288146827, 0.8970651797363685, 0.08970651797363684, 0.5096583395055675, 0.1164933347441297, 0.08737000105809728, 0.18930166895921077, 0.08737000105809728, 0.805269442722677, 0.053684629514845136, 0.13421157378711282, 0.9373366675596796, 0.9720423134789651, 0.09597220946875482, 0.04798610473437741, 0.8157637804844159, 0.2175640781964952, 0.15357464343282015, 0.16637253038555516, 0.14077675648008514, 0.3327450607711103, 0.9554415832194998, 0.9750054253828443, 0.1300164668255211, 0.7540955075880222, 0.10401317346041687, 0.9652153595316424, 0.18248654611733145, 0.17108113698499824, 0.35356768310232967, 0.18248654611733145, 0.11405409132333216, 0.9171638201919206, 0.05850279939082044, 0.7410354589503922, 0.07800373252109391, 0.11700559878164088, 0.2024946029326128, 0.337491004887688, 0.2699928039101504, 0.12374670179215226, 0.0674982009775376, 0.19500826131511395, 0.06500275377170464, 0.6825289146028988, 0.03250137688585232, 0.0250470175834631, 0.0500940351669262, 0.1001880703338524, 0.0751410527503893, 0.751410527503893, 0.8935839863581663, 0.1043841600167073, 0.5567155200891056, 0.2087683200334146, 0.05219208000835365, 0.07828812001253048, 0.028273677607301526, 0.6785682625752366, 0.16964206564380915, 0.1130947104292061, 0.7891701434293635, 0.8502946961438375, 0.8056030982990664, 0.017140491453171626, 0.017140491453171626, 0.017140491453171626, 0.15426442307854463, 0.07364798272901531, 0.8837757927481837, 0.07292668044917094, 0.07292668044917094, 0.018231670112292736, 0.6745717941548312, 0.16408503101063462, 0.11808440388440564, 0.42805596408097046, 0.05904220194220282, 0.23616880776881127, 0.14760550485550705, 0.8596863276582162, 0.8592952480180411, 0.06697409499748537, 0.16743523749371342, 0.10046114249622805, 0.6697409499748537, 0.33952245135126624, 0.11752700239082293, 0.2807589501558548, 0.11099772448022166, 0.14364411403322802, 0.2121732832026359, 0.056579542187369575, 0.09901419882789675, 0.5657954218736957, 0.07072442773421196, 0.2535092629426629, 0.44364121014966007, 0.1425989604052479, 0.09506597360349858, 0.07922164466958216, 0.20300464988817074, 0.17839802565930157, 0.22145961805982264, 0.07381987268660754, 0.31988611497529934, 0.9109325522513239, 0.9365141507393725, 0.8921126095929488, 0.870606660442445, 0.06696974311095731, 0.9287277956626223, 0.9298982922065181, 0.6479546861070029, 0.06573453337317421, 0.05634388574843503, 0.07512518099791338, 0.15025036199582675, 0.8308803543529589, 0.04491245158664643, 0.08982490317329286, 0.5513009762098686, 0.10786323447584387, 0.10786323447584387, 0.1438176459677918, 0.09587843064519454, 0.06907611462124257, 0.8979894900761534, 0.19098363563978174, 0.2637393063596986, 0.2728337651996882, 0.15460580027982332, 0.1273224237598545, 0.020383782659353974, 0.0815351306374159, 0.06115134797806192, 0.06115134797806192, 0.7338161757367431, 0.9377976654377052, 0.031606313197653814, 0.031606313197653814, 0.015803156598826907, 0.9007799261331337, 0.5922140589364534, 0.10877401082506288, 0.12086001202784764, 0.1692040168389867, 0.012086001202784764, 0.8607348652199183, 0.05637604611650607, 0.9020167378640971, 0.9171765044289961, 0.12004661200450868, 0.020007768667418116, 0.06002330600225434, 0.06002330600225434, 0.7202796720270521, 0.5696756281892803, 0.025132748302468248, 0.20106198641974599, 0.11728615874485182, 0.08377582767489415, 0.8969149529650479, 0.6403694903060841, 0.036247329639967026, 0.0845771024932564, 0.2054015346264798, 0.024164886426644685, 0.8920494492151971, 0.15194681675458438, 0.050648938918194795, 0.7090851448547272, 0.07597340837729219, 0.025324469459097398, 0.44243324480954926, 0.1951911374159776, 0.31230581986556416, 0.03903822748319552, 0.013012742494398507, 0.12258340483869874, 0.8580838338708912, 0.948712454738241, 0.8579166623694249, 0.9411318613848351, 0.13623192536883252, 0.06811596268441626, 0.7719809104233842, 0.02270532089480542, 0.9506929138556078, 0.04133447451546121, 0.896834883958141, 0.9372040122593703, 0.973379177683557, 0.452053456006884, 0.13295689882555412, 0.07977413929533247, 0.2393224178859974, 0.07977413929533247, 0.2362782841609302, 0.2670971907906167, 0.15409453314843272, 0.2362782841609302, 0.113002657642184, 0.02986040949398491, 0.05972081898796982, 0.08958122848195472, 0.6867894183616529, 0.08958122848195472, 0.13427929038763703, 0.10070946779072777, 0.6378266293412759, 0.13427929038763703, 0.10701475686191388, 0.856118054895311, 0.21475032095845567, 0.7874178435143374, 0.9896155090050046, 0.03357133110737344, 0.9399972710064562, 0.10503444728545616, 0.5251722364272808, 0.030009842081558904, 0.10503444728545616, 0.24007873665247123, 0.16789754174079996, 0.05596584724693333, 0.01865528241564444, 0.7462112966257777, 0.06013252907989722, 0.12026505815979444, 0.3728216802953627, 0.3607951744793833, 0.09621204652783555, 0.23756505421089794, 0.7126951626326938, 0.17225507655904843, 0.22967343541206456, 0.12632038947663551, 0.32154280957689035, 0.16077140478844518, 0.05946742922346219, 0.05946742922346219, 0.05946742922346219, 0.7730765799050084, 0.8466766994628783, 0.11289022659505044, 0.13982130189564684, 0.10098205136907829, 0.24080335326472513, 0.41946390568694053, 0.10098205136907829, 0.9653561141250103, 0.08493230606118113, 0.8493230606118113, 0.8291305174355292, 0.9187971767041151, 0.8744957123622826, 0.9362912548103639, 0.1449383018678117, 0.39340396221263174, 0.10352735847700836, 0.2588183961925209, 0.10352735847700836, 0.9283693254762996, 0.13690481663073664, 0.47061030716815716, 0.22247032702494704, 0.11123516351247352, 0.05133930623652624, 0.6898073570716727, 0.02705126890477148, 0.01352563445238574, 0.05410253780954296, 0.21641015123817184, 0.13302601073145012, 0.053210404292580046, 0.47889363863322043, 0.11972340965830511, 0.2261442182434652, 0.28301366164220737, 0.09433788721406912, 0.45596645486800075, 0.09433788721406912, 0.06289192480937941, 0.7967686607712066, 0.11951529911568098, 0.03983843303856033, 0.16697537132670626, 0.8014817823681901, 0.8797952997417298, 0.6963045982832665, 0.10444568974248998, 0.05222284487124499, 0.034815229914163325, 0.12185330469957165, 0.07769805758277383, 0.15539611516554766, 0.5015056443979038, 0.12714227604453898, 0.13420573582479114, 0.08944154287055438, 0.6260908000938806, 0.17888308574110875, 0.08944154287055438, 0.0710848510085098, 0.09774167013670097, 0.06219924463244607, 0.7641621483414803, 0.31076711519628814, 0.29350227546316104, 0.09495661853219915, 0.15538355759814407, 0.13811871786501695, 0.1760908657245094, 0.13695956223017397, 0.1760908657245094, 0.4695756419320251, 0.05869695524150314, 0.9180464452509676, 0.12648699853088388, 0.2845957466944887, 0.12648699853088388, 0.41108274522537264, 0.06324349926544194, 0.418332209190331, 0.13944406973011034, 0.13944406973011034, 0.24085793862473603, 0.06338366805914106, 0.07941007629239037, 0.8338058010700989, 0.039705038146195186, 0.8221062975446486, 0.06323894596497297, 0.06323894596497297, 0.015637959302431823, 0.06255183720972729, 0.25020734883890916, 0.5786044941899775, 0.09382775581459094, 0.9723103783821978, 0.20363482091076954, 0.04072696418215391, 0.7330853552787703, 0.959637935149686, 0.26816970104932614, 0.06704242526233153, 0.08938990034977537, 0.022347475087443842, 0.5586868771860961, 0.010413409429792719, 0.9476202581111375, 0.03124022828937816, 0.06683538303594479, 0.033417691517972394, 0.033417691517972394, 0.8688599794672823, 0.14682101025981878, 0.1908673133377644, 0.05872840410392751, 0.5872840410392751, 0.014682101025981878, 0.9637575452924024, 0.5966490815032134, 0.1539739565169583, 0.019246744564619788, 0.11548046738771872, 0.11548046738771872, 0.8567123120545574, 0.1318012528132, 0.4942546980495, 0.2306521924231, 0.1318012528132, 0.8567124344108432, 0.05677837593156093, 0.0851675638973414, 0.6529513232129507, 0.19872431576046326, 0.9495723522428525, 0.14681390822753443, 0.0978759388183563, 0.5383176635009596, 0.08564144646606175, 0.1345794158752399, 0.9563208257343907, 0.9421550894874587, 0.9223275051842806, 0.7761717365444085, 0.18735179847623654, 0.026764542639462364, 0.8502993720507576, 0.9189714733645495, 0.918265434639217, 0.9473378677847916, 0.197553152214636, 0.08642950409390326, 0.098776576107318, 0.2592885122817098, 0.3580650883890278, 0.05530079720166716, 0.7865002268681551, 0.006144533022407462, 0.03072266511203731, 0.12289066044814924, 0.8966826988928711, 0.8968890719166255, 0.9188632635518542, 0.07158255852150254, 0.8589907022580305, 0.07158255852150254, 0.9188353531916471, 0.18969348694265126, 0.25292464925686836, 0.047423371735662814, 0.42681034562096537, 0.09484674347132563, 0.1158697533034408, 0.16221765462481713, 0.08110882731240857, 0.4866529638744514, 0.15063067929447305, 0.3629999234350072, 0.09367739959613089, 0.18735479919226178, 0.023419349899032722, 0.3278708985864581, 0.9190592393767505, 0.7541348755639751, 0.13711543192072273, 0.06855771596036137, 0.022852571986787123, 0.017636197228306786, 0.03527239445661357, 0.2645429584246018, 0.6701754946756578, 0.017636197228306786, 0.8567923403110328, 0.8853828498916319, 0.03162081606755828, 0.06324163213511656, 0.03162081606755828, 0.19757095614866027, 0.4711307415852668, 0.10638436100312476, 0.07598882928794626, 0.13677989271830326, 0.42273810976103976, 0.1740686334310164, 0.18650210724751753, 0.07460084289900702, 0.13676821198151287, 0.30532592255412505, 0.0929252807773424, 0.1725755214436359, 0.07965024066629349, 0.33187600277622287, 0.018910751332697068, 0.09455375666348534, 0.20801826465966775, 0.11346450799618239, 0.5484117886482149, 0.16016916642308893, 0.6727104989769734, 0.09610149985385336, 0.06406766656923557, 0.11957119382937795, 0.22206078854027334, 0.051244797355447694, 0.4782847753175118, 0.1366527929478605, 0.049689085294801275, 0.8944035353064229, 0.049689085294801275, 0.9305118558834065, 0.029078495496356452, 0.029078495496356452, 0.07799256889420728, 0.8579182578362801, 0.03839223199506032, 0.06398705332510053, 0.7166549972411259, 0.16636633864526137, 0.012797410665020105, 0.8967305155985155, 0.5134257922613397, 0.1656212233101096, 0.1656212233101096, 0.1490591009790986, 0.02140862067545757, 0.9847965510710484, 0.5920134517419292, 0.24119066552448967, 0.0657792724157699, 0.08770569655435988, 0.6316205881434844, 0.09288538060933595, 0.13003953285307032, 0.09288538060933595, 0.03715415224373438, 0.07127199149201703, 0.9265358893962213, 0.8963436011387438, 0.17963210836207713, 0.20529383812808816, 0.21812470301109366, 0.02566172976601102, 0.35926421672415426, 0.12270179682542307, 0.12270179682542307, 0.030675449206355766, 0.6441844333334711, 0.0920263476190673, 0.15144338375848118, 0.7572169187924059, 0.030288676751696237, 0.060577353503392474, 0.9252534885485488, 0.19757329783790858, 0.5289865716305294, 0.10197331501311412, 0.07010665407151595, 0.09559998282479448, 0.8290680605134353, 0.07895670444663566, 0.8685237489129923, 0.20513872965362132, 0.3125923499483753, 0.09768510935886729, 0.3418978827560355, 0.048842554679433645, 0.0445311160419892, 0.9351534368817732, 0.07684197847917444, 0.05122798565278296, 0.10245597130556593, 0.6659638134861785, 0.12806996413195743, 0.8607649708540637, 0.8776247234851493, 0.030262921499487908, 0.07565730374871978, 0.015131460749743954, 0.9772890658876098, 0.20164694724811594, 0.1176273858947343, 0.1176273858947343, 0.08401956135338165, 0.4705095435789372, 0.036582791601244814, 0.39021644374661135, 0.10974837480373445, 0.4389934992149378, 0.02438852773416321, 0.024590667563226604, 0.024590667563226604, 0.934445367402611, 0.27556533862010346, 0.4931169217412377, 0.029006877749484572, 0.15953782762216515, 0.04351031662422686, 0.06332362816786304, 0.13931198196929867, 0.13931198196929867, 0.5445832022436221, 0.10131780506858085, 0.9224845836539179, 0.8942814019936737, 0.8942412430041176, 0.059616082866941165, 0.1228377360004704, 0.1403859840005376, 0.5615439360021504, 0.0701929920002688, 0.08774124000033601, 0.9083758710268112, 0.050465326168156174, 0.033643550778770785, 0.8962113624681154, 0.05505411553370469, 0.715703501938161, 0.08258117330055705, 0.11010823106740938, 0.05505411553370469, 0.8067755466491368, 0.06290269424976801, 0.8806377194967521, 0.8615032141690884, 0.10768790177113605, 0.07585388237663206, 0.0505692549177547, 0.6068310590130565, 0.2022770196710188, 0.0505692549177547, 0.6091616120599881, 0.18828631645490543, 0.05537832836908983, 0.13290798808581558, 0.011075665673817967, 0.07948934732138149, 0.05299289821425433, 0.6359147785710519, 0.21197159285701733, 0.026496449107127167, 0.8567721371343228, 0.13409442810542915, 0.13409442810542915, 0.6034249264744312, 0.03352360702635729, 0.11733262459225052, 0.19680332692382105, 0.5529236327859735, 0.0937158699637243, 0.03748634798548972, 0.11245904395646916, 0.8292014983789531, 0.9255947120965956, 0.08414497382696323, 0.1268565523994571, 0.44399793339809984, 0.15857069049932138, 0.1744277595492535, 0.11099948334952496, 0.035265800475422084, 0.9169108123609743, 0.12923274390578487, 0.14215601829636337, 0.3618516829361977, 0.2067723902492558, 0.16800256707752034, 0.983954149278944, 0.9173786025668401, 0.8745101352935929, 0.9644268002604015, 0.8746553135785865, 0.8503218671607096, 0.9564709437564594], \"Term\": [\"across\", \"across\", \"across\", \"across\", \"across\", \"adventures\", \"adventures\", \"afro\", \"afro\", \"aiyyo\", \"aiyyo\", \"aiyyo\", \"aiyyo\", \"alarm\", \"alarm\", \"alarm\", \"america\", \"america\", \"america\", \"animals\", \"appetite\", \"applause\", \"appreciate\", \"appreciate\", \"appreciate\", \"army\", \"army\", \"army\", \"attitudes\", \"attitudes\", \"attitudes\", \"automobile\", \"babay\", \"babay\", \"backside\", \"bail\", \"bail\", \"bail\", \"bail\", \"bail\", \"ballad\", \"bass\", \"bass\", \"bass\", \"bass\", \"bass\", \"batman\", \"beats\", \"beats\", \"beats\", \"beats\", \"beats\", \"beeotch\", \"bimbos\", \"bizzack\", \"blacks\", \"blacks\", \"blacks\", \"blacks\", \"blacks\", \"blam\", \"blam\", \"boils\", \"boom\", \"boom\", \"boom\", \"boom\", \"boom\", \"bowowow\", \"bowwowwowyippyyo\", \"bowwowwowyippyyoyippyyay\", \"bowwowwowyippyyoyoyoyoyoyo\", \"brenda\", \"brenda\", \"brrr\", \"buck\", \"buck\", \"buck\", \"buck\", \"buck\", \"butler\", \"bwoy\", \"bwoy\", \"cali\", \"cali\", \"cali\", \"cali\", \"cali\", \"california\", \"california\", \"california\", \"california\", \"california\", \"cards\", \"cards\", \"cars\", \"cars\", \"cars\", \"cars\", \"cars\", \"caskets\", \"caskets\", \"caskets\", \"cataracts\", \"cataracts\", \"chandon\", \"chandon\", \"changes\", \"changes\", \"chariot\", \"chariot\", \"chariot\", \"chiggie\", \"child\", \"child\", \"child\", \"child\", \"child\", \"children\", \"children\", \"children\", \"children\", \"children\", \"chips\", \"chips\", \"chips\", \"chips\", \"chips\", \"chorus\", \"chorus\", \"chorus\", \"chorus\", \"chorus\", \"christmas\", \"christmas\", \"christmas\", \"cinderfella\", \"claat\", \"claats\", \"collar\", \"collar\", \"collar\", \"collar\", \"collar\", \"committee\", \"compton\", \"compton\", \"compton\", \"compton\", \"compton\", \"corners\", \"corners\", \"corners\", \"corners\", \"corners\", \"count\", \"count\", \"count\", \"count\", \"count\", \"crip\", \"crip\", \"crip\", \"crip\", \"crip\", \"curse\", \"curse\", \"curse\", \"curse\", \"dadada\", \"dallas\", \"dawg\", \"dawg\", \"dawg\", \"dawg\", \"dear\", \"dear\", \"dear\", \"dear\", \"dear\", \"demos\", \"deville\", \"diggity\", \"discretion\", \"doctor\", \"doctor\", \"doctor\", \"doctor\", \"doctor\", \"doggz\", \"doggz\", \"dogz\", \"dogz\", \"doja\", \"dole\", \"drama\", \"drama\", \"drama\", \"drama\", \"drama\", \"drip\", \"drip\", \"drugs\", \"drugs\", \"drugs\", \"drugs\", \"drugs\", \"dumb\", \"dumb\", \"dumb\", \"dumb\", \"dumb\", \"eazy\", \"eazy\", \"eazy\", \"eazy\", \"enemies\", \"enemies\", \"enemies\", \"enemies\", \"enemies\", \"equality\", \"eruption\", \"exchange\", \"explanations\", \"express\", \"express\", \"eyez\", \"eyez\", \"eyez\", \"fade\", \"fade\", \"fade\", \"fade\", \"fade\", \"faden\", \"fear\", \"fear\", \"fear\", \"fear\", \"fear\", \"feelins\", \"figga\", \"figga\", \"figgaz\", \"finga\", \"finga\", \"finger\", \"finger\", \"finger\", \"finger\", \"finger\", \"flea\", \"flea\", \"flea\", \"flicc\", \"freek\", \"friday\", \"friday\", \"friday\", \"funky\", \"funky\", \"funky\", \"funky\", \"funky\", \"gimmee\", \"gizee\", \"goodbye\", \"goodbye\", \"goodbye\", \"gotham\", \"gots\", \"gots\", \"gots\", \"gots\", \"gots\", \"gotsta\", \"ground\", \"ground\", \"ground\", \"ground\", \"grow\", \"grow\", \"grow\", \"grow\", \"grow\", \"gutter\", \"gutter\", \"gutter\", \"gutter\", \"hail\", \"hail\", \"hail\", \"hail\", \"hail\", \"harmony\", \"haters\", \"haters\", \"haters\", \"haters\", \"haters\", \"health\", \"health\", \"health\", \"health\", \"heartz\", \"heezos\", \"hello\", \"hello\", \"hello\", \"hello\", \"hello\", \"hellrazor\", \"hellrazor\", \"hennessy\", \"hennessy\", \"hennessy\", \"hennessy\", \"hennessy\", \"hide\", \"hide\", \"hide\", \"hide\", \"hide\", \"highlights\", \"hilites\", \"history\", \"history\", \"history\", \"history\", \"holla\", \"holla\", \"holla\", \"holla\", \"holla\", \"homeboy\", \"homeboy\", \"homeboy\", \"homeboy\", \"homeboy\", \"homeboys\", \"homeboys\", \"homeboys\", \"homeboys\", \"homeboys\", \"homey\", \"homey\", \"homey\", \"homey\", \"homey\", \"hoods\", \"hooooooooooooooo\", \"hops\", \"hort\", \"hort\", \"housewife\", \"hustlas\", \"hustle\", \"hustle\", \"hustle\", \"hustle\", \"hustle\", \"impala\", \"impala\", \"impala\", \"indo\", \"indo\", \"indo\", \"indo\", \"indo\", \"inhale\", \"inhale\", \"jail\", \"jail\", \"jail\", \"jail\", \"jail\", \"jesus\", \"jesus\", \"jesus\", \"jesus\", \"jesus\", \"jill\", \"jones\", \"jones\", \"jones\", \"jones\", \"juice\", \"juice\", \"juice\", \"juice\", \"juice\", \"jumpsuit\", \"kato\", \"kato\", \"keenan\", \"kush\", \"kush\", \"kush\", \"kush\", \"kush\", \"lady\", \"lady\", \"lady\", \"lady\", \"lady\", \"lala\", \"lane\", \"lane\", \"lane\", \"lane\", \"lane\", \"learnt\", \"legend\", \"legend\", \"legend\", \"legend\", \"legend\", \"limit\", \"limit\", \"limit\", \"limit\", \"limit\", \"limos\", \"limos\", \"linden\", \"locate\", \"louieville\", \"mansion\", \"mansion\", \"mansion\", \"mansion\", \"math\", \"math\", \"matta\", \"mayn\", \"medicine\", \"middle\", \"middle\", \"middle\", \"middle\", \"middle\", \"mission\", \"mission\", \"mission\", \"mission\", \"mission\", \"model\", \"model\", \"model\", \"model\", \"model\", \"moment\", \"moment\", \"moment\", \"moment\", \"mothafuckaz\", \"mothafuckaz\", \"motto\", \"motto\", \"mourn\", \"murderah\", \"murderah\", \"mutha\", \"mutha\", \"mutha\", \"mutha\", \"mutha\", \"muthafucka\", \"muthafucka\", \"muthafucka\", \"muthafucka\", \"nation\", \"nation\", \"nation\", \"nation\", \"nation\", \"nature\", \"nature\", \"neighborhood\", \"neighborhood\", \"neighborhood\", \"neighborhood\", \"neighborhood\", \"nick\", \"nick\", \"nick\", \"nick\", \"nightmare\", \"nightmare\", \"nuts\", \"nuts\", \"nuts\", \"nuts\", \"nuts\", \"nutt\", \"nutz\", \"nutz\", \"nympho\", \"occasions\", \"ohhh\", \"ohhhhhhh\", \"ones\", \"ones\", \"ones\", \"ones\", \"ones\", \"orders\", \"outlaw\", \"outlaw\", \"outlaw\", \"outlaw\", \"outlaw\", \"outlawz\", \"outlawz\", \"outlawz\", \"outlawz\", \"outlawz\", \"park\", \"park\", \"park\", \"park\", \"park\", \"passion\", \"passion\", \"passion\", \"passion\", \"passion\", \"patient\", \"patient\", \"patient\", \"pavement\", \"pavement\", \"peer\", \"perfect\", \"perfect\", \"perfect\", \"perfect\", \"perfect\", \"pimp\", \"pimp\", \"pimp\", \"pimp\", \"pimp\", \"plane\", \"plane\", \"plane\", \"plane\", \"platinum\", \"platinum\", \"platinum\", \"platinum\", \"playa\", \"playa\", \"playa\", \"playa\", \"playa\", \"pockets\", \"pockets\", \"pockets\", \"pockets\", \"pockets\", \"pollaseeds\", \"power\", \"power\", \"power\", \"power\", \"power\", \"pray\", \"pray\", \"pray\", \"pray\", \"pray\", \"prayer\", \"prayer\", \"prayer\", \"prince\", \"prince\", \"prince\", \"promise\", \"promise\", \"promise\", \"promise\", \"promise\", \"pronto\", \"pros\", \"pros\", \"pros\", \"puffs\", \"rage\", \"rage\", \"rage\", \"rage\", \"rage\", \"rebel\", \"rebel\", \"rebel\", \"revolution\", \"revolution\", \"revolution\", \"revolution\", \"riches\", \"riches\", \"riches\", \"riches\", \"riches\", \"ridah\", \"rise\", \"rise\", \"rise\", \"rise\", \"rise\", \"rivers\", \"road\", \"road\", \"road\", \"road\", \"roads\", \"role\", \"role\", \"role\", \"role\", \"roughest\", \"round\", \"round\", \"round\", \"round\", \"round\", \"rovers\", \"rrrr\", \"rubbers\", \"ruff\", \"ruff\", \"ruff\", \"sacramento\", \"satisfiction\", \"scar\", \"scrubs\", \"seat\", \"seat\", \"seat\", \"seat\", \"seat\", \"self\", \"self\", \"self\", \"self\", \"self\", \"shatter\", \"sheeeit\", \"sheepskins\", \"shorties\", \"shorties\", \"shorties\", \"siren\", \"slang\", \"slang\", \"slang\", \"slang\", \"slang\", \"slide\", \"slide\", \"slide\", \"slide\", \"slide\", \"smoking\", \"smoking\", \"smoking\", \"smoking\", \"smoking\", \"smugglers\", \"soldiers\", \"soldiers\", \"soldiers\", \"soldiers\", \"soulja\", \"soulja\", \"soulja\", \"soulja\", \"soulja\", \"spring\", \"stories\", \"stories\", \"stories\", \"stories\", \"story\", \"story\", \"story\", \"story\", \"story\", \"strap\", \"strap\", \"strap\", \"strap\", \"strap\", \"stress\", \"stress\", \"stress\", \"stress\", \"stress\", \"stuff\", \"stuff\", \"stuff\", \"stuff\", \"stuff\", \"suicide\", \"suicide\", \"suicide\", \"suicide\", \"super\", \"super\", \"super\", \"super\", \"super\", \"superman\", \"superman\", \"superman\", \"supreme\", \"supreme\", \"supreme\", \"sway\", \"sway\", \"swear\", \"swear\", \"swear\", \"swear\", \"swear\", \"sweetheart\", \"swing\", \"swing\", \"swing\", \"swing\", \"swivel\", \"swivel\", \"system\", \"system\", \"system\", \"system\", \"tank\", \"tank\", \"tank\", \"tank\", \"tank\", \"teardrops\", \"teardrops\", \"temperature\", \"thank\", \"thank\", \"thank\", \"thank\", \"thank\", \"thats\", \"thats\", \"thats\", \"thats\", \"thats\", \"thief\", \"thief\", \"thief\", \"thief\", \"thuglife\", \"thugs\", \"thugs\", \"thugs\", \"thugs\", \"thugs\", \"thursday\", \"tock\", \"tock\", \"today\", \"today\", \"today\", \"today\", \"today\", \"tommy\", \"tommy\", \"tomorrow\", \"tomorrow\", \"tomorrow\", \"tomorrow\", \"tomorrow\", \"toothbrushes\", \"toss\", \"toss\", \"toss\", \"toss\", \"toughest\", \"trees\", \"trees\", \"trees\", \"trees\", \"trees\", \"tricks\", \"tricks\", \"tricks\", \"tricks\", \"tricks\", \"trife\", \"trife\", \"trife\", \"trigger\", \"trigger\", \"trigger\", \"trigger\", \"trigger\", \"tryna\", \"tryna\", \"tryna\", \"tryna\", \"tryna\", \"tustle\", \"uhhhhh\", \"unborn\", \"unborn\", \"underground\", \"underground\", \"underground\", \"underground\", \"underground\", \"vapors\", \"vapors\", \"vapors\", \"vaseline\", \"video\", \"video\", \"video\", \"video\", \"video\", \"vivid\", \"voyage\", \"voyage\", \"waistline\", \"waistline\", \"warren\", \"warren\", \"warren\", \"warren\", \"warren\", \"water\", \"water\", \"water\", \"water\", \"water\", \"watts\", \"watts\", \"watts\", \"watts\", \"watts\", \"weee\", \"weight\", \"weight\", \"weight\", \"weight\", \"weight\", \"westside\", \"westside\", \"westside\", \"westside\", \"westside\", \"whoo\", \"whoop\", \"whoop\", \"wife\", \"wife\", \"wife\", \"wife\", \"wife\", \"witchu\", \"witchu\", \"woman\", \"woman\", \"woman\", \"woman\", \"woman\", \"wonda\", \"wooooooo\", \"xzibit\", \"yack\", \"yiggy\", \"yippyyo\", \"yizzear\"]}, \"R\": 30, \"lambda.step\": 0.01, \"plot.opts\": {\"xlab\": \"PC1\", \"ylab\": \"PC2\"}, \"topic.order\": [2, 5, 1, 4, 3]};\n",
       "\n",
       "function LDAvis_load_lib(url, callback){\n",
       "  var s = document.createElement('script');\n",
       "  s.src = url;\n",
       "  s.async = true;\n",
       "  s.onreadystatechange = s.onload = callback;\n",
       "  s.onerror = function(){console.warn(\"failed to load library \" + url);};\n",
       "  document.getElementsByTagName(\"head\")[0].appendChild(s);\n",
       "}\n",
       "\n",
       "if(typeof(LDAvis) !== \"undefined\"){\n",
       "   // already loaded: just create the visualization\n",
       "   !function(LDAvis){\n",
       "       new LDAvis(\"#\" + \"ldavis_el215442302565429800471792939\", ldavis_el215442302565429800471792939_data);\n",
       "   }(LDAvis);\n",
       "}else if(typeof define === \"function\" && define.amd){\n",
       "   // require.js is available: use it to load d3/LDAvis\n",
       "   require.config({paths: {d3: \"https://cdnjs.cloudflare.com/ajax/libs/d3/3.5.5/d3.min\"}});\n",
       "   require([\"d3\"], function(d3){\n",
       "      window.d3 = d3;\n",
       "      LDAvis_load_lib(\"https://cdn.rawgit.com/bmabey/pyLDAvis/files/ldavis.v1.0.0.js\", function(){\n",
       "        new LDAvis(\"#\" + \"ldavis_el215442302565429800471792939\", ldavis_el215442302565429800471792939_data);\n",
       "      });\n",
       "    });\n",
       "}else{\n",
       "    // require.js not available: dynamically load d3 & LDAvis\n",
       "    LDAvis_load_lib(\"https://cdnjs.cloudflare.com/ajax/libs/d3/3.5.5/d3.min.js\", function(){\n",
       "         LDAvis_load_lib(\"https://cdn.rawgit.com/bmabey/pyLDAvis/files/ldavis.v1.0.0.js\", function(){\n",
       "                 new LDAvis(\"#\" + \"ldavis_el215442302565429800471792939\", ldavis_el215442302565429800471792939_data);\n",
       "            })\n",
       "         });\n",
       "}\n",
       "</script>"
      ],
      "text/plain": [
       "<IPython.core.display.HTML object>"
      ]
     },
     "execution_count": 152,
     "metadata": {},
     "output_type": "execute_result"
    }
   ],
   "source": [
    "print('West Coast lyrics topics : ')\n",
    "pyLDAvis.display(gensim_prepare(west_lda, west_corpus, west_corpus.dictionary))"
   ]
  },
  {
   "cell_type": "code",
   "execution_count": 153,
   "metadata": {},
   "outputs": [
    {
     "name": "stdout",
     "output_type": "stream",
     "text": [
      "East Coast lyrics topics : \n"
     ]
    },
    {
     "data": {
      "text/html": [
       "\n",
       "<link rel=\"stylesheet\" type=\"text/css\" href=\"https://cdn.rawgit.com/bmabey/pyLDAvis/files/ldavis.v1.0.0.css\">\n",
       "\n",
       "\n",
       "<div id=\"ldavis_el2154423025654298003279601397\"></div>\n",
       "<script type=\"text/javascript\">\n",
       "\n",
       "var ldavis_el2154423025654298003279601397_data = {\"mdsDat\": {\"Freq\": [25.676936075945004, 22.040597162734123, 19.2584493780956, 17.599283740521255, 15.424733642704014], \"cluster\": [1, 1, 1, 1, 1], \"topics\": [1, 2, 3, 4, 5], \"x\": [0.03765379660228205, 0.0161796724669627, 0.019850862451593742, 0.05625143427427594, -0.12993576579511448], \"y\": [0.017122080397584637, 0.06573955044682515, 0.048457656081149866, -0.1059866311735373, -0.02533265575202236]}, \"tinfo\": {\"Category\": [\"Default\", \"Default\", \"Default\", \"Default\", \"Default\", \"Default\", \"Default\", \"Default\", \"Default\", \"Default\", \"Default\", \"Default\", \"Default\", \"Default\", \"Default\", \"Default\", \"Default\", \"Default\", \"Default\", \"Default\", \"Default\", \"Default\", \"Default\", \"Default\", \"Default\", \"Default\", \"Default\", \"Default\", \"Default\", \"Default\", \"Topic1\", \"Topic1\", \"Topic1\", \"Topic1\", \"Topic1\", \"Topic1\", \"Topic1\", \"Topic1\", \"Topic1\", \"Topic1\", \"Topic1\", \"Topic1\", \"Topic1\", \"Topic1\", \"Topic1\", \"Topic1\", \"Topic1\", \"Topic1\", \"Topic1\", \"Topic1\", \"Topic1\", \"Topic1\", \"Topic1\", \"Topic1\", \"Topic1\", \"Topic1\", \"Topic1\", \"Topic1\", \"Topic1\", \"Topic1\", \"Topic1\", \"Topic1\", \"Topic1\", \"Topic1\", \"Topic1\", \"Topic1\", \"Topic1\", \"Topic1\", \"Topic1\", \"Topic1\", \"Topic1\", \"Topic1\", \"Topic1\", \"Topic1\", \"Topic1\", \"Topic1\", \"Topic1\", \"Topic1\", \"Topic1\", \"Topic1\", \"Topic1\", \"Topic1\", \"Topic1\", \"Topic1\", \"Topic1\", \"Topic1\", \"Topic1\", \"Topic1\", \"Topic1\", \"Topic1\", \"Topic1\", \"Topic1\", \"Topic1\", \"Topic1\", \"Topic1\", \"Topic1\", \"Topic1\", \"Topic1\", \"Topic1\", \"Topic1\", \"Topic1\", \"Topic1\", \"Topic2\", \"Topic2\", \"Topic2\", \"Topic2\", \"Topic2\", \"Topic2\", \"Topic2\", \"Topic2\", \"Topic2\", \"Topic2\", \"Topic2\", \"Topic2\", \"Topic2\", \"Topic2\", \"Topic2\", \"Topic2\", \"Topic2\", \"Topic2\", \"Topic2\", \"Topic2\", \"Topic2\", \"Topic2\", \"Topic2\", \"Topic2\", \"Topic2\", \"Topic2\", \"Topic2\", \"Topic2\", \"Topic2\", \"Topic2\", \"Topic2\", \"Topic2\", \"Topic2\", \"Topic2\", \"Topic2\", \"Topic2\", \"Topic2\", \"Topic2\", \"Topic2\", \"Topic2\", \"Topic2\", \"Topic2\", \"Topic2\", \"Topic2\", \"Topic2\", \"Topic2\", \"Topic2\", \"Topic2\", \"Topic2\", \"Topic2\", \"Topic2\", \"Topic2\", \"Topic2\", \"Topic2\", \"Topic2\", \"Topic2\", \"Topic2\", \"Topic2\", \"Topic2\", \"Topic2\", \"Topic2\", \"Topic2\", \"Topic2\", \"Topic2\", \"Topic2\", \"Topic2\", \"Topic2\", \"Topic3\", \"Topic3\", \"Topic3\", \"Topic3\", \"Topic3\", \"Topic3\", \"Topic3\", \"Topic3\", \"Topic3\", \"Topic3\", \"Topic3\", \"Topic3\", \"Topic3\", \"Topic3\", \"Topic3\", \"Topic3\", \"Topic3\", \"Topic3\", \"Topic3\", \"Topic3\", \"Topic3\", \"Topic3\", \"Topic3\", \"Topic3\", \"Topic3\", \"Topic3\", \"Topic3\", \"Topic3\", \"Topic3\", \"Topic3\", \"Topic3\", \"Topic3\", \"Topic3\", \"Topic3\", \"Topic3\", \"Topic3\", \"Topic3\", \"Topic3\", \"Topic3\", \"Topic3\", \"Topic3\", \"Topic3\", \"Topic3\", \"Topic3\", \"Topic3\", \"Topic3\", \"Topic3\", \"Topic3\", \"Topic3\", \"Topic3\", \"Topic3\", \"Topic3\", \"Topic3\", \"Topic3\", \"Topic3\", \"Topic3\", \"Topic3\", \"Topic3\", \"Topic3\", \"Topic4\", \"Topic4\", \"Topic4\", \"Topic4\", \"Topic4\", \"Topic4\", \"Topic4\", \"Topic4\", \"Topic4\", \"Topic4\", \"Topic4\", \"Topic4\", \"Topic4\", \"Topic4\", \"Topic4\", \"Topic4\", \"Topic4\", \"Topic4\", \"Topic4\", \"Topic4\", \"Topic4\", \"Topic4\", \"Topic4\", \"Topic4\", \"Topic4\", \"Topic4\", \"Topic4\", \"Topic4\", \"Topic4\", \"Topic4\", \"Topic4\", \"Topic4\", \"Topic4\", \"Topic4\", \"Topic4\", \"Topic4\", \"Topic4\", \"Topic4\", \"Topic4\", \"Topic4\", \"Topic4\", \"Topic4\", \"Topic4\", \"Topic4\", \"Topic4\", \"Topic4\", \"Topic4\", \"Topic4\", \"Topic4\", \"Topic4\", \"Topic4\", \"Topic4\", \"Topic4\", \"Topic4\", \"Topic4\", \"Topic4\", \"Topic4\", \"Topic4\", \"Topic4\", \"Topic4\", \"Topic4\", \"Topic4\", \"Topic4\", \"Topic4\", \"Topic4\", \"Topic5\", \"Topic5\", \"Topic5\", \"Topic5\", \"Topic5\", \"Topic5\", \"Topic5\", \"Topic5\", \"Topic5\", \"Topic5\", \"Topic5\", \"Topic5\", \"Topic5\", \"Topic5\", \"Topic5\", \"Topic5\", \"Topic5\", \"Topic5\", \"Topic5\", \"Topic5\", \"Topic5\", \"Topic5\", \"Topic5\", \"Topic5\", \"Topic5\", \"Topic5\", \"Topic5\", \"Topic5\", \"Topic5\", \"Topic5\", \"Topic5\", \"Topic5\", \"Topic5\", \"Topic5\", \"Topic5\", \"Topic5\", \"Topic5\", \"Topic5\", \"Topic5\", \"Topic5\", \"Topic5\", \"Topic5\", \"Topic5\", \"Topic5\", \"Topic5\", \"Topic5\", \"Topic5\", \"Topic5\", \"Topic5\", \"Topic5\", \"Topic5\", \"Topic5\", \"Topic5\", \"Topic5\", \"Topic5\", \"Topic5\", \"Topic5\", \"Topic5\", \"Topic5\", \"Topic5\", \"Topic5\", \"Topic5\", \"Topic5\"], \"Freq\": [97.0, 234.0, 87.0, 172.0, 65.0, 56.0, 114.0, 45.0, 56.0, 46.0, 104.0, 55.0, 79.0, 79.0, 142.0, 73.0, 119.0, 175.0, 104.0, 41.0, 97.0, 60.0, 96.0, 81.0, 29.0, 55.0, 40.0, 30.0, 34.0, 89.0, 22.182381648171138, 11.705857113440361, 9.81078384084694, 12.482698448498176, 16.86682440806242, 9.714247709212794, 22.843609333975483, 21.936902285858743, 7.892264919627075, 8.763537305002517, 16.61867267469232, 35.76614148286942, 8.664749469472591, 8.646939189859731, 7.781219261920317, 7.747111184419941, 5.973090124191055, 5.9729814663867815, 21.296957565636752, 7.636806494390515, 8.480215353185853, 8.478232457352052, 6.7787541418682995, 5.915092166559214, 7.584581800817039, 7.569013624812032, 5.890288077190993, 7.571492244604285, 5.889430160551632, 5.858424721558813, 7.522916533196801, 11.660461715597302, 48.08799932568653, 20.54258439534365, 31.679462989677347, 22.224303487291248, 51.608306214321054, 34.66929636857649, 47.29748368960582, 16.7004199991505, 12.54408530776851, 17.20134731365808, 32.58285008367798, 35.58760056450994, 27.63334309471964, 20.354109797239296, 36.42253935109267, 40.82838378020981, 30.59563586581443, 43.70242721365899, 17.058650379407002, 33.8120814229876, 39.08058677920901, 28.380090145384322, 35.466294817268775, 34.65093712704485, 38.94041559343637, 42.95192208664732, 41.21383359500181, 48.31172792656845, 36.754199625378966, 41.98111304328359, 44.47242616168467, 46.98193095295538, 34.236536334876575, 37.40819567611338, 36.699464020135665, 35.569915088640144, 35.31916604100887, 33.58654796797527, 43.75295614728305, 38.12213243365483, 33.92627603083478, 28.375762050210287, 20.57991042194592, 8.665900114115122, 7.717016540602565, 7.683082062821884, 7.671118805306382, 6.782034288804432, 15.220693191686719, 7.5751520392135925, 8.409626146807659, 7.558295300697949, 10.078319649267675, 13.452793576556354, 5.83996840112191, 5.811292992021724, 5.78714360335362, 9.920685433388046, 5.768364532895791, 5.767125055811477, 7.380186676408359, 17.16537242998998, 4.877761479041224, 4.865725928060242, 5.638089835213599, 4.810589612284308, 13.42552433154638, 4.7287432957676305, 3.8937687525783264, 4.663858599478172, 60.44409152328534, 22.417871020409603, 9.332543255999044, 26.538168537737125, 62.10776119176083, 61.174104195303975, 13.831424046899501, 14.532463895250123, 157.90495453327367, 79.5987104274479, 51.21414730332616, 32.583310663398564, 51.78922871100351, 78.09483853473085, 64.3655468002547, 57.475106025209385, 57.83292047242486, 52.932954785887745, 42.38527374505706, 38.578493134905465, 29.58258795939946, 60.58438729393116, 70.6350638698026, 40.32004196915724, 33.650820696790085, 34.17110590509905, 67.67059727518543, 42.09486527556184, 44.21941515090918, 32.50380433278267, 40.15267772706361, 41.28964642310196, 35.669122401689776, 38.38050942627207, 39.69620854531865, 37.78682200296098, 33.762705510079904, 43.47877207864905, 29.221453497332902, 17.675127964928297, 14.861015967376973, 14.852727542627228, 14.851989164557594, 12.91767820223339, 13.74643165290166, 10.310510405097386, 11.059052301227702, 12.703450373466278, 38.07557272781046, 9.282381783818039, 15.16979677366752, 10.946518377609594, 10.876769142829595, 8.319463466880002, 7.460138022094522, 25.438025215421018, 21.99382928926723, 5.620238645748503, 5.619390296477008, 5.581338296861825, 5.575666924880164, 7.140057674812814, 5.543013333013453, 16.625946404397546, 15.719922474250604, 21.94479391586623, 46.46108372026498, 20.115645533683047, 20.82426461058558, 25.62016632768339, 42.50773683966893, 58.33652294867555, 45.192424515259255, 46.78807523391123, 62.67925428980197, 40.54722262013952, 89.78826049714938, 15.063844757398858, 39.66651825003998, 27.368498968308877, 39.57430216055608, 37.3607101668404, 27.628222145121857, 37.29114290821586, 25.035268780416803, 31.816572247369827, 28.806477167112433, 26.460024251377614, 25.847804097172606, 30.723568472078654, 23.858325557762708, 28.08101285861063, 24.469223439183445, 27.559113099838402, 24.838569575717667, 26.124868685174203, 56.06992692515469, 29.451512674986358, 16.922181801744053, 18.577249629353105, 13.22426690928221, 61.42051088002871, 14.881575578394383, 12.083143797139858, 9.485672308977808, 19.702911772598057, 18.72335297391323, 10.217860390870715, 7.65002172853357, 7.649672382180708, 7.633052109804117, 7.594385929056995, 7.551345142353566, 7.542610287140387, 6.675832933632381, 7.4942850386541044, 6.662055885939275, 6.569583786697437, 13.100581550886249, 5.708209337742605, 5.703488376412484, 5.694077559934349, 10.522858899185499, 5.6568165411442015, 5.564385119217422, 4.759548549020187, 19.056283637365954, 11.68607697175478, 18.186112120833734, 77.84757079565395, 12.498055999919783, 15.025697698432793, 25.218035466887024, 32.402800235100855, 54.97681261591529, 53.19524671321309, 43.49712875159665, 19.064139144738878, 20.874746257610198, 47.90709047303894, 18.757585327318886, 64.94737287709962, 23.511074152786854, 25.637363551134126, 35.02590800288323, 32.79262769479699, 28.189673648447375, 22.07541378064968, 39.46950747109634, 35.40122323223615, 28.75587076789101, 23.320601428629967, 22.495318525657325, 27.946251023999444, 28.409718780652387, 27.682020756507058, 24.459365256498877, 22.317972610348406, 22.520993089809473, 22.404646397606864, 21.39891653224784, 28.880671346249308, 21.57104399704941, 17.10763758445367, 20.449933307848227, 17.697531824028232, 17.625860196106117, 12.564255944604193, 14.235567382699466, 14.199738908704985, 15.842009244755975, 10.750754673983893, 21.3284748787539, 11.458788821311394, 7.3556741052358845, 8.13101574607229, 8.120421028602061, 8.051801253925898, 10.457180127946467, 7.227046958094733, 7.174833057284285, 7.173932862811979, 6.370339690621617, 6.3675730475055055, 7.959470241506833, 7.160008946215862, 6.362911644445934, 6.36120300508353, 6.359245855424169, 6.348004696611858, 6.34792290841286, 82.7436697102309, 72.80340882558619, 38.37820641831684, 27.980457999742416, 8.627619534739539, 10.813333131884054, 42.608711497165324, 30.875548433814657, 16.972444837209608, 36.39365142089173, 15.367425880102337, 55.2711940201997, 35.779661119612314, 15.172298111492399, 72.91603327274002, 31.088273248009052, 48.06725170403863, 34.46880180873531, 31.12779791945826, 33.15680794873886, 26.185806811857898, 35.21372872521092, 31.691664637551625, 27.645935877306545, 24.566475968492593, 23.43625323506969, 19.376807125859294, 20.53899855942396, 20.270473222179714, 21.084242733745427, 19.477939282487224, 19.969178079870186, 20.1828675753861], \"Term\": [\"cali\", \"chick\", \"mommy\", \"flipmode\", \"saturday\", \"crossroads\", \"plug\", \"clappers\", \"dutch\", \"homicide\", \"squad\", \"benjamins\", \"lets\", \"playa\", \"brooklyn\", \"loot\", \"minute\", \"cats\", \"beef\", \"leader\", \"funky\", \"whatcha\", \"power\", \"dreams\", \"yvette\", \"dear\", \"baseball\", \"mainline\", \"arab\", \"hello\", \"shimmy\", \"watcha\", \"mickens\", \"numerals\", \"jody\", \"salty\", \"punks\", \"infinity\", \"niggy\", \"aeiyo\", \"judgment\", \"delivery\", \"fudge\", \"inspector\", \"baggage\", \"beez\", \"midi\", \"chim\", \"worlds\", \"chambers\", \"cable\", \"shaq\", \"delicacies\", \"besta\", \"ditches\", \"donut\", \"tuff\", \"echo\", \"hyper\", \"nicole\", \"padlock\", \"survivor\", \"smith\", \"genesis\", \"deck\", \"georgia\", \"killer\", \"phat\", \"rise\", \"bluff\", \"funerals\", \"nickel\", \"freeze\", \"lover\", \"bastard\", \"slam\", \"method\", \"slap\", \"meth\", \"drama\", \"rebel\", \"bills\", \"killa\", \"grill\", \"attack\", \"bottom\", \"guys\", \"rappers\", \"battle\", \"chorus\", \"seat\", \"puff\", \"honey\", \"alright\", \"verse\", \"flavor\", \"laugh\", \"beats\", \"wack\", \"microphone\", \"chick\", \"cats\", \"arab\", \"oodles\", \"bladow\", \"hazyville\", \"mystikal\", \"hili\", \"clang\", \"popcaan\", \"zhane\", \"prettiest\", \"amounts\", \"busa\", \"writes\", \"dupa\", \"naku\", \"hahhhh\", \"heap\", \"motherland\", \"mistress\", \"haffi\", \"stase\", \"clack\", \"hollis\", \"goodness\", \"perfecta\", \"debut\", \"sake\", \"halfway\", \"babygirl\", \"accounts\", \"loot\", \"rowdy\", \"ooooh\", \"supa\", \"lets\", \"dreams\", \"heavens\", \"kills\", \"chick\", \"minute\", \"window\", \"sheets\", \"problems\", \"taste\", \"ground\", \"harlem\", \"across\", \"hello\", \"slide\", \"roof\", \"sugar\", \"cream\", \"shorty\", \"tear\", \"haters\", \"timbaland\", \"flipmode\", \"lady\", \"brand\", \"lick\", \"women\", \"doubt\", \"someone\", \"chorus\", \"brooklyn\", \"alright\", \"ones\", \"clappers\", \"kack\", \"cappucino\", \"gniht\", \"nwod\", \"pilf\", \"haaa\", \"downfall\", \"badman\", \"porridge\", \"patti\", \"leader\", \"disc\", \"toot\", \"anthony\", \"hamilton\", \"pease\", \"heee\", \"flava\", \"rally\", \"brrah\", \"spoilers\", \"jaguars\", \"biggity\", \"francis\", \"juelz\", \"boyz\", \"squat\", \"trenches\", \"benjamins\", \"format\", \"american\", \"march\", \"clap\", \"playa\", \"whatcha\", \"pray\", \"funky\", \"limit\", \"cats\", \"shawty\", \"truck\", \"stomp\", \"benz\", \"buck\", \"dress\", \"knock\", \"minutes\", \"flavor\", \"thank\", \"album\", \"smash\", \"york\", \"holla\", \"woman\", \"coke\", \"shorty\", \"shame\", \"chorus\", \"crossroads\", \"mainline\", \"scrubb\", \"whaddup\", \"luuden\", \"saturday\", \"cocaina\", \"lalalala\", \"dandruff\", \"curl\", \"expression\", \"trugoy\", \"crisco\", \"mats\", \"dante\", \"bristol\", \"cowboy\", \"rollerskates\", \"rhinestone\", \"queensbridge\", \"gosh\", \"dillon\", \"wrms\", \"scarfaces\", \"sprinkler\", \"ziggy\", \"cereal\", \"maniac\", \"renee\", \"gansta\", \"princess\", \"stance\", \"drummer\", \"plug\", \"eastside\", \"heal\", \"paul\", \"posse\", \"power\", \"stars\", \"child\", \"creator\", \"bronx\", \"hustle\", \"sock\", \"brooklyn\", \"answer\", \"hush\", \"fellas\", \"drug\", \"okay\", \"hype\", \"woman\", \"water\", \"wife\", \"struggle\", \"prince\", \"land\", \"kind\", \"york\", \"hello\", \"hour\", \"drugs\", \"microphone\", \"pressure\", \"yvette\", \"fuhgidabowdit\", \"twyla\", \"brakes\", \"despacito\", \"sube\", \"kizza\", \"poquito\", \"pasito\", \"favoritos\", \"yippe\", \"quiero\", \"lahhh\", \"kanday\", \"itsoweezee\", \"lawd\", \"conmigo\", \"vamos\", \"khan\", \"suavecito\", \"para\", \"kizzer\", \"musi\", \"extinction\", \"pegando\", \"ques\", \"zound\", \"pues\", \"bews\", \"zigga\", \"cali\", \"mommy\", \"homicide\", \"weekend\", \"aqui\", \"event\", \"dutch\", \"baseball\", \"fucker\", \"dear\", \"jeff\", \"squad\", \"booty\", \"clicks\", \"flipmode\", \"poppa\", \"beef\", \"radio\", \"squeeze\", \"clip\", \"songs\", \"ways\", \"crib\", \"tears\", \"blunts\", \"lips\", \"cheddar\", \"anybody\", \"sweat\", \"brooklyn\", \"tape\", \"honey\", \"cats\"], \"Total\": [97.0, 234.0, 87.0, 172.0, 65.0, 56.0, 114.0, 45.0, 56.0, 46.0, 104.0, 55.0, 79.0, 79.0, 142.0, 73.0, 119.0, 175.0, 104.0, 41.0, 97.0, 60.0, 96.0, 81.0, 29.0, 55.0, 40.0, 30.0, 34.0, 89.0, 23.083689382754667, 12.49209392659904, 10.566416069383157, 13.446533864061518, 18.232447628622705, 10.561018826244531, 24.958513207653564, 23.980646830556452, 8.63945243186749, 9.59952225332208, 18.235857794464643, 39.3454876882029, 9.594887383764572, 9.592999323832888, 8.635662944786615, 8.635716240978507, 6.712748276852882, 6.712719964018631, 23.99231594688398, 8.625232582081098, 9.58760065116805, 9.58662623380737, 7.6702032218930585, 6.709937445800554, 8.629280423234455, 8.61888996369713, 6.7084301044951395, 8.625096748515475, 6.709488322150051, 6.708014354020852, 8.614181853873326, 13.43207942263625, 57.449978996859905, 24.777109945532516, 39.22729911631118, 27.703251385979225, 69.66416893811976, 47.69254608907293, 68.63692605014631, 21.0298074392798, 15.291292297238666, 21.991040076312245, 46.64697441754428, 52.29659011578732, 40.0116949980848, 27.647748949648253, 58.653295202087264, 69.27954392336824, 48.30122082497192, 78.61009794399436, 22.840297922296763, 56.830011633385354, 69.39064652329793, 47.38498404265535, 65.21796288661146, 63.146419219025574, 75.86225779555765, 88.83767317335946, 87.692928251624, 119.84927158014573, 75.44397860638092, 99.8518246381029, 112.60485387059133, 126.18085023668627, 70.09553354784943, 85.66665521264984, 84.64591008972667, 84.77320018184957, 85.94013563485638, 74.4979815836152, 234.55795524526337, 175.73764533395996, 34.8411377330867, 29.187390583361694, 21.66253026404786, 9.409283126210099, 8.467116904471256, 8.466942786166102, 8.466110845322081, 7.52533771306671, 16.960694686046278, 8.464036583173291, 9.403846058081907, 8.463573375234061, 11.291906936031182, 15.07595560613304, 6.583364348742036, 6.582796845321181, 6.582196157490059, 11.283983984647412, 6.581892361361272, 6.582706023883815, 8.466131284577434, 19.738003927167497, 5.641585278408143, 5.640722692784408, 6.581363570543846, 5.640903245138875, 15.927032068007618, 5.639733461388932, 4.698559660021202, 5.632180071517078, 73.38655305359512, 27.231060374121807, 11.283916696094144, 32.91213980641732, 79.92343847130253, 81.79828997228542, 16.965530155933774, 17.88253309115277, 234.55795524526337, 119.68369593664552, 74.81897197991056, 46.00416623470742, 78.36213075343733, 125.20734594205152, 104.36286880996943, 92.8916405136832, 97.01694953880089, 89.11442767073181, 68.64888168470998, 62.1575837796621, 44.873129194346475, 116.60450069488442, 142.59600069555623, 71.20360696197082, 58.07609705901054, 61.825873965522725, 172.80990713827242, 90.39350558567574, 99.4365434346908, 63.36939436934673, 93.86158174964956, 100.76975209908197, 82.37310458558602, 119.84927158014573, 142.74151330805373, 126.18085023668627, 84.31892060254454, 45.14088717269432, 30.410151935775442, 18.42279127505024, 15.662230704693622, 15.662424048439245, 15.662440396940482, 13.823414491362778, 14.742838262550855, 11.058047674316253, 11.983418764588437, 13.830909895617385, 41.54624241313909, 10.138923683348507, 16.59644259379305, 11.984584193183345, 11.98594438400954, 9.221385593200395, 8.298327083964125, 28.6038875345085, 24.91934415432154, 6.453279156073672, 6.457519642463045, 6.456118617643468, 6.458226830923445, 8.302795408970452, 6.457384639438948, 19.390934836269555, 18.453239921983126, 25.904166904211923, 55.42847240489591, 24.02018065227442, 24.925508186286017, 32.30397049751042, 56.35796267231729, 79.49242831572428, 60.950980019123655, 68.30460184873995, 97.54075104149281, 61.28306081173465, 175.73764533395996, 19.419991922031716, 82.76343749491544, 48.31332350834827, 86.42942639777606, 80.39595466984366, 50.42552179841369, 84.77353152705825, 45.45246836802972, 85.66665521264984, 75.23724958819838, 64.36927633490636, 65.97900269179696, 109.10319501489712, 55.781289266669845, 114.01488091774439, 66.60506990910395, 142.59600069555623, 74.90672986172281, 119.84927158014573, 56.9399500121263, 30.8046535622572, 17.73432322469068, 19.596194173336077, 14.000176939096757, 65.36723622362908, 15.871432614315196, 13.057466111609653, 10.266397160881855, 21.46580945753462, 20.510321639313148, 11.20510229429297, 8.399110106132815, 8.399105841579626, 8.39935958691359, 8.401094429814476, 8.401392728367231, 8.40201928162584, 7.466631388677401, 8.393595285319352, 7.465595668125413, 7.463560210657692, 14.966661037653873, 6.53121921943434, 6.5343818532399105, 6.530453679365497, 12.140360926310835, 6.529189968944373, 6.530762217198331, 5.59903297518591, 22.446141716107388, 13.990796767069071, 22.322725190302002, 114.20614765563815, 15.851801625969657, 19.689678415037704, 36.53905458093185, 49.74053572511897, 96.68017729398112, 95.09882213964951, 76.53851847727849, 27.07620994167278, 30.90437640029469, 92.64935029385317, 27.16214015307558, 142.74151330805373, 37.387872027085656, 42.1806946311353, 67.47801966438304, 62.237986208826364, 54.84782659701546, 39.307418932693224, 114.01488091774439, 100.706012566345, 76.60698753112227, 49.55969636441224, 46.79577879518374, 91.54432404889454, 96.88549911725387, 109.10319501489712, 89.11442767073181, 53.727831275598895, 60.755165194227196, 74.4979815836152, 49.353507269369985, 29.671667459202016, 22.493837579068078, 18.004035925785818, 21.6035597796745, 18.908537118702995, 18.911258688713122, 13.511233301171174, 15.311107329520848, 15.313527598986077, 17.114590165115562, 11.718317607284943, 23.43778327824988, 12.62697859459437, 8.116582259072427, 9.017998339399877, 9.018262110294193, 9.02204881870168, 11.729239384191438, 8.121892415265664, 8.12298598967142, 8.12294014161627, 7.22144544948964, 7.221869780363484, 9.027888723999883, 8.12346198831165, 7.221739068776163, 7.221863440058056, 7.221805162234891, 7.221897607973038, 7.222186673644697, 97.6812391141261, 87.85417749121598, 46.288913011368905, 33.40031608009719, 9.93677213095971, 12.659489378143485, 56.261969153143724, 40.087098607481835, 21.774262513406406, 55.51184944721967, 19.970629346811, 104.90631446249077, 63.310567077002155, 20.923917739747473, 172.80990713827242, 54.81350351968545, 104.4231060626428, 70.5946948230447, 69.09156725960125, 79.69791258413791, 57.834404924836576, 100.89263488747889, 100.68078049037793, 84.00673464095092, 68.4753793914318, 70.50114400122077, 45.33589082542811, 66.18499478816065, 66.77758131502421, 142.74151330805373, 67.42713905550626, 112.60485387059133, 175.73764533395996], \"loglift\": [30.0, 29.0, 28.0, 27.0, 26.0, 25.0, 24.0, 23.0, 22.0, 21.0, 20.0, 19.0, 18.0, 17.0, 16.0, 15.0, 14.0, 13.0, 12.0, 11.0, 10.0, 9.0, 8.0, 7.0, 6.0, 5.0, 4.0, 3.0, 2.0, 1.0, 1.3197, 1.2946, 1.2854, 1.2852, 1.2817, 1.276, 1.271, 1.2705, 1.2691, 1.2685, 1.2667, 1.2642, 1.2576, 1.2557, 1.2554, 1.251, 1.2428, 1.2428, 1.2404, 1.2379, 1.2368, 1.2367, 1.236, 1.2335, 1.2305, 1.2297, 1.2295, 1.2293, 1.2292, 1.2242, 1.2241, 1.2181, 1.1817, 1.1722, 1.1459, 1.1392, 1.0596, 1.0407, 0.9872, 1.1291, 1.1615, 1.1139, 1.0008, 0.9746, 0.9894, 1.0533, 0.8831, 0.8308, 0.903, 0.7725, 1.0677, 0.8403, 0.7855, 0.847, 0.7504, 0.7594, 0.6927, 0.6328, 0.6045, 0.451, 0.6404, 0.4931, 0.4306, 0.3716, 0.643, 0.531, 0.5239, 0.4911, 0.4704, 0.5629, -0.3196, -0.1686, 1.4857, 1.4841, 1.461, 1.43, 1.4195, 1.4151, 1.4137, 1.4083, 1.404, 1.4013, 1.4005, 1.3992, 1.3986, 1.3984, 1.3925, 1.3876, 1.3836, 1.3835, 1.3804, 1.38, 1.375, 1.3726, 1.3668, 1.3645, 1.3576, 1.3531, 1.3414, 1.3361, 1.3244, 1.3236, 1.3183, 1.3178, 1.3224, 1.297, 1.2601, 1.2218, 1.308, 1.3048, 1.1166, 1.1044, 1.1332, 1.1674, 1.0981, 1.0402, 1.029, 1.0322, 0.995, 0.9914, 1.0301, 1.0353, 1.0956, 0.8575, 0.8098, 0.9436, 0.9666, 0.9193, 0.5747, 0.748, 0.7019, 0.8447, 0.6632, 0.6201, 0.6753, 0.3736, 0.2325, 0.3065, 0.597, 1.6097, 1.6073, 1.6058, 1.5947, 1.5941, 1.5941, 1.5795, 1.5772, 1.5772, 1.5669, 1.5622, 1.56, 1.559, 1.5573, 1.5566, 1.5501, 1.5443, 1.5407, 1.5299, 1.5223, 1.509, 1.5082, 1.5016, 1.5003, 1.4963, 1.4945, 1.4934, 1.4869, 1.4813, 1.4707, 1.4698, 1.4674, 1.4154, 1.3652, 1.3378, 1.3481, 1.2689, 1.205, 1.2342, 0.9757, 1.3932, 0.9117, 1.0789, 0.8661, 0.8809, 1.0456, 0.826, 1.0508, 0.6567, 0.6872, 0.7582, 0.7101, 0.38, 0.7979, 0.246, 0.6459, 0.0035, 0.5434, 0.1239, 1.7219, 1.6924, 1.6904, 1.6839, 1.6803, 1.675, 1.6729, 1.6598, 1.6582, 1.6516, 1.6462, 1.6451, 1.6439, 1.6438, 1.6416, 1.6364, 1.6306, 1.6294, 1.6254, 1.624, 1.6234, 1.6097, 1.6041, 1.6026, 1.6013, 1.6003, 1.5943, 1.5939, 1.5772, 1.5749, 1.5736, 1.5573, 1.5324, 1.3541, 1.4996, 1.467, 1.3665, 1.3087, 1.1728, 1.1564, 1.1722, 1.3865, 1.345, 1.0778, 1.3671, 0.9499, 1.2734, 1.2394, 1.0816, 1.0966, 1.0717, 1.1604, 0.6765, 0.6919, 0.7575, 0.9835, 1.0048, 0.5508, 0.5105, 0.3658, 0.4444, 0.8588, 0.7449, 0.5358, 0.9016, 1.8422, 1.8273, 1.8181, 1.8143, 1.803, 1.7988, 1.7965, 1.7964, 1.7937, 1.7919, 1.783, 1.7749, 1.7721, 1.7708, 1.7657, 1.7643, 1.7554, 1.7544, 1.7525, 1.7451, 1.745, 1.7438, 1.7433, 1.7432, 1.743, 1.7426, 1.7423, 1.742, 1.7402, 1.7402, 1.7032, 1.6813, 1.6818, 1.6921, 1.7279, 1.7116, 1.5912, 1.6081, 1.6201, 1.447, 1.6072, 1.2284, 1.2985, 1.5478, 1.0063, 1.3021, 1.0933, 1.1523, 1.0719, 0.9922, 1.0768, 0.8166, 0.7133, 0.7578, 0.8441, 0.7679, 1.0192, 0.6991, 0.677, -0.0433, 0.6274, 0.1395, -0.295], \"logprob\": [30.0, 29.0, 28.0, 27.0, 26.0, 25.0, 24.0, 23.0, 22.0, 21.0, 20.0, 19.0, 18.0, 17.0, 16.0, 15.0, 14.0, 13.0, 12.0, 11.0, 10.0, 9.0, 8.0, 7.0, 6.0, 5.0, 4.0, 3.0, 2.0, 1.0, -6.51609992980957, -7.155300140380859, -7.331900119781494, -7.091000080108643, -6.789999961853027, -7.341800212860107, -6.486700057983398, -6.527200222015381, -7.549499988555908, -7.444799900054932, -6.804900169372559, -6.038400173187256, -7.456099987030029, -7.458199977874756, -7.563700199127197, -7.5680999755859375, -7.828100204467773, -7.828100204467773, -6.55679988861084, -7.582399845123291, -7.477700233459473, -7.47790002822876, -7.701600074768066, -7.837900161743164, -7.589300155639648, -7.591300010681152, -7.842100143432617, -7.591000080108643, -7.842199802398682, -7.847499847412109, -7.597400188446045, -7.159200191497803, -5.742400169372559, -6.592899799346924, -6.1596999168396, -6.514200210571289, -5.6717000007629395, -6.069499969482422, -5.758900165557861, -6.800000190734863, -7.086100101470947, -6.770400047302246, -6.1315999031066895, -6.043399810791016, -6.29640007019043, -6.602099895477295, -6.020199775695801, -5.906000137329102, -6.194499969482422, -5.8379998207092285, -6.77869987487793, -6.094600200653076, -5.94980001449585, -6.269700050354004, -6.046800136566162, -6.070099830627441, -5.953400135040283, -5.855299949645996, -5.896599769592285, -5.73769998550415, -6.011099815368652, -5.878200054168701, -5.820499897003174, -5.765600204467773, -6.082099914550781, -5.993500232696533, -6.012599945068359, -6.043900012969971, -6.051000118255615, -6.10129976272583, -5.8368000984191895, -5.974599838256836, -5.938499927520752, -6.117099761962891, -6.438399791717529, -7.303299903869629, -7.419300079345703, -7.423699855804443, -7.42519998550415, -7.548399925231934, -6.739999771118164, -7.43779993057251, -7.3333001136779785, -7.440000057220459, -7.152299880981445, -6.863500118255615, -7.697999954223633, -7.702899932861328, -7.706999778747559, -7.168099880218506, -7.710299968719482, -7.7104997634887695, -7.463900089263916, -6.619800090789795, -7.877999782562256, -7.880499839782715, -7.733099937438965, -7.891900062561035, -6.865499973297119, -7.908999919891357, -8.103300094604492, -7.922800064086914, -5.361000061035156, -6.352799892425537, -7.2291998863220215, -6.184100151062012, -5.333799839019775, -5.348999977111816, -6.835700035095215, -6.786300182342529, -4.400700092315674, -5.085700035095215, -5.526700019836426, -5.978899955749512, -5.515500068664551, -5.104800224304199, -5.298099994659424, -5.411300182342529, -5.405099868774414, -5.49370002746582, -5.71589994430542, -5.809999942779541, -6.075500011444092, -5.35860013961792, -5.2052001953125, -5.7657999992370605, -5.946599960327148, -5.931300163269043, -5.248000144958496, -5.722799777984619, -5.673500061035156, -5.981299877166748, -5.769999980926514, -5.742099761962891, -5.888400077819824, -5.815100193023682, -5.781400203704834, -5.830699920654297, -5.943299770355225, -5.555500030517578, -5.9527997970581055, -6.455599784851074, -6.629000186920166, -6.6296000480651855, -6.6296000480651855, -6.769199848175049, -6.706999778747559, -6.99459981918335, -6.924499988555908, -6.785900115966797, -5.688199996948242, -7.099599838256836, -6.608399868011475, -6.934700012207031, -6.941100120544434, -7.209199905395508, -7.31820011138916, -6.0914998054504395, -6.236999988555908, -7.601399898529053, -7.601500034332275, -7.60830020904541, -7.609300136566162, -7.361999988555908, -7.615200042724609, -6.5167999267578125, -6.572800159454346, -6.239200115203857, -5.489099979400635, -6.326200008392334, -6.291600227355957, -6.084400177001953, -5.578100204467773, -5.261499881744385, -5.5167999267578125, -5.482100009918213, -5.189700126647949, -5.62529993057251, -4.8302998542785645, -6.615499973297119, -5.647200107574463, -6.018400192260742, -5.649600028991699, -5.707099914550781, -6.008900165557861, -5.709000110626221, -6.107500076293945, -5.867800235748291, -5.967100143432617, -6.05210018157959, -6.075500011444092, -5.902699947357178, -6.155600070953369, -5.992700099945068, -6.130300045013428, -6.01140022277832, -6.1153998374938965, -6.064899921417236, -5.211100101470947, -5.854899883270264, -6.408999919891357, -6.315700054168701, -6.655600070953369, -5.119900226593018, -6.537499904632568, -6.745800018310547, -6.9878997802734375, -6.256899833679199, -6.3078999519348145, -6.91349983215332, -7.202899932861328, -7.203000068664551, -7.2052001953125, -7.21019983291626, -7.21589994430542, -7.217100143432617, -7.339200019836426, -7.223499774932861, -7.34119987487793, -7.355199813842773, -6.664999961853027, -7.495800018310547, -7.496600151062012, -7.498199939727783, -6.884099960327148, -7.504799842834473, -7.521299839019775, -7.677499771118164, -6.290299892425537, -6.779300212860107, -6.336999893188477, -4.882900238037109, -6.712100028991699, -6.527900218963623, -6.0100998878479, -5.759399890899658, -5.2307000160217285, -5.263700008392334, -5.465000152587891, -6.28980016708374, -6.199100017547607, -5.3684000968933105, -6.306099891662598, -5.0640997886657715, -6.0802001953125, -5.993599891662598, -5.681600093841553, -5.747499942779541, -5.89870023727417, -6.143199920654297, -5.562099933624268, -5.670899868011475, -5.878799915313721, -6.0883002281188965, -6.124300003051758, -5.907400131225586, -5.890900135040283, -5.916900157928467, -6.040599822998047, -6.132299900054932, -6.123199939727783, -6.128399848937988, -6.174300193786621, -5.742599964141846, -6.03439998626709, -6.266200065612793, -6.087800025939941, -6.2322998046875, -6.236400127410889, -6.574900150299072, -6.449999809265137, -6.452499866485596, -6.343100070953369, -6.730800151824951, -6.0457000732421875, -6.666999816894531, -7.110300064086914, -7.0100998878479, -7.01140022277832, -7.019899845123291, -6.758500099182129, -7.127900123596191, -7.135200023651123, -7.135300159454346, -7.2540998458862305, -7.2546000480651855, -7.031400203704834, -7.13730001449585, -7.255300045013428, -7.2555999755859375, -7.255899906158447, -7.257599830627441, -7.257599830627441, -4.690000057220459, -4.817999839782715, -5.4583001136779785, -5.7743000984191895, -6.950799942016602, -6.724999904632568, -5.353700160980225, -5.67579984664917, -6.274199962615967, -5.51140022277832, -6.373499870300293, -5.093500137329102, -5.52839994430542, -6.386300086975098, -4.816500186920166, -5.668900012969971, -5.2332000732421875, -5.565700054168701, -5.667699813842773, -5.604499816894531, -5.84060001373291, -5.544300079345703, -5.649700164794922, -5.786300182342529, -5.904399871826172, -5.951499938964844, -6.14169979095459, -6.083399772644043, -6.09660005569458, -6.057199954986572, -6.136499881744385, -6.111599922180176, -6.100900173187256]}, \"token.table\": {\"Topic\": [2, 1, 2, 3, 4, 5, 1, 1, 2, 3, 4, 5, 1, 2, 3, 4, 5, 1, 2, 3, 4, 5, 2, 1, 2, 3, 4, 5, 3, 1, 2, 3, 4, 5, 2, 5, 2, 1, 2, 3, 4, 5, 2, 3, 1, 1, 2, 5, 1, 2, 3, 4, 5, 1, 2, 3, 4, 5, 1, 2, 3, 4, 5, 1, 2, 3, 4, 5, 1, 1, 2, 3, 4, 1, 2, 3, 4, 5, 1, 5, 3, 1, 2, 3, 4, 5, 1, 2, 1, 2, 3, 4, 1, 2, 3, 4, 5, 1, 2, 3, 4, 5, 1, 2, 3, 4, 5, 1, 2, 3, 4, 5, 1, 2, 3, 4, 5, 4, 1, 2, 4, 5, 1, 2, 3, 4, 5, 3, 1, 2, 3, 4, 5, 2, 1, 1, 2, 3, 5, 3, 1, 2, 3, 4, 5, 2, 4, 1, 1, 2, 3, 4, 5, 1, 2, 3, 4, 5, 1, 2, 3, 4, 5, 1, 1, 2, 3, 4, 5, 2, 3, 4, 2, 1, 2, 3, 4, 5, 2, 3, 1, 2, 3, 5, 1, 2, 3, 4, 5, 4, 1, 2, 3, 4, 5, 5, 4, 1, 2, 3, 4, 5, 1, 2, 3, 4, 1, 2, 3, 4, 5, 4, 4, 1, 4, 5, 4, 4, 1, 2, 3, 4, 5, 2, 1, 2, 3, 4, 5, 1, 1, 3, 5, 4, 3, 1, 1, 1, 2, 3, 4, 5, 3, 1, 2, 3, 4, 5, 1, 2, 3, 4, 5, 1, 2, 3, 4, 5, 1, 2, 3, 4, 5, 1, 2, 3, 4, 5, 3, 4, 5, 1, 2, 1, 2, 3, 4, 5, 1, 2, 3, 4, 5, 1, 2, 5, 4, 5, 5, 5, 1, 2, 3, 4, 5, 1, 3, 5, 1, 2, 3, 4, 5, 1, 2, 3, 4, 5, 1, 3, 5, 3, 1, 2, 3, 4, 5, 1, 2, 3, 4, 5, 1, 5, 1, 3, 1, 2, 3, 4, 5, 4, 1, 5, 1, 2, 3, 5, 3, 2, 4, 1, 2, 3, 4, 5, 1, 2, 3, 4, 5, 1, 2, 3, 4, 5, 3, 2, 2, 2, 3, 1, 2, 3, 4, 5, 1, 2, 3, 4, 5, 2, 1, 2, 4, 2, 1, 2, 3, 1, 2, 3, 4, 5, 2, 1, 2, 3, 4, 5, 2, 1, 4, 5, 1, 2, 3, 4, 5, 1, 2, 3, 4, 5, 1, 3, 4, 1, 2, 3, 4, 5, 1, 2, 3, 4, 5, 1, 1, 2, 5, 1, 5, 3, 2, 5, 1, 5, 1, 2, 5, 3, 1, 3, 5, 5, 1, 2, 3, 4, 5, 1, 2, 3, 4, 5, 1, 2, 4, 5, 1, 2, 3, 4, 5, 5, 5, 1, 2, 3, 4, 5, 1, 2, 3, 4, 5, 5, 4, 1, 2, 3, 4, 5, 1, 2, 3, 4, 5, 5, 1, 3, 1, 2, 4, 5, 1, 2, 3, 4, 5, 1, 2, 3, 4, 1, 2, 3, 4, 5, 1, 2, 3, 4, 5, 1, 2, 3, 4, 5, 4, 2, 4, 4, 2, 3, 4, 5, 4, 1, 2, 3, 4, 5, 1, 2, 3, 4, 5, 1, 1, 2, 3, 4, 5, 1, 1, 2, 3, 4, 5, 1, 2, 3, 4, 5, 2, 1, 2, 3, 4, 5, 2, 5, 2, 2, 1, 2, 3, 4, 1, 1, 1, 3, 1, 2, 3, 4, 5, 1, 2, 3, 4, 5, 2, 2, 4, 1, 5, 5, 5, 3, 1, 3, 4, 3, 5, 2, 1, 2, 3, 4, 5, 3, 1, 2, 3, 4, 5, 1, 2, 3, 4, 5, 2, 1, 2, 3, 4, 5, 5, 3, 1, 2, 3, 4, 5, 1, 2, 3, 4, 5, 1, 2, 3, 4, 5, 1, 2, 3, 4, 5, 2, 1, 2, 3, 4, 5, 1, 4, 5, 1, 2, 4, 5, 5, 1, 2, 3, 4, 5, 1, 3, 4, 5, 2, 3, 5, 1, 2, 3, 4, 5, 2, 3, 1, 2, 3, 4, 5, 1, 3, 5, 4, 4, 1, 2, 3, 4, 5, 4, 1, 2, 3, 4, 5, 1, 2, 3, 2, 5, 1, 1, 2, 4, 5, 4, 4, 1, 2, 3, 4, 5, 1, 2, 3, 4, 5, 1, 2, 3, 4, 1, 2, 3, 4, 5, 1, 1, 2, 3, 4, 5, 1, 2, 3, 4, 5, 1, 2, 3, 4, 5, 1, 2, 3, 4, 5, 1, 2, 3, 4, 5, 1, 2, 3, 1, 2, 4, 5, 1, 2, 3, 4, 5, 1, 2, 3, 4, 5, 3, 4, 1, 2, 3, 4, 5, 3, 4, 1, 2, 3, 4, 5, 3, 4, 1, 2, 3, 4, 5, 2, 1, 2, 3, 4, 5, 1, 2, 3, 4, 5, 5, 5, 1, 2, 3, 4, 5, 1, 2, 3, 4, 5, 1, 2, 1, 2, 3, 4, 5, 1, 2, 3, 4, 5, 1, 2, 3, 4, 5, 1, 2, 3, 4, 5, 1, 2, 3, 4, 5, 1, 2, 3, 4, 5, 1, 2, 3, 4, 5, 2, 3, 1, 3, 5, 1, 2, 3, 4, 5, 4, 1, 5, 5, 1, 2, 3, 4, 5, 1, 2, 3, 4, 5, 1, 1, 2, 3, 4, 5, 1, 2, 3, 4, 5, 2, 3, 5, 4, 2, 3, 5, 1, 2, 3, 4, 5, 1, 2, 3, 4, 5, 1, 2, 3, 4, 5, 1, 2, 3, 4, 5, 1, 4, 2, 1, 4, 5, 1, 2, 3, 4, 5, 5, 1, 2, 5, 4, 5], \"Freq\": [0.8877557067619122, 0.20614954495143362, 0.5978336803591575, 0.061844863485430085, 0.08245981798057345, 0.051537386237858404, 0.9375466572709277, 0.06214144740712066, 0.046606085555340494, 0.4039194081462843, 0.18642434222136198, 0.29517187518382315, 0.372481243483768, 0.3011550479230464, 0.12680212544128272, 0.1030267269210422, 0.09510159408096204, 0.0401195431012395, 0.080239086202479, 0.8425104051260296, 0.0401195431012395, 0.0401195431012395, 0.850715755084548, 0.026746641244400047, 0.2942130536884005, 0.026746641244400047, 0.6419193898656012, 0.026746641244400047, 0.9178457777664608, 0.31729246284924595, 0.16620081387341454, 0.04532749469274942, 0.16620081387341454, 0.31729246284924595, 0.10063630189167057, 0.905726717025035, 0.9758579142985933, 0.5366619632209506, 0.13799879054253014, 0.10733239264419012, 0.10733239264419012, 0.10733239264419012, 0.8513247227730105, 0.904318763539634, 0.9263909500809816, 0.17461977152653108, 0.024945681646647296, 0.7733161310460662, 0.6997953973542048, 0.14995615657590103, 0.09997077105060069, 0.024992692762650173, 0.024992692762650173, 0.4675405510733497, 0.12543770882455724, 0.19385827727431573, 0.12543770882455724, 0.07982399652471824, 0.4246625103543962, 0.20053507433402046, 0.2241274360203758, 0.09436944674542139, 0.07077708505906603, 0.3064455866769888, 0.0574585475019354, 0.1532227933384944, 0.0191528491673118, 0.4596683800154832, 0.9263852327659999, 0.01804126934430312, 0.12628888541012184, 0.8298983898379435, 0.01804126934430312, 0.15041173523667523, 0.19669226915565222, 0.4628053391897699, 0.06942080087846549, 0.11570133479744248, 0.8941961156068793, 0.8308065726902507, 0.9290475787054502, 0.5982754362138184, 0.07038534543691982, 0.14077069087383964, 0.12317435451460969, 0.07038534543691982, 0.04616265910818582, 0.9694158412719023, 0.8083763985516642, 0.0951031057119605, 0.0951031057119605, 0.04755155285598025, 0.1168303128963901, 0.3650947278012191, 0.10222652378434134, 0.07301894556024381, 0.3650947278012191, 0.15795151523184736, 0.15795151523184736, 0.09477090913910842, 0.03159030304636947, 0.5686254548346505, 0.5542673746646072, 0.06334484281881225, 0.11085347493292144, 0.1266896856376245, 0.1741983177517337, 0.0515704894293988, 0.1031409788587976, 0.8766983202997796, 0.0462886677102558, 0.925773354205116, 0.19107663383813278, 0.4424932573093601, 0.24135995853237824, 0.08045331951079275, 0.040226659755396375, 0.9522568835328121, 0.06471575333197563, 0.22650513666191469, 0.6795154099857441, 0.032357876665987814, 0.0980793861263491, 0.2802268175038546, 0.021017011312789092, 0.45536857844376366, 0.14711907918952366, 0.9297598716697298, 0.11194593107277175, 0.12438436785863527, 0.4602221610769505, 0.08706905750104468, 0.21145342535967995, 0.9452272279471742, 0.8344110576847364, 0.020474760743598833, 0.10237380371799416, 0.020474760743598833, 0.8497025708593516, 0.977050639681142, 0.21623141659709486, 0.10811570829854743, 0.5121270393089089, 0.04552240349412524, 0.11380600873531309, 0.08236987401525929, 0.9060686141678521, 0.9275112205808783, 0.22057579145199402, 0.24263337059719342, 0.0661727374355982, 0.044115158290398804, 0.41909400375878864, 0.18758690130118078, 0.6736075092178765, 0.07674009598684668, 0.021316693329679635, 0.046896725325295194, 0.18291443678983796, 0.03919595074067956, 0.07839190148135912, 0.5618086272830737, 0.13065316913559855, 0.8938254585564516, 0.400503059944769, 0.31706492245627543, 0.2169391574700832, 0.01668762749769871, 0.041719068744246766, 0.8612826333771829, 0.05066368431630488, 0.05066368431630488, 0.9449439236223054, 0.03548744321416694, 0.08871860803541735, 0.7629800291045892, 0.05323116482125041, 0.05323116482125041, 0.022152865453758715, 0.9525732145116248, 0.047792197065484585, 0.14337659119645374, 0.047792197065484585, 0.7168829559822687, 0.30113712168637985, 0.12547380070265826, 0.11292642063239243, 0.03764214021079748, 0.41406354231877224, 0.9450942687096053, 0.07506936043792925, 0.12011097670068681, 0.3603329301020604, 0.25523582548895946, 0.1801664650510302, 0.8867165497283622, 0.952223072846966, 0.06860798641840905, 0.5231358964403691, 0.11148797792991472, 0.14579197113911924, 0.1543679694414204, 0.07386558178963651, 0.07386558178963651, 0.14773116357927302, 0.7017230270015469, 0.08939144051292025, 0.23837717470112066, 0.21851241014269393, 0.1489857341882004, 0.31783623293482755, 0.9524818580671547, 0.9834922578624301, 0.046585711197068065, 0.9317142239413613, 0.046585711197068065, 0.8766463890850414, 0.9524535671105446, 0.01801417192829783, 0.03602834385659566, 0.07205668771319132, 0.19815589121127614, 0.648510189418722, 0.8863828686139614, 0.815758431522858, 0.07647735295526793, 0.050984901970178624, 0.050984901970178624, 0.025492450985089312, 0.9126224948016896, 0.914971502838787, 0.07624762523656559, 0.9519509567028147, 0.9378902028557704, 0.887668186592725, 0.9270761416513816, 0.9281937736409326, 0.307631996251407, 0.40686812407444156, 0.11908335338764144, 0.09923612782303452, 0.06946528947612417, 0.949613619214844, 0.5597245284104305, 0.13993113210260763, 0.12721012009327967, 0.1144891080839517, 0.06360506004663984, 0.0855763610996234, 0.7457368610110039, 0.12225194442803342, 0.024450388885606685, 0.012225194442803343, 0.03966245521455203, 0.03966245521455203, 0.5552743730037284, 0.05949368282182804, 0.3172996417164162, 0.09640414745856771, 0.09640414745856771, 0.09640414745856771, 0.5302228110221224, 0.17674093700737412, 0.1810545649054575, 0.14813555310446522, 0.24689258850744203, 0.37856863571141114, 0.049378517701488406, 0.08959479557043018, 0.8063531601338716, 0.08959479557043018, 0.0663307869912532, 0.8623002308862915, 0.08886997869537983, 0.017773995739075968, 0.12441797017353176, 0.017773995739075968, 0.7642818167802665, 0.06308431202934826, 0.06308431202934826, 0.06308431202934826, 0.7570117443521792, 0.06308431202934826, 0.9275258276235493, 0.0789921275755792, 0.8689134033313712, 0.9263628495996747, 0.04875593945261446, 0.8861429559640752, 0.9348748550586145, 0.2815731714490249, 0.029639281205160517, 0.07409820301290129, 0.5186874210903091, 0.08891784361548155, 0.06992056578278551, 0.8740070722848188, 0.034960282891392754, 0.4319066725338478, 0.10505837980553054, 0.3735409059752197, 0.05836576655862808, 0.023346306623451232, 0.09837398955603621, 0.39349595822414485, 0.011573410536004261, 0.07522716848402769, 0.4224294845641555, 0.08326332049507813, 0.8326332049507814, 0.041631660247539067, 0.8430895445691828, 0.7074413809695759, 0.06431285281541599, 0.06431285281541599, 0.10718808802569331, 0.04287523521027732, 0.04592578046601121, 0.09185156093202242, 0.04592578046601121, 0.04592578046601121, 0.7807382679221905, 0.9379995449690034, 0.9780456501772012, 0.8501570532627624, 0.13079339280965574, 0.174286129832734, 0.04100850113711388, 0.6458838929095436, 0.10252125284278471, 0.04100850113711388, 0.8930113507384693, 0.8475564763672708, 0.12107949662389583, 0.7941306128108243, 0.0721936920737113, 0.0721936920737113, 0.03609684603685565, 0.9577179830140565, 0.8864112406014892, 0.9376344917642289, 0.5909044936006471, 0.10551865957154412, 0.12662239148585294, 0.10551865957154412, 0.06331119574292647, 0.16289318407828252, 0.6132449282947107, 0.028745856013814564, 0.1054014720506534, 0.07665561603683883, 0.5140896294584547, 0.2504539220438625, 0.14499963907802568, 0.07909071222437765, 0.013181785370729608, 0.9404333501048335, 0.911479257653372, 0.9114666821693863, 0.8865667206138885, 0.9177416186475144, 0.12918277612109097, 0.6136181865751821, 0.19377416418163645, 0.010765231343424247, 0.04306092537369699, 0.08609393973082506, 0.5854387901696104, 0.20662545535398014, 0.08609393973082506, 0.03443757589233002, 0.9565021988689003, 0.15236409334693826, 0.05078803111564609, 0.7618204667346913, 0.9115498621493432, 0.11788608912409912, 0.8252026238686938, 0.8435435153582893, 0.056107637457701684, 0.5947409570516379, 0.022443054983080676, 0.2693166597969681, 0.056107637457701684, 0.9448510757709351, 0.053781474746094564, 0.3047616902278692, 0.4302517979687565, 0.1434172659895855, 0.053781474746094564, 0.8862757103285026, 0.12962067176920647, 0.021603445294867747, 0.8209309212049744, 0.39074692153649115, 0.19537346076824558, 0.13320917779653108, 0.08880611853102072, 0.17761223706204143, 0.3908588807964298, 0.11167396594183708, 0.018612327656972846, 0.4094712084534026, 0.07444931062789138, 0.21336775220758764, 0.16595269616145705, 0.6163957285996976, 0.15110737372249905, 0.12952060604785634, 0.18348752523446316, 0.5180824241914254, 0.010793383837321362, 0.20352392034945208, 0.05088098008736302, 0.07632147013104452, 0.5596907809609932, 0.07632147013104452, 0.8942559718290566, 0.9174064467672037, 0.041700293034872896, 0.041700293034872896, 0.9381841586958483, 0.8871148229255914, 0.929350954550777, 0.20029413848385996, 0.7511030193144749, 0.9324036106546708, 0.054847271214980634, 0.932229248089455, 0.05483701459349735, 0.05483701459349735, 0.9291687478789109, 0.0328837554679748, 0.953628908571269, 0.8624319666292606, 0.8618681019269611, 0.562035403242795, 0.2882232837142538, 0.05764465674285076, 0.05764465674285076, 0.04323349255713807, 0.7464382449776984, 0.07177290817093253, 0.028709163268373014, 0.12919123470767857, 0.04306374490255952, 0.05592048927871083, 0.8388073391806624, 0.05592048927871083, 0.05592048927871083, 0.09289315823318325, 0.29932239875136823, 0.17546485444045726, 0.289000936725459, 0.13417900633682026, 0.9621623511506637, 0.8308585922260254, 0.18873815578737657, 0.21233042526079865, 0.43645698525830834, 0.05898067368355518, 0.09436907789368829, 0.27656854149001653, 0.4646351497032277, 0.07743919161720463, 0.09956467493640594, 0.07743919161720463, 0.8711506016735562, 0.9190144471698503, 0.19662606269708277, 0.1747787223974069, 0.22939707314659658, 0.3058627641954621, 0.08738936119870346, 0.4371150355732383, 0.22446447772679803, 0.14176703856429348, 0.047255679521431164, 0.15358095844465128, 0.8870888761226108, 0.07220869628034625, 0.9146434862177191, 0.050047896793582625, 0.7757424003005307, 0.1376317161823522, 0.025023948396791312, 0.11046341959969977, 0.5207561209700132, 0.11046341959969977, 0.04734146554272847, 0.22092683919939954, 0.08158861410921216, 0.16317722821842431, 0.6690266356955397, 0.09790633693105458, 0.19857833795941782, 0.24113083895072165, 0.12765750297391146, 0.09928916897970891, 0.3262358409333293, 0.06813237292053269, 0.8175884750463923, 0.040879423752319614, 0.040879423752319614, 0.027252949168213077, 0.6883814015463372, 0.03824341119701873, 0.1147302335910562, 0.1147302335910562, 0.03824341119701873, 0.9285596929633315, 0.032462627699382095, 0.9414162032820809, 0.9189501344789434, 0.06191189408602681, 0.8048546231183485, 0.09286784112904022, 0.030955947043013406, 0.952482341679294, 0.6418057239657362, 0.08281364180203048, 0.04140682090101524, 0.1035170522525381, 0.14492387315355335, 0.6137762571729966, 0.017049340477027684, 0.06819736190811074, 0.17049340477027683, 0.13639472381622147, 0.9463946842842595, 0.4563882037775615, 0.06711591232022963, 0.10738545971236742, 0.29531001420901043, 0.08053909478427557, 0.8938216886054547, 0.16710713889205916, 0.6684285555682367, 0.025066070833808875, 0.1002642833352355, 0.03342142777841183, 0.08800402142325703, 0.1540070374906998, 0.5500251338953565, 0.1540070374906998, 0.06600301606744277, 0.9115919359640021, 0.06829498802831435, 0.04552999201887624, 0.02276499600943812, 0.034147494014157176, 0.8309223543444914, 0.8862118214281095, 0.8308097739887542, 0.9448316457961524, 0.9113881113304163, 0.7730421090138265, 0.045473065236107446, 0.045473065236107446, 0.09094613047221489, 0.8944524688447542, 0.9259846110722475, 0.8924232907390609, 0.9577061605285003, 0.07292905203681598, 0.16409036708283595, 0.054696789027611985, 0.5105033642577118, 0.18232263009203994, 0.21347521850815537, 0.4032309682931824, 0.14231681233877025, 0.13045707797720607, 0.10673760925407769, 0.9593183714052682, 0.7975953954990905, 0.08862171061101007, 0.928701081043795, 0.11608763513047438, 0.8617569350458327, 0.9142243620553473, 0.9399236997501751, 0.16420786111776248, 0.10947190741184167, 0.6841994213240103, 0.8675485824927425, 0.8617015762579883, 0.9116651793640683, 0.7338672994021391, 0.0838705485031016, 0.0838705485031016, 0.0629029113773262, 0.0209676371257754, 0.9577051608720002, 0.050319257880926574, 0.12579814470231643, 0.7296292392734354, 0.025159628940463287, 0.06289907235115821, 0.14885363309214766, 0.05253657638546388, 0.10507315277092776, 0.6829754930110304, 0.01751219212848796, 0.9301908122801541, 0.03648735934716762, 0.14594943738867047, 0.16419311706225428, 0.07297471869433524, 0.5655540698810981, 0.9143688760516397, 0.917935041417856, 0.22114759802325573, 0.040208654186046494, 0.040208654186046494, 0.6433384669767439, 0.040208654186046494, 0.2585845485572604, 0.04137352776916166, 0.08274705553832332, 0.5688860068259728, 0.05171690971145207, 0.05856120805532212, 0.02928060402766106, 0.6880941946500349, 0.13176271812447476, 0.08784181208298318, 0.10130992256963924, 0.18235786062535062, 0.16209587611142276, 0.42550167479248474, 0.12157190708356708, 0.9451754988753467, 0.21369448820946232, 0.08547779528378494, 0.1923250393885161, 0.47012787406081713, 0.04273889764189247, 0.08910217289436415, 0.8464706424964594, 0.04455108644718207, 0.19141899098171256, 0.6635858354032702, 0.12761266065447505, 0.012761266065447504, 0.8308172077773439, 0.4206232600377844, 0.32047486479069287, 0.06008903714825491, 0.04005935809883661, 0.15022259287063727, 0.9215292517082715, 0.040066489204707456, 0.8339692065262199, 0.8308248114282526, 0.042666150980583295, 0.042666150980583295, 0.8959891705922493, 0.08499222236231524, 0.12748833354347286, 0.18414981511834969, 0.12748833354347286, 0.481622593386453, 0.08025893408808506, 0.8828482749689356, 0.4840288862146244, 0.10130837153329349, 0.15759080016290097, 0.21387322879250847, 0.04502594290368599, 0.7442985226302391, 0.17512906414829155, 0.04378226603707289, 0.9187289018423296, 0.9375044294559641, 0.6847626009017607, 0.16026358744509292, 0.029138834080925984, 0.07284708520231496, 0.04370825112138898, 0.9521520639086123, 0.19305769739277395, 0.6274375165265154, 0.06435256579759131, 0.06435256579759131, 0.04826442434819349, 0.03672277121276992, 0.8079009666809382, 0.14689108485107968, 0.816222378688676, 0.1255726736444117, 0.9468783423763645, 0.015298183888008991, 0.030596367776017982, 0.9331892171685484, 0.015298183888008991, 0.9186646165766966, 0.9585931069718908, 0.4904301268765617, 0.19882302440941688, 0.18556815611545577, 0.02650973658792225, 0.106038946351689, 0.2936985774257108, 0.16019922405038772, 0.3337483834383077, 0.1334993533753231, 0.08009961202519386, 0.8344958700682299, 0.1544799818684034, 0.772399909342017, 0.0514933272894678, 0.10868580846549059, 0.7173263358722379, 0.08694864677239247, 0.04347432338619624, 0.06521148507929435, 0.9530538916554532, 0.18934612379238636, 0.49791017737997895, 0.19635894319210437, 0.056102555197744104, 0.06311537459746212, 0.723386198146683, 0.10850792972200246, 0.10850792972200246, 0.036169309907334156, 0.036169309907334156, 0.5918052815900618, 0.14434275160733218, 0.20207985225026504, 0.04330282548219965, 0.014434275160733217, 0.17480255621808236, 0.6118089467632882, 0.07283439842420099, 0.07283439842420099, 0.058267518739360785, 0.10609435902962347, 0.21218871805924694, 0.39406476211003, 0.16671970704655115, 0.12125069603385538, 0.83550944383502, 0.05221934023968875, 0.08703223373281459, 0.11044785068824221, 0.14726380091765628, 0.6995030543588673, 0.03681595022941407, 0.21851792633720538, 0.43703585267441075, 0.08497919357557987, 0.09711907837209127, 0.16995838715115974, 0.08645372951443277, 0.12103522132020589, 0.1901982049317521, 0.155616713125979, 0.4495593934750504, 0.929149322372245, 0.9182199838880015, 0.17158166400398991, 0.20017860800465492, 0.057193888001329976, 0.03812925866755332, 0.5242773066788581, 0.8670564121880511, 0.10838205152350638, 0.17368255600443672, 0.13026191700332754, 0.1447354633370306, 0.10131482433592141, 0.44867993634479486, 0.07147555758609521, 0.8577066910331425, 0.11566915081079406, 0.08412301877148659, 0.15773066019653734, 0.5573149993610986, 0.08412301877148659, 0.8268239370149795, 0.24837868994722476, 0.02069822416226873, 0.5588520523812557, 0.02069822416226873, 0.12418934497361238, 0.282487606402147, 0.02017768617158193, 0.08071074468632772, 0.46408678194638436, 0.16142148937265544, 0.8617520710857651, 0.9518139588848736, 0.04457010322007983, 0.6685515483011975, 0.17828041288031932, 0.022285051610039915, 0.08914020644015966, 0.060767850761561035, 0.820365985281074, 0.030383925380780517, 0.09115177614234155, 0.030383925380780517, 0.8933836394517698, 0.07444863662098082, 0.17970102785528913, 0.1647259422006817, 0.11980068523685942, 0.2246262848191114, 0.29950171309214857, 0.13347741170793512, 0.2076315293234546, 0.3559397645544936, 0.0148308235231039, 0.2817856469389741, 0.16772178854201752, 0.6229666431560651, 0.07986751835334167, 0.08785427018867584, 0.03993375917667084, 0.12639809110803638, 0.5617692938134949, 0.12639809110803638, 0.09830962641736161, 0.08426539407202424, 0.0595190376268076, 0.24997995803259196, 0.1785571128804228, 0.19046092040578433, 0.3333066107101226, 0.2126606180791295, 0.09303902040961916, 0.38544737026842224, 0.11962159766951035, 0.18607804081923832, 0.09704674782835916, 0.5499315710273686, 0.24261686957089793, 0.09704674782835916, 0.016174457971393195, 0.06025387635624955, 0.9038081453437432, 0.11581148357688395, 0.849284212897149, 0.03860382785896132, 0.096661040697971, 0.22956997165768112, 0.483305203489855, 0.13290893095971013, 0.060413150436231876, 0.8924505762962326, 0.8943970357505194, 0.9442327303764256, 0.8525702027599428, 0.48505230332244387, 0.24252615166122193, 0.17119493058439195, 0.09986370950756197, 0.014266244215365997, 0.40726023692478774, 0.24435614215487264, 0.0698160406156779, 0.22108412861631332, 0.05818003384639825, 0.9606075707170886, 0.12908861813425107, 0.22838755516059808, 0.16880819294478988, 0.34754627959221446, 0.11915872443161639, 0.13876136762226085, 0.26761120898578883, 0.09911526258732918, 0.13876136762226085, 0.34690341905565214, 0.029939836425556667, 0.11975934570222667, 0.8383154199155867, 0.9695760223611533, 0.18047289800014205, 0.7382982190914902, 0.06562650836368802, 0.2088582323316115, 0.19580459281088577, 0.05221455808290287, 0.3785555461010458, 0.16969731376943434, 0.04009678188047708, 0.6816452919681104, 0.08019356376095416, 0.08019356376095416, 0.12029034564143123, 0.16664491377846966, 0.18418648364988752, 0.24558197819985003, 0.34206061249264824, 0.06139549454996251, 0.20242573847388778, 0.42615944941871114, 0.15980979353201666, 0.15980979353201666, 0.06392391741280667, 0.8752802374931792, 0.08336002261839802, 0.8855900120900877, 0.0668151698955532, 0.8685972086421915, 0.9387013024089409, 0.2016439573286198, 0.14665015078445076, 0.28413466714487334, 0.25663776387278886, 0.11915324751236625, 0.977363339619334, 0.05895984914006555, 0.8843977371009832, 0.8307733199275065, 0.9187723081106004, 0.8308105033832884], \"Term\": [\"accounts\", \"across\", \"across\", \"across\", \"across\", \"across\", \"aeiyo\", \"album\", \"album\", \"album\", \"album\", \"album\", \"alright\", \"alright\", \"alright\", \"alright\", \"alright\", \"american\", \"american\", \"american\", \"american\", \"american\", \"amounts\", \"answer\", \"answer\", \"answer\", \"answer\", \"answer\", \"anthony\", \"anybody\", \"anybody\", \"anybody\", \"anybody\", \"anybody\", \"aqui\", \"aqui\", \"arab\", \"attack\", \"attack\", \"attack\", \"attack\", \"attack\", \"babygirl\", \"badman\", \"baggage\", \"baseball\", \"baseball\", \"baseball\", \"bastard\", \"bastard\", \"bastard\", \"bastard\", \"bastard\", \"battle\", \"battle\", \"battle\", \"battle\", \"battle\", \"beats\", \"beats\", \"beats\", \"beats\", \"beats\", \"beef\", \"beef\", \"beef\", \"beef\", \"beef\", \"beez\", \"benjamins\", \"benjamins\", \"benjamins\", \"benjamins\", \"benz\", \"benz\", \"benz\", \"benz\", \"benz\", \"besta\", \"bews\", \"biggity\", \"bills\", \"bills\", \"bills\", \"bills\", \"bills\", \"bladow\", \"bladow\", \"bluff\", \"bluff\", \"bluff\", \"bluff\", \"blunts\", \"blunts\", \"blunts\", \"blunts\", \"blunts\", \"booty\", \"booty\", \"booty\", \"booty\", \"booty\", \"bottom\", \"bottom\", \"bottom\", \"bottom\", \"bottom\", \"boyz\", \"boyz\", \"boyz\", \"brakes\", \"brakes\", \"brand\", \"brand\", \"brand\", \"brand\", \"brand\", \"bristol\", \"bronx\", \"bronx\", \"bronx\", \"bronx\", \"brooklyn\", \"brooklyn\", \"brooklyn\", \"brooklyn\", \"brooklyn\", \"brrah\", \"buck\", \"buck\", \"buck\", \"buck\", \"buck\", \"busa\", \"cable\", \"cali\", \"cali\", \"cali\", \"cali\", \"cappucino\", \"cats\", \"cats\", \"cats\", \"cats\", \"cats\", \"cereal\", \"cereal\", \"chambers\", \"cheddar\", \"cheddar\", \"cheddar\", \"cheddar\", \"cheddar\", \"chick\", \"chick\", \"chick\", \"chick\", \"chick\", \"child\", \"child\", \"child\", \"child\", \"child\", \"chim\", \"chorus\", \"chorus\", \"chorus\", \"chorus\", \"chorus\", \"clack\", \"clack\", \"clack\", \"clang\", \"clap\", \"clap\", \"clap\", \"clap\", \"clap\", \"clappers\", \"clappers\", \"clicks\", \"clicks\", \"clicks\", \"clicks\", \"clip\", \"clip\", \"clip\", \"clip\", \"clip\", \"cocaina\", \"coke\", \"coke\", \"coke\", \"coke\", \"coke\", \"conmigo\", \"cowboy\", \"cream\", \"cream\", \"cream\", \"cream\", \"cream\", \"creator\", \"creator\", \"creator\", \"creator\", \"crib\", \"crib\", \"crib\", \"crib\", \"crib\", \"crisco\", \"crossroads\", \"curl\", \"curl\", \"curl\", \"dandruff\", \"dante\", \"dear\", \"dear\", \"dear\", \"dear\", \"dear\", \"debut\", \"deck\", \"deck\", \"deck\", \"deck\", \"deck\", \"delicacies\", \"delivery\", \"delivery\", \"despacito\", \"dillon\", \"disc\", \"ditches\", \"donut\", \"doubt\", \"doubt\", \"doubt\", \"doubt\", \"doubt\", \"downfall\", \"drama\", \"drama\", \"drama\", \"drama\", \"drama\", \"dreams\", \"dreams\", \"dreams\", \"dreams\", \"dreams\", \"dress\", \"dress\", \"dress\", \"dress\", \"dress\", \"drug\", \"drug\", \"drug\", \"drug\", \"drug\", \"drugs\", \"drugs\", \"drugs\", \"drugs\", \"drugs\", \"drummer\", \"drummer\", \"drummer\", \"dupa\", \"dupa\", \"dutch\", \"dutch\", \"dutch\", \"dutch\", \"dutch\", \"eastside\", \"eastside\", \"eastside\", \"eastside\", \"eastside\", \"echo\", \"event\", \"event\", \"expression\", \"expression\", \"extinction\", \"favoritos\", \"fellas\", \"fellas\", \"fellas\", \"fellas\", \"fellas\", \"flava\", \"flava\", \"flava\", \"flavor\", \"flavor\", \"flavor\", \"flavor\", \"flavor\", \"flipmode\", \"flipmode\", \"flipmode\", \"flipmode\", \"flipmode\", \"format\", \"format\", \"format\", \"francis\", \"freeze\", \"freeze\", \"freeze\", \"freeze\", \"freeze\", \"fucker\", \"fucker\", \"fucker\", \"fucker\", \"fucker\", \"fudge\", \"fuhgidabowdit\", \"funerals\", \"funerals\", \"funky\", \"funky\", \"funky\", \"funky\", \"funky\", \"gansta\", \"genesis\", \"genesis\", \"georgia\", \"georgia\", \"georgia\", \"georgia\", \"gniht\", \"goodness\", \"gosh\", \"grill\", \"grill\", \"grill\", \"grill\", \"grill\", \"ground\", \"ground\", \"ground\", \"ground\", \"ground\", \"guys\", \"guys\", \"guys\", \"guys\", \"guys\", \"haaa\", \"haffi\", \"hahhhh\", \"halfway\", \"hamilton\", \"harlem\", \"harlem\", \"harlem\", \"harlem\", \"harlem\", \"haters\", \"haters\", \"haters\", \"haters\", \"haters\", \"hazyville\", \"heal\", \"heal\", \"heal\", \"heap\", \"heavens\", \"heavens\", \"heee\", \"hello\", \"hello\", \"hello\", \"hello\", \"hello\", \"hili\", \"holla\", \"holla\", \"holla\", \"holla\", \"holla\", \"hollis\", \"homicide\", \"homicide\", \"homicide\", \"honey\", \"honey\", \"honey\", \"honey\", \"honey\", \"hour\", \"hour\", \"hour\", \"hour\", \"hour\", \"hush\", \"hush\", \"hush\", \"hustle\", \"hustle\", \"hustle\", \"hustle\", \"hustle\", \"hype\", \"hype\", \"hype\", \"hype\", \"hype\", \"hyper\", \"infinity\", \"infinity\", \"infinity\", \"inspector\", \"itsoweezee\", \"jaguars\", \"jeff\", \"jeff\", \"jody\", \"jody\", \"judgment\", \"judgment\", \"judgment\", \"juelz\", \"kack\", \"kack\", \"kanday\", \"khan\", \"killa\", \"killa\", \"killa\", \"killa\", \"killa\", \"killer\", \"killer\", \"killer\", \"killer\", \"killer\", \"kills\", \"kills\", \"kills\", \"kills\", \"kind\", \"kind\", \"kind\", \"kind\", \"kind\", \"kizza\", \"kizzer\", \"knock\", \"knock\", \"knock\", \"knock\", \"knock\", \"lady\", \"lady\", \"lady\", \"lady\", \"lady\", \"lahhh\", \"lalalala\", \"land\", \"land\", \"land\", \"land\", \"land\", \"laugh\", \"laugh\", \"laugh\", \"laugh\", \"laugh\", \"lawd\", \"leader\", \"leader\", \"lets\", \"lets\", \"lets\", \"lets\", \"lick\", \"lick\", \"lick\", \"lick\", \"lick\", \"limit\", \"limit\", \"limit\", \"limit\", \"lips\", \"lips\", \"lips\", \"lips\", \"lips\", \"loot\", \"loot\", \"loot\", \"loot\", \"loot\", \"lover\", \"lover\", \"lover\", \"lover\", \"lover\", \"luuden\", \"mainline\", \"mainline\", \"maniac\", \"march\", \"march\", \"march\", \"march\", \"mats\", \"meth\", \"meth\", \"meth\", \"meth\", \"meth\", \"method\", \"method\", \"method\", \"method\", \"method\", \"mickens\", \"microphone\", \"microphone\", \"microphone\", \"microphone\", \"microphone\", \"midi\", \"minute\", \"minute\", \"minute\", \"minute\", \"minute\", \"minutes\", \"minutes\", \"minutes\", \"minutes\", \"minutes\", \"mistress\", \"mommy\", \"mommy\", \"mommy\", \"mommy\", \"mommy\", \"motherland\", \"musi\", \"mystikal\", \"naku\", \"nickel\", \"nickel\", \"nickel\", \"nickel\", \"nicole\", \"niggy\", \"numerals\", \"nwod\", \"okay\", \"okay\", \"okay\", \"okay\", \"okay\", \"ones\", \"ones\", \"ones\", \"ones\", \"ones\", \"oodles\", \"ooooh\", \"ooooh\", \"padlock\", \"padlock\", \"para\", \"pasito\", \"patti\", \"paul\", \"paul\", \"paul\", \"pease\", \"pegando\", \"perfecta\", \"phat\", \"phat\", \"phat\", \"phat\", \"phat\", \"pilf\", \"playa\", \"playa\", \"playa\", \"playa\", \"playa\", \"plug\", \"plug\", \"plug\", \"plug\", \"plug\", \"popcaan\", \"poppa\", \"poppa\", \"poppa\", \"poppa\", \"poppa\", \"poquito\", \"porridge\", \"posse\", \"posse\", \"posse\", \"posse\", \"posse\", \"power\", \"power\", \"power\", \"power\", \"power\", \"pray\", \"pray\", \"pray\", \"pray\", \"pray\", \"pressure\", \"pressure\", \"pressure\", \"pressure\", \"pressure\", \"prettiest\", \"prince\", \"prince\", \"prince\", \"prince\", \"prince\", \"princess\", \"princess\", \"princess\", \"problems\", \"problems\", \"problems\", \"problems\", \"pues\", \"puff\", \"puff\", \"puff\", \"puff\", \"puff\", \"punks\", \"punks\", \"queensbridge\", \"ques\", \"quiero\", \"quiero\", \"quiero\", \"radio\", \"radio\", \"radio\", \"radio\", \"radio\", \"rally\", \"rally\", \"rappers\", \"rappers\", \"rappers\", \"rappers\", \"rappers\", \"rebel\", \"rebel\", \"rebel\", \"renee\", \"rhinestone\", \"rise\", \"rise\", \"rise\", \"rise\", \"rise\", \"rollerskates\", \"roof\", \"roof\", \"roof\", \"roof\", \"roof\", \"rowdy\", \"rowdy\", \"rowdy\", \"sake\", \"sake\", \"salty\", \"saturday\", \"saturday\", \"saturday\", \"saturday\", \"scarfaces\", \"scrubb\", \"seat\", \"seat\", \"seat\", \"seat\", \"seat\", \"shame\", \"shame\", \"shame\", \"shame\", \"shame\", \"shaq\", \"shawty\", \"shawty\", \"shawty\", \"sheets\", \"sheets\", \"sheets\", \"sheets\", \"sheets\", \"shimmy\", \"shorty\", \"shorty\", \"shorty\", \"shorty\", \"shorty\", \"slam\", \"slam\", \"slam\", \"slam\", \"slam\", \"slap\", \"slap\", \"slap\", \"slap\", \"slap\", \"slide\", \"slide\", \"slide\", \"slide\", \"slide\", \"smash\", \"smash\", \"smash\", \"smash\", \"smash\", \"smith\", \"smith\", \"smith\", \"sock\", \"sock\", \"sock\", \"sock\", \"someone\", \"someone\", \"someone\", \"someone\", \"someone\", \"songs\", \"songs\", \"songs\", \"songs\", \"songs\", \"spoilers\", \"sprinkler\", \"squad\", \"squad\", \"squad\", \"squad\", \"squad\", \"squat\", \"squat\", \"squeeze\", \"squeeze\", \"squeeze\", \"squeeze\", \"squeeze\", \"stance\", \"stance\", \"stars\", \"stars\", \"stars\", \"stars\", \"stars\", \"stase\", \"stomp\", \"stomp\", \"stomp\", \"stomp\", \"stomp\", \"struggle\", \"struggle\", \"struggle\", \"struggle\", \"struggle\", \"suavecito\", \"sube\", \"sugar\", \"sugar\", \"sugar\", \"sugar\", \"sugar\", \"supa\", \"supa\", \"supa\", \"supa\", \"supa\", \"survivor\", \"survivor\", \"sweat\", \"sweat\", \"sweat\", \"sweat\", \"sweat\", \"tape\", \"tape\", \"tape\", \"tape\", \"tape\", \"taste\", \"taste\", \"taste\", \"taste\", \"taste\", \"tear\", \"tear\", \"tear\", \"tear\", \"tear\", \"tears\", \"tears\", \"tears\", \"tears\", \"tears\", \"thank\", \"thank\", \"thank\", \"thank\", \"thank\", \"timbaland\", \"timbaland\", \"timbaland\", \"timbaland\", \"timbaland\", \"toot\", \"toot\", \"trenches\", \"trenches\", \"trenches\", \"truck\", \"truck\", \"truck\", \"truck\", \"truck\", \"trugoy\", \"tuff\", \"twyla\", \"vamos\", \"verse\", \"verse\", \"verse\", \"verse\", \"verse\", \"wack\", \"wack\", \"wack\", \"wack\", \"wack\", \"watcha\", \"water\", \"water\", \"water\", \"water\", \"water\", \"ways\", \"ways\", \"ways\", \"ways\", \"ways\", \"weekend\", \"weekend\", \"weekend\", \"whaddup\", \"whatcha\", \"whatcha\", \"whatcha\", \"wife\", \"wife\", \"wife\", \"wife\", \"wife\", \"window\", \"window\", \"window\", \"window\", \"window\", \"woman\", \"woman\", \"woman\", \"woman\", \"woman\", \"women\", \"women\", \"women\", \"women\", \"women\", \"worlds\", \"worlds\", \"writes\", \"wrms\", \"wrms\", \"yippe\", \"york\", \"york\", \"york\", \"york\", \"york\", \"yvette\", \"zhane\", \"zhane\", \"zigga\", \"ziggy\", \"zound\"]}, \"R\": 30, \"lambda.step\": 0.01, \"plot.opts\": {\"xlab\": \"PC1\", \"ylab\": \"PC2\"}, \"topic.order\": [5, 2, 1, 3, 4]};\n",
       "\n",
       "function LDAvis_load_lib(url, callback){\n",
       "  var s = document.createElement('script');\n",
       "  s.src = url;\n",
       "  s.async = true;\n",
       "  s.onreadystatechange = s.onload = callback;\n",
       "  s.onerror = function(){console.warn(\"failed to load library \" + url);};\n",
       "  document.getElementsByTagName(\"head\")[0].appendChild(s);\n",
       "}\n",
       "\n",
       "if(typeof(LDAvis) !== \"undefined\"){\n",
       "   // already loaded: just create the visualization\n",
       "   !function(LDAvis){\n",
       "       new LDAvis(\"#\" + \"ldavis_el2154423025654298003279601397\", ldavis_el2154423025654298003279601397_data);\n",
       "   }(LDAvis);\n",
       "}else if(typeof define === \"function\" && define.amd){\n",
       "   // require.js is available: use it to load d3/LDAvis\n",
       "   require.config({paths: {d3: \"https://cdnjs.cloudflare.com/ajax/libs/d3/3.5.5/d3.min\"}});\n",
       "   require([\"d3\"], function(d3){\n",
       "      window.d3 = d3;\n",
       "      LDAvis_load_lib(\"https://cdn.rawgit.com/bmabey/pyLDAvis/files/ldavis.v1.0.0.js\", function(){\n",
       "        new LDAvis(\"#\" + \"ldavis_el2154423025654298003279601397\", ldavis_el2154423025654298003279601397_data);\n",
       "      });\n",
       "    });\n",
       "}else{\n",
       "    // require.js not available: dynamically load d3 & LDAvis\n",
       "    LDAvis_load_lib(\"https://cdnjs.cloudflare.com/ajax/libs/d3/3.5.5/d3.min.js\", function(){\n",
       "         LDAvis_load_lib(\"https://cdn.rawgit.com/bmabey/pyLDAvis/files/ldavis.v1.0.0.js\", function(){\n",
       "                 new LDAvis(\"#\" + \"ldavis_el2154423025654298003279601397\", ldavis_el2154423025654298003279601397_data);\n",
       "            })\n",
       "         });\n",
       "}\n",
       "</script>"
      ],
      "text/plain": [
       "<IPython.core.display.HTML object>"
      ]
     },
     "execution_count": 153,
     "metadata": {},
     "output_type": "execute_result"
    }
   ],
   "source": [
    "print('East Coast lyrics topics : ')\n",
    "pyLDAvis.display(gensim_prepare(east_lda, east_corpus, east_corpus.dictionary))"
   ]
  },
  {
   "cell_type": "code",
   "execution_count": 154,
   "metadata": {},
   "outputs": [
    {
     "name": "stdout",
     "output_type": "stream",
     "text": [
      "Female lyrics topics : \n"
     ]
    },
    {
     "data": {
      "text/html": [
       "\n",
       "<link rel=\"stylesheet\" type=\"text/css\" href=\"https://cdn.rawgit.com/bmabey/pyLDAvis/files/ldavis.v1.0.0.css\">\n",
       "\n",
       "\n",
       "<div id=\"ldavis_el2154423025654298007698614970\"></div>\n",
       "<script type=\"text/javascript\">\n",
       "\n",
       "var ldavis_el2154423025654298007698614970_data = {\"mdsDat\": {\"Freq\": [22.41992162046551, 21.291570990970175, 20.868985772918393, 20.481321188989252, 14.938200426656673], \"cluster\": [1, 1, 1, 1, 1], \"topics\": [1, 2, 3, 4, 5], \"x\": [0.05197593787708838, 0.007741952027669468, 0.06087925961641381, -0.16153866294426408, 0.040941513423092504], \"y\": [-0.02343569495437418, 0.14403788911131615, -0.051472677897068594, -0.029962653356813407, -0.03916686290306019]}, \"tinfo\": {\"Category\": [\"Default\", \"Default\", \"Default\", \"Default\", \"Default\", \"Default\", \"Default\", \"Default\", \"Default\", \"Default\", \"Default\", \"Default\", \"Default\", \"Default\", \"Default\", \"Default\", \"Default\", \"Default\", \"Default\", \"Default\", \"Default\", \"Default\", \"Default\", \"Default\", \"Default\", \"Default\", \"Default\", \"Default\", \"Default\", \"Default\", \"Topic1\", \"Topic1\", \"Topic1\", \"Topic1\", \"Topic1\", \"Topic1\", \"Topic1\", \"Topic1\", \"Topic1\", \"Topic1\", \"Topic1\", \"Topic1\", \"Topic1\", \"Topic1\", \"Topic1\", \"Topic1\", \"Topic1\", \"Topic1\", \"Topic1\", \"Topic1\", \"Topic1\", \"Topic1\", \"Topic1\", \"Topic1\", \"Topic1\", \"Topic1\", \"Topic1\", \"Topic1\", \"Topic1\", \"Topic1\", \"Topic1\", \"Topic1\", \"Topic1\", \"Topic1\", \"Topic1\", \"Topic1\", \"Topic1\", \"Topic1\", \"Topic1\", \"Topic1\", \"Topic1\", \"Topic1\", \"Topic1\", \"Topic1\", \"Topic1\", \"Topic1\", \"Topic1\", \"Topic1\", \"Topic1\", \"Topic1\", \"Topic1\", \"Topic1\", \"Topic1\", \"Topic1\", \"Topic1\", \"Topic2\", \"Topic2\", \"Topic2\", \"Topic2\", \"Topic2\", \"Topic2\", \"Topic2\", \"Topic2\", \"Topic2\", \"Topic2\", \"Topic2\", \"Topic2\", \"Topic2\", \"Topic2\", \"Topic2\", \"Topic2\", \"Topic2\", \"Topic2\", \"Topic2\", \"Topic2\", \"Topic2\", \"Topic2\", \"Topic2\", \"Topic2\", \"Topic2\", \"Topic2\", \"Topic2\", \"Topic2\", \"Topic2\", \"Topic2\", \"Topic2\", \"Topic2\", \"Topic2\", \"Topic2\", \"Topic2\", \"Topic2\", \"Topic2\", \"Topic2\", \"Topic2\", \"Topic2\", \"Topic2\", \"Topic2\", \"Topic2\", \"Topic2\", \"Topic2\", \"Topic2\", \"Topic2\", \"Topic2\", \"Topic2\", \"Topic2\", \"Topic2\", \"Topic2\", \"Topic3\", \"Topic3\", \"Topic3\", \"Topic3\", \"Topic3\", \"Topic3\", \"Topic3\", \"Topic3\", \"Topic3\", \"Topic3\", \"Topic3\", \"Topic3\", \"Topic3\", \"Topic3\", \"Topic3\", \"Topic3\", \"Topic3\", \"Topic3\", \"Topic3\", \"Topic3\", \"Topic3\", \"Topic3\", \"Topic3\", \"Topic3\", \"Topic3\", \"Topic3\", \"Topic3\", \"Topic3\", \"Topic3\", \"Topic3\", \"Topic3\", \"Topic3\", \"Topic3\", \"Topic3\", \"Topic3\", \"Topic3\", \"Topic3\", \"Topic3\", \"Topic3\", \"Topic3\", \"Topic3\", \"Topic3\", \"Topic3\", \"Topic3\", \"Topic3\", \"Topic3\", \"Topic3\", \"Topic3\", \"Topic3\", \"Topic3\", \"Topic3\", \"Topic3\", \"Topic3\", \"Topic3\", \"Topic3\", \"Topic4\", \"Topic4\", \"Topic4\", \"Topic4\", \"Topic4\", \"Topic4\", \"Topic4\", \"Topic4\", \"Topic4\", \"Topic4\", \"Topic4\", \"Topic4\", \"Topic4\", \"Topic4\", \"Topic4\", \"Topic4\", \"Topic4\", \"Topic4\", \"Topic4\", \"Topic4\", \"Topic4\", \"Topic4\", \"Topic4\", \"Topic4\", \"Topic4\", \"Topic4\", \"Topic4\", \"Topic4\", \"Topic4\", \"Topic4\", \"Topic4\", \"Topic4\", \"Topic4\", \"Topic4\", \"Topic4\", \"Topic4\", \"Topic4\", \"Topic4\", \"Topic4\", \"Topic4\", \"Topic4\", \"Topic4\", \"Topic4\", \"Topic4\", \"Topic4\", \"Topic4\", \"Topic4\", \"Topic4\", \"Topic5\", \"Topic5\", \"Topic5\", \"Topic5\", \"Topic5\", \"Topic5\", \"Topic5\", \"Topic5\", \"Topic5\", \"Topic5\", \"Topic5\", \"Topic5\", \"Topic5\", \"Topic5\", \"Topic5\", \"Topic5\", \"Topic5\", \"Topic5\", \"Topic5\", \"Topic5\", \"Topic5\", \"Topic5\", \"Topic5\", \"Topic5\", \"Topic5\", \"Topic5\", \"Topic5\", \"Topic5\", \"Topic5\", \"Topic5\", \"Topic5\", \"Topic5\", \"Topic5\", \"Topic5\", \"Topic5\", \"Topic5\", \"Topic5\", \"Topic5\", \"Topic5\", \"Topic5\", \"Topic5\", \"Topic5\", \"Topic5\", \"Topic5\", \"Topic5\", \"Topic5\", \"Topic5\", \"Topic5\", \"Topic5\", \"Topic5\", \"Topic5\", \"Topic5\", \"Topic5\", \"Topic5\", \"Topic5\", \"Topic5\"], \"Freq\": [56.0, 35.0, 52.0, 32.0, 36.0, 23.0, 24.0, 27.0, 41.0, 13.0, 17.0, 16.0, 17.0, 33.0, 14.0, 14.0, 26.0, 17.0, 16.0, 43.0, 43.0, 14.0, 21.0, 13.0, 26.0, 12.0, 12.0, 12.0, 14.0, 8.0, 12.447577059704102, 10.275778666764392, 8.150231423017718, 7.4655234239838935, 6.751435323611831, 6.692098725993907, 6.004884638749916, 5.940792515520463, 5.27219790976627, 5.249997614804421, 5.81677135905609, 4.515107966378511, 3.7727091430382416, 3.74963757204941, 11.122811886098738, 3.0912467073574623, 3.0826887396066947, 3.0561400848477063, 3.0405798275299745, 3.0398783153192337, 10.240985372117056, 2.355298374345221, 2.3552879479061133, 2.353693772100989, 8.20286355294473, 2.3490184498672124, 2.3472756304686544, 2.3451563898838446, 2.342527857850308, 2.336735035219849, 20.6829347438006, 11.48502317256876, 5.186171766789107, 9.531038974172123, 8.05909953301284, 6.645367960601912, 5.2999536253604305, 10.375146374286064, 11.529146793494618, 7.426955758379532, 6.708019096477748, 12.964873874909534, 8.916925453546726, 5.981294686596211, 6.728435133629199, 10.35449453920402, 10.049275772964814, 9.571754486232694, 8.90437522899604, 6.546449926684837, 8.92195741346691, 6.764276419079167, 7.366477064662415, 6.683124502712605, 7.497397315681045, 34.235936593637796, 23.495467455119474, 14.058162169178502, 16.805880012738264, 10.160550616611234, 8.032902422005497, 14.618663209571595, 4.496274748378364, 4.480015654286362, 4.465005697341965, 5.744166821070817, 4.452247741718556, 4.447277597653206, 9.542815737008711, 31.47040382012414, 7.438189241589208, 7.359696205242055, 3.05557327915973, 3.0516966378778627, 3.0448984882306505, 3.037174149088629, 6.676123673491473, 2.9626796210621342, 9.399161918358116, 5.316039281550248, 2.337519992121283, 2.91550209755992, 2.334124471752975, 2.3344106054044693, 2.334020630880339, 16.830692141836064, 5.199463811139635, 4.520816231094185, 7.393256864387049, 9.289906086964875, 5.9469759159091105, 11.525528477939236, 13.284236399309783, 6.633902330123081, 10.279199350019274, 9.565484021782451, 14.402368511332448, 7.426303650851809, 7.500712110282158, 6.5428331231520485, 6.38307863755988, 8.827016482408565, 7.322107332685698, 7.541321254283213, 6.744244809278873, 7.834741031359088, 6.634291796867883, 8.828106711959107, 8.823129700360262, 24.95243080483415, 4.320825467813477, 3.0566219682577827, 3.048886945681438, 43.88276118886122, 9.476653130185987, 2.9693075164228726, 9.414545002444004, 2.3252531000145304, 2.3172858998471, 2.3126975928541254, 2.30186662021272, 2.2955224235276726, 2.2895868394948904, 2.28519562216123, 5.7117140694567405, 2.2421897626367735, 2.2422756160868538, 2.2369449878139114, 11.493115259918183, 6.564984385089333, 31.04373159491157, 1.6016384158422783, 1.60162995492256, 1.6016292083708203, 1.601626844290311, 1.6016252267615414, 1.6016242313592215, 9.604692725980183, 8.92928139454506, 23.80464831634573, 6.699632954585634, 4.140446124942351, 5.957303213698247, 12.980238362434386, 25.528032150263726, 9.665703920365779, 7.731019068214197, 14.342033345075444, 4.2619066091040345, 9.830406174401702, 6.268537647825034, 5.247739130970693, 4.518356588056539, 5.352654037773177, 9.062158645613332, 5.817154548684062, 5.766099368300795, 7.408518670632266, 5.865173751992034, 5.324963438340685, 6.372259564947274, 6.100699876481837, 15.788380533864174, 14.243029447628379, 8.609669588734675, 11.228187392902875, 9.905276150979985, 11.211946237280701, 11.187323179990061, 16.39807498128799, 6.498884501222191, 5.8093617210665895, 5.806319618293209, 5.806048036863858, 12.869352993560753, 5.084099117881851, 49.96665332834293, 4.409202658446561, 5.035889506525542, 5.028249569229709, 5.0281533434354975, 5.027025987430204, 5.024546585747854, 5.021869359463189, 5.0217277072788145, 28.295510330660296, 5.002671092378259, 4.992965475469609, 4.332038363692622, 4.331679837129413, 4.323330173544288, 4.325622496652103, 12.081451305990093, 10.505344111336079, 7.930072719057214, 9.276088409163094, 6.547055524569654, 14.564914009929804, 20.310609912501665, 11.656360915977118, 8.585909144401292, 8.561778450565303, 10.732436985677761, 6.555766156997029, 7.699771178511561, 9.538258272002205, 6.349092200804933, 6.694905724693566, 6.263159635838253, 5.85099915952376, 13.175027297897865, 7.3100228687016795, 7.7437408732973685, 20.150184001766483, 2.742065680058274, 2.7420555266826785, 2.724938360463835, 5.354167439976551, 4.696576409969887, 2.056879022088814, 2.0553793507004188, 2.0554172922618545, 8.20970884885471, 2.0475952742065977, 2.036766788198694, 2.0315417186137323, 4.051881948263474, 3.9898213102946363, 3.9642800486606626, 5.328289157524565, 5.276346269271946, 1.4363033697213237, 1.43630007432749, 1.436299183680508, 1.4362950867043904, 1.4362789659940152, 1.4362452995380932, 1.43621368157023, 1.4350024016746266, 1.4346041934089468, 12.047434017763914, 5.048892130475498, 1.89813331033531, 4.496507884577865, 5.290667160225909, 6.008262502449226, 5.2834960269851425, 3.3860773717882386, 8.117974347255135, 6.7034388350988845, 9.756015225748165, 11.23961007985829, 6.908377418188818, 6.494349837072544, 3.276554868662931, 4.044324986750079, 3.780320833362584, 6.015096971130773, 5.338913150985387, 6.116209629192664, 4.878584039600872, 4.68086504094753, 5.408124259185007, 4.702552651219519, 4.71836163515111, 4.590687034013804], \"Term\": [\"mommy\", \"clappers\", \"minute\", \"dutch\", \"window\", \"posse\", \"kack\", \"leader\", \"chick\", \"princess\", \"rally\", \"weekend\", \"reverse\", \"brooklyn\", \"sock\", \"cappucino\", \"slap\", \"ground\", \"stomp\", \"alright\", \"timbaland\", \"infinity\", \"supa\", \"toot\", \"holla\", \"pilf\", \"nwod\", \"gniht\", \"junk\", \"smash\", \"toot\", \"haaa\", \"ruff\", \"georgia\", \"dats\", \"volume\", \"busa\", \"heee\", \"george\", \"melon\", \"chew\", \"brrah\", \"child\", \"tour\", \"slim\", \"jello\", \"poetry\", \"stores\", \"devils\", \"tunes\", \"whatcha\", \"wealth\", \"health\", \"gotcha\", \"impress\", \"verge\", \"digits\", \"butts\", \"madness\", \"patient\", \"slap\", \"playa\", \"snatch\", \"chains\", \"nose\", \"rule\", \"california\", \"laugh\", \"someone\", \"records\", \"dopest\", \"booty\", \"ones\", \"across\", \"fear\", \"funky\", \"stuff\", \"misdemeanor\", \"bottom\", \"women\", \"chorus\", \"kind\", \"fine\", \"perfect\", \"timbaland\", \"clappers\", \"kack\", \"cappucino\", \"rally\", \"boyz\", \"scratches\", \"stomp\", \"biggity\", \"area\", \"puba\", \"visa\", \"jaguars\", \"lincoln\", \"cuts\", \"window\", \"westside\", \"ooooh\", \"competitions\", \"baseball\", \"indo\", \"bands\", \"rick\", \"bells\", \"dupa\", \"originality\", \"psycho\", \"chickens\", \"weapon\", \"rate\", \"salad\", \"supa\", \"effect\", \"krunk\", \"dawn\", \"slick\", \"problems\", \"beats\", \"boom\", \"ways\", \"foot\", \"bottom\", \"timbaland\", \"yall\", \"perfect\", \"puff\", \"doubt\", \"fine\", \"album\", \"funky\", \"benz\", \"alright\", \"platinum\", \"anthony\", \"hamilton\", \"leader\", \"stance\", \"nicole\", \"nineties\", \"minute\", \"cram\", \"role\", \"grill\", \"sacks\", \"cares\", \"bobby\", \"rolley\", \"awww\", \"spring\", \"ballers\", \"oooh\", \"memories\", \"talker\", \"dealer\", \"butter\", \"cost\", \"chick\", \"stripes\", \"cigar\", \"daylight\", \"splash\", \"williams\", \"stewardess\", \"hype\", \"verse\", \"brooklyn\", \"lemonade\", \"wheels\", \"plane\", \"bills\", \"alright\", \"chance\", \"thangs\", \"chorus\", \"release\", \"taste\", \"folks\", \"mercy\", \"knocks\", \"hello\", \"woman\", \"couple\", \"games\", \"stuff\", \"sugar\", \"business\", \"funky\", \"booty\", \"weekend\", \"sock\", \"yippe\", \"pilf\", \"kizza\", \"nwod\", \"gniht\", \"reverse\", \"unity\", \"hormones\", \"crisco\", \"mats\", \"infinity\", \"backwards\", \"mommy\", \"saves\", \"kizzer\", \"twos\", \"bews\", \"pues\", \"zound\", \"ques\", \"zigga\", \"dutch\", \"musi\", \"sews\", \"nails\", \"core\", \"izzy\", \"innovator\", \"junk\", \"zoom\", \"suck\", \"search\", \"crunk\", \"slide\", \"timbaland\", \"anybody\", \"worth\", \"lips\", \"boom\", \"marry\", \"dumb\", \"holla\", \"rapper\", \"microphone\", \"jeans\", \"cream\", \"princess\", \"badman\", \"smash\", \"posse\", \"waits\", \"ands\", \"jesus\", \"spell\", \"mighty\", \"kamikaze\", \"amounts\", \"finding\", \"brand\", \"appreciate\", \"goal\", \"artist\", \"babe\", \"hearts\", \"homegirl\", \"bowl\", \"biter\", \"diggity\", \"sail\", \"john\", \"mountains\", \"shhh\", \"influence\", \"loan\", \"meaning\", \"hasta\", \"ground\", \"jones\", \"rounds\", \"proud\", \"faker\", \"mike\", \"taker\", \"metal\", \"wall\", \"knock\", \"battle\", \"holla\", \"lets\", \"sugar\", \"either\", \"bronx\", \"warm\", \"sign\", \"date\", \"loud\", \"sweat\", \"smile\", \"misdemeanor\", \"attitude\", \"hook\", \"brooklyn\"], \"Total\": [56.0, 35.0, 52.0, 32.0, 36.0, 23.0, 24.0, 27.0, 41.0, 13.0, 17.0, 16.0, 17.0, 33.0, 14.0, 14.0, 26.0, 17.0, 16.0, 43.0, 43.0, 14.0, 21.0, 13.0, 26.0, 12.0, 12.0, 12.0, 14.0, 8.0, 13.223948833235495, 11.0159890135702, 8.801015713827429, 8.072267608773103, 7.335004004377674, 7.336096789501166, 6.597983730641317, 6.600055093593378, 5.862396648897631, 5.861498106027515, 6.5951983078570935, 5.127996349807207, 4.389637334406179, 4.3898046999600115, 13.127808637818259, 3.6563356776329043, 3.6561200642791505, 3.6554643033963985, 3.65555890205374, 3.656036355026415, 12.465555049045976, 2.9202748349858294, 2.920275412804115, 2.920265888287871, 10.1907198220439, 2.9202139728816836, 2.9197257638376843, 2.9197811415267543, 2.9194459411407276, 2.9200715929034398, 26.12859239894679, 14.587365944582755, 6.516166027034236, 12.468677023650388, 10.823231262636085, 9.413307072169111, 7.281387122123981, 15.799223778438122, 19.59415955617364, 11.687080886126894, 10.238227344395872, 24.70571789815637, 15.333013213245684, 9.28582956010251, 11.405466653134582, 25.53584659035969, 24.79282321129579, 22.74873366767752, 21.22549261182535, 10.970446525369173, 31.01317761659862, 15.646212380433441, 27.448446135703843, 15.3108183538214, 43.91718661184658, 35.11643779035732, 24.140336908981766, 14.623988277802404, 17.547703287915116, 10.962938381129902, 8.76153192774515, 16.079157803416553, 5.104067173745234, 5.104847965050687, 5.099651411557645, 6.57017563849726, 5.105248851811512, 5.105263604213399, 10.959126315474055, 36.537539585638825, 8.760143444963266, 8.742255145919023, 3.6405383511918505, 3.6395041375799213, 3.640103848887346, 3.6377095810791644, 8.02975742067435, 3.63112008229846, 11.61113143195035, 6.572400842573291, 2.908228293736979, 3.6295585782333895, 2.9077728242811665, 2.9085282509299204, 2.9085121399400506, 21.006555966160892, 6.549086596259583, 5.758142173193598, 10.21605615215065, 13.729708233183164, 8.685415195543337, 20.999945588894697, 27.41006004071889, 10.719970368929784, 20.835593504293122, 21.22549261182535, 43.91718661184658, 14.483727454879544, 15.3108183538214, 11.63359256318954, 11.413086716891748, 27.448446135703843, 16.64648855838627, 25.53584659035969, 15.806037274902463, 43.44593030174586, 15.256438795290423, 9.44725006208396, 9.447133652300009, 27.667185942592265, 5.079309875128948, 3.6242230721622124, 3.6242669877669, 52.35103120346448, 11.559565638903914, 3.625131899193317, 11.529024996685964, 2.89608690152001, 2.896108873859072, 2.896233360207774, 2.896002140915675, 2.892661980864468, 2.8945919160424705, 2.894457584539366, 7.273611507287845, 2.8910483108450946, 2.891722890029286, 2.8964637565401037, 15.113264151584849, 8.70698733641847, 41.22124111909881, 2.1681481285627715, 2.1681479259636736, 2.1681475608039933, 2.168147814242275, 2.1681477698972755, 2.168147755798435, 13.111174105352498, 12.355435629652607, 33.72309668949896, 9.46996957610723, 5.7818685945279364, 8.631987838094531, 19.660728317947044, 43.44593030174586, 15.956601678643095, 12.345264205014681, 31.01317761659862, 6.436866239323484, 19.43023075975389, 10.843818834673982, 8.691578260638865, 7.284445524264031, 9.970933261122205, 25.03677403276327, 11.587078289323362, 12.637972865210493, 24.79282321129579, 15.274687116945024, 11.594701522485293, 25.53584659035969, 24.70571789815637, 16.358553052382334, 14.929062248676845, 9.24382062908347, 12.081131735820229, 10.660866669290739, 12.080531810036144, 12.081407843574587, 17.796098223416053, 7.114382065939605, 6.4023700366880645, 6.4024595989820945, 6.402467853979069, 14.248392567761709, 5.6907041880030365, 56.35740469880425, 4.979300509358939, 5.687829537594393, 5.687244711102244, 5.688234518949582, 5.687467385886259, 5.687585002842242, 5.687241201662117, 5.687481447693076, 32.11274540494263, 5.686273115368653, 5.685747068987103, 4.975139651799284, 4.975572001761873, 4.976227480242811, 4.982039526861715, 14.926809614591939, 14.274391553527924, 10.660005228467726, 13.305213652311377, 8.502003639461073, 27.070736638389818, 43.91718661184658, 20.531699748788228, 13.399236628328925, 14.9187499065871, 27.41006004071889, 10.037234139286369, 14.293269812422412, 26.886443627385567, 10.661076323807746, 17.756305957890497, 15.099317545878138, 15.089010000750427, 13.771532091402412, 7.894126774057393, 8.57253317293587, 23.909676862822984, 3.323638051960522, 3.3236394832464766, 3.3251674377133713, 6.667327382216762, 6.014882723667961, 2.6742182405201835, 2.674017950022467, 2.6746362642146333, 10.704840378508269, 2.6749636238033414, 2.6756739263173066, 2.6772839207561923, 5.341477470203261, 5.36830509662483, 5.349136262753451, 7.398139166505795, 7.408830994624647, 2.0178610466863165, 2.017861586996217, 2.0178617930400553, 2.017862026343321, 2.0178636814470394, 2.0178675023958874, 2.017870989683066, 2.018027485458293, 2.0180779290202073, 17.55499685321036, 7.4320889907690075, 2.6930703549277775, 6.777675090052686, 8.108676361271044, 10.229597343254323, 8.85217132890245, 5.437615127241314, 15.106329667908268, 12.32416479645491, 20.05270726802495, 26.886443627385567, 14.436514635538526, 15.274687116945024, 5.452962376295455, 7.561709870650337, 6.856595880420835, 15.37103122403121, 12.498337717068987, 17.443494202860844, 12.562287989084716, 11.880050937141199, 22.74873366767752, 14.042211435677896, 18.404537875926657, 33.72309668949896], \"loglift\": [30.0, 29.0, 28.0, 27.0, 26.0, 25.0, 24.0, 23.0, 22.0, 21.0, 20.0, 19.0, 18.0, 17.0, 16.0, 15.0, 14.0, 13.0, 12.0, 11.0, 10.0, 9.0, 8.0, 7.0, 6.0, 5.0, 4.0, 3.0, 2.0, 1.0, 1.4347, 1.4257, 1.4184, 1.4171, 1.4123, 1.4033, 1.401, 1.39, 1.3891, 1.385, 1.3696, 1.3679, 1.3438, 1.3376, 1.3295, 1.3273, 1.3246, 1.3161, 1.311, 1.3107, 1.2986, 1.2802, 1.2802, 1.2795, 1.2782, 1.2776, 1.277, 1.2761, 1.2751, 1.2724, 1.2615, 1.2561, 1.2669, 1.2266, 1.2003, 1.147, 1.1776, 1.0747, 0.9649, 1.0419, 1.0724, 0.8504, 0.9532, 1.0554, 0.9675, 0.5926, 0.5922, 0.6295, 0.6266, 0.9789, 0.2493, 0.6566, 0.1799, 0.6662, -0.2725, 1.5215, 1.5198, 1.5074, 1.5037, 1.4709, 1.46, 1.4516, 1.4201, 1.4163, 1.414, 1.4125, 1.41, 1.4089, 1.4085, 1.3976, 1.3833, 1.3747, 1.3717, 1.3707, 1.3683, 1.3664, 1.3622, 1.3434, 1.3355, 1.3347, 1.3284, 1.3278, 1.3271, 1.327, 1.3268, 1.3252, 1.3161, 1.3049, 1.2235, 1.1562, 1.1681, 0.9469, 0.8225, 1.0669, 0.8403, 0.7498, 0.4319, 0.8789, 0.8333, 0.9713, 0.9657, 0.4124, 0.7256, 0.3272, 0.6952, -0.1661, 0.7141, 1.4991, 1.4986, 1.4636, 1.4052, 1.3966, 1.394, 1.3905, 1.3682, 1.3673, 1.3643, 1.3474, 1.3439, 1.3419, 1.3373, 1.3357, 1.3324, 1.3306, 1.3252, 1.3127, 1.3125, 1.3085, 1.2931, 1.2845, 1.2833, 1.2641, 1.2641, 1.2641, 1.2641, 1.2641, 1.2641, 1.2557, 1.2421, 1.2186, 1.2208, 1.233, 1.196, 1.1517, 1.0352, 1.0656, 1.0989, 0.7957, 1.1546, 0.8856, 1.0189, 1.0623, 1.0893, 0.9448, 0.5507, 0.8778, 0.7822, 0.359, 0.6097, 0.7888, 0.1788, 0.1683, 1.5502, 1.5386, 1.5146, 1.5124, 1.5121, 1.511, 1.5088, 1.5038, 1.4952, 1.4885, 1.4879, 1.4879, 1.4839, 1.4729, 1.4653, 1.4641, 1.4639, 1.4625, 1.4623, 1.4622, 1.4617, 1.4612, 1.4612, 1.4591, 1.4576, 1.4557, 1.4472, 1.4471, 1.445, 1.4444, 1.3742, 1.2791, 1.2898, 1.2249, 1.3244, 0.9658, 0.8145, 1.0195, 1.1406, 1.0303, 0.648, 1.1597, 0.9671, 0.5493, 1.0674, 0.6103, 0.7057, 0.6383, 1.857, 1.8244, 1.7996, 1.7302, 1.7089, 1.7089, 1.7022, 1.6819, 1.6538, 1.6388, 1.6381, 1.6379, 1.6359, 1.634, 1.6284, 1.6252, 1.6249, 1.6045, 1.6016, 1.5731, 1.5618, 1.5613, 1.5613, 1.5613, 1.5613, 1.5613, 1.5612, 1.5612, 1.5603, 1.56, 1.5248, 1.5146, 1.5514, 1.4909, 1.4743, 1.3691, 1.3852, 1.4276, 1.2802, 1.2923, 1.1808, 1.0291, 1.1642, 1.046, 1.3919, 1.2755, 1.3058, 0.963, 1.0507, 0.8532, 0.9554, 0.9699, 0.4646, 0.8073, 0.5401, -0.0929], \"logprob\": [30.0, 29.0, 28.0, 27.0, 26.0, 25.0, 24.0, 23.0, 22.0, 21.0, 20.0, 19.0, 18.0, 17.0, 16.0, 15.0, 14.0, 13.0, 12.0, 11.0, 10.0, 9.0, 8.0, 7.0, 6.0, 5.0, 4.0, 3.0, 2.0, 1.0, -5.217599868774414, -5.409299850463867, -5.64109992980957, -5.728799819946289, -5.829400062561035, -5.838200092315674, -5.946599960327148, -5.957300186157227, -6.076700210571289, -6.080900192260742, -5.978400230407715, -6.2316999435424805, -6.411300182342529, -6.417500019073486, -5.330100059509277, -6.610599994659424, -6.61329984664917, -6.622000217437744, -6.627099990844727, -6.627299785614014, -5.412700176239014, -6.882500171661377, -6.882500171661377, -6.8831000328063965, -5.6346001625061035, -6.8850998878479, -6.885900020599365, -6.8867998123168945, -6.887899875640869, -6.890399932861328, -4.709799766540527, -5.298099994659424, -6.093100070953369, -5.484600067138672, -5.652299880981445, -5.845200061798096, -6.071400165557861, -5.399700164794922, -5.294300079345703, -5.734000205993652, -5.8358001708984375, -5.1768999099731445, -5.551199913024902, -5.950500011444092, -5.832799911499023, -5.401700019836426, -5.431600093841553, -5.480299949645996, -5.552599906921387, -5.860199928283691, -5.550600051879883, -5.827499866485596, -5.742199897766113, -5.8394999504089355, -5.724599838256836, -4.154200077056885, -4.530700206756592, -5.044300079345703, -4.865799903869629, -5.36899995803833, -5.603899955749512, -5.005199909210205, -6.184199810028076, -6.187900066375732, -6.191199779510498, -5.939300060272217, -6.1940999031066895, -6.195199966430664, -5.431700229644775, -4.238399982452393, -5.6809000968933105, -5.691500186920166, -6.570499897003174, -6.571800231933594, -6.573999881744385, -6.576600074768066, -5.789000034332275, -6.601399898529053, -5.446899890899658, -6.0167999267578125, -6.838399887084961, -6.617400169372559, -6.839900016784668, -6.839700222015381, -6.839900016784668, -4.864299774169922, -6.038899898529053, -6.178800106048584, -5.6869001388549805, -5.458600044250488, -5.904600143432617, -5.2428998947143555, -5.100900173187256, -5.795300006866455, -5.357399940490723, -5.429299831390381, -5.020100116729736, -5.682499885559082, -5.672500133514404, -5.809100151062012, -5.833799839019775, -5.509699821472168, -5.696599960327148, -5.667099952697754, -5.778800010681152, -5.628900051116943, -5.795199871063232, -5.489500045776367, -5.490099906921387, -4.450500011444092, -6.203999996185303, -6.550099849700928, -6.552700042724609, -3.8859000205993652, -5.418600082397461, -6.579100131988525, -5.42519998550415, -6.823599815368652, -6.827000141143799, -6.828999996185303, -6.833700180053711, -6.83650016784668, -6.839099884033203, -6.841000080108643, -5.924900054931641, -6.860000133514404, -6.860000133514404, -6.862299919128418, -5.2256999015808105, -5.785699844360352, -4.23199987411499, -7.196400165557861, -7.196400165557861, -7.196400165557861, -7.196400165557861, -7.196400165557861, -7.196400165557861, -5.405200004577637, -5.478099822998047, -4.497600078582764, -5.765399932861328, -6.246600151062012, -5.882800102233887, -5.104000091552734, -4.427700042724609, -5.398900032043457, -5.622200012207031, -5.004199981689453, -6.217700004577637, -5.381999969482422, -5.831900119781494, -6.0096001625061035, -6.159299850463867, -5.9899001121521, -5.4633002281188965, -5.906599998474121, -5.91540002822876, -5.66480016708374, -5.898399829864502, -5.994999885559082, -5.815499782562256, -5.859000205993652, -4.889400005340576, -4.992400169372559, -5.495800018310547, -5.230299949645996, -5.355599880218506, -5.2316999435424805, -5.23390007019043, -4.851500034332275, -5.777100086212158, -5.889200210571289, -5.889699935913086, -5.889800071716309, -5.093800067901611, -6.022600173950195, -3.737299919128418, -6.164999961853027, -6.032100200653076, -6.033599853515625, -6.033599853515625, -6.033899784088135, -6.03439998626709, -6.034900188446045, -6.034900188446045, -4.306000232696533, -6.038700103759766, -6.0406999588012695, -6.182700157165527, -6.182700157165527, -6.184700012207031, -6.184100151062012, -5.1570000648498535, -5.296800136566162, -5.578000068664551, -5.421299934387207, -5.769700050354004, -4.970099925994873, -4.637499809265137, -5.192800045013428, -5.498600006103516, -5.501399993896484, -5.275400161743164, -5.7683000564575195, -5.607500076293945, -5.393400192260742, -5.8003997802734375, -5.747300148010254, -5.814000129699707, -5.8821001052856445, -4.754799842834473, -5.343900203704834, -5.286200046539307, -4.329899787902832, -6.324399948120117, -6.324399948120117, -6.330699920654297, -5.655200004577637, -5.786300182342529, -6.6118998527526855, -6.612599849700928, -6.612599849700928, -5.227799892425537, -6.616399765014648, -6.621699810028076, -6.624300003051758, -5.933899879455566, -5.949399948120117, -5.9558000564575195, -5.660099983215332, -5.669899940490723, -6.9710001945495605, -6.9710001945495605, -6.9710001945495605, -6.9710001945495605, -6.9710001945495605, -6.971099853515625, -6.971099853515625, -6.97189998626709, -6.9721999168396, -4.844200134277344, -5.713900089263916, -6.692200183868408, -5.829800128936768, -5.667200088500977, -5.539999961853027, -5.668499946594238, -6.113399982452393, -5.238999843597412, -5.430500030517578, -5.055200099945068, -4.913700103759766, -5.400400161743164, -5.462200164794922, -6.146299839019775, -5.935800075531006, -6.003300189971924, -5.53879976272583, -5.658100128173828, -5.522200107574463, -5.748199939727783, -5.789599895477295, -5.645199775695801, -5.784999847412109, -5.781599998474121, -5.809100151062012]}, \"token.table\": {\"Topic\": [1, 3, 5, 1, 2, 3, 4, 1, 2, 3, 4, 5, 5, 5, 3, 1, 3, 4, 5, 5, 2, 5, 1, 2, 3, 4, 5, 3, 4, 5, 4, 5, 3, 2, 2, 1, 2, 3, 5, 1, 2, 4, 5, 2, 1, 2, 3, 4, 5, 4, 2, 1, 2, 3, 4, 2, 5, 3, 1, 2, 3, 4, 5, 1, 2, 3, 4, 5, 1, 2, 3, 4, 2, 3, 5, 2, 2, 3, 5, 1, 3, 5, 1, 2, 3, 5, 1, 1, 1, 2, 3, 4, 2, 3, 4, 5, 1, 1, 4, 2, 3, 1, 2, 3, 1, 2, 3, 5, 1, 1, 2, 3, 4, 5, 2, 1, 1, 2, 3, 4, 5, 3, 2, 2, 4, 1, 3, 4, 1, 2, 3, 5, 2, 3, 5, 1, 2, 3, 4, 5, 4, 1, 4, 5, 1, 2, 1, 2, 3, 4, 5, 1, 2, 3, 3, 3, 1, 5, 1, 1, 2, 4, 1, 2, 3, 4, 5, 1, 2, 3, 4, 5, 2, 3, 5, 1, 2, 4, 2, 4, 2, 5, 3, 4, 5, 1, 2, 3, 5, 5, 1, 2, 3, 4, 5, 1, 2, 3, 5, 1, 2, 3, 4, 5, 1, 2, 3, 5, 2, 3, 4, 5, 1, 1, 4, 5, 1, 3, 4, 5, 1, 3, 5, 1, 3, 5, 1, 2, 5, 1, 1, 2, 3, 5, 2, 3, 4, 5, 4, 5, 1, 2, 3, 4, 5, 4, 1, 2, 3, 1, 3, 5, 2, 2, 4, 5, 4, 4, 2, 1, 2, 3, 4, 5, 1, 5, 5, 2, 3, 5, 1, 4, 5, 2, 5, 1, 2, 3, 4, 5, 4, 4, 1, 2, 4, 5, 1, 2, 3, 2, 5, 1, 3, 4, 5, 1, 3, 1, 3, 1, 2, 3, 4, 5, 2, 1, 2, 3, 4, 5, 5, 1, 2, 3, 4, 5, 1, 2, 3, 4, 4, 5, 1, 3, 2, 3, 4, 2, 3, 5, 1, 2, 3, 4, 5, 2, 5, 1, 2, 3, 4, 5, 1, 2, 3, 4, 1, 2, 3, 4, 5, 1, 2, 3, 4, 5, 4, 4, 3, 3, 1, 4, 5, 4, 1, 2, 3, 4, 1, 3, 2, 4, 1, 2, 1, 1, 2, 5, 4, 2, 3, 4, 5, 1, 2, 4, 5, 1, 2, 3, 5, 1, 1, 2, 5, 5, 1, 2, 3, 5, 1, 5, 2, 2, 4, 1, 2, 3, 4, 4, 2, 1, 2, 4, 5, 2, 1, 2, 3, 4, 1, 3, 5, 3, 4, 1, 2, 3, 3, 5, 1, 1, 4, 5, 3, 5, 2, 4, 2, 1, 4, 5, 4, 5, 1, 2, 3, 4, 5, 1, 2, 3, 5, 1, 2, 3, 5, 1, 2, 3, 4, 5, 1, 3, 5, 5, 1, 2, 4, 5, 1, 5, 4, 1, 2, 3, 4, 5, 2, 5, 3, 3, 3, 3, 2, 3, 1, 3, 1, 2, 3, 4, 1, 4, 5, 1, 2, 3, 4, 5, 2, 3, 4, 5, 1, 3, 5, 2, 4, 5, 3, 1, 2, 3, 4, 5, 1, 3, 4, 1, 2, 4, 5, 1, 1, 1, 4, 4, 1, 2, 3, 4, 2, 1, 5, 1, 2, 3, 4, 5, 1, 3, 5, 1, 2, 3, 5, 1, 2, 4, 2, 3, 1, 2, 3, 4, 3, 1, 2, 3, 4, 1, 2, 3, 4, 5, 1, 3, 1, 2, 3, 4, 5, 1, 2, 4, 4, 4, 2, 3, 4, 4], \"Freq\": [0.646145824793037, 0.10769097079883949, 0.21538194159767898, 0.12014545848424157, 0.4205091046948455, 0.12014545848424157, 0.3604363754527247, 0.13810269358552305, 0.1841369247806974, 0.5984450055372665, 0.023017115597587175, 0.06905134679276152, 0.7479381355623271, 0.9026249733529008, 0.952658174691599, 0.04870517357234486, 0.2435258678617243, 0.5844620828681383, 0.14611552071703457, 0.7476737187013937, 0.7835688795014453, 0.7470257392182391, 0.35606927177411657, 0.14242770870964663, 0.07121385435482332, 0.14242770870964663, 0.35606927177411657, 0.6914046692044893, 0.18721411923543071, 0.7488564769417229, 0.8786258843924523, 0.8867351893820887, 0.6909757498893483, 0.8246947517756541, 0.8242881135985854, 0.24934289087103723, 0.09973715634841489, 0.14960573452262232, 0.49868578174207445, 0.1428575130016754, 0.5714300520067016, 0.23809585500279232, 0.047619171000558465, 0.8261913492271598, 0.06326696455333843, 0.44286875187336894, 0.18980089366001526, 0.2530678582133537, 0.06326696455333843, 0.8790073586704588, 0.7836887454333604, 0.10172563130198618, 0.15258844695297927, 0.6612166034629102, 0.05086281565099309, 0.2699481202164102, 0.6748703005410255, 0.6905520899933704, 0.07296591094761956, 0.4742784211595272, 0.03648295547380978, 0.4013125102119076, 0.03648295547380978, 0.5261939788023771, 0.12142937972362548, 0.24285875944725097, 0.08095291981575031, 0.040476459907875156, 0.42401842749156426, 0.4711315861017381, 0.09422631722034762, 0.04711315861017381, 0.13516912530212763, 0.13516912530212763, 0.6758456265106382, 0.9121642074731194, 0.09341568530135813, 0.09341568530135813, 0.747325482410865, 0.2644904438561846, 0.1322452219280923, 0.5289808877123692, 0.08895980187175902, 0.05930653458117268, 0.7116784149740721, 0.1482663364529317, 0.9750396956089841, 0.9093687170120994, 0.17249258172980597, 0.17249258172980597, 0.43123145432451493, 0.25873887259470896, 0.06616704306694297, 0.7278374737363726, 0.06616704306694297, 0.06616704306694297, 0.6849828473630731, 0.6866823472148395, 0.1373364694429679, 0.9573311831253619, 0.6905817726855673, 0.8020097064854723, 0.16040194129709445, 0.08020097064854723, 0.12533997152268794, 0.2506799430453759, 0.6266998576134397, 0.06266998576134397, 0.9097527807241198, 0.048518674976851944, 0.048518674976851944, 0.7520394621412051, 0.09703734995370389, 0.048518674976851944, 0.8265467922163103, 0.9112370100937078, 0.29019922148135807, 0.09673307382711936, 0.45142101119322364, 0.03224435794237312, 0.09673307382711936, 0.9224462851680486, 0.9682075443693243, 0.824053947685471, 0.8039276687350885, 0.11485028763247745, 0.8039520134273422, 0.11485028763247745, 0.25890909900594, 0.08630303300198, 0.51781819801188, 0.08630303300198, 0.08650844082190105, 0.7785759673971094, 0.08650844082190105, 0.06627340030593569, 0.3976404018356141, 0.13254680061187138, 0.3976404018356141, 0.06627340030593569, 0.9371398455921408, 0.11761933332498412, 0.8233353332748888, 0.11761933332498412, 0.09124814982632522, 0.9124814982632521, 0.08001064002569713, 0.32004256010278853, 0.16002128005139427, 0.08001064002569713, 0.40005320012848566, 0.9543280406966735, 0.685195920592741, 0.19577026302649744, 0.922446440526566, 0.6904971607133275, 0.8206679417241948, 0.4955742624806481, 0.6849958392569041, 0.6837121080175671, 0.19534631657644774, 0.09767315828822387, 0.08761871567311995, 0.5257122940387197, 0.08761871567311995, 0.08761871567311995, 0.1752374313462399, 0.1399259949785445, 0.1399259949785445, 0.1399259949785445, 0.559703979914178, 0.06996299748927225, 0.7751182606748125, 0.08612425118609028, 0.08612425118609028, 0.09342085088552582, 0.031140283628508608, 0.871927941598241, 0.7634652445816915, 0.1526930489163383, 0.3667731155993648, 0.5501596733990473, 0.12332469017708445, 0.12332469017708445, 0.6166234508854223, 0.6137407800036117, 0.08767725428623023, 0.08767725428623023, 0.2630317628586907, 0.7477652295226281, 0.25502354360579554, 0.32788741320745146, 0.18215967400413968, 0.14572773920331175, 0.07286386960165588, 0.1844368695652531, 0.1844368695652531, 0.5533106086957593, 0.09221843478262655, 0.14398437939297756, 0.47994793130992525, 0.09598958626198505, 0.09598958626198505, 0.14398437939297756, 0.39160636263280213, 0.31328509010624167, 0.23496381757968127, 0.03916063626328021, 0.15825322789745433, 0.474759683692363, 0.07912661394872716, 0.31650645579490866, 0.8528935006368433, 0.8671664938848482, 0.9104899149522772, 0.7474752361745073, 0.6848691442862364, 0.7806384323554736, 0.08673760359505263, 0.08673760359505263, 0.11392767636037777, 0.22785535272075555, 0.6835660581622667, 0.907771420948347, 0.952669913567789, 0.49552100323772325, 0.6848669105766139, 0.18627853335473085, 0.7451141334189234, 0.9090833205050294, 0.20058302945404577, 0.10029151472702288, 0.5014575736351145, 0.20058302945404577, 0.07438692999779531, 0.14877385999559062, 0.3719346499889766, 0.4091281149878742, 0.18694606958568172, 0.7477842783427269, 0.3260065555814943, 0.16300327779074714, 0.16300327779074714, 0.10866885186049809, 0.2716721296512452, 0.9371529551740484, 0.15254163997284736, 0.15254163997284736, 0.7627081998642369, 0.7850279607035141, 0.09812849508793926, 0.09812849508793926, 0.8241523111811758, 0.07018335543776295, 0.9123836206909184, 0.4955726770031549, 0.8028840354303008, 0.8038217737997829, 0.7835073502010911, 0.19868447636025444, 0.13245631757350296, 0.2649126351470059, 0.3973689527205089, 0.06622815878675148, 0.8204935937233714, 0.9022102063116015, 0.495574079180828, 0.13455167197836912, 0.13455167197836912, 0.6727583598918456, 0.13398710452130833, 0.8039226271278499, 0.06699355226065416, 0.95276217919902, 0.7478821173588899, 0.4473926231983105, 0.12782646377094586, 0.1917396956564188, 0.06391323188547293, 0.25565292754189173, 0.9380100427299776, 0.8790699452140573, 0.08114140118344194, 0.24342420355032582, 0.1622828023668839, 0.5679898082840936, 0.27455761640856885, 0.13727880820428442, 0.6863940410214221, 0.8683356279872619, 0.1736671255974524, 0.6329424875700177, 0.12658849751400356, 0.06329424875700178, 0.18988274627100532, 0.07228779985611399, 0.9035974982014248, 0.2111939203105792, 0.7391787210870272, 0.06926879688386067, 0.06926879688386067, 0.20780639065158202, 0.20780639065158202, 0.4848815781870247, 0.7835050861426196, 0.1340594897376044, 0.0670297448688022, 0.1340594897376044, 0.6032677038192198, 0.1340594897376044, 0.49557182055383214, 0.11465592711762917, 0.11465592711762917, 0.22931185423525835, 0.22931185423525835, 0.3439677813528875, 0.6850614946541985, 0.19925807969068626, 0.09962903984534313, 0.697403278917402, 0.9371386372945333, 0.4955333895132258, 0.8530242456034207, 0.6917905842311475, 0.2301078055129877, 0.5752695137824693, 0.2301078055129877, 0.18390415220639822, 0.18390415220639822, 0.5517124566191947, 0.1689540610031485, 0.05631802033438283, 0.22527208133753132, 0.3942261423406798, 0.1689540610031485, 0.16625428058058392, 0.8312714029029196, 0.09775555835141717, 0.09775555835141717, 0.09775555835141717, 0.09775555835141717, 0.586533350108503, 0.03820364096032638, 0.03820364096032638, 0.8404801011271803, 0.05730546144048957, 0.43958490815726037, 0.17583396326290415, 0.04395849081572604, 0.08791698163145208, 0.21979245407863018, 0.053231691843035694, 0.0177438972810119, 0.0354877945620238, 0.887194864050595, 0.4955740218830299, 0.8793105604593949, 0.8039975317182061, 0.8277636172682382, 0.827753587173901, 0.7391507957163928, 0.0923938494645491, 0.0923938494645491, 0.9105559401666018, 0.5869687761193082, 0.19565625870643608, 0.06521875290214535, 0.1304375058042907, 0.13748328447265062, 0.8248997068359039, 0.800708728258483, 0.1143869611797833, 0.15215140158865753, 0.7607570079432877, 0.6849147140297993, 0.4571930669044142, 0.5225063621764734, 0.06531329527205917, 0.9105107237085494, 0.11584817063652687, 0.6950890238191613, 0.11584817063652687, 0.11584817063652687, 0.32773047937920297, 0.45882267113088415, 0.1310921917516812, 0.0655460958758406, 0.7540771954161485, 0.06855247231055896, 0.06855247231055896, 0.06855247231055896, 0.8205419809131699, 0.04182407005068706, 0.08364814010137411, 0.8364814010137411, 0.9439763066097722, 0.11513554360799243, 0.6908132616479546, 0.11513554360799243, 0.11513554360799243, 0.2950864379638554, 0.5901728759277108, 0.6877039207365887, 0.7843673375271418, 0.8791259203363092, 0.08595796995367987, 0.601705789675759, 0.17191593990735973, 0.17191593990735973, 0.8791608835824883, 0.9687877507997122, 0.18759831927417187, 0.09379915963708593, 0.5627949578225155, 0.09379915963708593, 0.6876329976717799, 0.5989519597070063, 0.17112913134485896, 0.17112913134485896, 0.08556456567242948, 0.15535510026461266, 0.6214204010584506, 0.15535510026461266, 0.056192092639958745, 0.8990734822393399, 0.12453676339278735, 0.8717573437495114, 0.8275560954534028, 0.6906072242638703, 0.7426467698255272, 0.9089859920862385, 0.743628136884627, 0.10623259098351816, 0.10623259098351816, 0.6905870120645554, 0.49557412978389526, 0.6876368066461718, 0.8033256865059105, 0.9130823314889025, 0.07515850749426187, 0.6764265674483568, 0.22547552248278563, 0.8793919144368012, 0.49557361540046424, 0.3252872189982253, 0.13011488759929013, 0.13011488759929013, 0.06505744379964506, 0.3903446627978704, 0.8037172335715446, 0.07654449843538519, 0.038272249217692594, 0.1148167476530778, 0.14566951941238085, 0.6555128373557138, 0.07283475970619042, 0.07283475970619042, 0.14776103263948426, 0.1108207744796132, 0.07388051631974213, 0.5541038723980659, 0.1108207744796132, 0.8379159312477696, 0.07617417556797905, 0.07617417556797905, 0.9332130700008954, 0.420873616321648, 0.0841747232643296, 0.0841747232643296, 0.420873616321648, 0.7673223762648198, 0.15346447525296394, 0.9377682112110433, 0.6124273901923543, 0.1020712316987257, 0.15310684754808856, 0.05103561584936285, 0.05103561584936285, 0.14998513537331637, 0.7499256768665818, 0.9224463327003194, 0.6909436832582708, 0.7875085589060369, 0.9224463575654632, 0.9328846811126358, 0.062192312074175714, 0.820689179542148, 0.9224461989715462, 0.403342528391197, 0.1613370113564788, 0.2823397698738379, 0.1210027585173591, 0.18761716876638726, 0.750468675065549, 0.09380858438319363, 0.06546778944431841, 0.06546778944431841, 0.3928067366659105, 0.06546778944431841, 0.3928067366659105, 0.8092711640777771, 0.047604186122222183, 0.09520837224444437, 0.047604186122222183, 0.1592066669493476, 0.398016667373369, 0.398016667373369, 0.22593326831237157, 0.11296663415618578, 0.5648331707809289, 0.6916292037857559, 0.3087971560496278, 0.05146619267493797, 0.5146619267493796, 0.05146619267493797, 0.10293238534987594, 0.1620054432846884, 0.6480217731387536, 0.1620054432846884, 0.1593909022877108, 0.3187818045754216, 0.45540257796488803, 0.045540257796488806, 0.9074445274501238, 0.9112022683005551, 0.8205607681869795, 0.8791603410768218, 0.8433620719816617, 0.6848813198528698, 0.1618720747652208, 0.7284243364434937, 0.0809360373826104, 0.9132175957129098, 0.954185883972774, 0.9026253620578158, 0.1323948334219648, 0.1985922501329472, 0.0661974167109824, 0.0661974167109824, 0.5295793336878593, 0.2916899340255775, 0.14584496701278876, 0.583379868051155, 0.09328383993470253, 0.6529868795429177, 0.09328383993470253, 0.18656767986940506, 0.6848670460873608, 0.6878116417139368, 0.9780816157007165, 0.7990736731628204, 0.11415338188040292, 0.802210568294376, 0.16044211365887517, 0.6918178672869998, 0.17295446682174995, 0.9224463515670603, 0.02736911164081373, 0.8484424608652256, 0.05473822328162746, 0.05473822328162746, 0.23964748781725492, 0.11982374390862746, 0.3594712317258824, 0.11982374390862746, 0.15976499187816995, 0.6380779473116696, 0.36461596989238265, 0.0746311172597535, 0.0746311172597535, 0.0746311172597535, 0.6716800553377814, 0.149262234519507, 0.13808600073637836, 0.4833010025773242, 0.3452150018409459, 0.9736233924405299, 0.8791237467733757, 0.14011105079331376, 0.14011105079331376, 0.7706107793632258, 0.8791077403680758], \"Term\": [\"across\", \"across\", \"across\", \"album\", \"album\", \"album\", \"album\", \"alright\", \"alright\", \"alright\", \"alright\", \"alright\", \"amounts\", \"ands\", \"anthony\", \"anybody\", \"anybody\", \"anybody\", \"anybody\", \"appreciate\", \"area\", \"artist\", \"attitude\", \"attitude\", \"attitude\", \"attitude\", \"attitude\", \"awww\", \"babe\", \"babe\", \"backwards\", \"badman\", \"ballers\", \"bands\", \"baseball\", \"battle\", \"battle\", \"battle\", \"battle\", \"beats\", \"beats\", \"beats\", \"beats\", \"bells\", \"benz\", \"benz\", \"benz\", \"benz\", \"benz\", \"bews\", \"biggity\", \"bills\", \"bills\", \"bills\", \"bills\", \"biter\", \"biter\", \"bobby\", \"boom\", \"boom\", \"boom\", \"boom\", \"boom\", \"booty\", \"booty\", \"booty\", \"booty\", \"booty\", \"bottom\", \"bottom\", \"bottom\", \"bottom\", \"bowl\", \"bowl\", \"bowl\", \"boyz\", \"brand\", \"brand\", \"brand\", \"bronx\", \"bronx\", \"bronx\", \"brooklyn\", \"brooklyn\", \"brooklyn\", \"brooklyn\", \"brrah\", \"busa\", \"business\", \"business\", \"business\", \"business\", \"butter\", \"butter\", \"butter\", \"butter\", \"butts\", \"california\", \"california\", \"cappucino\", \"cares\", \"chains\", \"chains\", \"chains\", \"chance\", \"chance\", \"chance\", \"chance\", \"chew\", \"chick\", \"chick\", \"chick\", \"chick\", \"chick\", \"chickens\", \"child\", \"chorus\", \"chorus\", \"chorus\", \"chorus\", \"chorus\", \"cigar\", \"clappers\", \"competitions\", \"core\", \"cost\", \"cost\", \"cost\", \"couple\", \"couple\", \"couple\", \"couple\", \"cram\", \"cram\", \"cram\", \"cream\", \"cream\", \"cream\", \"cream\", \"cream\", \"crisco\", \"crunk\", \"crunk\", \"crunk\", \"cuts\", \"cuts\", \"date\", \"date\", \"date\", \"date\", \"date\", \"dats\", \"dawn\", \"dawn\", \"daylight\", \"dealer\", \"devils\", \"diggity\", \"digits\", \"dopest\", \"dopest\", \"dopest\", \"doubt\", \"doubt\", \"doubt\", \"doubt\", \"doubt\", \"dumb\", \"dumb\", \"dumb\", \"dumb\", \"dumb\", \"dupa\", \"dupa\", \"dupa\", \"dutch\", \"dutch\", \"dutch\", \"effect\", \"effect\", \"either\", \"either\", \"faker\", \"faker\", \"faker\", \"fear\", \"fear\", \"fear\", \"fear\", \"finding\", \"fine\", \"fine\", \"fine\", \"fine\", \"fine\", \"folks\", \"folks\", \"folks\", \"folks\", \"foot\", \"foot\", \"foot\", \"foot\", \"foot\", \"funky\", \"funky\", \"funky\", \"funky\", \"games\", \"games\", \"games\", \"games\", \"george\", \"georgia\", \"gniht\", \"goal\", \"gotcha\", \"grill\", \"grill\", \"grill\", \"ground\", \"ground\", \"ground\", \"haaa\", \"hamilton\", \"hasta\", \"health\", \"hearts\", \"hearts\", \"heee\", \"hello\", \"hello\", \"hello\", \"hello\", \"holla\", \"holla\", \"holla\", \"holla\", \"homegirl\", \"homegirl\", \"hook\", \"hook\", \"hook\", \"hook\", \"hook\", \"hormones\", \"hype\", \"hype\", \"hype\", \"impress\", \"impress\", \"impress\", \"indo\", \"infinity\", \"infinity\", \"influence\", \"innovator\", \"izzy\", \"jaguars\", \"jeans\", \"jeans\", \"jeans\", \"jeans\", \"jeans\", \"jello\", \"jesus\", \"john\", \"jones\", \"jones\", \"jones\", \"junk\", \"junk\", \"junk\", \"kack\", \"kamikaze\", \"kind\", \"kind\", \"kind\", \"kind\", \"kind\", \"kizza\", \"kizzer\", \"knock\", \"knock\", \"knock\", \"knock\", \"knocks\", \"knocks\", \"knocks\", \"krunk\", \"krunk\", \"laugh\", \"laugh\", \"laugh\", \"laugh\", \"leader\", \"leader\", \"lemonade\", \"lemonade\", \"lets\", \"lets\", \"lets\", \"lets\", \"lets\", \"lincoln\", \"lips\", \"lips\", \"lips\", \"lips\", \"lips\", \"loan\", \"loud\", \"loud\", \"loud\", \"loud\", \"loud\", \"madness\", \"marry\", \"marry\", \"marry\", \"mats\", \"meaning\", \"melon\", \"memories\", \"mercy\", \"mercy\", \"mercy\", \"metal\", \"metal\", \"metal\", \"microphone\", \"microphone\", \"microphone\", \"microphone\", \"microphone\", \"mighty\", \"mighty\", \"mike\", \"mike\", \"mike\", \"mike\", \"mike\", \"minute\", \"minute\", \"minute\", \"minute\", \"misdemeanor\", \"misdemeanor\", \"misdemeanor\", \"misdemeanor\", \"misdemeanor\", \"mommy\", \"mommy\", \"mommy\", \"mommy\", \"mountains\", \"musi\", \"nails\", \"nicole\", \"nineties\", \"nose\", \"nose\", \"nose\", \"nwod\", \"ones\", \"ones\", \"ones\", \"ones\", \"oooh\", \"oooh\", \"ooooh\", \"ooooh\", \"originality\", \"originality\", \"patient\", \"perfect\", \"perfect\", \"perfect\", \"pilf\", \"plane\", \"plane\", \"plane\", \"plane\", \"platinum\", \"platinum\", \"platinum\", \"platinum\", \"playa\", \"playa\", \"playa\", \"playa\", \"poetry\", \"posse\", \"posse\", \"posse\", \"princess\", \"problems\", \"problems\", \"problems\", \"problems\", \"proud\", \"proud\", \"psycho\", \"puba\", \"pues\", \"puff\", \"puff\", \"puff\", \"puff\", \"ques\", \"rally\", \"rapper\", \"rapper\", \"rapper\", \"rapper\", \"rate\", \"records\", \"records\", \"records\", \"records\", \"release\", \"release\", \"release\", \"reverse\", \"reverse\", \"rick\", \"rick\", \"role\", \"rolley\", \"rounds\", \"ruff\", \"rule\", \"rule\", \"rule\", \"sacks\", \"sail\", \"salad\", \"saves\", \"scratches\", \"search\", \"search\", \"search\", \"sews\", \"shhh\", \"sign\", \"sign\", \"sign\", \"sign\", \"sign\", \"slap\", \"slap\", \"slap\", \"slap\", \"slick\", \"slick\", \"slick\", \"slick\", \"slide\", \"slide\", \"slide\", \"slide\", \"slide\", \"slim\", \"slim\", \"slim\", \"smash\", \"smile\", \"smile\", \"smile\", \"smile\", \"snatch\", \"snatch\", \"sock\", \"someone\", \"someone\", \"someone\", \"someone\", \"someone\", \"spell\", \"spell\", \"splash\", \"spring\", \"stance\", \"stewardess\", \"stomp\", \"stomp\", \"stores\", \"stripes\", \"stuff\", \"stuff\", \"stuff\", \"stuff\", \"suck\", \"suck\", \"suck\", \"sugar\", \"sugar\", \"sugar\", \"sugar\", \"sugar\", \"supa\", \"supa\", \"supa\", \"supa\", \"sweat\", \"sweat\", \"sweat\", \"taker\", \"taker\", \"taker\", \"talker\", \"taste\", \"taste\", \"taste\", \"taste\", \"taste\", \"thangs\", \"thangs\", \"thangs\", \"timbaland\", \"timbaland\", \"timbaland\", \"timbaland\", \"toot\", \"tour\", \"tunes\", \"twos\", \"unity\", \"verge\", \"verse\", \"verse\", \"verse\", \"visa\", \"volume\", \"waits\", \"wall\", \"wall\", \"wall\", \"wall\", \"wall\", \"warm\", \"warm\", \"warm\", \"ways\", \"ways\", \"ways\", \"ways\", \"wealth\", \"weapon\", \"weekend\", \"westside\", \"westside\", \"whatcha\", \"whatcha\", \"wheels\", \"wheels\", \"williams\", \"window\", \"window\", \"window\", \"window\", \"woman\", \"woman\", \"woman\", \"woman\", \"woman\", \"women\", \"women\", \"worth\", \"worth\", \"worth\", \"worth\", \"worth\", \"yall\", \"yall\", \"yall\", \"yippe\", \"zigga\", \"zoom\", \"zoom\", \"zoom\", \"zound\"]}, \"R\": 30, \"lambda.step\": 0.01, \"plot.opts\": {\"xlab\": \"PC1\", \"ylab\": \"PC2\"}, \"topic.order\": [5, 3, 1, 4, 2]};\n",
       "\n",
       "function LDAvis_load_lib(url, callback){\n",
       "  var s = document.createElement('script');\n",
       "  s.src = url;\n",
       "  s.async = true;\n",
       "  s.onreadystatechange = s.onload = callback;\n",
       "  s.onerror = function(){console.warn(\"failed to load library \" + url);};\n",
       "  document.getElementsByTagName(\"head\")[0].appendChild(s);\n",
       "}\n",
       "\n",
       "if(typeof(LDAvis) !== \"undefined\"){\n",
       "   // already loaded: just create the visualization\n",
       "   !function(LDAvis){\n",
       "       new LDAvis(\"#\" + \"ldavis_el2154423025654298007698614970\", ldavis_el2154423025654298007698614970_data);\n",
       "   }(LDAvis);\n",
       "}else if(typeof define === \"function\" && define.amd){\n",
       "   // require.js is available: use it to load d3/LDAvis\n",
       "   require.config({paths: {d3: \"https://cdnjs.cloudflare.com/ajax/libs/d3/3.5.5/d3.min\"}});\n",
       "   require([\"d3\"], function(d3){\n",
       "      window.d3 = d3;\n",
       "      LDAvis_load_lib(\"https://cdn.rawgit.com/bmabey/pyLDAvis/files/ldavis.v1.0.0.js\", function(){\n",
       "        new LDAvis(\"#\" + \"ldavis_el2154423025654298007698614970\", ldavis_el2154423025654298007698614970_data);\n",
       "      });\n",
       "    });\n",
       "}else{\n",
       "    // require.js not available: dynamically load d3 & LDAvis\n",
       "    LDAvis_load_lib(\"https://cdnjs.cloudflare.com/ajax/libs/d3/3.5.5/d3.min.js\", function(){\n",
       "         LDAvis_load_lib(\"https://cdn.rawgit.com/bmabey/pyLDAvis/files/ldavis.v1.0.0.js\", function(){\n",
       "                 new LDAvis(\"#\" + \"ldavis_el2154423025654298007698614970\", ldavis_el2154423025654298007698614970_data);\n",
       "            })\n",
       "         });\n",
       "}\n",
       "</script>"
      ],
      "text/plain": [
       "<IPython.core.display.HTML object>"
      ]
     },
     "execution_count": 154,
     "metadata": {},
     "output_type": "execute_result"
    }
   ],
   "source": [
    "print('Female lyrics topics : ')\n",
    "pyLDAvis.display(gensim_prepare(female_lda, female_corpus, female_corpus.dictionary))"
   ]
  },
  {
   "cell_type": "code",
   "execution_count": 155,
   "metadata": {},
   "outputs": [
    {
     "name": "stdout",
     "output_type": "stream",
     "text": [
      "Male lyrics topics : \n"
     ]
    },
    {
     "data": {
      "text/html": [
       "\n",
       "<link rel=\"stylesheet\" type=\"text/css\" href=\"https://cdn.rawgit.com/bmabey/pyLDAvis/files/ldavis.v1.0.0.css\">\n",
       "\n",
       "\n",
       "<div id=\"ldavis_el2154423024980869846812932029\"></div>\n",
       "<script type=\"text/javascript\">\n",
       "\n",
       "var ldavis_el2154423024980869846812932029_data = {\"mdsDat\": {\"Freq\": [27.90143602309597, 21.53824630621867, 18.5902696641798, 18.166552595651737, 13.803495410853822], \"cluster\": [1, 1, 1, 1, 1], \"topics\": [1, 2, 3, 4, 5], \"x\": [0.0029408286588470745, -0.0012672734074318198, 0.07447798059284788, -0.11890025404833034, 0.04274871820406717], \"y\": [-0.014753686655707324, -0.009931510445916641, -0.07975412144128236, -0.00931698491836576, 0.11375630346127208]}, \"tinfo\": {\"Category\": [\"Default\", \"Default\", \"Default\", \"Default\", \"Default\", \"Default\", \"Default\", \"Default\", \"Default\", \"Default\", \"Default\", \"Default\", \"Default\", \"Default\", \"Default\", \"Default\", \"Default\", \"Default\", \"Default\", \"Default\", \"Default\", \"Default\", \"Default\", \"Default\", \"Default\", \"Default\", \"Default\", \"Default\", \"Default\", \"Default\", \"Topic1\", \"Topic1\", \"Topic1\", \"Topic1\", \"Topic1\", \"Topic1\", \"Topic1\", \"Topic1\", \"Topic1\", \"Topic1\", \"Topic1\", \"Topic1\", \"Topic1\", \"Topic1\", \"Topic1\", \"Topic1\", \"Topic1\", \"Topic1\", \"Topic1\", \"Topic1\", \"Topic1\", \"Topic1\", \"Topic1\", \"Topic1\", \"Topic1\", \"Topic1\", \"Topic1\", \"Topic1\", \"Topic1\", \"Topic1\", \"Topic1\", \"Topic1\", \"Topic1\", \"Topic1\", \"Topic1\", \"Topic1\", \"Topic1\", \"Topic1\", \"Topic1\", \"Topic1\", \"Topic1\", \"Topic1\", \"Topic1\", \"Topic1\", \"Topic1\", \"Topic1\", \"Topic1\", \"Topic1\", \"Topic1\", \"Topic1\", \"Topic1\", \"Topic1\", \"Topic1\", \"Topic1\", \"Topic1\", \"Topic1\", \"Topic1\", \"Topic1\", \"Topic1\", \"Topic1\", \"Topic1\", \"Topic1\", \"Topic1\", \"Topic1\", \"Topic1\", \"Topic1\", \"Topic1\", \"Topic1\", \"Topic1\", \"Topic1\", \"Topic1\", \"Topic1\", \"Topic1\", \"Topic1\", \"Topic1\", \"Topic1\", \"Topic2\", \"Topic2\", \"Topic2\", \"Topic2\", \"Topic2\", \"Topic2\", \"Topic2\", \"Topic2\", \"Topic2\", \"Topic2\", \"Topic2\", \"Topic2\", \"Topic2\", \"Topic2\", \"Topic2\", \"Topic2\", \"Topic2\", \"Topic2\", \"Topic2\", \"Topic2\", \"Topic2\", \"Topic2\", \"Topic2\", \"Topic2\", \"Topic2\", \"Topic2\", \"Topic2\", \"Topic2\", \"Topic2\", \"Topic2\", \"Topic2\", \"Topic2\", \"Topic2\", \"Topic2\", \"Topic2\", \"Topic2\", \"Topic2\", \"Topic2\", \"Topic2\", \"Topic2\", \"Topic2\", \"Topic2\", \"Topic2\", \"Topic2\", \"Topic2\", \"Topic2\", \"Topic2\", \"Topic2\", \"Topic2\", \"Topic2\", \"Topic2\", \"Topic2\", \"Topic2\", \"Topic2\", \"Topic2\", \"Topic2\", \"Topic2\", \"Topic2\", \"Topic2\", \"Topic2\", \"Topic2\", \"Topic2\", \"Topic2\", \"Topic2\", \"Topic2\", \"Topic2\", \"Topic2\", \"Topic2\", \"Topic2\", \"Topic2\", \"Topic2\", \"Topic2\", \"Topic3\", \"Topic3\", \"Topic3\", \"Topic3\", \"Topic3\", \"Topic3\", \"Topic3\", \"Topic3\", \"Topic3\", \"Topic3\", \"Topic3\", \"Topic3\", \"Topic3\", \"Topic3\", \"Topic3\", \"Topic3\", \"Topic3\", \"Topic3\", \"Topic3\", \"Topic3\", \"Topic3\", \"Topic3\", \"Topic3\", \"Topic3\", \"Topic3\", \"Topic3\", \"Topic3\", \"Topic3\", \"Topic3\", \"Topic3\", \"Topic3\", \"Topic3\", \"Topic3\", \"Topic3\", \"Topic3\", \"Topic3\", \"Topic3\", \"Topic3\", \"Topic3\", \"Topic3\", \"Topic3\", \"Topic3\", \"Topic3\", \"Topic3\", \"Topic3\", \"Topic3\", \"Topic3\", \"Topic3\", \"Topic3\", \"Topic3\", \"Topic3\", \"Topic3\", \"Topic3\", \"Topic3\", \"Topic3\", \"Topic3\", \"Topic3\", \"Topic3\", \"Topic3\", \"Topic3\", \"Topic3\", \"Topic3\", \"Topic3\", \"Topic3\", \"Topic3\", \"Topic3\", \"Topic3\", \"Topic3\", \"Topic3\", \"Topic4\", \"Topic4\", \"Topic4\", \"Topic4\", \"Topic4\", \"Topic4\", \"Topic4\", \"Topic4\", \"Topic4\", \"Topic4\", \"Topic4\", \"Topic4\", \"Topic4\", \"Topic4\", \"Topic4\", \"Topic4\", \"Topic4\", \"Topic4\", \"Topic4\", \"Topic4\", \"Topic4\", \"Topic4\", \"Topic4\", \"Topic4\", \"Topic4\", \"Topic4\", \"Topic4\", \"Topic4\", \"Topic4\", \"Topic4\", \"Topic4\", \"Topic4\", \"Topic4\", \"Topic4\", \"Topic4\", \"Topic4\", \"Topic4\", \"Topic4\", \"Topic4\", \"Topic4\", \"Topic4\", \"Topic4\", \"Topic4\", \"Topic4\", \"Topic4\", \"Topic4\", \"Topic4\", \"Topic4\", \"Topic4\", \"Topic4\", \"Topic4\", \"Topic4\", \"Topic4\", \"Topic4\", \"Topic4\", \"Topic4\", \"Topic4\", \"Topic4\", \"Topic4\", \"Topic4\", \"Topic4\", \"Topic4\", \"Topic4\", \"Topic5\", \"Topic5\", \"Topic5\", \"Topic5\", \"Topic5\", \"Topic5\", \"Topic5\", \"Topic5\", \"Topic5\", \"Topic5\", \"Topic5\", \"Topic5\", \"Topic5\", \"Topic5\", \"Topic5\", \"Topic5\", \"Topic5\", \"Topic5\", \"Topic5\", \"Topic5\", \"Topic5\", \"Topic5\", \"Topic5\", \"Topic5\", \"Topic5\", \"Topic5\", \"Topic5\", \"Topic5\", \"Topic5\", \"Topic5\", \"Topic5\", \"Topic5\", \"Topic5\", \"Topic5\", \"Topic5\", \"Topic5\", \"Topic5\", \"Topic5\", \"Topic5\", \"Topic5\", \"Topic5\", \"Topic5\", \"Topic5\", \"Topic5\", \"Topic5\", \"Topic5\", \"Topic5\", \"Topic5\", \"Topic5\", \"Topic5\", \"Topic5\", \"Topic5\", \"Topic5\", \"Topic5\", \"Topic5\", \"Topic5\", \"Topic5\", \"Topic5\", \"Topic5\", \"Topic5\", \"Topic5\", \"Topic5\", \"Topic5\", \"Topic5\", \"Topic5\", \"Topic5\", \"Topic5\", \"Topic5\", \"Topic5\", \"Topic5\"], \"Freq\": [172.0, 123.0, 202.0, 186.0, 121.0, 186.0, 123.0, 183.0, 231.0, 208.0, 84.0, 176.0, 135.0, 165.0, 63.0, 67.0, 115.0, 241.0, 76.0, 79.0, 162.0, 196.0, 132.0, 53.0, 102.0, 47.0, 47.0, 55.0, 99.0, 58.0, 31.785070001713105, 19.985987394807832, 26.578334299495733, 14.038279388035008, 12.016896143044622, 11.980328408344645, 11.970264316941849, 11.855471866747324, 27.372148645065202, 10.917358407043382, 9.093863100112651, 9.055476075129095, 8.113139319727546, 8.113092447183123, 9.014508676852492, 8.11279293956875, 8.112532359999749, 8.984359302939, 14.366479355193011, 13.442022489364508, 11.643419681322618, 8.046546145299335, 9.809489274883227, 9.793164123775233, 7.119569284370605, 13.31907818868971, 7.089915647198141, 7.874776542332695, 6.109052043629668, 6.958268147808658, 67.18941861568423, 11.201813579055177, 105.30320367654635, 65.86114921849244, 28.090166114051314, 13.713076085920527, 39.682629778435555, 25.214390923747647, 16.01622926224214, 162.56006001578785, 46.66159572963205, 85.95595241685577, 76.39592994569648, 50.793831579069725, 29.43704152802977, 40.251230286996, 70.9085119140685, 63.45238346063429, 94.80259065087779, 63.956376125080354, 87.62585434020765, 91.62053277740888, 80.7709528640527, 26.704807546650734, 21.232064593677038, 59.31875255716257, 59.370226555439324, 64.24107519321313, 41.91602548635537, 83.53938198312605, 73.34652613964732, 71.74862680013015, 62.61285328970308, 62.844629282931486, 60.57808276935522, 75.20316192438573, 55.986276716387074, 51.56277328699799, 66.44320135285271, 66.253257913848, 54.85726806669163, 58.99434370495358, 58.4453470422611, 57.1314794329561, 55.96867170648133, 57.00842232039472, 30.75894938361063, 30.738679649822153, 22.989665659274905, 16.45734838808063, 15.4683482631825, 12.683439421722861, 15.357704904499755, 13.464771058364388, 21.331590151246257, 16.833330730784258, 40.74370789711829, 15.026928998819116, 15.726326804720951, 40.79656423911761, 7.770472850979071, 7.763584011585207, 9.44425047276544, 8.563714152093919, 24.817957379072734, 6.836986971572912, 16.194998472269994, 5.957268137139441, 5.957144257004343, 5.9476753991532565, 7.646050586972606, 9.35374254218015, 16.136904821588793, 8.457098124337863, 5.9261110566262, 5.924711579060386, 15.110167863853311, 9.288861241324351, 150.48950961924442, 44.94148562434317, 10.810560665577535, 15.517017211308291, 31.10966753797013, 35.36204819444561, 85.74993745028627, 134.1167456061802, 46.294575598975484, 124.98104436713317, 21.007762571955052, 86.43253907232635, 48.58398843076131, 94.28973844343022, 118.95024539732887, 40.212161541594845, 30.83674610845243, 72.2886117315208, 80.15643781045135, 45.29696028527606, 70.31276527892487, 44.530900248259385, 68.04734349112444, 43.299703420419945, 39.848191892387796, 35.08661236614622, 41.95457611744168, 37.57359561537414, 42.50197913025772, 44.322869931885414, 48.19703595015352, 47.8108439218602, 47.067057778441416, 43.12851824521782, 44.88767013119884, 47.37242599106697, 44.82354192344156, 44.0722101306057, 44.38987804614973, 42.338231669305465, 33.728663168823786, 34.47569665399016, 35.27253152457463, 17.530464549386096, 19.3340598022275, 14.461452320344547, 52.086180920187026, 9.824798513517617, 17.813299831343503, 10.65527012188724, 13.296882038025243, 7.898377769918855, 7.8983274836681145, 11.329011661263038, 13.060431852409273, 7.7782497395170385, 6.908219790340789, 6.895261817518258, 7.741371391210432, 11.15527637025546, 15.492369158799562, 7.7076600180426, 6.852905973183565, 7.684438356779347, 5.948686666792965, 70.30194014272443, 6.788688843000402, 5.928472652652982, 16.06585155943476, 7.5882232912562335, 51.332717146873264, 145.0910484193624, 25.8541539001514, 18.729642358794333, 150.53290578755502, 17.81413405377685, 135.9617331027252, 12.415619199091358, 75.03094808967548, 23.464292952407476, 22.149196336448924, 38.469392576158086, 114.97264586416141, 44.12947321672439, 42.49029388930587, 82.44367077785864, 47.959032699157774, 41.40478417973056, 58.60775502186958, 23.29931805560794, 68.31518648481554, 63.60640737321522, 60.370721101428046, 51.20225238063491, 57.371204470910605, 71.87404713957562, 42.32841662555198, 67.26255868993532, 50.931777988438604, 58.97837845238381, 58.8318601975931, 54.876333127724486, 61.64197869331952, 48.3484070785799, 44.58428535890031, 48.34815300068143, 46.0697856694226, 45.41372265849153, 42.74981752407764, 46.73070955329002, 61.934083102867056, 22.891923479037118, 51.119432062061954, 28.30627551731077, 19.10388134784678, 28.153032873139576, 26.221460490452934, 23.369312882854498, 63.84530424003539, 116.37073921761369, 26.826785901197262, 11.497584713866031, 12.362826110542889, 17.660262974469227, 9.671382166975242, 9.665828817750848, 8.694608247965698, 13.024980243268285, 8.676680385561799, 7.761564885041164, 7.732009439066556, 12.005511331246312, 8.580234392986814, 11.132667184299322, 21.399098789990965, 8.53948327910863, 7.690524844450651, 7.6451778375155826, 16.87348953332907, 66.71106831233045, 105.29038400367217, 44.84259150756713, 101.13946650226106, 26.679113158707167, 57.394282183638055, 17.190115270460108, 27.18237198329675, 33.85998682669463, 43.51755907213551, 30.05588467438665, 104.35346529682167, 37.2512996755891, 71.77520140259108, 114.24639692414527, 34.00653193307172, 91.38180155112745, 53.46312337366557, 73.63419126262805, 64.52700061695765, 64.15284060937852, 58.604854380957356, 56.44858653661994, 63.98543320038236, 56.58005028588205, 66.86927255539884, 61.695922217687084, 47.68927473539596, 38.98649785004654, 46.920624165290256, 48.71632984523136, 54.41387993432111, 50.82595700468939, 25.67929806186518, 20.23788640571212, 28.142236328928707, 19.3099480257521, 19.300886256474264, 18.268201432781677, 17.375131370103603, 18.24465875496495, 16.486802857762445, 14.729695295427437, 14.69549199001303, 14.647818656983684, 14.613978514078504, 23.177454242352198, 12.016211842101498, 11.997314814565133, 21.397469014068005, 9.298062300778225, 11.743970447143942, 8.312143689907957, 8.311753801153463, 8.30939953337179, 9.96700135424482, 8.300221426320434, 7.426451643055856, 7.4208202659647355, 7.416219421448498, 7.412244285497941, 6.559374032999715, 6.556802417958733, 42.39027752066926, 21.72296009452342, 25.19370262306734, 10.58536649100448, 66.56343689605595, 13.571505596089626, 42.34305381741324, 36.05854703296864, 33.98979101309483, 15.439924825700613, 17.292581859131932, 21.69541162418068, 69.39904749926488, 27.799552412105765, 45.408488120075695, 19.550976310501085, 55.93137179390835, 30.666608801070314, 62.9858428389316, 61.03646824027256, 36.003229993792715, 37.88540223479207, 55.96061345049541, 54.49662519706828, 62.048122653203585, 65.4215659276522, 67.59826453576618, 42.92029355123415, 46.00566563286633, 35.49205124974536, 42.22604631563109, 42.83017265219134, 35.966467257360904, 38.41202246007588, 44.59468024020136, 36.6751498096727, 35.3570082488037, 36.80526574869265, 36.59622563526499, 36.5194835801768], \"Term\": [\"cali\", \"outlaw\", \"self\", \"water\", \"rebel\", \"platinum\", \"westside\", \"cats\", \"enemies\", \"chick\", \"toss\", \"holla\", \"hello\", \"haters\", \"crossroads\", \"vapors\", \"rise\", \"boom\", \"outlawz\", \"jones\", \"chorus\", \"lady\", \"california\", \"mourn\", \"loot\", \"drip\", \"swivel\", \"benjamins\", \"lane\", \"soulja\", \"murderah\", \"whaddup\", \"faden\", \"hellrazor\", \"chandon\", \"porridge\", \"finga\", \"thuglife\", \"medicine\", \"figgaz\", \"hazyville\", \"pease\", \"infareds\", \"bristol\", \"itsoweezee\", \"automobile\", \"snooooooooooop\", \"niggy\", \"housewife\", \"cinderella\", \"brainless\", \"beepers\", \"rogers\", \"claat\", \"reunion\", \"lawd\", \"delicacies\", \"prettiest\", \"swithez\", \"bugs\", \"mutha\", \"daisies\", \"plug\", \"curse\", \"fucker\", \"milky\", \"math\", \"wolf\", \"habits\", \"boom\", \"video\", \"swear\", \"crip\", \"season\", \"exchange\", \"lover\", \"killa\", \"radio\", \"taste\", \"roof\", \"thank\", \"round\", \"park\", \"revolution\", \"daisy\", \"trigger\", \"guys\", \"finger\", \"smith\", \"cars\", \"wife\", \"pray\", \"whip\", \"twenty\", \"york\", \"buck\", \"juice\", \"bullets\", \"shorty\", \"nuts\", \"zone\", \"limit\", \"doubt\", \"crib\", \"slide\", \"enemies\", \"brenda\", \"yvette\", \"adventures\", \"demos\", \"bimbos\", \"pollaseeds\", \"hort\", \"patti\", \"creator\", \"gotham\", \"batman\", \"niggers\", \"zhane\", \"delivery\", \"yippyyo\", \"bowowow\", \"mickens\", \"peppermint\", \"trenches\", \"popcaan\", \"jody\", \"keenan\", \"naku\", \"client\", \"kanday\", \"choo\", \"emotions\", \"huddy\", \"perfecta\", \"tints\", \"unborn\", \"conscience\", \"water\", \"trife\", \"maker\", \"limos\", \"blam\", \"rowdy\", \"count\", \"chick\", \"mansion\", \"lady\", \"mega\", \"dear\", \"jesus\", \"woman\", \"thugs\", \"whatcha\", \"miles\", \"ways\", \"drama\", \"aiyyo\", \"child\", \"uncle\", \"kind\", \"doctor\", \"whats\", \"standing\", \"dress\", \"babies\", \"island\", \"homeboy\", \"weight\", \"smile\", \"hundred\", \"liquor\", \"tears\", \"pimp\", \"women\", \"grow\", \"today\", \"limit\", \"mainline\", \"arab\", \"wonda\", \"scrubb\", \"linden\", \"mayn\", \"benjamins\", \"dandruff\", \"digga\", \"writes\", \"cinderfella\", \"queensbridge\", \"dante\", \"luger\", \"luuden\", \"hili\", \"hops\", \"louieville\", \"sacramento\", \"daytona\", \"muthaphukka\", \"stase\", \"siren\", \"goodbar\", \"cranium\", \"jones\", \"starr\", \"spoilers\", \"ahhhh\", \"arsenio\", \"soulja\", \"cali\", \"tommy\", \"phenomenon\", \"self\", \"kills\", \"platinum\", \"goodnight\", \"loot\", \"brakes\", \"superman\", \"ruff\", \"cats\", \"boulevard\", \"legend\", \"california\", \"homicide\", \"goodbye\", \"harlem\", \"farmers\", \"squad\", \"cock\", \"brooklyn\", \"suck\", \"laugh\", \"flipmode\", \"squeeze\", \"today\", \"lets\", \"compton\", \"dumb\", \"clip\", \"homey\", \"knock\", \"truck\", \"buck\", \"chick\", \"playa\", \"hello\", \"swivel\", \"crossroads\", \"gizee\", \"mourn\", \"oodles\", \"shimmy\", \"nutt\", \"gimmee\", \"feelins\", \"vapors\", \"outlaw\", \"ridah\", \"brrr\", \"lalalala\", \"chino\", \"dadada\", \"uhhhhh\", \"toothbrushes\", \"teardrops\", \"jumpsuit\", \"rollerskates\", \"clang\", \"kastro\", \"clits\", \"coma\", \"worlds\", \"trizack\", \"heezos\", \"babay\", \"twyla\", \"outlawz\", \"rebel\", \"doggz\", \"westside\", \"outlaws\", \"saturday\", \"kato\", \"clack\", \"makaveli\", \"supreme\", \"pavement\", \"haters\", \"hail\", \"problems\", \"enemies\", \"nature\", \"hustle\", \"bass\", \"power\", \"across\", \"killer\", \"jail\", \"click\", \"ones\", \"fear\", \"pimp\", \"holla\", \"hide\", \"soldiers\", \"pray\", \"chorus\", \"boom\", \"homey\", \"bowwowwowyippyyoyippyyay\", \"bladow\", \"quiero\", \"bowwowwowyippyyo\", \"dogz\", \"sube\", \"eruption\", \"despacito\", \"favoritos\", \"cocaina\", \"squat\", \"poquito\", \"pasito\", \"ballad\", \"lahhh\", \"numerals\", \"fuhgidabowdit\", \"freek\", \"flicc\", \"fudge\", \"extinction\", \"yiggy\", \"wannah\", \"mothafuckaz\", \"pegando\", \"suavecito\", \"para\", \"hasta\", \"yizzear\", \"claats\", \"drip\", \"attitudes\", \"flava\", \"motherland\", \"toss\", \"toughest\", \"collar\", \"hush\", \"impala\", \"renaissance\", \"roughest\", \"chariot\", \"rise\", \"flea\", \"wave\", \"closest\", \"lane\", \"express\", \"hello\", \"ground\", \"hennessy\", \"thanks\", \"stars\", \"road\", \"funky\", \"chorus\", \"holla\", \"stuff\", \"rush\", \"freeze\", \"swing\", \"father\", \"passion\", \"nation\", \"enemies\", \"brand\", \"promise\", \"seat\", \"grow\", \"flipmode\"], \"Total\": [172.0, 123.0, 202.0, 186.0, 121.0, 186.0, 123.0, 183.0, 231.0, 208.0, 84.0, 176.0, 135.0, 165.0, 63.0, 67.0, 115.0, 241.0, 76.0, 79.0, 162.0, 196.0, 132.0, 53.0, 102.0, 47.0, 47.0, 55.0, 99.0, 58.0, 32.61415590309999, 20.743387442167307, 27.656071504208803, 14.806364164939891, 12.82519624724399, 12.820967085723344, 12.82518829208824, 12.820608927252806, 29.601502496413428, 11.834176715319737, 9.859301000988493, 9.856121143208387, 8.870396557375269, 8.870393930780267, 9.856163648772288, 8.87038232206595, 8.87037775746721, 9.85630978545525, 15.773895905598396, 14.766245782868403, 12.811096758094818, 8.868563825176958, 10.830693250450494, 10.834742011686465, 7.8808523631977865, 14.785206967443138, 7.879855700495088, 8.857936526114301, 6.8908937542098485, 7.868168884206794, 78.69372817387769, 12.783849919692592, 128.84292157046056, 79.58163409659076, 33.43127377851117, 15.760106247562936, 49.1192167579299, 30.458250469543636, 18.67027991640257, 241.02115580262216, 60.77984640805814, 120.27661472648337, 106.58406386792305, 68.28651417547361, 37.04252350627939, 52.70094301826401, 99.61025613711219, 90.71503472316171, 156.2785457957259, 99.35556120452523, 148.60900597230403, 163.87712824425867, 143.02761671994898, 35.303535333799495, 26.542957585931013, 99.2253877759709, 100.11390389452163, 111.98539164455292, 64.24852521448231, 159.25925827638355, 134.83240496081442, 143.3624620476992, 121.73569116038823, 123.81173690801327, 118.5014636416418, 172.80232577685072, 106.81611243004225, 93.48604597264945, 156.84700290187988, 160.80841261198884, 111.28522415293193, 142.10973590419445, 142.13767633938326, 133.0327051800049, 123.61867783654287, 231.45516367371462, 31.699830047365545, 31.708031616051336, 24.01899962190595, 17.28936699291328, 16.32726705239758, 13.446549041209776, 16.324446954978317, 14.40728163440673, 23.039682742091138, 18.25908536643435, 44.25120834372738, 16.333807062392257, 17.29150386138471, 45.1590688988109, 8.644028047798198, 8.644233182647186, 10.571095319249864, 9.598221658132966, 27.850258577365558, 7.678896581275661, 18.20039846547581, 6.72036610508114, 6.720363452451244, 6.720652423386599, 8.64314394666528, 10.574231373212832, 18.253760969907095, 9.586891892483415, 6.719277408175119, 6.7202672716680505, 17.25259816890997, 10.563933719771626, 186.61891040951414, 54.89429190780546, 12.478715199470953, 18.307615970967873, 38.47603613665579, 46.10361637513816, 123.17655214942428, 208.81777448279297, 64.20625004403722, 196.6876125102638, 26.83291645277215, 139.43214151575114, 73.2721021060693, 163.96454984323987, 228.79114084985264, 61.44692759412862, 44.12461547277152, 143.59139315304094, 170.1090876263034, 78.28962917073638, 147.16580884713392, 78.96178463324078, 151.2587070584509, 80.76643787624562, 71.39908534443957, 58.61854230896556, 78.9586470176502, 65.92729727181623, 83.98028276344395, 92.22688377427522, 115.81480360577264, 122.43086754933456, 150.98686205975204, 112.30655644369662, 139.4653358843296, 190.08760247076552, 147.71950278268937, 148.6303204843058, 167.53157873683728, 142.10973590419445, 34.669785973955946, 35.62015848630054, 36.593745984138764, 18.29321744244108, 20.220896978230293, 15.406737385669572, 55.8248370622063, 10.587375299459815, 19.23033601053677, 11.550737845824004, 14.433152712600648, 8.66091381670798, 8.660912568889591, 12.515328579350681, 14.457070960349787, 8.655534313314828, 7.697818480847415, 7.69731364261224, 8.660833718540632, 12.483051552911343, 17.3507872724661, 8.657528875263818, 7.699081206595474, 8.658001086784779, 6.734071322689083, 79.66959520450385, 7.696590184383927, 6.734642256248706, 18.297588771844598, 8.662853638426443, 58.73161390907923, 172.55750659994644, 29.866907824861325, 22.183963605634915, 202.00289660266682, 21.15549321073707, 186.9624037348202, 14.463372917316935, 102.98658422919803, 29.772325180377184, 27.95656508658941, 52.02197103988323, 183.00970409449607, 61.3768082113613, 59.22972301285971, 132.39642070797356, 70.07386913180319, 60.91052564472116, 101.68507830320732, 30.794578065376296, 131.9099392099194, 120.0295578276628, 116.93888221481114, 94.40662483951422, 117.57957786231823, 178.07515626716457, 79.17479486148835, 167.53157873683728, 110.32864456790217, 147.04448332917033, 160.58035872692372, 149.56211416402718, 192.90672550866086, 136.7798284512711, 108.21519520380414, 172.80232577685072, 208.81777448279297, 183.0801809265514, 135.75652949450998, 47.513320792104665, 63.6810129521583, 23.76332509418272, 53.20486780102573, 29.461052539848772, 19.96023302832318, 29.45957796286225, 27.556114211527593, 24.717544978575518, 67.54892721446193, 123.62058406862623, 28.52920915536919, 12.35841101674416, 13.309242252320802, 19.027907227632433, 10.456995304571537, 10.45725681344064, 9.508582907955052, 14.264757384736638, 9.509301968585879, 8.5559513142832, 8.554124645543261, 13.2960210327682, 9.51015579888559, 12.369189634679193, 23.80857865579718, 9.503303974125437, 8.558967401428296, 8.555994094759816, 19.02694438941315, 76.18127204326542, 121.84781177405003, 52.03867343939584, 123.89548895603247, 31.43037101357245, 72.3907248962944, 19.977218471140535, 33.19864527488491, 42.91055228342278, 57.206789050456756, 38.10252112959331, 165.2205018752744, 51.40495442760746, 115.54124534059153, 231.45516367371462, 49.638222836042786, 202.14340436951386, 97.7070681939451, 160.04546358091022, 134.94315566013117, 142.73382811983112, 139.06082572832483, 129.61677761765353, 164.868821014842, 133.95350924874953, 190.08760247076552, 176.27192654919236, 118.31988378064185, 70.5399205976547, 143.3624620476992, 162.68710574279683, 241.02115580262216, 192.90672550866086, 26.482231483006103, 21.010897080203545, 29.23683090947624, 20.10016784508883, 20.100738407915916, 19.196355570244563, 18.282538234495252, 19.19811344447777, 17.37073204735507, 15.543206812021547, 15.544453033325745, 15.548655836809571, 15.550234123300577, 24.693414592143906, 12.807464311757771, 12.807762163646192, 22.879744586987343, 10.071379195353636, 12.820241277126177, 9.16455981921897, 9.164815594466683, 9.164486269330506, 11.001611317415122, 9.164631314131446, 8.251121634159649, 8.251538525269558, 8.251773457753007, 8.252017762108805, 7.336702122918045, 7.33684570260732, 47.738998201079106, 24.80448469057113, 29.379440313914127, 11.938398405427444, 84.00612345422955, 15.606779310914527, 52.556689368426994, 46.169925997403595, 44.26954159201182, 18.387489587242836, 21.1701917967255, 27.792943858973857, 115.71708299609294, 38.0224532468206, 71.73274536915267, 24.910256804957122, 99.94526271737291, 45.67460775710297, 135.75652949450998, 131.59556139730927, 61.460926897594284, 66.50960238473596, 122.5982950858492, 118.59371627216109, 146.6625909478707, 162.68710574279683, 176.27192654919236, 93.36793013053205, 121.73283023657817, 73.31188803999044, 116.53398759722177, 121.07503078765271, 89.65772401779428, 107.36632202867494, 231.45516367371462, 121.8824377607836, 109.5284954324004, 150.5428382734048, 148.6303204843058, 178.07515626716457], \"loglift\": [30.0, 29.0, 28.0, 27.0, 26.0, 25.0, 24.0, 23.0, 22.0, 21.0, 20.0, 19.0, 18.0, 17.0, 16.0, 15.0, 14.0, 13.0, 12.0, 11.0, 10.0, 9.0, 8.0, 7.0, 6.0, 5.0, 4.0, 3.0, 2.0, 1.0, 1.2507, 1.2393, 1.2367, 1.2232, 1.2114, 1.2087, 1.2075, 1.1982, 1.1982, 1.1959, 1.1957, 1.1918, 1.1873, 1.1873, 1.1872, 1.1872, 1.1872, 1.1839, 1.183, 1.1825, 1.1809, 1.1792, 1.1775, 1.1754, 1.1749, 1.1721, 1.1709, 1.1588, 1.1561, 1.1536, 1.1184, 1.1444, 1.0747, 1.0873, 1.1024, 1.1374, 1.0632, 1.0876, 1.1232, 0.8827, 1.0122, 0.9405, 0.9435, 0.9806, 1.0467, 1.007, 0.9366, 0.9191, 0.7766, 0.836, 0.7482, 0.695, 0.7051, 0.9974, 1.0532, 0.762, 0.754, 0.7208, 0.8494, 0.6313, 0.6677, 0.5843, 0.6116, 0.5984, 0.6055, 0.4445, 0.6305, 0.6815, 0.4176, 0.3898, 0.5691, 0.3973, 0.3878, 0.4313, 0.4841, -0.1247, 1.5052, 1.5043, 1.4915, 1.486, 1.4813, 1.4769, 1.4743, 1.4677, 1.4583, 1.454, 1.4528, 1.4519, 1.4405, 1.4337, 1.4288, 1.4279, 1.4226, 1.4213, 1.4201, 1.4192, 1.4186, 1.4148, 1.4148, 1.4132, 1.4128, 1.4127, 1.4121, 1.4099, 1.4097, 1.4093, 1.4027, 1.4067, 1.3202, 1.3353, 1.3918, 1.37, 1.3228, 1.2701, 1.1732, 1.0926, 1.2083, 1.0819, 1.2906, 1.0571, 1.1245, 0.9821, 0.8812, 1.1113, 1.177, 0.849, 0.7829, 0.9882, 0.7967, 0.9626, 0.7366, 0.9119, 0.9521, 1.0221, 0.903, 0.9731, 0.8543, 0.8026, 0.6586, 0.595, 0.3697, 0.5783, 0.4017, 0.1459, 0.3428, 0.3197, 0.2072, 0.3244, 1.655, 1.6499, 1.6458, 1.6399, 1.6377, 1.6192, 1.6132, 1.6078, 1.606, 1.6018, 1.6005, 1.5904, 1.5904, 1.5829, 1.5809, 1.5757, 1.5743, 1.5725, 1.5703, 1.5701, 1.5692, 1.5663, 1.5661, 1.5632, 1.5585, 1.5574, 1.557, 1.555, 1.5525, 1.5501, 1.5479, 1.5092, 1.5383, 1.5133, 1.3884, 1.5106, 1.364, 1.5299, 1.3658, 1.4444, 1.4497, 1.3807, 1.2177, 1.3526, 1.3504, 1.2088, 1.3033, 1.2965, 1.1315, 1.4036, 1.0245, 1.0475, 1.0214, 1.0707, 0.965, 0.7752, 1.0563, 0.77, 0.9096, 0.769, 0.6784, 0.6799, 0.5417, 0.6426, 0.7958, 0.4088, 0.1712, 0.2884, 0.527, 1.689, 1.6778, 1.6682, 1.6656, 1.6656, 1.6617, 1.6602, 1.6559, 1.6495, 1.6492, 1.6452, 1.6441, 1.6334, 1.6318, 1.631, 1.6275, 1.6269, 1.6161, 1.6147, 1.614, 1.6081, 1.6045, 1.6035, 1.6027, 1.6003, 1.5989, 1.5986, 1.5986, 1.593, 1.5855, 1.5728, 1.5595, 1.5568, 1.5027, 1.5417, 1.4735, 1.5553, 1.5056, 1.4687, 1.4321, 1.4684, 1.2461, 1.3835, 1.2295, 0.9996, 1.3274, 0.9117, 1.1026, 0.9292, 0.9678, 0.9059, 0.8415, 0.8743, 0.7591, 0.8438, 0.6608, 0.6558, 0.7969, 1.1126, 0.5887, 0.4998, 0.2173, 0.3718, 1.9495, 1.9428, 1.9421, 1.9401, 1.9396, 1.9307, 1.9293, 1.9293, 1.928, 1.9265, 1.9241, 1.9206, 1.9182, 1.9169, 1.9165, 1.9149, 1.9133, 1.9004, 1.8926, 1.8826, 1.8825, 1.8823, 1.8815, 1.8812, 1.8749, 1.8741, 1.8735, 1.8729, 1.8683, 1.8678, 1.8614, 1.8476, 1.8265, 1.86, 1.7475, 1.8405, 1.7642, 1.7331, 1.716, 1.8055, 1.7779, 1.7326, 1.469, 1.6671, 1.523, 1.738, 1.3998, 1.5819, 1.2123, 1.212, 1.4455, 1.4175, 1.196, 1.2027, 1.12, 1.0693, 1.0218, 1.203, 1.0072, 1.2548, 0.9651, 0.9411, 1.0668, 0.9524, 0.3335, 0.7793, 0.8496, 0.5716, 0.5787, 0.3959], \"logprob\": [30.0, 29.0, 28.0, 27.0, 26.0, 25.0, 24.0, 23.0, 22.0, 21.0, 20.0, 19.0, 18.0, 17.0, 16.0, 15.0, 14.0, 13.0, 12.0, 11.0, 10.0, 9.0, 8.0, 7.0, 6.0, 5.0, 4.0, 3.0, 2.0, 1.0, -6.755499839782715, -7.2195000648498535, -6.9344000816345215, -7.572700023651123, -7.7281999588012695, -7.731299877166748, -7.732100009918213, -7.741700172424316, -6.90500020980835, -7.82420015335083, -8.0068998336792, -8.011199951171875, -8.121100425720215, -8.121100425720215, -8.015700340270996, -8.121100425720215, -8.121100425720215, -8.019100189208984, -7.549600124359131, -7.616099834442139, -7.759799957275391, -8.129300117492676, -7.93120002746582, -7.9328999519348145, -8.251700401306152, -7.62529993057251, -8.255900382995605, -8.150899887084961, -8.404800415039062, -8.2746000289917, -6.006999969482422, -7.798500061035156, -5.557700157165527, -6.0269999504089355, -6.8790998458862305, -7.596199989318848, -6.533599853515625, -6.987100124359131, -7.440899848937988, -5.123499870300293, -6.371600151062012, -5.760700225830078, -5.878600120544434, -6.286799907684326, -6.832300186157227, -6.519400119781494, -5.953100204467773, -6.064199924468994, -5.662700176239014, -6.056300163269043, -5.741499900817871, -5.696899890899658, -5.82289981842041, -6.929699897766113, -7.158999919891357, -6.1315999031066895, -6.13070011138916, -6.0518999099731445, -6.478899955749512, -5.7891998291015625, -5.919300079345703, -5.941400051116943, -6.077600002288818, -6.07390022277832, -6.110599994659424, -5.8942999839782715, -6.1894001960754395, -6.271699905395508, -6.018199920654297, -6.021100044250488, -6.209799766540527, -6.1371002197265625, -6.146399974822998, -6.1691999435424805, -6.189700126647949, -6.171299934387207, -6.5295000076293945, -6.530200004577637, -6.8206000328063965, -7.154900074005127, -7.216899871826172, -7.41540002822876, -7.224100112915039, -7.355599880218506, -6.895500183105469, -7.132299900054932, -6.2484002113342285, -7.245800018310547, -7.200399875640869, -6.247099876403809, -7.905399799346924, -7.906199932098389, -7.710299968719482, -7.808199882507324, -6.744100093841553, -8.033300399780273, -7.171000003814697, -8.171099662780762, -8.171099662780762, -8.172699928283691, -7.921500205993652, -7.719900131225586, -7.174600124359131, -7.820700168609619, -8.176300048828125, -8.176600456237793, -7.240300178527832, -7.726900100708008, -4.941800117492676, -6.150300025939941, -7.575200080871582, -7.213799953460693, -6.518199920654297, -6.389999866485596, -5.504300117492676, -5.057000160217285, -6.120699882507324, -5.127500057220459, -6.910799980163574, -5.496300220489502, -6.072400093078613, -5.409299850463867, -5.177000045776367, -6.261499881744385, -6.5269999504089355, -5.675000190734863, -5.571700096130371, -6.142399787902832, -5.702700138092041, -6.1595001220703125, -5.735499858856201, -6.1875, -6.270599842071533, -6.397900104522705, -6.219099998474121, -6.329400062561035, -6.206099987030029, -6.1641998291015625, -6.080399990081787, -6.088399887084961, -6.104100227355957, -6.191500186920166, -6.151500225067139, -6.097599983215332, -6.1529998779296875, -6.169899940490723, -6.162700176239014, -6.210000038146973, -6.29010009765625, -6.268199920654297, -6.2453999519348145, -6.9446001052856445, -6.84660005569458, -7.13700008392334, -5.855599880218506, -7.523600101470947, -6.928599834442139, -7.442399978637695, -7.2210001945495605, -7.741799831390381, -7.741799831390381, -7.381100177764893, -7.238900184631348, -7.757199764251709, -7.875800132751465, -7.877699851989746, -7.761899948120117, -7.396599769592285, -7.0680999755859375, -7.766300201416016, -7.883800029754639, -7.7692999839782715, -8.025300025939941, -5.555699825286865, -7.893199920654297, -8.02869987487793, -7.031799793243408, -7.781899929046631, -5.870200157165527, -4.831099987030029, -6.556000232696533, -6.878399848937988, -4.794300079345703, -6.928500175476074, -4.896100044250488, -7.2895002365112305, -5.490600109100342, -6.6529998779296875, -6.710700035095215, -6.158599853515625, -5.063799858093262, -6.021399974822998, -6.059199810028076, -5.396399974822998, -5.9380998611450195, -6.085100173950195, -5.737599849700928, -6.660099983215332, -5.584400177001953, -5.655799865722656, -5.708000183105469, -5.872700214385986, -5.758999824523926, -5.533599853515625, -6.063000202178955, -5.599899768829346, -5.877999782562256, -5.731299877166748, -5.733799934387207, -5.803400039672852, -5.68720006942749, -5.930099964141846, -6.011099815368652, -5.930099964141846, -5.978300094604492, -5.992700099945068, -6.053100109100342, -5.940999984741211, -5.65939998626709, -6.654699802398682, -5.85129976272583, -6.442399978637695, -6.8354997634887695, -6.447800159454346, -6.518899917602539, -6.633999824523926, -5.629000186920166, -5.02869987487793, -6.495999813079834, -7.343299865722656, -7.270699977874756, -6.914100170135498, -7.516300201416016, -7.5167999267578125, -7.622700214385986, -7.218599796295166, -7.624800205230713, -7.736299991607666, -7.740099906921387, -7.300099849700928, -7.636000156402588, -7.3755998611450195, -6.722099781036377, -7.640699863433838, -7.745500087738037, -7.751399993896484, -6.959700107574463, -5.585100173950195, -5.128699779510498, -5.9822998046875, -5.168900012969971, -6.5015997886657715, -5.735499858856201, -6.941100120544434, -6.482900142669678, -6.263199806213379, -6.01230001449585, -6.382400035858154, -5.137700080871582, -6.167799949645996, -5.511899948120117, -5.047100067138672, -6.258900165557861, -5.270400047302246, -5.806399822235107, -5.486299991607666, -5.6184000968933105, -5.624199867248535, -5.714600086212158, -5.752099990844727, -5.626800060272217, -5.749800205230713, -5.582699775695801, -5.6631999015808105, -5.9207000732421875, -6.122200012207031, -5.936999797821045, -5.899400234222412, -5.78879976272583, -5.85699987411499, -6.265100002288818, -6.503200054168701, -6.173500061035156, -6.55019998550415, -6.550600051879883, -6.605599880218506, -6.655700206756592, -6.606900215148926, -6.708199977874756, -6.820899963378906, -6.823200225830078, -6.826499938964844, -6.828800201416016, -6.367599964141846, -7.024499893188477, -7.026100158691406, -6.447500228881836, -7.281000137329102, -7.047399997711182, -7.393099784851074, -7.393099784851074, -7.393400192260742, -7.21150016784668, -7.394499778747559, -7.50570011138916, -7.506499767303467, -7.5071001052856445, -7.507599830627441, -7.629899978637695, -7.630300045013428, -5.763899803161621, -6.432400226593018, -6.284200191497803, -7.151299953460693, -5.312600135803223, -6.9028000831604, -5.764999866485596, -5.925600051879883, -5.9847002029418945, -6.773799896240234, -6.6605000495910645, -6.433700084686279, -5.270899772644043, -6.185800075531006, -5.695099830627441, -6.537799835205078, -5.486700057983398, -6.087600231170654, -5.3678998947143555, -5.3993000984191895, -5.927199840545654, -5.876200199127197, -5.486100196838379, -5.512599945068359, -5.382900238037109, -5.329899787902832, -5.2972002029418945, -5.751399993896484, -5.682000160217285, -5.941500186920166, -5.7677001953125, -5.753499984741211, -5.928199768066406, -5.862400054931641, -5.713200092315674, -5.908699989318848, -5.945300102233887, -5.905099868774414, -5.910799980163574, -5.912899971008301]}, \"token.table\": {\"Topic\": [1, 2, 3, 4, 5, 2, 2, 3, 1, 2, 3, 4, 5, 3, 3, 1, 2, 3, 5, 1, 4, 1, 2, 3, 4, 5, 2, 5, 1, 2, 3, 4, 5, 1, 2, 4, 1, 1, 2, 3, 4, 5, 2, 5, 1, 2, 3, 5, 1, 2, 3, 4, 5, 1, 2, 3, 5, 2, 5, 5, 1, 1, 2, 3, 5, 1, 2, 3, 4, 5, 2, 1, 1, 2, 3, 4, 5, 4, 1, 2, 3, 4, 5, 1, 1, 2, 3, 4, 5, 1, 2, 3, 4, 5, 1, 2, 3, 4, 5, 1, 2, 3, 4, 5, 1, 2, 3, 4, 5, 1, 1, 2, 5, 1, 2, 3, 4, 5, 1, 2, 3, 4, 5, 1, 4, 1, 2, 1, 2, 3, 4, 5, 1, 5, 3, 1, 5, 1, 4, 5, 4, 1, 2, 3, 4, 5, 2, 1, 2, 3, 4, 5, 4, 1, 2, 3, 5, 5, 1, 2, 3, 4, 5, 1, 2, 3, 4, 5, 4, 1, 2, 3, 4, 5, 2, 1, 2, 3, 4, 5, 3, 2, 5, 1, 2, 3, 4, 5, 1, 2, 3, 4, 5, 3, 4, 1, 2, 3, 4, 5, 4, 1, 5, 1, 2, 3, 3, 3, 3, 5, 1, 2, 3, 4, 5, 1, 1, 2, 5, 2, 5, 3, 5, 1, 2, 3, 4, 5, 3, 4, 5, 5, 1, 2, 3, 4, 5, 1, 2, 3, 4, 5, 1, 2, 3, 4, 5, 1, 2, 3, 5, 1, 2, 3, 4, 5, 2, 3, 1, 2, 3, 4, 5, 5, 1, 4, 5, 1, 2, 4, 5, 5, 1, 4, 1, 2, 3, 5, 1, 2, 3, 4, 5, 5, 1, 2, 3, 4, 5, 3, 4, 1, 1, 1, 2, 3, 4, 5, 2, 4, 5, 1, 2, 3, 5, 5, 1, 2, 3, 4, 5, 5, 1, 2, 3, 4, 5, 1, 3, 4, 5, 5, 1, 3, 5, 1, 2, 3, 4, 5, 4, 4, 3, 1, 2, 3, 4, 1, 2, 3, 1, 2, 1, 2, 3, 4, 5, 1, 2, 3, 4, 5, 1, 2, 3, 4, 5, 1, 4, 5, 1, 2, 3, 4, 5, 1, 2, 3, 4, 5, 5, 1, 2, 3, 4, 5, 1, 4, 1, 2, 3, 4, 5, 1, 1, 2, 3, 4, 5, 1, 2, 3, 4, 5, 3, 1, 2, 3, 4, 5, 1, 2, 3, 4, 5, 1, 2, 3, 4, 5, 1, 2, 3, 4, 5, 3, 2, 1, 4, 2, 1, 2, 3, 4, 5, 1, 2, 3, 5, 1, 2, 3, 4, 5, 1, 2, 3, 4, 5, 1, 1, 2, 3, 4, 5, 1, 1, 2, 3, 4, 5, 1, 2, 3, 4, 5, 2, 5, 1, 2, 3, 4, 5, 1, 2, 3, 4, 5, 4, 2, 4, 5, 2, 3, 4, 2, 1, 2, 3, 4, 5, 1, 2, 3, 4, 5, 1, 3, 5, 1, 2, 3, 4, 5, 1, 2, 3, 4, 5, 1, 2, 3, 4, 5, 5, 4, 1, 2, 3, 4, 5, 1, 2, 3, 4, 5, 1, 3, 1, 2, 3, 4, 5, 1, 2, 3, 4, 5, 1, 2, 3, 4, 5, 1, 2, 3, 1, 2, 3, 4, 5, 1, 2, 3, 4, 5, 3, 1, 2, 3, 4, 5, 3, 1, 3, 3, 1, 2, 4, 5, 1, 2, 1, 2, 3, 4, 5, 1, 2, 3, 4, 5, 3, 1, 2, 1, 2, 4, 5, 2, 1, 2, 4, 5, 1, 3, 5, 1, 5, 2, 4, 5, 1, 1, 2, 3, 4, 1, 3, 2, 1, 2, 3, 4, 5, 1, 2, 4, 5, 1, 2, 1, 5, 1, 2, 3, 4, 5, 4, 1, 2, 3, 4, 5, 4, 1, 2, 3, 4, 5, 1, 2, 3, 4, 5, 1, 2, 4, 5, 5, 1, 2, 3, 4, 5, 5, 1, 2, 3, 4, 5, 2, 1, 2, 4, 1, 5, 2, 2, 1, 3, 1, 2, 3, 4, 5, 1, 2, 3, 4, 5, 1, 2, 3, 4, 5, 1, 2, 3, 4, 5, 2, 2, 5, 1, 1, 2, 3, 4, 5, 1, 2, 3, 4, 5, 1, 1, 2, 3, 4, 5, 1, 2, 3, 4, 5, 3, 5, 1, 2, 3, 4, 5, 1, 2, 3, 4, 5, 2, 3, 4, 5, 1, 1, 2, 4, 1, 3, 4, 1, 2, 3, 4, 5, 1, 2, 3, 4, 5, 1, 4, 1, 2, 3, 4, 5, 1, 2, 3, 4, 5, 1, 2, 3, 4, 5, 1, 2, 4, 1, 2, 3, 4, 5, 1, 2, 3, 4, 5, 3, 1, 3, 4, 5, 3, 1, 2, 3, 4, 5, 1, 2, 3, 4, 5, 1, 2, 3, 4, 5, 4, 1, 2, 3, 4, 5, 3, 1, 2, 3, 4, 5, 1, 2, 3, 4, 5, 1, 2, 3, 4, 5, 1, 1, 2, 4, 5, 2, 3, 3, 1, 2, 3, 4, 5, 5, 1, 2, 3, 4, 5, 1, 2, 3, 4, 5, 3, 1, 2, 3, 4, 5, 3, 1, 2, 3, 4, 5, 5, 5, 1, 2, 3, 4, 5, 1, 2, 3, 5, 1, 2, 3, 4, 5, 1, 2, 3, 4, 5, 1, 2, 3, 4, 5, 1, 4, 1, 2, 3, 4, 5, 4, 1, 2, 3, 4, 5, 1, 2, 3, 4, 5, 1, 2, 3, 4, 5, 1, 1, 2, 3, 4, 5, 2, 1, 2, 3, 4, 5, 1, 2, 3, 4, 1, 2, 3, 4, 5, 3, 5, 2, 3, 4, 1, 2, 3, 4, 5, 1, 2, 3, 4, 5, 4, 1, 2, 3, 4, 5, 1, 2, 3, 4, 5, 2, 4, 4, 2, 3, 5, 1, 2, 3, 4, 5, 1, 3, 4, 1, 2, 3, 4, 5, 5, 1, 2, 3, 4, 5, 1, 2, 3, 4, 5, 1, 2, 3, 4, 5, 1, 2, 3, 4, 5, 1, 2, 3, 4, 5, 1, 1, 2, 3, 4, 5, 1, 2, 3, 4, 5, 1, 2, 3, 4, 5, 1, 2, 3, 4, 5, 1, 2, 3, 5, 1, 2, 3, 4, 5, 1, 2, 3, 4, 5, 3, 1, 4, 3, 5, 2, 5, 1, 2, 3, 4, 5, 2, 2, 3, 4, 1, 2, 3, 4, 5], \"Freq\": [0.09633686077967449, 0.17044213830250102, 0.09633686077967449, 0.48168430389837247, 0.16303161055021836, 0.9575752679983975, 0.05465200975216741, 0.8744321560346786, 0.10218467100608383, 0.5747887744092215, 0.051092335503041916, 0.1149577548818443, 0.15327700650912573, 0.954515685635603, 0.9234832231856978, 0.04031529025798015, 0.04031529025798015, 0.04031529025798015, 0.8869363856755633, 0.9018776992395482, 0.9350170081229557, 0.06067289522742184, 0.5763925046605075, 0.01516822380685546, 0.2730280285233983, 0.0758411190342773, 0.04049662699617676, 0.9314224209120654, 0.061408044585783805, 0.10234674097630635, 0.13305076326919826, 0.5424377271744236, 0.16375478556209017, 0.045196505922837714, 0.9265283714181731, 0.022598252961418857, 0.9020626290458448, 0.017913173645015528, 0.017913173645015528, 0.9314850295408075, 0.035826347290031056, 0.017913173645015528, 0.9187085598503347, 0.9518870100431832, 0.10396081305759129, 0.8056963011963325, 0.051980406528795646, 0.025990203264397823, 0.6762891807451313, 0.0622352006820673, 0.008298026757608974, 0.22404672245544227, 0.029043093651631408, 0.06517119603589244, 0.09775679405383865, 0.7168831563948168, 0.09775679405383865, 0.9254724891109546, 0.9452657383974215, 0.981790375810454, 0.9366879531541811, 0.0671764797637704, 0.0671764797637704, 0.7725295172833597, 0.0671764797637704, 0.2461388248475998, 0.2625480798374398, 0.15588792240347987, 0.03281850997967997, 0.3035712173120398, 0.9779232239945809, 0.9018765189491754, 0.04275737808759997, 0.2907501709956798, 0.5130885370511996, 0.06841180494015996, 0.07696328055767995, 0.8900820651697312, 0.4340219361216913, 0.1620348561520981, 0.27777403911788245, 0.08101742807604904, 0.04050871403802452, 0.8896606190101732, 0.5562327453148812, 0.05348391781873858, 0.2567228055299452, 0.10696783563747717, 0.03209035069124315, 0.017385508513142432, 0.005795169504380811, 0.8402995781352175, 0.0579516950438081, 0.07533720355695053, 0.05287151995928864, 0.06797766851908539, 0.6193520909516669, 0.21148607983715456, 0.045318445679390265, 0.5274418637202476, 0.07534883767432109, 0.2134883734105764, 0.11302325651148162, 0.06906976786812766, 0.25135279152327433, 0.0874270579211389, 0.6283819788081859, 0.016392573360213544, 0.016392573360213544, 0.9356581972442475, 0.17990177742130714, 0.03598035548426143, 0.7915678206537514, 0.09577728739584877, 0.6417078255521869, 0.2202877610104522, 0.014366593109377317, 0.028733186218754633, 0.18346652807137975, 0.47565396166654006, 0.047565396166654006, 0.11551596211901688, 0.17667147147614345, 0.05255438698732956, 0.9459789657719321, 0.09456952138698702, 0.8511256924828832, 0.10449506691007499, 0.09834829826830588, 0.09220152962653676, 0.30119166344668674, 0.3995399617149926, 0.8803862668385504, 0.06772202052604233, 0.9007041121826795, 0.9229569092844015, 0.9540884848528824, 0.06024342208665421, 0.8132861981698318, 0.09036513312998132, 0.9352213501083406, 0.21602141724734916, 0.10029565800769782, 0.20059131601539565, 0.4320428344946983, 0.046290303695860534, 0.8927704666173681, 0.3075645209825736, 0.09360659334252239, 0.36774018813133796, 0.16046844573003838, 0.07354803762626759, 0.9463567359279886, 0.040144106414872475, 0.12043231924461743, 0.040144106414872475, 0.8028821282974495, 0.9650518185474174, 0.1582943430257404, 0.17495690544950257, 0.5332019975603888, 0.024993843635643224, 0.11663793696633504, 0.057081220983493414, 0.07610829464465788, 0.057081220983493414, 0.01902707366116447, 0.7991370937689077, 0.8893064400241363, 0.24482387359892477, 0.19721923151024495, 0.4012391261760156, 0.020401989466577064, 0.14281392626603945, 0.8519553642366628, 0.12989485190810143, 0.6981848290060452, 0.10553956717533242, 0.024355284732769017, 0.0405921412212817, 0.8909914541273452, 0.9114708841730339, 0.04340337543681114, 0.4284660672191399, 0.23302540497883045, 0.2630931991696473, 0.030067794190816833, 0.03758474273852104, 0.7130521884976891, 0.1594985158481673, 0.03752906255250995, 0.028146796914382464, 0.05629359382876493, 0.015703267797440204, 0.9736026034412927, 0.8293370794559672, 0.08795999327563288, 0.025131426650180824, 0.025131426650180824, 0.037697139975271236, 0.9562976465742745, 0.8604606647529004, 0.07822369679571821, 0.7911703106940489, 0.15069910679886644, 0.03767477669971661, 0.9445211600754548, 0.9236901927328512, 0.8811947906627479, 0.08010861733297707, 0.1506108976862247, 0.6167874857626345, 0.014343895017735687, 0.17929868772169608, 0.028687790035471374, 0.888341140505935, 0.06643183912232951, 0.9079018013385034, 0.022143946374109838, 0.9254242799379655, 0.9375921260209867, 0.936021086170172, 0.052001171453898445, 0.18572070769028778, 0.5323993620454917, 0.14857656615223022, 0.04952552205074341, 0.08666966358880096, 0.019216477552307293, 0.8647414898538281, 0.11529886531384376, 0.9452389068710814, 0.40805507374070854, 0.16181494303510857, 0.21106296917622855, 0.12663778150573712, 0.08442518767049143, 0.19987174391700574, 0.47028645627530763, 0.13520735617915094, 0.11169303336538555, 0.08817871055162017, 0.2026377173917811, 0.5319240081534254, 0.07598914402191792, 0.15197828804383584, 0.03799457201095896, 0.04189446941420718, 0.04189446941420718, 0.02094723470710359, 0.8797838576983507, 0.09341117505851619, 0.18682235011703238, 0.36741728856349704, 0.2428690551521421, 0.11209341007021943, 0.8765316926400748, 0.054783230790004675, 0.2462679989302535, 0.04320491209302693, 0.021602456046513466, 0.492535997860507, 0.19442210441862118, 0.929849005753732, 0.7828840277332609, 0.026996000956319342, 0.16197600573791604, 0.19704602714624053, 0.0875760120649958, 0.02189400301624895, 0.6787140935037174, 0.872903542634295, 0.9762774874186683, 0.036158425459950676, 0.06494649791122445, 0.1298929958224489, 0.7468847259790812, 0.032473248955612224, 0.1651868256393589, 0.23952089717707042, 0.09911209538361535, 0.14866814307542303, 0.35515167512462165, 0.9210895635475661, 0.1791666387435389, 0.14184025567196828, 0.04479165968588472, 0.42552076701590485, 0.2164930218151095, 0.04045709235552205, 0.9305131241770072, 0.9295112169281816, 0.9356587776105172, 0.5715031135769844, 0.10715683379568457, 0.1428757783942461, 0.1428757783942461, 0.03571894459856152, 0.06807481621944984, 0.06807481621944984, 0.8509352027431231, 0.10520099726428032, 0.02630024931607008, 0.1315012465803504, 0.7364069808499623, 0.9360198252594787, 0.22462425887184598, 0.16285258768208832, 0.40432366596932273, 0.0056156064717961494, 0.20777743945645752, 0.8936214023350536, 0.15004387820430543, 0.19096493589638872, 0.0818421153841666, 0.0818421153841666, 0.4774123397409718, 0.837539131338685, 0.08973633550057339, 0.059824223667048926, 0.029912111833524463, 0.872927904646683, 0.04370678161192155, 0.04370678161192155, 0.9178424138503526, 0.2590981091661377, 0.15682253975845176, 0.12273068328922311, 0.04091022776307437, 0.4227390202184351, 0.9435292581681701, 0.9678780182841676, 0.9240008080168615, 0.18059276099767693, 0.09850514236236924, 0.6731184728095231, 0.04925257118118462, 0.06914016569417941, 0.06914016569417941, 0.8296819883301529, 0.054767255858187654, 0.9310433495891901, 0.136782728907208, 0.1291836884123631, 0.136782728907208, 0.136782728907208, 0.4635414701855382, 0.18838686419273773, 0.2960365008743021, 0.17493065960754217, 0.09419343209636886, 0.2489397848261177, 0.5893287316231464, 0.08989760312895452, 0.12985209340848988, 0.09988622569883836, 0.08989760312895452, 0.8569769747235216, 0.0535610609202201, 0.0535610609202201, 0.019453377814161465, 0.13617364469913024, 0.07781351125664586, 0.7197749791239741, 0.03890675562832293, 0.059005707623187714, 0.1966856920772924, 0.5802227916280125, 0.0983428460386462, 0.06883999222705234, 0.8482773791571613, 0.09078776441027614, 0.060525176273517424, 0.17552301119320055, 0.6294618332445813, 0.042367623391462196, 0.9128436183353831, 0.9346921918016632, 0.17678707675692729, 0.029464512792821217, 0.31674351252282806, 0.007366128198205304, 0.46406607648693415, 0.945539353486301, 0.04881149945881188, 0.016270499819603962, 0.14643449837643566, 0.19524599783524751, 0.5857379935057426, 0.13522663722069797, 0.2197432854836342, 0.11832330756811071, 0.4056799116620939, 0.11832330756811071, 0.9242641425028588, 0.18153769931747885, 0.062403584140383356, 0.01701915931101364, 0.3517292924276153, 0.3857676110496426, 0.16264238133332592, 0.477084318577756, 0.19517085759999112, 0.0758997779555521, 0.08674260337777383, 0.17625098300926537, 0.17106713056781636, 0.3213988513698368, 0.264376474513898, 0.07257393418028574, 0.014270654844519604, 0.12843589360067645, 0.6849914325369411, 0.12843589360067645, 0.02854130968903921, 0.909348540423027, 0.918867269523369, 0.8875423093816149, 0.06339587924154393, 0.8344727456739536, 0.2847929906840705, 0.31128536191049566, 0.12583876332551952, 0.17220041297176356, 0.10596948490570064, 0.06497736210728836, 0.10829560351214726, 0.043318241404858904, 0.7797283452874603, 0.14840949222939095, 0.12367457685782579, 0.1385155260807649, 0.4501754597624859, 0.13356854300645185, 0.045177788792845515, 0.022588894396422757, 0.045177788792845515, 0.13553336637853655, 0.7680224094783737, 0.901876251896362, 0.2500586960293156, 0.512024949012408, 0.11907556953776931, 0.07144534172266159, 0.04763022781510773, 0.9131341889925971, 0.280452814771804, 0.07191097814661641, 0.12943976066390955, 0.4242747710650368, 0.10067536940526298, 0.1910686277259179, 0.6687401970407126, 0.01364775912327985, 0.12282983210951866, 0.01364775912327985, 0.8791016323269115, 0.05494385202043197, 0.012551839850988327, 0.025103679701976654, 0.878628789569183, 0.025103679701976654, 0.06275919925494164, 0.5242654757415595, 0.0842569514584649, 0.15915201942154483, 0.1685139029169298, 0.056171300972309934, 0.9464417083116757, 0.9255891200431274, 0.9025256481187762, 0.07521047067656468, 0.05005701877088739, 0.05005701877088739, 0.8509693191050856, 0.8928085027188497, 0.7127780085443154, 0.030117380642717552, 0.0200782537618117, 0.19074341073721118, 0.0401565075236234, 0.336290286838674, 0.13311490520697514, 0.06305442878225137, 0.448387049118232, 0.021018142927417126, 0.04726904686355735, 0.8508428435440324, 0.04726904686355735, 0.2975035346732843, 0.4495608968396296, 0.07272308625346949, 0.08594546557228212, 0.09916784489109476, 0.26319670383871907, 0.1973975278790393, 0.3509289384516254, 0.09504325416398189, 0.09504325416398189, 0.11693669828240853, 0.6355255341435246, 0.11693669828240853, 0.040673634185185575, 0.08643147264351936, 0.9369536161020972, 0.9016290914614239, 0.10005476726073738, 0.15008215089110608, 0.06003286035644243, 0.1300711974389586, 0.5603066966601293, 0.20411707914195099, 0.15308780935646324, 0.4847780629621336, 0.0935536612733942, 0.05953414808306904, 0.8792572216693251, 0.06763517089764039, 0.05065024530586869, 0.01688341510195623, 0.7091034342821616, 0.05065024530586869, 0.15195073591760605, 0.15408509790526145, 0.20846807363653022, 0.4622552937157844, 0.06344680501981355, 0.1178297807510823, 0.4151721176920334, 0.29554625327229495, 0.0703681555410226, 0.1266626799738407, 0.08444178664922712, 0.10924415298920351, 0.8739532239136281, 0.939622016790615, 0.15137139396240612, 0.382880584728439, 0.21370079147633805, 0.17808399289694837, 0.07123359715877935, 0.08739002334488907, 0.09710002593876563, 0.7282501945407422, 0.048550012969382814, 0.03884001037550625, 0.9094081812189749, 0.7589997011275039, 0.018974992528187597, 0.056924977584562796, 0.037949985056375195, 0.11384995516912559, 0.8789221897177469, 0.06917030446503426, 0.8992139580454453, 0.9806809890762207, 0.13982574636584022, 0.02330429106097337, 0.7923458960730946, 0.04660858212194674, 0.08013645507691336, 0.881501005846047, 0.07787403868892272, 0.716441155938089, 0.04672442321335363, 0.09344884642670725, 0.07787403868892272, 0.8143452326841577, 0.12215178490262366, 0.020358630817103943, 0.020358630817103943, 0.020358630817103943, 0.9086933624910076, 0.9121158631482091, 0.033782069005489225, 0.037267659732779006, 0.7826208543883592, 0.11180297919833702, 0.037267659732779006, 0.8513781900737463, 0.13597852209505348, 0.7025556974911096, 0.09065234806336898, 0.09065234806336898, 0.8883188844088465, 0.06345134888634618, 0.8729210947814521, 0.08376332955561101, 0.9213966251117212, 0.018795272713387347, 0.9585589083827548, 0.018795272713387347, 0.9811690388393092, 0.8514020310736858, 0.012707493001099789, 0.012707493001099789, 0.1143674370098981, 0.05763427239909144, 0.8645140859863716, 0.8928088551239751, 0.3353006726856609, 0.13039470604442369, 0.027941722723805074, 0.14902252119362705, 0.3539284878348643, 0.20145765558590678, 0.020145765558590677, 0.6849560289920831, 0.0805830622343627, 0.06122271410334264, 0.9183407115501395, 0.913120650213441, 0.9369318267059206, 0.4104262888238937, 0.1057158622728211, 0.21765030467933755, 0.08706012187173502, 0.17412024374347004, 0.9504548923035406, 0.1273739926732994, 0.14557027734091363, 0.19409370312121815, 0.3881874062424363, 0.14557027734091363, 0.9504073203809482, 0.016178535436216092, 0.016178535436216092, 0.016178535436216092, 0.9383550553005334, 0.008089267718108046, 0.06363272005718125, 0.031816360028590625, 0.06363272005718125, 0.859041720771947, 0.031816360028590625, 0.07875951449842471, 0.01312658574973745, 0.8794812452324092, 0.0262531714994749, 0.8483024934989102, 0.5663241956873243, 0.16080810494825257, 0.13284147800073037, 0.07690822410568601, 0.06292491063192492, 0.9646157016712629, 0.1673029308330754, 0.14499587338866535, 0.13384234466646033, 0.1561494021108704, 0.401527033999381, 0.9023215017157761, 0.026244982493384774, 0.18371487745369341, 0.7873494748015433, 0.9131381269802756, 0.8483695078521198, 0.9376736983745246, 0.8929531608116077, 0.0901552146205281, 0.8564745388950169, 0.24725442053607022, 0.24725442053607022, 0.07365025292563794, 0.35246906757269586, 0.07891098527746922, 0.13371672325875192, 0.04278935144280061, 0.7274189745276104, 0.06418402716420092, 0.037440682512450536, 0.273104383811261, 0.11470384120072961, 0.24579394543013489, 0.20209724402033313, 0.15840054261053138, 0.8149458171249125, 0.08537527607975275, 0.06209110987618381, 0.02328416620356893, 0.0077613887345229764, 0.966790807080595, 0.9115893053005697, 0.9647136162400164, 0.9359668361805933, 0.3124112291675342, 0.06248224583350685, 0.04998579666680548, 0.4623686191679507, 0.11871626708366301, 0.5022235177297969, 0.10462989952704102, 0.013950653270272137, 0.3278403518513952, 0.048827286445952474, 0.9031448776376985, 0.13847868744044892, 0.1038590155803367, 0.06923934372022446, 0.6231540934820201, 0.06923934372022446, 0.32868158973496303, 0.13695066238956793, 0.10956052991165434, 0.10043048575234981, 0.31955154557565846, 0.9236900596524821, 0.9576961363115672, 0.6944824547800631, 0.1433059033673146, 0.02204706205650994, 0.05511765514127485, 0.08818824822603975, 0.02462087711154868, 0.09848350844619472, 0.008206959037182894, 0.8617306989042037, 0.008206959037182894, 0.05438480306163142, 0.05438480306163142, 0.05438480306163142, 0.8157720459244713, 0.8882287952365134, 0.7647959260938461, 0.11330310016205127, 0.11330310016205127, 0.03505179532156082, 0.03505179532156082, 0.9463984736821422, 0.12962649603348936, 0.10370119682679148, 0.069134131217861, 0.10370119682679148, 0.5962818817540511, 0.14334654933138824, 0.14334654933138824, 0.18550729913473774, 0.06745719968535917, 0.4553360978761744, 0.9233019317192884, 0.9350216832866847, 0.6441511599763886, 0.140908066244835, 0.09058375687167965, 0.04025944749852429, 0.09058375687167965, 0.04723622769231004, 0.04723622769231004, 0.04723622769231004, 0.04723622769231004, 0.8030158707692707, 0.5613962179205026, 0.13424692167664193, 0.07932772644528842, 0.12204265606967449, 0.10983839046270703, 0.06507081734303559, 0.7591595356687486, 0.15183190713374972, 0.05766794183365363, 0.17300382550096088, 0.7304605965596127, 0.019222647277884544, 0.019222647277884544, 0.14786479510102918, 0.1642942167789213, 0.09036181922840672, 0.2135824818125977, 0.377876698591519, 0.9236986022343374, 0.09669747070537102, 0.04144177315944472, 0.7873936900294497, 0.0552556975459263, 0.9839712481763431, 0.7468531761475915, 0.05857671969785032, 0.01464417992446258, 0.08786507954677547, 0.10250925947123805, 0.26570510067941555, 0.11292466778875161, 0.10628204027176623, 0.27234772819640096, 0.2457772181284594, 0.08415720905942478, 0.06435551281014837, 0.7475140334101849, 0.06435551281014837, 0.04455381656087194, 0.9518926944910598, 0.4207922292355703, 0.1593909959225645, 0.18489355527017484, 0.17851791543327225, 0.057380758532123224, 0.9091993982351296, 0.4530059775760347, 0.18605602650444283, 0.08089392456714906, 0.1617878491342981, 0.11325149439400868, 0.20419687044957055, 0.3920579912631754, 0.08984662299781104, 0.13885387190570797, 0.17152537117763925, 0.65371150325693, 0.10895191720948832, 0.03112911920271095, 0.1245164768108438, 0.07782279800677737, 0.9018781633358834, 0.1701164375906453, 0.15594006779142486, 0.5528784221695972, 0.12758732819298396, 0.11918623606762287, 0.8683568627783952, 0.8909159197629137, 0.1364567378911083, 0.060647439062714796, 0.5155032320330758, 0.12129487812542959, 0.1667804574224657, 0.9649744489459685, 0.21471479692167816, 0.13893310389049765, 0.5304718512182637, 0.07578169303118053, 0.037890846515590264, 0.1876539328122729, 0.5970806953117774, 0.08529724218739677, 0.017059448437479356, 0.10235669062487614, 0.9094936630772831, 0.20391800703667046, 0.10603736365906864, 0.17944784619227, 0.048940321688800914, 0.4567763357621418, 0.9240512062116822, 0.21420631229630144, 0.1606547342222261, 0.10710315614815072, 0.04284126245926029, 0.4605435714370481, 0.8483266458204323, 0.9376779844556025, 0.16947963161694501, 0.18007210859300407, 0.5402163257790122, 0.042369907904236254, 0.06355486185635438, 0.0715395469295113, 0.10730932039426694, 0.7869350162246241, 0.03576977346475565, 0.06992177093652249, 0.034960885468261246, 0.10488265640478373, 0.7691394803017474, 0.034960885468261246, 0.7150184613656565, 0.0831416815541461, 0.03325667262165844, 0.13302669048663376, 0.03325667262165844, 0.21452968799461225, 0.19736731295504328, 0.12871781279676736, 0.09439306271762939, 0.3604098758309486, 0.8707143389541342, 0.9891962762537541, 0.6078889428890384, 0.1471731124889251, 0.03199415488889676, 0.08958363368891092, 0.12157778857780768, 0.9113369158251555, 0.2294476960679341, 0.32266082259553236, 0.1075536075318441, 0.3011501010891635, 0.043021443012737644, 0.592157920875942, 0.2287882876111594, 0.04710347097876811, 0.013458134565362318, 0.1143941438055797, 0.18042507502276117, 0.13531880626707088, 0.09021253751138059, 0.01503542291856343, 0.5713460709054103, 0.9359929834917252, 0.1529779512877609, 0.5201250343783871, 0.10489916659732176, 0.1879443401535348, 0.03933718747399566, 0.8928216330465572, 0.18503974136539095, 0.2626370522605549, 0.399924602305845, 0.08953535872518917, 0.05969023915012611, 0.03348187250799349, 0.06696374501598698, 0.8705286852078307, 0.9465132803827622, 0.08332725892076101, 0.047615576526149145, 0.023807788263074572, 0.05951947065768643, 0.7975609068129982, 0.06407471907420736, 0.8970460670389031, 0.897657733789157, 0.03590630935156628, 0.03590630935156628, 0.109300981786539, 0.8197573633990425, 0.036433660595513, 0.0182168302977565, 0.0182168302977565, 0.5946058899080245, 0.12093679116773381, 0.06046839558386691, 0.17132712082095622, 0.06046839558386691, 0.9470390534180767, 0.3234296249624066, 0.06468592499248133, 0.41583808923737997, 0.12937184998496265, 0.06468592499248133, 0.5088370583703729, 0.12115168056437449, 0.1453820166772494, 0.0969213444514996, 0.13730523797295777, 0.052557046446008095, 0.8934697895821376, 0.9562737320505573, 0.8694342645173722, 0.05796228430115814, 0.05796228430115814, 0.20262966540480687, 0.5698959339510193, 0.07598612452680258, 0.12664354087800428, 0.03799306226340129, 0.029608168219314206, 0.014804084109657103, 0.9474613830180546, 0.7732826385321168, 0.0987169325785681, 0.06581128838571207, 0.016452822096428017, 0.04935846628928405, 0.908957761866245, 0.11788730280186227, 0.8037770645581518, 0.016075541291163037, 0.02143405505488405, 0.037509596346047086, 0.1533469818196913, 0.027881269421762056, 0.05576253884352411, 0.13940634710881028, 0.6273285619896463, 0.15321252560417886, 0.5014228110682217, 0.07660626280208943, 0.146248319894898, 0.12535570276705543, 0.241765293626111, 0.4144547890733331, 0.21586186930902768, 0.08634474772361107, 0.04317237386180554, 0.08878450775478706, 0.056499232207591774, 0.008071318886798825, 0.8152032075666813, 0.0322852755471953, 0.9641626786251823, 0.13019365350277362, 0.650968267513868, 0.032548413375693405, 0.11391944681492691, 0.06509682675138681, 0.2240925065470191, 0.5602312663675477, 0.12605203493269826, 0.05602312663675477, 0.04201734497756608, 0.5175146204000004, 0.0903596956253969, 0.1889339090349208, 0.03285807113650796, 0.1725048734666668, 0.5414128749035929, 0.14833229449413504, 0.08158276197177428, 0.14091567976942831, 0.08899937669648103, 0.8207956666781782, 0.09849548000138138, 0.032831826667127126, 0.032831826667127126, 0.14637310335036122, 0.5732946547889147, 0.0609887930626505, 0.12807646543156606, 0.09148318959397575, 0.20985719160999478, 0.30463140717579884, 0.25724429939289684, 0.08800462873967523, 0.13539173652257727, 0.9564475857478609, 0.08400333463472073, 0.8820350136645676, 0.9523201155480197, 0.8729349103585294, 0.92549445186469, 0.9541071564202844, 0.5147615744601183, 0.15189685803741196, 0.20252914404988262, 0.0675097146832942, 0.0675097146832942, 0.9776702753225175, 0.9253099168390501, 0.05783186980244063, 0.05783186980244063, 0.4942255399909797, 0.13478878363390356, 0.11681694581604975, 0.14377470254283045, 0.10783102690712285], \"Term\": [\"across\", \"across\", \"across\", \"across\", \"across\", \"adventures\", \"ahhhh\", \"ahhhh\", \"aiyyo\", \"aiyyo\", \"aiyyo\", \"aiyyo\", \"aiyyo\", \"arab\", \"arsenio\", \"attitudes\", \"attitudes\", \"attitudes\", \"attitudes\", \"automobile\", \"babay\", \"babies\", \"babies\", \"babies\", \"babies\", \"babies\", \"ballad\", \"ballad\", \"bass\", \"bass\", \"bass\", \"bass\", \"bass\", \"batman\", \"batman\", \"batman\", \"beepers\", \"benjamins\", \"benjamins\", \"benjamins\", \"benjamins\", \"benjamins\", \"bimbos\", \"bladow\", \"blam\", \"blam\", \"blam\", \"blam\", \"boom\", \"boom\", \"boom\", \"boom\", \"boom\", \"boulevard\", \"boulevard\", \"boulevard\", \"boulevard\", \"bowowow\", \"bowwowwowyippyyo\", \"bowwowwowyippyyoyippyyay\", \"brainless\", \"brakes\", \"brakes\", \"brakes\", \"brakes\", \"brand\", \"brand\", \"brand\", \"brand\", \"brand\", \"brenda\", \"bristol\", \"brooklyn\", \"brooklyn\", \"brooklyn\", \"brooklyn\", \"brooklyn\", \"brrr\", \"buck\", \"buck\", \"buck\", \"buck\", \"buck\", \"bugs\", \"bullets\", \"bullets\", \"bullets\", \"bullets\", \"bullets\", \"cali\", \"cali\", \"cali\", \"cali\", \"cali\", \"california\", \"california\", \"california\", \"california\", \"california\", \"cars\", \"cars\", \"cars\", \"cars\", \"cars\", \"cats\", \"cats\", \"cats\", \"cats\", \"cats\", \"chandon\", \"chariot\", \"chariot\", \"chariot\", \"chick\", \"chick\", \"chick\", \"chick\", \"chick\", \"child\", \"child\", \"child\", \"child\", \"child\", \"chino\", \"chino\", \"choo\", \"choo\", \"chorus\", \"chorus\", \"chorus\", \"chorus\", \"chorus\", \"cinderella\", \"cinderella\", \"cinderfella\", \"claat\", \"claats\", \"clack\", \"clack\", \"clack\", \"clang\", \"click\", \"click\", \"click\", \"click\", \"click\", \"client\", \"clip\", \"clip\", \"clip\", \"clip\", \"clip\", \"clits\", \"closest\", \"closest\", \"closest\", \"closest\", \"cocaina\", \"cock\", \"cock\", \"cock\", \"cock\", \"cock\", \"collar\", \"collar\", \"collar\", \"collar\", \"collar\", \"coma\", \"compton\", \"compton\", \"compton\", \"compton\", \"compton\", \"conscience\", \"count\", \"count\", \"count\", \"count\", \"count\", \"cranium\", \"creator\", \"creator\", \"crib\", \"crib\", \"crib\", \"crib\", \"crib\", \"crip\", \"crip\", \"crip\", \"crip\", \"crip\", \"crossroads\", \"crossroads\", \"curse\", \"curse\", \"curse\", \"curse\", \"curse\", \"dadada\", \"daisies\", \"daisies\", \"daisy\", \"daisy\", \"daisy\", \"dandruff\", \"dante\", \"daytona\", \"daytona\", \"dear\", \"dear\", \"dear\", \"dear\", \"dear\", \"delicacies\", \"delivery\", \"delivery\", \"delivery\", \"demos\", \"despacito\", \"digga\", \"digga\", \"doctor\", \"doctor\", \"doctor\", \"doctor\", \"doctor\", \"doggz\", \"doggz\", \"doggz\", \"dogz\", \"doubt\", \"doubt\", \"doubt\", \"doubt\", \"doubt\", \"drama\", \"drama\", \"drama\", \"drama\", \"drama\", \"dress\", \"dress\", \"dress\", \"dress\", \"dress\", \"drip\", \"drip\", \"drip\", \"drip\", \"dumb\", \"dumb\", \"dumb\", \"dumb\", \"dumb\", \"emotions\", \"emotions\", \"enemies\", \"enemies\", \"enemies\", \"enemies\", \"enemies\", \"eruption\", \"exchange\", \"exchange\", \"exchange\", \"express\", \"express\", \"express\", \"express\", \"extinction\", \"faden\", \"faden\", \"farmers\", \"farmers\", \"farmers\", \"farmers\", \"father\", \"father\", \"father\", \"father\", \"father\", \"favoritos\", \"fear\", \"fear\", \"fear\", \"fear\", \"fear\", \"feelins\", \"feelins\", \"figgaz\", \"finga\", \"finger\", \"finger\", \"finger\", \"finger\", \"finger\", \"flava\", \"flava\", \"flava\", \"flea\", \"flea\", \"flea\", \"flea\", \"flicc\", \"flipmode\", \"flipmode\", \"flipmode\", \"flipmode\", \"flipmode\", \"freek\", \"freeze\", \"freeze\", \"freeze\", \"freeze\", \"freeze\", \"fucker\", \"fucker\", \"fucker\", \"fucker\", \"fudge\", \"fuhgidabowdit\", \"fuhgidabowdit\", \"fuhgidabowdit\", \"funky\", \"funky\", \"funky\", \"funky\", \"funky\", \"gimmee\", \"gizee\", \"goodbar\", \"goodbye\", \"goodbye\", \"goodbye\", \"goodbye\", \"goodnight\", \"goodnight\", \"goodnight\", \"gotham\", \"gotham\", \"ground\", \"ground\", \"ground\", \"ground\", \"ground\", \"grow\", \"grow\", \"grow\", \"grow\", \"grow\", \"guys\", \"guys\", \"guys\", \"guys\", \"guys\", \"habits\", \"habits\", \"habits\", \"hail\", \"hail\", \"hail\", \"hail\", \"hail\", \"harlem\", \"harlem\", \"harlem\", \"harlem\", \"harlem\", \"hasta\", \"haters\", \"haters\", \"haters\", \"haters\", \"haters\", \"hazyville\", \"heezos\", \"hello\", \"hello\", \"hello\", \"hello\", \"hello\", \"hellrazor\", \"hennessy\", \"hennessy\", \"hennessy\", \"hennessy\", \"hennessy\", \"hide\", \"hide\", \"hide\", \"hide\", \"hide\", \"hili\", \"holla\", \"holla\", \"holla\", \"holla\", \"holla\", \"homeboy\", \"homeboy\", \"homeboy\", \"homeboy\", \"homeboy\", \"homey\", \"homey\", \"homey\", \"homey\", \"homey\", \"homicide\", \"homicide\", \"homicide\", \"homicide\", \"homicide\", \"hops\", \"hort\", \"housewife\", \"housewife\", \"huddy\", \"hundred\", \"hundred\", \"hundred\", \"hundred\", \"hundred\", \"hush\", \"hush\", \"hush\", \"hush\", \"hustle\", \"hustle\", \"hustle\", \"hustle\", \"hustle\", \"impala\", \"impala\", \"impala\", \"impala\", \"impala\", \"infareds\", \"island\", \"island\", \"island\", \"island\", \"island\", \"itsoweezee\", \"jail\", \"jail\", \"jail\", \"jail\", \"jail\", \"jesus\", \"jesus\", \"jesus\", \"jesus\", \"jesus\", \"jody\", \"jody\", \"jones\", \"jones\", \"jones\", \"jones\", \"jones\", \"juice\", \"juice\", \"juice\", \"juice\", \"juice\", \"jumpsuit\", \"kanday\", \"kastro\", \"kastro\", \"kato\", \"kato\", \"kato\", \"keenan\", \"killa\", \"killa\", \"killa\", \"killa\", \"killa\", \"killer\", \"killer\", \"killer\", \"killer\", \"killer\", \"kills\", \"kills\", \"kills\", \"kind\", \"kind\", \"kind\", \"kind\", \"kind\", \"knock\", \"knock\", \"knock\", \"knock\", \"knock\", \"lady\", \"lady\", \"lady\", \"lady\", \"lady\", \"lahhh\", \"lalalala\", \"lane\", \"lane\", \"lane\", \"lane\", \"lane\", \"laugh\", \"laugh\", \"laugh\", \"laugh\", \"laugh\", \"lawd\", \"lawd\", \"legend\", \"legend\", \"legend\", \"legend\", \"legend\", \"lets\", \"lets\", \"lets\", \"lets\", \"lets\", \"limit\", \"limit\", \"limit\", \"limit\", \"limit\", \"limos\", \"limos\", \"linden\", \"liquor\", \"liquor\", \"liquor\", \"liquor\", \"liquor\", \"loot\", \"loot\", \"loot\", \"loot\", \"loot\", \"louieville\", \"lover\", \"lover\", \"lover\", \"lover\", \"lover\", \"luger\", \"luuden\", \"luuden\", \"mainline\", \"makaveli\", \"makaveli\", \"makaveli\", \"makaveli\", \"maker\", \"maker\", \"mansion\", \"mansion\", \"mansion\", \"mansion\", \"mansion\", \"math\", \"math\", \"math\", \"math\", \"math\", \"mayn\", \"medicine\", \"medicine\", \"mega\", \"mega\", \"mega\", \"mega\", \"mickens\", \"miles\", \"miles\", \"miles\", \"miles\", \"milky\", \"milky\", \"mothafuckaz\", \"motherland\", \"motherland\", \"mourn\", \"mourn\", \"mourn\", \"murderah\", \"mutha\", \"mutha\", \"mutha\", \"mutha\", \"muthaphukka\", \"muthaphukka\", \"naku\", \"nation\", \"nation\", \"nation\", \"nation\", \"nation\", \"nature\", \"nature\", \"nature\", \"nature\", \"niggers\", \"niggers\", \"niggy\", \"numerals\", \"nuts\", \"nuts\", \"nuts\", \"nuts\", \"nuts\", \"nutt\", \"ones\", \"ones\", \"ones\", \"ones\", \"ones\", \"oodles\", \"outlaw\", \"outlaw\", \"outlaw\", \"outlaw\", \"outlaw\", \"outlaws\", \"outlaws\", \"outlaws\", \"outlaws\", \"outlaws\", \"outlawz\", \"outlawz\", \"outlawz\", \"outlawz\", \"para\", \"park\", \"park\", \"park\", \"park\", \"park\", \"pasito\", \"passion\", \"passion\", \"passion\", \"passion\", \"passion\", \"patti\", \"pavement\", \"pavement\", \"pavement\", \"pease\", \"pegando\", \"peppermint\", \"perfecta\", \"phenomenon\", \"phenomenon\", \"pimp\", \"pimp\", \"pimp\", \"pimp\", \"pimp\", \"platinum\", \"platinum\", \"platinum\", \"platinum\", \"platinum\", \"playa\", \"playa\", \"playa\", \"playa\", \"playa\", \"plug\", \"plug\", \"plug\", \"plug\", \"plug\", \"pollaseeds\", \"popcaan\", \"poquito\", \"porridge\", \"power\", \"power\", \"power\", \"power\", \"power\", \"pray\", \"pray\", \"pray\", \"pray\", \"pray\", \"prettiest\", \"problems\", \"problems\", \"problems\", \"problems\", \"problems\", \"promise\", \"promise\", \"promise\", \"promise\", \"promise\", \"queensbridge\", \"quiero\", \"radio\", \"radio\", \"radio\", \"radio\", \"radio\", \"rebel\", \"rebel\", \"rebel\", \"rebel\", \"rebel\", \"renaissance\", \"renaissance\", \"renaissance\", \"renaissance\", \"reunion\", \"revolution\", \"revolution\", \"revolution\", \"ridah\", \"ridah\", \"ridah\", \"rise\", \"rise\", \"rise\", \"rise\", \"rise\", \"road\", \"road\", \"road\", \"road\", \"road\", \"rogers\", \"rollerskates\", \"roof\", \"roof\", \"roof\", \"roof\", \"roof\", \"roughest\", \"roughest\", \"roughest\", \"roughest\", \"roughest\", \"round\", \"round\", \"round\", \"round\", \"round\", \"rowdy\", \"rowdy\", \"rowdy\", \"ruff\", \"ruff\", \"ruff\", \"ruff\", \"ruff\", \"rush\", \"rush\", \"rush\", \"rush\", \"rush\", \"sacramento\", \"saturday\", \"saturday\", \"saturday\", \"saturday\", \"scrubb\", \"season\", \"season\", \"season\", \"season\", \"season\", \"seat\", \"seat\", \"seat\", \"seat\", \"seat\", \"self\", \"self\", \"self\", \"self\", \"self\", \"shimmy\", \"shorty\", \"shorty\", \"shorty\", \"shorty\", \"shorty\", \"siren\", \"slide\", \"slide\", \"slide\", \"slide\", \"slide\", \"smile\", \"smile\", \"smile\", \"smile\", \"smile\", \"smith\", \"smith\", \"smith\", \"smith\", \"smith\", \"snooooooooooop\", \"soldiers\", \"soldiers\", \"soldiers\", \"soldiers\", \"soulja\", \"soulja\", \"spoilers\", \"squad\", \"squad\", \"squad\", \"squad\", \"squad\", \"squat\", \"squeeze\", \"squeeze\", \"squeeze\", \"squeeze\", \"squeeze\", \"standing\", \"standing\", \"standing\", \"standing\", \"standing\", \"starr\", \"stars\", \"stars\", \"stars\", \"stars\", \"stars\", \"stase\", \"stuff\", \"stuff\", \"stuff\", \"stuff\", \"stuff\", \"suavecito\", \"sube\", \"suck\", \"suck\", \"suck\", \"suck\", \"suck\", \"superman\", \"superman\", \"superman\", \"superman\", \"supreme\", \"supreme\", \"supreme\", \"supreme\", \"supreme\", \"swear\", \"swear\", \"swear\", \"swear\", \"swear\", \"swing\", \"swing\", \"swing\", \"swing\", \"swing\", \"swithez\", \"swivel\", \"taste\", \"taste\", \"taste\", \"taste\", \"taste\", \"teardrops\", \"tears\", \"tears\", \"tears\", \"tears\", \"tears\", \"thank\", \"thank\", \"thank\", \"thank\", \"thank\", \"thanks\", \"thanks\", \"thanks\", \"thanks\", \"thanks\", \"thuglife\", \"thugs\", \"thugs\", \"thugs\", \"thugs\", \"thugs\", \"tints\", \"today\", \"today\", \"today\", \"today\", \"today\", \"tommy\", \"tommy\", \"tommy\", \"toothbrushes\", \"toss\", \"toss\", \"toss\", \"toss\", \"toss\", \"toughest\", \"toughest\", \"trenches\", \"trenches\", \"trenches\", \"trife\", \"trife\", \"trife\", \"trife\", \"trife\", \"trigger\", \"trigger\", \"trigger\", \"trigger\", \"trigger\", \"trizack\", \"truck\", \"truck\", \"truck\", \"truck\", \"truck\", \"twenty\", \"twenty\", \"twenty\", \"twenty\", \"twenty\", \"twyla\", \"twyla\", \"uhhhhh\", \"unborn\", \"unborn\", \"unborn\", \"uncle\", \"uncle\", \"uncle\", \"uncle\", \"uncle\", \"vapors\", \"vapors\", \"vapors\", \"video\", \"video\", \"video\", \"video\", \"video\", \"wannah\", \"water\", \"water\", \"water\", \"water\", \"water\", \"wave\", \"wave\", \"wave\", \"wave\", \"wave\", \"ways\", \"ways\", \"ways\", \"ways\", \"ways\", \"weight\", \"weight\", \"weight\", \"weight\", \"weight\", \"westside\", \"westside\", \"westside\", \"westside\", \"westside\", \"whaddup\", \"whatcha\", \"whatcha\", \"whatcha\", \"whatcha\", \"whatcha\", \"whats\", \"whats\", \"whats\", \"whats\", \"whats\", \"whip\", \"whip\", \"whip\", \"whip\", \"whip\", \"wife\", \"wife\", \"wife\", \"wife\", \"wife\", \"wolf\", \"wolf\", \"wolf\", \"wolf\", \"woman\", \"woman\", \"woman\", \"woman\", \"woman\", \"women\", \"women\", \"women\", \"women\", \"women\", \"wonda\", \"worlds\", \"worlds\", \"writes\", \"yiggy\", \"yippyyo\", \"yizzear\", \"york\", \"york\", \"york\", \"york\", \"york\", \"yvette\", \"zhane\", \"zhane\", \"zhane\", \"zone\", \"zone\", \"zone\", \"zone\", \"zone\"]}, \"R\": 30, \"lambda.step\": 0.01, \"plot.opts\": {\"xlab\": \"PC1\", \"ylab\": \"PC2\"}, \"topic.order\": [2, 5, 4, 3, 1]};\n",
       "\n",
       "function LDAvis_load_lib(url, callback){\n",
       "  var s = document.createElement('script');\n",
       "  s.src = url;\n",
       "  s.async = true;\n",
       "  s.onreadystatechange = s.onload = callback;\n",
       "  s.onerror = function(){console.warn(\"failed to load library \" + url);};\n",
       "  document.getElementsByTagName(\"head\")[0].appendChild(s);\n",
       "}\n",
       "\n",
       "if(typeof(LDAvis) !== \"undefined\"){\n",
       "   // already loaded: just create the visualization\n",
       "   !function(LDAvis){\n",
       "       new LDAvis(\"#\" + \"ldavis_el2154423024980869846812932029\", ldavis_el2154423024980869846812932029_data);\n",
       "   }(LDAvis);\n",
       "}else if(typeof define === \"function\" && define.amd){\n",
       "   // require.js is available: use it to load d3/LDAvis\n",
       "   require.config({paths: {d3: \"https://cdnjs.cloudflare.com/ajax/libs/d3/3.5.5/d3.min\"}});\n",
       "   require([\"d3\"], function(d3){\n",
       "      window.d3 = d3;\n",
       "      LDAvis_load_lib(\"https://cdn.rawgit.com/bmabey/pyLDAvis/files/ldavis.v1.0.0.js\", function(){\n",
       "        new LDAvis(\"#\" + \"ldavis_el2154423024980869846812932029\", ldavis_el2154423024980869846812932029_data);\n",
       "      });\n",
       "    });\n",
       "}else{\n",
       "    // require.js not available: dynamically load d3 & LDAvis\n",
       "    LDAvis_load_lib(\"https://cdnjs.cloudflare.com/ajax/libs/d3/3.5.5/d3.min.js\", function(){\n",
       "         LDAvis_load_lib(\"https://cdn.rawgit.com/bmabey/pyLDAvis/files/ldavis.v1.0.0.js\", function(){\n",
       "                 new LDAvis(\"#\" + \"ldavis_el2154423024980869846812932029\", ldavis_el2154423024980869846812932029_data);\n",
       "            })\n",
       "         });\n",
       "}\n",
       "</script>"
      ],
      "text/plain": [
       "<IPython.core.display.HTML object>"
      ]
     },
     "execution_count": 155,
     "metadata": {},
     "output_type": "execute_result"
    }
   ],
   "source": [
    "print('Male lyrics topics : ')\n",
    "pyLDAvis.display(gensim_prepare(male_lda, male_corpus, male_corpus.dictionary))"
   ]
  },
  {
   "cell_type": "markdown",
   "metadata": {
    "collapsed": true
   },
   "source": [
    "# We've now just scratched the surface on what we can do with topic models to help us quickly understand a large body of text and see it in different ways.  Here are some of the other questions one might ask in this dataset:\n",
    "* What do topics look like for other rap artists who were not part of the East/West coast rivalry?\n",
    "* What different topics exist between musical genres like Rap, Country, Metal, etc?\n",
    "* Which genres have the most diversity or complexity in their topics?\n",
    "* Which artists seem to have the most varied topics in their lyrics?\n",
    "* How does preprocessing impact our results?\n",
    "* What happens if we do not filter by IDF values?\n",
    "* What happens if we do not filter nouns?\n",
    "* What happens if we do not filter stopwords?\n",
    "* What kinds of terms do we see if we allow non-alphabetic characters?"
   ]
  },
  {
   "cell_type": "markdown",
   "metadata": {
    "collapsed": true
   },
   "source": [
    "# There are a lot of very interesting papers using topic modeling.  Not all of them use text.  Here are a few very interesting examples of interesting research:\n",
    "* [Individuals, Institutions, and Innovation in the Debates of the French Revolution](https://arxiv.org/abs/1710.06867)\n",
    "* [Topic and role discovery in social networks with experiments on enron and academic email](https://www.jair.org/index.php/jair/article/view/10515/25186)\n",
    "* [Modeling musical influence with topic models](http://proceedings.mlr.press/v28/shalit13.pdf)\n",
    "* [Discovering scientific influence using cross-domain dynamic topic modeling](https://ebiquity.umbc.edu/get/a/publication/873.pdf)"
   ]
  },
  {
   "cell_type": "code",
   "execution_count": null,
   "metadata": {
    "collapsed": true
   },
   "outputs": [],
   "source": []
  }
 ],
 "metadata": {
  "kernelspec": {
   "display_name": "Python 3",
   "language": "python",
   "name": "python3"
  },
  "language_info": {
   "codemirror_mode": {
    "name": "ipython",
    "version": 3
   },
   "file_extension": ".py",
   "mimetype": "text/x-python",
   "name": "python",
   "nbconvert_exporter": "python",
   "pygments_lexer": "ipython3",
   "version": "3.6.1"
  }
 },
 "nbformat": 4,
 "nbformat_minor": 1
}
